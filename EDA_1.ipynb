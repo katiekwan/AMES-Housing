{
 "cells": [
  {
   "cell_type": "markdown",
   "id": "182c99fe-96e0-490f-8fc2-0a120ddb98f4",
   "metadata": {},
   "source": [
    "# Prelim EDA"
   ]
  },
  {
   "cell_type": "code",
   "execution_count": 637,
   "id": "66214583-f411-42eb-bdf0-f04156bb987e",
   "metadata": {},
   "outputs": [],
   "source": [
    "import numpy as np\n",
    "import pandas as pd\n",
    "import seaborn as sns\n",
    "import plotly.express as px\n",
    "import plotly.graph_objects as go\n",
    "import geopy\n",
    "from geopy import Nominatim\n",
    "from geopy.extra.rate_limiter import RateLimiter\n",
    "import geopandas as gpd\n",
    "locator = Nominatim(user_agent=\"katie\")\n",
    "geocode = RateLimiter(locator.geocode, min_delay_seconds=3)\n",
    "import os\n",
    "if not os.path.exists(\"images\"): \n",
    "    os.mkdir(\"images\")\n",
    "pd.set_option('display.max_columns', None)"
   ]
  },
  {
   "cell_type": "markdown",
   "id": "0b7bb256-0d87-41ad-897f-ae515a19ebb2",
   "metadata": {},
   "source": [
    "Table\n",
    "\n",
    " - <a href=\"#ex_na\">Explore NAs</a><br>"
   ]
  },
  {
   "cell_type": "markdown",
   "id": "992b1f44-7e97-43a8-aec6-95f6c31c4c17",
   "metadata": {},
   "source": [
    "- [Column definitions](https://www.kaggle.com/c/house-prices-advanced-regression-techniques/data)\n",
    "- [Column Variables](https://www.kaggle.com/datasets/ahmedmohameddawoud/ames-housing-data)"
   ]
  },
  {
   "cell_type": "markdown",
   "id": "91fa7721-10c8-4430-9f26-f56ae20d95c6",
   "metadata": {},
   "source": [
    "#### Reading in Data"
   ]
  },
  {
   "cell_type": "code",
   "execution_count": 927,
   "id": "6e682096-1988-4f91-ac44-3d638339acc4",
   "metadata": {},
   "outputs": [
    {
     "name": "stderr",
     "output_type": "stream",
     "text": [
      "/var/folders/xk/t8xh_8wx1pl_j7g1mtmxhnc40000gn/T/ipykernel_19131/1286202135.py:2: DtypeWarning:\n",
      "\n",
      "Columns (36,40,81,87) have mixed types. Specify dtype option on import or set low_memory=False.\n",
      "\n"
     ]
    }
   ],
   "source": [
    "housing = pd.read_csv('Ames_HousePrice.csv', index_col=0)\n",
    "pic = pd.read_csv('Ames Real Estate Data.csv', index_col = 0)"
   ]
  },
  {
   "cell_type": "code",
   "execution_count": 930,
   "id": "fce61535-24f1-4a1f-a888-17b969739e77",
   "metadata": {},
   "outputs": [
    {
     "data": {
      "text/html": [
       "<div>\n",
       "<style scoped>\n",
       "    .dataframe tbody tr th:only-of-type {\n",
       "        vertical-align: middle;\n",
       "    }\n",
       "\n",
       "    .dataframe tbody tr th {\n",
       "        vertical-align: top;\n",
       "    }\n",
       "\n",
       "    .dataframe thead th {\n",
       "        text-align: right;\n",
       "    }\n",
       "</style>\n",
       "<table border=\"1\" class=\"dataframe\">\n",
       "  <thead>\n",
       "    <tr style=\"text-align: right;\">\n",
       "      <th></th>\n",
       "      <th>PID</th>\n",
       "      <th>GrLivArea</th>\n",
       "      <th>SalePrice</th>\n",
       "      <th>MSSubClass</th>\n",
       "      <th>MSZoning</th>\n",
       "      <th>LotFrontage</th>\n",
       "      <th>LotArea</th>\n",
       "      <th>Street</th>\n",
       "      <th>Alley</th>\n",
       "      <th>LotShape</th>\n",
       "      <th>LandContour</th>\n",
       "      <th>Utilities</th>\n",
       "      <th>LotConfig</th>\n",
       "      <th>LandSlope</th>\n",
       "      <th>Neighborhood</th>\n",
       "      <th>Condition1</th>\n",
       "      <th>Condition2</th>\n",
       "      <th>BldgType</th>\n",
       "      <th>HouseStyle</th>\n",
       "      <th>OverallQual</th>\n",
       "      <th>OverallCond</th>\n",
       "      <th>YearBuilt</th>\n",
       "      <th>YearRemodAdd</th>\n",
       "      <th>RoofStyle</th>\n",
       "      <th>RoofMatl</th>\n",
       "      <th>Exterior1st</th>\n",
       "      <th>Exterior2nd</th>\n",
       "      <th>MasVnrType</th>\n",
       "      <th>MasVnrArea</th>\n",
       "      <th>ExterQual</th>\n",
       "      <th>ExterCond</th>\n",
       "      <th>Foundation</th>\n",
       "      <th>BsmtQual</th>\n",
       "      <th>BsmtCond</th>\n",
       "      <th>BsmtExposure</th>\n",
       "      <th>BsmtFinType1</th>\n",
       "      <th>BsmtFinSF1</th>\n",
       "      <th>BsmtFinType2</th>\n",
       "      <th>BsmtFinSF2</th>\n",
       "      <th>BsmtUnfSF</th>\n",
       "      <th>TotalBsmtSF</th>\n",
       "      <th>Heating</th>\n",
       "      <th>HeatingQC</th>\n",
       "      <th>CentralAir</th>\n",
       "      <th>Electrical</th>\n",
       "      <th>1stFlrSF</th>\n",
       "      <th>2ndFlrSF</th>\n",
       "      <th>LowQualFinSF</th>\n",
       "      <th>BsmtFullBath</th>\n",
       "      <th>BsmtHalfBath</th>\n",
       "      <th>FullBath</th>\n",
       "      <th>HalfBath</th>\n",
       "      <th>BedroomAbvGr</th>\n",
       "      <th>KitchenAbvGr</th>\n",
       "      <th>KitchenQual</th>\n",
       "      <th>TotRmsAbvGrd</th>\n",
       "      <th>Functional</th>\n",
       "      <th>Fireplaces</th>\n",
       "      <th>FireplaceQu</th>\n",
       "      <th>GarageType</th>\n",
       "      <th>GarageYrBlt</th>\n",
       "      <th>GarageFinish</th>\n",
       "      <th>GarageCars</th>\n",
       "      <th>GarageArea</th>\n",
       "      <th>GarageQual</th>\n",
       "      <th>GarageCond</th>\n",
       "      <th>PavedDrive</th>\n",
       "      <th>WoodDeckSF</th>\n",
       "      <th>OpenPorchSF</th>\n",
       "      <th>EnclosedPorch</th>\n",
       "      <th>3SsnPorch</th>\n",
       "      <th>ScreenPorch</th>\n",
       "      <th>PoolArea</th>\n",
       "      <th>PoolQC</th>\n",
       "      <th>Fence</th>\n",
       "      <th>MiscFeature</th>\n",
       "      <th>MiscVal</th>\n",
       "      <th>MoSold</th>\n",
       "      <th>YrSold</th>\n",
       "      <th>SaleType</th>\n",
       "      <th>SaleCondition</th>\n",
       "    </tr>\n",
       "  </thead>\n",
       "  <tbody>\n",
       "    <tr>\n",
       "      <th>1</th>\n",
       "      <td>909176150</td>\n",
       "      <td>856</td>\n",
       "      <td>126000</td>\n",
       "      <td>30</td>\n",
       "      <td>RL</td>\n",
       "      <td>NaN</td>\n",
       "      <td>7890</td>\n",
       "      <td>Pave</td>\n",
       "      <td>NaN</td>\n",
       "      <td>Reg</td>\n",
       "      <td>Lvl</td>\n",
       "      <td>AllPub</td>\n",
       "      <td>Corner</td>\n",
       "      <td>Gtl</td>\n",
       "      <td>SWISU</td>\n",
       "      <td>Norm</td>\n",
       "      <td>Norm</td>\n",
       "      <td>1Fam</td>\n",
       "      <td>1Story</td>\n",
       "      <td>6</td>\n",
       "      <td>6</td>\n",
       "      <td>1939</td>\n",
       "      <td>1950</td>\n",
       "      <td>Gable</td>\n",
       "      <td>CompShg</td>\n",
       "      <td>Wd Sdng</td>\n",
       "      <td>Wd Sdng</td>\n",
       "      <td>NaN</td>\n",
       "      <td>0.0</td>\n",
       "      <td>TA</td>\n",
       "      <td>TA</td>\n",
       "      <td>CBlock</td>\n",
       "      <td>TA</td>\n",
       "      <td>TA</td>\n",
       "      <td>No</td>\n",
       "      <td>Rec</td>\n",
       "      <td>238.0</td>\n",
       "      <td>Unf</td>\n",
       "      <td>0.0</td>\n",
       "      <td>618.0</td>\n",
       "      <td>856.0</td>\n",
       "      <td>GasA</td>\n",
       "      <td>TA</td>\n",
       "      <td>Y</td>\n",
       "      <td>SBrkr</td>\n",
       "      <td>856</td>\n",
       "      <td>0</td>\n",
       "      <td>0</td>\n",
       "      <td>1.0</td>\n",
       "      <td>0.0</td>\n",
       "      <td>1</td>\n",
       "      <td>0</td>\n",
       "      <td>2</td>\n",
       "      <td>1</td>\n",
       "      <td>TA</td>\n",
       "      <td>4</td>\n",
       "      <td>Typ</td>\n",
       "      <td>1</td>\n",
       "      <td>Gd</td>\n",
       "      <td>Detchd</td>\n",
       "      <td>1939.0</td>\n",
       "      <td>Unf</td>\n",
       "      <td>2.0</td>\n",
       "      <td>399.0</td>\n",
       "      <td>TA</td>\n",
       "      <td>TA</td>\n",
       "      <td>Y</td>\n",
       "      <td>0</td>\n",
       "      <td>0</td>\n",
       "      <td>0</td>\n",
       "      <td>0</td>\n",
       "      <td>166</td>\n",
       "      <td>0</td>\n",
       "      <td>NaN</td>\n",
       "      <td>NaN</td>\n",
       "      <td>NaN</td>\n",
       "      <td>0</td>\n",
       "      <td>3</td>\n",
       "      <td>2010</td>\n",
       "      <td>WD</td>\n",
       "      <td>Normal</td>\n",
       "    </tr>\n",
       "    <tr>\n",
       "      <th>2</th>\n",
       "      <td>905476230</td>\n",
       "      <td>1049</td>\n",
       "      <td>139500</td>\n",
       "      <td>120</td>\n",
       "      <td>RL</td>\n",
       "      <td>42.0</td>\n",
       "      <td>4235</td>\n",
       "      <td>Pave</td>\n",
       "      <td>NaN</td>\n",
       "      <td>Reg</td>\n",
       "      <td>Lvl</td>\n",
       "      <td>AllPub</td>\n",
       "      <td>Inside</td>\n",
       "      <td>Gtl</td>\n",
       "      <td>Edwards</td>\n",
       "      <td>Norm</td>\n",
       "      <td>Norm</td>\n",
       "      <td>TwnhsE</td>\n",
       "      <td>1Story</td>\n",
       "      <td>5</td>\n",
       "      <td>5</td>\n",
       "      <td>1984</td>\n",
       "      <td>1984</td>\n",
       "      <td>Gable</td>\n",
       "      <td>CompShg</td>\n",
       "      <td>HdBoard</td>\n",
       "      <td>HdBoard</td>\n",
       "      <td>BrkFace</td>\n",
       "      <td>149.0</td>\n",
       "      <td>Gd</td>\n",
       "      <td>TA</td>\n",
       "      <td>CBlock</td>\n",
       "      <td>Gd</td>\n",
       "      <td>TA</td>\n",
       "      <td>Mn</td>\n",
       "      <td>GLQ</td>\n",
       "      <td>552.0</td>\n",
       "      <td>ALQ</td>\n",
       "      <td>393.0</td>\n",
       "      <td>104.0</td>\n",
       "      <td>1049.0</td>\n",
       "      <td>GasA</td>\n",
       "      <td>TA</td>\n",
       "      <td>Y</td>\n",
       "      <td>SBrkr</td>\n",
       "      <td>1049</td>\n",
       "      <td>0</td>\n",
       "      <td>0</td>\n",
       "      <td>1.0</td>\n",
       "      <td>0.0</td>\n",
       "      <td>2</td>\n",
       "      <td>0</td>\n",
       "      <td>2</td>\n",
       "      <td>1</td>\n",
       "      <td>Gd</td>\n",
       "      <td>5</td>\n",
       "      <td>Typ</td>\n",
       "      <td>0</td>\n",
       "      <td>NaN</td>\n",
       "      <td>Attchd</td>\n",
       "      <td>1984.0</td>\n",
       "      <td>Fin</td>\n",
       "      <td>1.0</td>\n",
       "      <td>266.0</td>\n",
       "      <td>TA</td>\n",
       "      <td>TA</td>\n",
       "      <td>Y</td>\n",
       "      <td>0</td>\n",
       "      <td>105</td>\n",
       "      <td>0</td>\n",
       "      <td>0</td>\n",
       "      <td>0</td>\n",
       "      <td>0</td>\n",
       "      <td>NaN</td>\n",
       "      <td>NaN</td>\n",
       "      <td>NaN</td>\n",
       "      <td>0</td>\n",
       "      <td>2</td>\n",
       "      <td>2009</td>\n",
       "      <td>WD</td>\n",
       "      <td>Normal</td>\n",
       "    </tr>\n",
       "  </tbody>\n",
       "</table>\n",
       "</div>"
      ],
      "text/plain": [
       "         PID  GrLivArea  SalePrice  MSSubClass MSZoning  LotFrontage  LotArea  \\\n",
       "1  909176150        856     126000          30       RL          NaN     7890   \n",
       "2  905476230       1049     139500         120       RL         42.0     4235   \n",
       "\n",
       "  Street Alley LotShape LandContour Utilities LotConfig LandSlope  \\\n",
       "1   Pave   NaN      Reg         Lvl    AllPub    Corner       Gtl   \n",
       "2   Pave   NaN      Reg         Lvl    AllPub    Inside       Gtl   \n",
       "\n",
       "  Neighborhood Condition1 Condition2 BldgType HouseStyle  OverallQual  \\\n",
       "1        SWISU       Norm       Norm     1Fam     1Story            6   \n",
       "2      Edwards       Norm       Norm   TwnhsE     1Story            5   \n",
       "\n",
       "   OverallCond  YearBuilt  YearRemodAdd RoofStyle RoofMatl Exterior1st  \\\n",
       "1            6       1939          1950     Gable  CompShg     Wd Sdng   \n",
       "2            5       1984          1984     Gable  CompShg     HdBoard   \n",
       "\n",
       "  Exterior2nd MasVnrType  MasVnrArea ExterQual ExterCond Foundation BsmtQual  \\\n",
       "1     Wd Sdng        NaN         0.0        TA        TA     CBlock       TA   \n",
       "2     HdBoard    BrkFace       149.0        Gd        TA     CBlock       Gd   \n",
       "\n",
       "  BsmtCond BsmtExposure BsmtFinType1  BsmtFinSF1 BsmtFinType2  BsmtFinSF2  \\\n",
       "1       TA           No          Rec       238.0          Unf         0.0   \n",
       "2       TA           Mn          GLQ       552.0          ALQ       393.0   \n",
       "\n",
       "   BsmtUnfSF  TotalBsmtSF Heating HeatingQC CentralAir Electrical  1stFlrSF  \\\n",
       "1      618.0        856.0    GasA        TA          Y      SBrkr       856   \n",
       "2      104.0       1049.0    GasA        TA          Y      SBrkr      1049   \n",
       "\n",
       "   2ndFlrSF  LowQualFinSF  BsmtFullBath  BsmtHalfBath  FullBath  HalfBath  \\\n",
       "1         0             0           1.0           0.0         1         0   \n",
       "2         0             0           1.0           0.0         2         0   \n",
       "\n",
       "   BedroomAbvGr  KitchenAbvGr KitchenQual  TotRmsAbvGrd Functional  \\\n",
       "1             2             1          TA             4        Typ   \n",
       "2             2             1          Gd             5        Typ   \n",
       "\n",
       "   Fireplaces FireplaceQu GarageType  GarageYrBlt GarageFinish  GarageCars  \\\n",
       "1           1          Gd     Detchd       1939.0          Unf         2.0   \n",
       "2           0         NaN     Attchd       1984.0          Fin         1.0   \n",
       "\n",
       "   GarageArea GarageQual GarageCond PavedDrive  WoodDeckSF  OpenPorchSF  \\\n",
       "1       399.0         TA         TA          Y           0            0   \n",
       "2       266.0         TA         TA          Y           0          105   \n",
       "\n",
       "   EnclosedPorch  3SsnPorch  ScreenPorch  PoolArea PoolQC Fence MiscFeature  \\\n",
       "1              0          0          166         0    NaN   NaN         NaN   \n",
       "2              0          0            0         0    NaN   NaN         NaN   \n",
       "\n",
       "   MiscVal  MoSold  YrSold SaleType SaleCondition  \n",
       "1        0       3    2010      WD         Normal  \n",
       "2        0       2    2009      WD         Normal  "
      ]
     },
     "execution_count": 930,
     "metadata": {},
     "output_type": "execute_result"
    }
   ],
   "source": [
    "housing.shape #(2580, 81)\n",
    "housing.PID.value_counts() #2579 unique parcels\n",
    "housing.head(2)"
   ]
  },
  {
   "cell_type": "code",
   "execution_count": 931,
   "id": "bd5ea294-32b2-43ff-bbb5-787e5be809e7",
   "metadata": {},
   "outputs": [
    {
     "data": {
      "text/html": [
       "<div>\n",
       "<style scoped>\n",
       "    .dataframe tbody tr th:only-of-type {\n",
       "        vertical-align: middle;\n",
       "    }\n",
       "\n",
       "    .dataframe tbody tr th {\n",
       "        vertical-align: top;\n",
       "    }\n",
       "\n",
       "    .dataframe thead th {\n",
       "        text-align: right;\n",
       "    }\n",
       "</style>\n",
       "<table border=\"1\" class=\"dataframe\">\n",
       "  <thead>\n",
       "    <tr style=\"text-align: right;\">\n",
       "      <th></th>\n",
       "      <th>GeoRefNo</th>\n",
       "      <th>Tier</th>\n",
       "      <th>Range</th>\n",
       "      <th>Prop_Addr</th>\n",
       "      <th>ZngCdPr</th>\n",
       "      <th>ZngCdSc</th>\n",
       "      <th>ZngOLPr</th>\n",
       "      <th>ZngOLSc</th>\n",
       "      <th>ClassPr_S</th>\n",
       "      <th>ClassSc_S</th>\n",
       "      <th>Legal_Pr</th>\n",
       "      <th>SchD_S</th>\n",
       "      <th>TxD_S</th>\n",
       "      <th>MA_Ownr1</th>\n",
       "      <th>MA_Ownr2</th>\n",
       "      <th>MA_Line1</th>\n",
       "      <th>MA_Line2</th>\n",
       "      <th>MA_City</th>\n",
       "      <th>MA_State</th>\n",
       "      <th>MA_Zip1</th>\n",
       "      <th>MA_Zip2</th>\n",
       "      <th>Rcrd_Yr</th>\n",
       "      <th>Rcrd_Mo</th>\n",
       "      <th>Inst1_No</th>\n",
       "      <th>Inst1_Yr</th>\n",
       "      <th>Inst1_Mo</th>\n",
       "      <th>Inst1TPr</th>\n",
       "      <th>LndAc_S</th>\n",
       "      <th>ImpAc_S</th>\n",
       "      <th>OthAc_S</th>\n",
       "      <th>TtlVal_AsrYr</th>\n",
       "      <th>ValType</th>\n",
       "      <th>X1TPr_D</th>\n",
       "      <th>X1TSc_D</th>\n",
       "      <th>X2TPr_D</th>\n",
       "      <th>X2TSc_D</th>\n",
       "      <th>X1TPr_S</th>\n",
       "      <th>X1TSc_S</th>\n",
       "      <th>X2TPr_S</th>\n",
       "      <th>X2TSc_S</th>\n",
       "      <th>LndAcX1S</th>\n",
       "      <th>ImpAcX1S</th>\n",
       "      <th>ImpAcX2S</th>\n",
       "      <th>HSTtl_D</th>\n",
       "      <th>MilVal_D</th>\n",
       "      <th>HSTtl_S</th>\n",
       "      <th>MilVal_S</th>\n",
       "      <th>AcreX_S1</th>\n",
       "      <th>AcreGr</th>\n",
       "      <th>AcreNt_S</th>\n",
       "      <th>Neighborhood</th>\n",
       "      <th>LotArea</th>\n",
       "      <th>ParType</th>\n",
       "      <th>BldgNo_S</th>\n",
       "      <th>DwlgNo_S</th>\n",
       "      <th>BldgType</th>\n",
       "      <th>YrBuilt</th>\n",
       "      <th>HouseStyle</th>\n",
       "      <th>Foundation</th>\n",
       "      <th>RoofMatl</th>\n",
       "      <th>Ext1</th>\n",
       "      <th>Ext2</th>\n",
       "      <th>MasVnrType</th>\n",
       "      <th>Heating</th>\n",
       "      <th>Central Air</th>\n",
       "      <th>GLA</th>\n",
       "      <th>TtlBsmtSF</th>\n",
       "      <th>TotRmsAbvGrd</th>\n",
       "      <th>Fireplaces</th>\n",
       "      <th>PoolArea</th>\n",
       "      <th>GarageType</th>\n",
       "      <th>GarYrBlt</th>\n",
       "      <th>Cars</th>\n",
       "      <th>GarageArea</th>\n",
       "      <th>YrSold_YYYY</th>\n",
       "      <th>MoSold_MM</th>\n",
       "      <th>SalePrice</th>\n",
       "      <th>SaleType</th>\n",
       "      <th>SaleCond</th>\n",
       "      <th>ParclRel</th>\n",
       "      <th>PA-Nmbr</th>\n",
       "      <th>PA-PreD</th>\n",
       "      <th>PA-Strt</th>\n",
       "      <th>PA-StSfx</th>\n",
       "      <th>PA-PostD</th>\n",
       "      <th>PA-UnTyp</th>\n",
       "      <th>PA-UntNo</th>\n",
       "      <th>Date</th>\n",
       "      <th>Source</th>\n",
       "      <th>NmbrBRs</th>\n",
       "    </tr>\n",
       "    <tr>\n",
       "      <th>MapRefNo</th>\n",
       "      <th></th>\n",
       "      <th></th>\n",
       "      <th></th>\n",
       "      <th></th>\n",
       "      <th></th>\n",
       "      <th></th>\n",
       "      <th></th>\n",
       "      <th></th>\n",
       "      <th></th>\n",
       "      <th></th>\n",
       "      <th></th>\n",
       "      <th></th>\n",
       "      <th></th>\n",
       "      <th></th>\n",
       "      <th></th>\n",
       "      <th></th>\n",
       "      <th></th>\n",
       "      <th></th>\n",
       "      <th></th>\n",
       "      <th></th>\n",
       "      <th></th>\n",
       "      <th></th>\n",
       "      <th></th>\n",
       "      <th></th>\n",
       "      <th></th>\n",
       "      <th></th>\n",
       "      <th></th>\n",
       "      <th></th>\n",
       "      <th></th>\n",
       "      <th></th>\n",
       "      <th></th>\n",
       "      <th></th>\n",
       "      <th></th>\n",
       "      <th></th>\n",
       "      <th></th>\n",
       "      <th></th>\n",
       "      <th></th>\n",
       "      <th></th>\n",
       "      <th></th>\n",
       "      <th></th>\n",
       "      <th></th>\n",
       "      <th></th>\n",
       "      <th></th>\n",
       "      <th></th>\n",
       "      <th></th>\n",
       "      <th></th>\n",
       "      <th></th>\n",
       "      <th></th>\n",
       "      <th></th>\n",
       "      <th></th>\n",
       "      <th></th>\n",
       "      <th></th>\n",
       "      <th></th>\n",
       "      <th></th>\n",
       "      <th></th>\n",
       "      <th></th>\n",
       "      <th></th>\n",
       "      <th></th>\n",
       "      <th></th>\n",
       "      <th></th>\n",
       "      <th></th>\n",
       "      <th></th>\n",
       "      <th></th>\n",
       "      <th></th>\n",
       "      <th></th>\n",
       "      <th></th>\n",
       "      <th></th>\n",
       "      <th></th>\n",
       "      <th></th>\n",
       "      <th></th>\n",
       "      <th></th>\n",
       "      <th></th>\n",
       "      <th></th>\n",
       "      <th></th>\n",
       "      <th></th>\n",
       "      <th></th>\n",
       "      <th></th>\n",
       "      <th></th>\n",
       "      <th></th>\n",
       "      <th></th>\n",
       "      <th></th>\n",
       "      <th></th>\n",
       "      <th></th>\n",
       "      <th></th>\n",
       "      <th></th>\n",
       "      <th></th>\n",
       "      <th></th>\n",
       "      <th></th>\n",
       "      <th></th>\n",
       "      <th></th>\n",
       "    </tr>\n",
       "  </thead>\n",
       "  <tbody>\n",
       "    <tr>\n",
       "      <th>520400001</th>\n",
       "      <td>520400001</td>\n",
       "      <td>0</td>\n",
       "      <td>0</td>\n",
       "      <td>4599 GEORGE W CARVER AVE</td>\n",
       "      <td>FS-RL</td>\n",
       "      <td>NaN</td>\n",
       "      <td>NaN</td>\n",
       "      <td>NaN</td>\n",
       "      <td>RESIDENTIAL</td>\n",
       "      <td>VACANT LAND - IMPROVED OR UNIMPROVED</td>\n",
       "      <td>SCENIC VALLEY SD 4TH ADD \\nOUTLOT V\\n AMES</td>\n",
       "      <td>5</td>\n",
       "      <td>45</td>\n",
       "      <td>HUNZIKER DEVELOPMENT GROUP LLC</td>\n",
       "      <td>NaN</td>\n",
       "      <td>105 S 16TH ST</td>\n",
       "      <td>NaN</td>\n",
       "      <td>AMES</td>\n",
       "      <td>IA</td>\n",
       "      <td>50010.0</td>\n",
       "      <td>NaN</td>\n",
       "      <td>2019.0</td>\n",
       "      <td>7.0</td>\n",
       "      <td>201906213</td>\n",
       "      <td>2019.0</td>\n",
       "      <td>7.0</td>\n",
       "      <td>NaN</td>\n",
       "      <td>481100</td>\n",
       "      <td>0</td>\n",
       "      <td>0</td>\n",
       "      <td>481100</td>\n",
       "      <td>L</td>\n",
       "      <td>NaN</td>\n",
       "      <td>NaN</td>\n",
       "      <td>NaN</td>\n",
       "      <td>NaN</td>\n",
       "      <td>NaN</td>\n",
       "      <td>NaN</td>\n",
       "      <td>NaN</td>\n",
       "      <td>NaN</td>\n",
       "      <td>0</td>\n",
       "      <td>0</td>\n",
       "      <td>0</td>\n",
       "      <td>NaN</td>\n",
       "      <td>NaN</td>\n",
       "      <td>NaN</td>\n",
       "      <td>NaN</td>\n",
       "      <td>0.0</td>\n",
       "      <td>0.0</td>\n",
       "      <td>0.0</td>\n",
       "      <td>NaN</td>\n",
       "      <td>NaN</td>\n",
       "      <td>NaN</td>\n",
       "      <td>0</td>\n",
       "      <td>0</td>\n",
       "      <td>NaN</td>\n",
       "      <td>NaN</td>\n",
       "      <td>NaN</td>\n",
       "      <td>NaN</td>\n",
       "      <td>NaN</td>\n",
       "      <td>NaN</td>\n",
       "      <td>NaN</td>\n",
       "      <td>NaN</td>\n",
       "      <td>NaN</td>\n",
       "      <td>NaN</td>\n",
       "      <td>NaN</td>\n",
       "      <td>NaN</td>\n",
       "      <td>NaN</td>\n",
       "      <td>NaN</td>\n",
       "      <td>NaN</td>\n",
       "      <td>NaN</td>\n",
       "      <td>NaN</td>\n",
       "      <td>NaN</td>\n",
       "      <td>NaN</td>\n",
       "      <td>NaN</td>\n",
       "      <td>NaN</td>\n",
       "      <td>NaN</td>\n",
       "      <td>NaN</td>\n",
       "      <td>NaN</td>\n",
       "      <td>Deed</td>\n",
       "      <td>4599.0</td>\n",
       "      <td>NaN</td>\n",
       "      <td>GEORGE W CARVER</td>\n",
       "      <td>AVE</td>\n",
       "      <td>NaN</td>\n",
       "      <td>NaN</td>\n",
       "      <td>NaN</td>\n",
       "      <td>10-Jul-20</td>\n",
       "      <td>Ames City Assessor</td>\n",
       "      <td>NaN</td>\n",
       "    </tr>\n",
       "    <tr>\n",
       "      <th>520440010</th>\n",
       "      <td>520440010</td>\n",
       "      <td>0</td>\n",
       "      <td>0</td>\n",
       "      <td>4507 EVEREST  AVE</td>\n",
       "      <td>FS-RL</td>\n",
       "      <td>NaN</td>\n",
       "      <td>NaN</td>\n",
       "      <td>NaN</td>\n",
       "      <td>RESIDENTIAL</td>\n",
       "      <td>VACANT LAND - IMPROVED OR UNIMPROVED</td>\n",
       "      <td>SCENIC VALLEY SD 4TH ADD LOT:16 \\n AMES</td>\n",
       "      <td>5</td>\n",
       "      <td>45</td>\n",
       "      <td>HUNZIKER DEVELOPMENT GROUP LLC</td>\n",
       "      <td>NaN</td>\n",
       "      <td>105 S 16TH ST</td>\n",
       "      <td>NaN</td>\n",
       "      <td>AMES</td>\n",
       "      <td>IA</td>\n",
       "      <td>50010.0</td>\n",
       "      <td>NaN</td>\n",
       "      <td>2019.0</td>\n",
       "      <td>7.0</td>\n",
       "      <td>201906213</td>\n",
       "      <td>2019.0</td>\n",
       "      <td>7.0</td>\n",
       "      <td>NaN</td>\n",
       "      <td>5700</td>\n",
       "      <td>0</td>\n",
       "      <td>0</td>\n",
       "      <td>5700</td>\n",
       "      <td>L</td>\n",
       "      <td>NaN</td>\n",
       "      <td>NaN</td>\n",
       "      <td>NaN</td>\n",
       "      <td>NaN</td>\n",
       "      <td>NaN</td>\n",
       "      <td>NaN</td>\n",
       "      <td>NaN</td>\n",
       "      <td>NaN</td>\n",
       "      <td>0</td>\n",
       "      <td>0</td>\n",
       "      <td>0</td>\n",
       "      <td>NaN</td>\n",
       "      <td>NaN</td>\n",
       "      <td>NaN</td>\n",
       "      <td>NaN</td>\n",
       "      <td>0.0</td>\n",
       "      <td>0.0</td>\n",
       "      <td>0.0</td>\n",
       "      <td>NaN</td>\n",
       "      <td>NaN</td>\n",
       "      <td>NaN</td>\n",
       "      <td>0</td>\n",
       "      <td>0</td>\n",
       "      <td>NaN</td>\n",
       "      <td>NaN</td>\n",
       "      <td>NaN</td>\n",
       "      <td>NaN</td>\n",
       "      <td>NaN</td>\n",
       "      <td>NaN</td>\n",
       "      <td>NaN</td>\n",
       "      <td>NaN</td>\n",
       "      <td>NaN</td>\n",
       "      <td>NaN</td>\n",
       "      <td>NaN</td>\n",
       "      <td>NaN</td>\n",
       "      <td>NaN</td>\n",
       "      <td>NaN</td>\n",
       "      <td>NaN</td>\n",
       "      <td>NaN</td>\n",
       "      <td>NaN</td>\n",
       "      <td>NaN</td>\n",
       "      <td>NaN</td>\n",
       "      <td>NaN</td>\n",
       "      <td>NaN</td>\n",
       "      <td>NaN</td>\n",
       "      <td>NaN</td>\n",
       "      <td>NaN</td>\n",
       "      <td>Deed</td>\n",
       "      <td>4507.0</td>\n",
       "      <td>NaN</td>\n",
       "      <td>EVEREST</td>\n",
       "      <td>AVE</td>\n",
       "      <td>NaN</td>\n",
       "      <td>NaN</td>\n",
       "      <td>NaN</td>\n",
       "      <td>10-Jul-20</td>\n",
       "      <td>Ames City Assessor</td>\n",
       "      <td>NaN</td>\n",
       "    </tr>\n",
       "  </tbody>\n",
       "</table>\n",
       "</div>"
      ],
      "text/plain": [
       "            GeoRefNo  Tier  Range                 Prop_Addr ZngCdPr ZngCdSc  \\\n",
       "MapRefNo                                                                      \n",
       "520400001  520400001     0      0  4599 GEORGE W CARVER AVE   FS-RL     NaN   \n",
       "520440010  520440010     0      0         4507 EVEREST  AVE   FS-RL     NaN   \n",
       "\n",
       "          ZngOLPr ZngOLSc    ClassPr_S                             ClassSc_S  \\\n",
       "MapRefNo                                                                       \n",
       "520400001     NaN     NaN  RESIDENTIAL  VACANT LAND - IMPROVED OR UNIMPROVED   \n",
       "520440010     NaN     NaN  RESIDENTIAL  VACANT LAND - IMPROVED OR UNIMPROVED   \n",
       "\n",
       "                                             Legal_Pr  SchD_S  TxD_S  \\\n",
       "MapRefNo                                                               \n",
       "520400001  SCENIC VALLEY SD 4TH ADD \\nOUTLOT V\\n AMES       5     45   \n",
       "520440010     SCENIC VALLEY SD 4TH ADD LOT:16 \\n AMES       5     45   \n",
       "\n",
       "                                 MA_Ownr1 MA_Ownr2       MA_Line1  MA_Line2  \\\n",
       "MapRefNo                                                                      \n",
       "520400001  HUNZIKER DEVELOPMENT GROUP LLC      NaN  105 S 16TH ST       NaN   \n",
       "520440010  HUNZIKER DEVELOPMENT GROUP LLC      NaN  105 S 16TH ST       NaN   \n",
       "\n",
       "          MA_City MA_State  MA_Zip1  MA_Zip2  Rcrd_Yr  Rcrd_Mo   Inst1_No  \\\n",
       "MapRefNo                                                                    \n",
       "520400001    AMES       IA  50010.0      NaN   2019.0      7.0  201906213   \n",
       "520440010    AMES       IA  50010.0      NaN   2019.0      7.0  201906213   \n",
       "\n",
       "           Inst1_Yr  Inst1_Mo Inst1TPr  LndAc_S  ImpAc_S  OthAc_S  \\\n",
       "MapRefNo                                                            \n",
       "520400001    2019.0       7.0      NaN   481100        0        0   \n",
       "520440010    2019.0       7.0      NaN     5700        0        0   \n",
       "\n",
       "           TtlVal_AsrYr ValType X1TPr_D X1TSc_D  X2TPr_D X2TSc_D X1TPr_S  \\\n",
       "MapRefNo                                                                   \n",
       "520400001        481100       L     NaN     NaN      NaN     NaN     NaN   \n",
       "520440010          5700       L     NaN     NaN      NaN     NaN     NaN   \n",
       "\n",
       "          X1TSc_S  X2TPr_S X2TSc_S  LndAcX1S  ImpAcX1S  ImpAcX2S  HSTtl_D  \\\n",
       "MapRefNo                                                                    \n",
       "520400001     NaN      NaN     NaN         0         0         0      NaN   \n",
       "520440010     NaN      NaN     NaN         0         0         0      NaN   \n",
       "\n",
       "           MilVal_D  HSTtl_S  MilVal_S  AcreX_S1  AcreGr  AcreNt_S  \\\n",
       "MapRefNo                                                             \n",
       "520400001       NaN      NaN       NaN       0.0     0.0       0.0   \n",
       "520440010       NaN      NaN       NaN       0.0     0.0       0.0   \n",
       "\n",
       "          Neighborhood  LotArea ParType  BldgNo_S  DwlgNo_S BldgType  YrBuilt  \\\n",
       "MapRefNo                                                                        \n",
       "520400001          NaN      NaN     NaN         0         0      NaN      NaN   \n",
       "520440010          NaN      NaN     NaN         0         0      NaN      NaN   \n",
       "\n",
       "          HouseStyle Foundation RoofMatl Ext1 Ext2 MasVnrType Heating  \\\n",
       "MapRefNo                                                                \n",
       "520400001        NaN        NaN      NaN  NaN  NaN        NaN     NaN   \n",
       "520440010        NaN        NaN      NaN  NaN  NaN        NaN     NaN   \n",
       "\n",
       "          Central Air  GLA  TtlBsmtSF  TotRmsAbvGrd  Fireplaces  PoolArea  \\\n",
       "MapRefNo                                                                    \n",
       "520400001         NaN  NaN        NaN           NaN         NaN       NaN   \n",
       "520440010         NaN  NaN        NaN           NaN         NaN       NaN   \n",
       "\n",
       "          GarageType  GarYrBlt  Cars  GarageArea  YrSold_YYYY  MoSold_MM  \\\n",
       "MapRefNo                                                                   \n",
       "520400001        NaN       NaN   NaN         NaN          NaN        NaN   \n",
       "520440010        NaN       NaN   NaN         NaN          NaN        NaN   \n",
       "\n",
       "           SalePrice SaleType SaleCond ParclRel PA-Nmbr PA-PreD  \\\n",
       "MapRefNo                                                          \n",
       "520400001        NaN      NaN      NaN     Deed  4599.0     NaN   \n",
       "520440010        NaN      NaN      NaN     Deed  4507.0     NaN   \n",
       "\n",
       "                   PA-Strt PA-StSfx  PA-PostD PA-UnTyp PA-UntNo       Date  \\\n",
       "MapRefNo                                                                     \n",
       "520400001  GEORGE W CARVER      AVE       NaN      NaN      NaN  10-Jul-20   \n",
       "520440010          EVEREST      AVE       NaN      NaN      NaN  10-Jul-20   \n",
       "\n",
       "                       Source  NmbrBRs  \n",
       "MapRefNo                                \n",
       "520400001  Ames City Assessor      NaN  \n",
       "520440010  Ames City Assessor      NaN  "
      ]
     },
     "execution_count": 931,
     "metadata": {},
     "output_type": "execute_result"
    }
   ],
   "source": [
    "pic.head(2)"
   ]
  },
  {
   "cell_type": "code",
   "execution_count": 1177,
   "id": "676c129b-5044-4fa5-b968-1f228865c4de",
   "metadata": {},
   "outputs": [
    {
     "data": {
      "text/plain": [
       "<Axes: ylabel='Frequency'>"
      ]
     },
     "execution_count": 1177,
     "metadata": {},
     "output_type": "execute_result"
    },
    {
     "data": {
      "image/png": "[encoded data removed]",
      "text/plain": [
       "<Figure size 640x480 with 1 Axes>"
      ]
     },
     "metadata": {},
     "output_type": "display_data"
    },
    {
     "data": {
      "image/png": "[encoded data removed]",
      "text/plain": [
       "<Figure size 640x480 with 1 Axes>"
      ]
     },
     "metadata": {},
     "output_type": "display_data"
    }
   ],
   "source": [
    "#histogram of Sales Price\n",
    "housing[['SalePrice']].plot.hist(bins = 100) #kind of skewed\n",
    "np.log(housing[['SalePrice']]).plot.hist(bins = 100)"
   ]
  },
  {
   "cell_type": "markdown",
   "id": "21a7452f-3d9e-4cba-ae17-027c21d42f59",
   "metadata": {},
   "source": [
    "#### GeoMapping Houses"
   ]
  },
  {
   "cell_type": "code",
   "execution_count": 949,
   "id": "09000d7e-e306-46da-9a40-fbbb52b04aa0",
   "metadata": {
    "scrolled": true
   },
   "outputs": [
    {
     "data": {
      "text/html": [
       "<div>\n",
       "<style scoped>\n",
       "    .dataframe tbody tr th:only-of-type {\n",
       "        vertical-align: middle;\n",
       "    }\n",
       "\n",
       "    .dataframe tbody tr th {\n",
       "        vertical-align: top;\n",
       "    }\n",
       "\n",
       "    .dataframe thead th {\n",
       "        text-align: right;\n",
       "    }\n",
       "</style>\n",
       "<table border=\"1\" class=\"dataframe\">\n",
       "  <thead>\n",
       "    <tr style=\"text-align: right;\">\n",
       "      <th></th>\n",
       "      <th>PID</th>\n",
       "      <th>GrLivArea</th>\n",
       "      <th>SalePrice</th>\n",
       "      <th>MSSubClass</th>\n",
       "      <th>MSZoning</th>\n",
       "      <th>LotFrontage</th>\n",
       "      <th>LotArea</th>\n",
       "      <th>Street</th>\n",
       "      <th>Alley</th>\n",
       "      <th>LotShape</th>\n",
       "      <th>LandContour</th>\n",
       "      <th>Utilities</th>\n",
       "      <th>LotConfig</th>\n",
       "      <th>LandSlope</th>\n",
       "      <th>Neighborhood</th>\n",
       "      <th>Condition1</th>\n",
       "      <th>Condition2</th>\n",
       "      <th>BldgType</th>\n",
       "      <th>HouseStyle</th>\n",
       "      <th>OverallQual</th>\n",
       "      <th>OverallCond</th>\n",
       "      <th>YearBuilt</th>\n",
       "      <th>YearRemodAdd</th>\n",
       "      <th>RoofStyle</th>\n",
       "      <th>RoofMatl</th>\n",
       "      <th>Exterior1st</th>\n",
       "      <th>Exterior2nd</th>\n",
       "      <th>MasVnrType</th>\n",
       "      <th>MasVnrArea</th>\n",
       "      <th>ExterQual</th>\n",
       "      <th>ExterCond</th>\n",
       "      <th>Foundation</th>\n",
       "      <th>BsmtQual</th>\n",
       "      <th>BsmtCond</th>\n",
       "      <th>BsmtExposure</th>\n",
       "      <th>BsmtFinType1</th>\n",
       "      <th>BsmtFinSF1</th>\n",
       "      <th>BsmtFinType2</th>\n",
       "      <th>BsmtFinSF2</th>\n",
       "      <th>BsmtUnfSF</th>\n",
       "      <th>TotalBsmtSF</th>\n",
       "      <th>Heating</th>\n",
       "      <th>HeatingQC</th>\n",
       "      <th>CentralAir</th>\n",
       "      <th>Electrical</th>\n",
       "      <th>1stFlrSF</th>\n",
       "      <th>2ndFlrSF</th>\n",
       "      <th>LowQualFinSF</th>\n",
       "      <th>BsmtFullBath</th>\n",
       "      <th>BsmtHalfBath</th>\n",
       "      <th>FullBath</th>\n",
       "      <th>HalfBath</th>\n",
       "      <th>BedroomAbvGr</th>\n",
       "      <th>KitchenAbvGr</th>\n",
       "      <th>KitchenQual</th>\n",
       "      <th>TotRmsAbvGrd</th>\n",
       "      <th>Functional</th>\n",
       "      <th>Fireplaces</th>\n",
       "      <th>FireplaceQu</th>\n",
       "      <th>GarageType</th>\n",
       "      <th>GarageYrBlt</th>\n",
       "      <th>GarageFinish</th>\n",
       "      <th>GarageCars</th>\n",
       "      <th>GarageArea</th>\n",
       "      <th>GarageQual</th>\n",
       "      <th>GarageCond</th>\n",
       "      <th>PavedDrive</th>\n",
       "      <th>WoodDeckSF</th>\n",
       "      <th>OpenPorchSF</th>\n",
       "      <th>EnclosedPorch</th>\n",
       "      <th>3SsnPorch</th>\n",
       "      <th>ScreenPorch</th>\n",
       "      <th>PoolArea</th>\n",
       "      <th>PoolQC</th>\n",
       "      <th>Fence</th>\n",
       "      <th>MiscFeature</th>\n",
       "      <th>MiscVal</th>\n",
       "      <th>MoSold</th>\n",
       "      <th>YrSold</th>\n",
       "      <th>SaleType</th>\n",
       "      <th>SaleCondition</th>\n",
       "      <th>MapRefNo</th>\n",
       "      <th>Prop_Addr</th>\n",
       "    </tr>\n",
       "  </thead>\n",
       "  <tbody>\n",
       "    <tr>\n",
       "      <th>0</th>\n",
       "      <td>909176150</td>\n",
       "      <td>856</td>\n",
       "      <td>126000</td>\n",
       "      <td>30</td>\n",
       "      <td>RL</td>\n",
       "      <td>NaN</td>\n",
       "      <td>7890</td>\n",
       "      <td>Pave</td>\n",
       "      <td>NaN</td>\n",
       "      <td>Reg</td>\n",
       "      <td>Lvl</td>\n",
       "      <td>AllPub</td>\n",
       "      <td>Corner</td>\n",
       "      <td>Gtl</td>\n",
       "      <td>SWISU</td>\n",
       "      <td>Norm</td>\n",
       "      <td>Norm</td>\n",
       "      <td>1Fam</td>\n",
       "      <td>1Story</td>\n",
       "      <td>6</td>\n",
       "      <td>6</td>\n",
       "      <td>1939</td>\n",
       "      <td>1950</td>\n",
       "      <td>Gable</td>\n",
       "      <td>CompShg</td>\n",
       "      <td>Wd Sdng</td>\n",
       "      <td>Wd Sdng</td>\n",
       "      <td>NaN</td>\n",
       "      <td>0.0</td>\n",
       "      <td>TA</td>\n",
       "      <td>TA</td>\n",
       "      <td>CBlock</td>\n",
       "      <td>TA</td>\n",
       "      <td>TA</td>\n",
       "      <td>No</td>\n",
       "      <td>Rec</td>\n",
       "      <td>238.0</td>\n",
       "      <td>Unf</td>\n",
       "      <td>0.0</td>\n",
       "      <td>618.0</td>\n",
       "      <td>856.0</td>\n",
       "      <td>GasA</td>\n",
       "      <td>TA</td>\n",
       "      <td>Y</td>\n",
       "      <td>SBrkr</td>\n",
       "      <td>856</td>\n",
       "      <td>0</td>\n",
       "      <td>0</td>\n",
       "      <td>1.0</td>\n",
       "      <td>0.0</td>\n",
       "      <td>1</td>\n",
       "      <td>0</td>\n",
       "      <td>2</td>\n",
       "      <td>1</td>\n",
       "      <td>TA</td>\n",
       "      <td>4</td>\n",
       "      <td>Typ</td>\n",
       "      <td>1</td>\n",
       "      <td>Gd</td>\n",
       "      <td>Detchd</td>\n",
       "      <td>1939.0</td>\n",
       "      <td>Unf</td>\n",
       "      <td>2.0</td>\n",
       "      <td>399.0</td>\n",
       "      <td>TA</td>\n",
       "      <td>TA</td>\n",
       "      <td>Y</td>\n",
       "      <td>0</td>\n",
       "      <td>0</td>\n",
       "      <td>0</td>\n",
       "      <td>0</td>\n",
       "      <td>166</td>\n",
       "      <td>0</td>\n",
       "      <td>NaN</td>\n",
       "      <td>NaN</td>\n",
       "      <td>NaN</td>\n",
       "      <td>0</td>\n",
       "      <td>3</td>\n",
       "      <td>2010</td>\n",
       "      <td>WD</td>\n",
       "      <td>Normal</td>\n",
       "      <td>909176150.0</td>\n",
       "      <td>436 HAYWARD AVE</td>\n",
       "    </tr>\n",
       "    <tr>\n",
       "      <th>1</th>\n",
       "      <td>905476230</td>\n",
       "      <td>1049</td>\n",
       "      <td>139500</td>\n",
       "      <td>120</td>\n",
       "      <td>RL</td>\n",
       "      <td>42.0</td>\n",
       "      <td>4235</td>\n",
       "      <td>Pave</td>\n",
       "      <td>NaN</td>\n",
       "      <td>Reg</td>\n",
       "      <td>Lvl</td>\n",
       "      <td>AllPub</td>\n",
       "      <td>Inside</td>\n",
       "      <td>Gtl</td>\n",
       "      <td>Edwards</td>\n",
       "      <td>Norm</td>\n",
       "      <td>Norm</td>\n",
       "      <td>TwnhsE</td>\n",
       "      <td>1Story</td>\n",
       "      <td>5</td>\n",
       "      <td>5</td>\n",
       "      <td>1984</td>\n",
       "      <td>1984</td>\n",
       "      <td>Gable</td>\n",
       "      <td>CompShg</td>\n",
       "      <td>HdBoard</td>\n",
       "      <td>HdBoard</td>\n",
       "      <td>BrkFace</td>\n",
       "      <td>149.0</td>\n",
       "      <td>Gd</td>\n",
       "      <td>TA</td>\n",
       "      <td>CBlock</td>\n",
       "      <td>Gd</td>\n",
       "      <td>TA</td>\n",
       "      <td>Mn</td>\n",
       "      <td>GLQ</td>\n",
       "      <td>552.0</td>\n",
       "      <td>ALQ</td>\n",
       "      <td>393.0</td>\n",
       "      <td>104.0</td>\n",
       "      <td>1049.0</td>\n",
       "      <td>GasA</td>\n",
       "      <td>TA</td>\n",
       "      <td>Y</td>\n",
       "      <td>SBrkr</td>\n",
       "      <td>1049</td>\n",
       "      <td>0</td>\n",
       "      <td>0</td>\n",
       "      <td>1.0</td>\n",
       "      <td>0.0</td>\n",
       "      <td>2</td>\n",
       "      <td>0</td>\n",
       "      <td>2</td>\n",
       "      <td>1</td>\n",
       "      <td>Gd</td>\n",
       "      <td>5</td>\n",
       "      <td>Typ</td>\n",
       "      <td>0</td>\n",
       "      <td>NaN</td>\n",
       "      <td>Attchd</td>\n",
       "      <td>1984.0</td>\n",
       "      <td>Fin</td>\n",
       "      <td>1.0</td>\n",
       "      <td>266.0</td>\n",
       "      <td>TA</td>\n",
       "      <td>TA</td>\n",
       "      <td>Y</td>\n",
       "      <td>0</td>\n",
       "      <td>105</td>\n",
       "      <td>0</td>\n",
       "      <td>0</td>\n",
       "      <td>0</td>\n",
       "      <td>0</td>\n",
       "      <td>NaN</td>\n",
       "      <td>NaN</td>\n",
       "      <td>NaN</td>\n",
       "      <td>0</td>\n",
       "      <td>2</td>\n",
       "      <td>2009</td>\n",
       "      <td>WD</td>\n",
       "      <td>Normal</td>\n",
       "      <td>905476230.0</td>\n",
       "      <td>3416 WEST ST</td>\n",
       "    </tr>\n",
       "  </tbody>\n",
       "</table>\n",
       "</div>"
      ],
      "text/plain": [
       "         PID  GrLivArea  SalePrice  MSSubClass MSZoning  LotFrontage  LotArea  \\\n",
       "0  909176150        856     126000          30       RL          NaN     7890   \n",
       "1  905476230       1049     139500         120       RL         42.0     4235   \n",
       "\n",
       "  Street Alley LotShape LandContour Utilities LotConfig LandSlope  \\\n",
       "0   Pave   NaN      Reg         Lvl    AllPub    Corner       Gtl   \n",
       "1   Pave   NaN      Reg         Lvl    AllPub    Inside       Gtl   \n",
       "\n",
       "  Neighborhood Condition1 Condition2 BldgType HouseStyle  OverallQual  \\\n",
       "0        SWISU       Norm       Norm     1Fam     1Story            6   \n",
       "1      Edwards       Norm       Norm   TwnhsE     1Story            5   \n",
       "\n",
       "   OverallCond  YearBuilt  YearRemodAdd RoofStyle RoofMatl Exterior1st  \\\n",
       "0            6       1939          1950     Gable  CompShg     Wd Sdng   \n",
       "1            5       1984          1984     Gable  CompShg     HdBoard   \n",
       "\n",
       "  Exterior2nd MasVnrType  MasVnrArea ExterQual ExterCond Foundation BsmtQual  \\\n",
       "0     Wd Sdng        NaN         0.0        TA        TA     CBlock       TA   \n",
       "1     HdBoard    BrkFace       149.0        Gd        TA     CBlock       Gd   \n",
       "\n",
       "  BsmtCond BsmtExposure BsmtFinType1  BsmtFinSF1 BsmtFinType2  BsmtFinSF2  \\\n",
       "0       TA           No          Rec       238.0          Unf         0.0   \n",
       "1       TA           Mn          GLQ       552.0          ALQ       393.0   \n",
       "\n",
       "   BsmtUnfSF  TotalBsmtSF Heating HeatingQC CentralAir Electrical  1stFlrSF  \\\n",
       "0      618.0        856.0    GasA        TA          Y      SBrkr       856   \n",
       "1      104.0       1049.0    GasA        TA          Y      SBrkr      1049   \n",
       "\n",
       "   2ndFlrSF  LowQualFinSF  BsmtFullBath  BsmtHalfBath  FullBath  HalfBath  \\\n",
       "0         0             0           1.0           0.0         1         0   \n",
       "1         0             0           1.0           0.0         2         0   \n",
       "\n",
       "   BedroomAbvGr  KitchenAbvGr KitchenQual  TotRmsAbvGrd Functional  \\\n",
       "0             2             1          TA             4        Typ   \n",
       "1             2             1          Gd             5        Typ   \n",
       "\n",
       "   Fireplaces FireplaceQu GarageType  GarageYrBlt GarageFinish  GarageCars  \\\n",
       "0           1          Gd     Detchd       1939.0          Unf         2.0   \n",
       "1           0         NaN     Attchd       1984.0          Fin         1.0   \n",
       "\n",
       "   GarageArea GarageQual GarageCond PavedDrive  WoodDeckSF  OpenPorchSF  \\\n",
       "0       399.0         TA         TA          Y           0            0   \n",
       "1       266.0         TA         TA          Y           0          105   \n",
       "\n",
       "   EnclosedPorch  3SsnPorch  ScreenPorch  PoolArea PoolQC Fence MiscFeature  \\\n",
       "0              0          0          166         0    NaN   NaN         NaN   \n",
       "1              0          0            0         0    NaN   NaN         NaN   \n",
       "\n",
       "   MiscVal  MoSold  YrSold SaleType SaleCondition     MapRefNo  \\\n",
       "0        0       3    2010      WD         Normal  909176150.0   \n",
       "1        0       2    2009      WD         Normal  905476230.0   \n",
       "\n",
       "         Prop_Addr  \n",
       "0  436 HAYWARD AVE  \n",
       "1     3416 WEST ST  "
      ]
     },
     "execution_count": 949,
     "metadata": {},
     "output_type": "execute_result"
    }
   ],
   "source": [
    "#Trimming pic file for merging\n",
    "pic_par = pic.reset_index()[['MapRefNo','Prop_Addr']].value_counts().reset_index().drop(columns = 'count') #21878\n",
    "\n",
    "#No missing PIC in housing doc\n",
    "housing.PID.isna().sum()\n",
    "pic_par.head(2)\n",
    "\n",
    "#Merging housing and pic file\n",
    "housing_m = housing.merge(pic_par,how = 'left', left_on = 'PID', right_on = 'MapRefNo')\n",
    "housing_m.shape #(2580, 83)\n",
    "housing_m.head(2)"
   ]
  },
  {
   "cell_type": "code",
   "execution_count": 950,
   "id": "49a5c1fa-209f-4f50-8b80-5c9f4d19aac8",
   "metadata": {},
   "outputs": [
    {
     "data": {
      "text/html": [
       "<div>\n",
       "<style scoped>\n",
       "    .dataframe tbody tr th:only-of-type {\n",
       "        vertical-align: middle;\n",
       "    }\n",
       "\n",
       "    .dataframe tbody tr th {\n",
       "        vertical-align: top;\n",
       "    }\n",
       "\n",
       "    .dataframe thead th {\n",
       "        text-align: right;\n",
       "    }\n",
       "</style>\n",
       "<table border=\"1\" class=\"dataframe\">\n",
       "  <thead>\n",
       "    <tr style=\"text-align: right;\">\n",
       "      <th></th>\n",
       "      <th>PID</th>\n",
       "      <th>GrLivArea</th>\n",
       "      <th>SalePrice</th>\n",
       "      <th>MSSubClass</th>\n",
       "      <th>MSZoning</th>\n",
       "      <th>LotFrontage</th>\n",
       "      <th>LotArea</th>\n",
       "      <th>Street</th>\n",
       "      <th>Alley</th>\n",
       "      <th>LotShape</th>\n",
       "      <th>LandContour</th>\n",
       "      <th>Utilities</th>\n",
       "      <th>LotConfig</th>\n",
       "      <th>LandSlope</th>\n",
       "      <th>Neighborhood</th>\n",
       "      <th>Condition1</th>\n",
       "      <th>Condition2</th>\n",
       "      <th>BldgType</th>\n",
       "      <th>HouseStyle</th>\n",
       "      <th>OverallQual</th>\n",
       "      <th>OverallCond</th>\n",
       "      <th>YearBuilt</th>\n",
       "      <th>YearRemodAdd</th>\n",
       "      <th>RoofStyle</th>\n",
       "      <th>RoofMatl</th>\n",
       "      <th>Exterior1st</th>\n",
       "      <th>Exterior2nd</th>\n",
       "      <th>MasVnrType</th>\n",
       "      <th>MasVnrArea</th>\n",
       "      <th>ExterQual</th>\n",
       "      <th>ExterCond</th>\n",
       "      <th>Foundation</th>\n",
       "      <th>BsmtQual</th>\n",
       "      <th>BsmtCond</th>\n",
       "      <th>BsmtExposure</th>\n",
       "      <th>BsmtFinType1</th>\n",
       "      <th>BsmtFinSF1</th>\n",
       "      <th>BsmtFinType2</th>\n",
       "      <th>BsmtFinSF2</th>\n",
       "      <th>BsmtUnfSF</th>\n",
       "      <th>TotalBsmtSF</th>\n",
       "      <th>Heating</th>\n",
       "      <th>HeatingQC</th>\n",
       "      <th>CentralAir</th>\n",
       "      <th>Electrical</th>\n",
       "      <th>1stFlrSF</th>\n",
       "      <th>2ndFlrSF</th>\n",
       "      <th>LowQualFinSF</th>\n",
       "      <th>BsmtFullBath</th>\n",
       "      <th>BsmtHalfBath</th>\n",
       "      <th>FullBath</th>\n",
       "      <th>HalfBath</th>\n",
       "      <th>BedroomAbvGr</th>\n",
       "      <th>KitchenAbvGr</th>\n",
       "      <th>KitchenQual</th>\n",
       "      <th>TotRmsAbvGrd</th>\n",
       "      <th>Functional</th>\n",
       "      <th>Fireplaces</th>\n",
       "      <th>FireplaceQu</th>\n",
       "      <th>GarageType</th>\n",
       "      <th>GarageYrBlt</th>\n",
       "      <th>GarageFinish</th>\n",
       "      <th>GarageCars</th>\n",
       "      <th>GarageArea</th>\n",
       "      <th>GarageQual</th>\n",
       "      <th>GarageCond</th>\n",
       "      <th>PavedDrive</th>\n",
       "      <th>WoodDeckSF</th>\n",
       "      <th>OpenPorchSF</th>\n",
       "      <th>EnclosedPorch</th>\n",
       "      <th>3SsnPorch</th>\n",
       "      <th>ScreenPorch</th>\n",
       "      <th>PoolArea</th>\n",
       "      <th>PoolQC</th>\n",
       "      <th>Fence</th>\n",
       "      <th>MiscFeature</th>\n",
       "      <th>MiscVal</th>\n",
       "      <th>MoSold</th>\n",
       "      <th>YrSold</th>\n",
       "      <th>SaleType</th>\n",
       "      <th>SaleCondition</th>\n",
       "      <th>MapRefNo</th>\n",
       "      <th>Prop_Addr</th>\n",
       "    </tr>\n",
       "  </thead>\n",
       "  <tbody>\n",
       "    <tr>\n",
       "      <th>697</th>\n",
       "      <td>923226300</td>\n",
       "      <td>1092</td>\n",
       "      <td>85500</td>\n",
       "      <td>160</td>\n",
       "      <td>RM</td>\n",
       "      <td>21.0</td>\n",
       "      <td>1504</td>\n",
       "      <td>Pave</td>\n",
       "      <td>NaN</td>\n",
       "      <td>Reg</td>\n",
       "      <td>Lvl</td>\n",
       "      <td>AllPub</td>\n",
       "      <td>Inside</td>\n",
       "      <td>Gtl</td>\n",
       "      <td>MeadowV</td>\n",
       "      <td>Norm</td>\n",
       "      <td>Norm</td>\n",
       "      <td>Twnhs</td>\n",
       "      <td>2Story</td>\n",
       "      <td>4</td>\n",
       "      <td>4</td>\n",
       "      <td>1972</td>\n",
       "      <td>1972</td>\n",
       "      <td>Gable</td>\n",
       "      <td>CompShg</td>\n",
       "      <td>CemntBd</td>\n",
       "      <td>CmentBd</td>\n",
       "      <td>NaN</td>\n",
       "      <td>0.0</td>\n",
       "      <td>TA</td>\n",
       "      <td>TA</td>\n",
       "      <td>CBlock</td>\n",
       "      <td>TA</td>\n",
       "      <td>TA</td>\n",
       "      <td>No</td>\n",
       "      <td>BLQ</td>\n",
       "      <td>252.0</td>\n",
       "      <td>Unf</td>\n",
       "      <td>0.0</td>\n",
       "      <td>294.0</td>\n",
       "      <td>546.0</td>\n",
       "      <td>GasA</td>\n",
       "      <td>TA</td>\n",
       "      <td>Y</td>\n",
       "      <td>SBrkr</td>\n",
       "      <td>546</td>\n",
       "      <td>546</td>\n",
       "      <td>0</td>\n",
       "      <td>0.0</td>\n",
       "      <td>0.0</td>\n",
       "      <td>1</td>\n",
       "      <td>1</td>\n",
       "      <td>3</td>\n",
       "      <td>1</td>\n",
       "      <td>TA</td>\n",
       "      <td>5</td>\n",
       "      <td>Typ</td>\n",
       "      <td>0</td>\n",
       "      <td>NaN</td>\n",
       "      <td>Attchd</td>\n",
       "      <td>1972.0</td>\n",
       "      <td>Unf</td>\n",
       "      <td>1.0</td>\n",
       "      <td>253.0</td>\n",
       "      <td>TA</td>\n",
       "      <td>TA</td>\n",
       "      <td>Y</td>\n",
       "      <td>0</td>\n",
       "      <td>0</td>\n",
       "      <td>0</td>\n",
       "      <td>0</td>\n",
       "      <td>0</td>\n",
       "      <td>0</td>\n",
       "      <td>NaN</td>\n",
       "      <td>NaN</td>\n",
       "      <td>NaN</td>\n",
       "      <td>0</td>\n",
       "      <td>5</td>\n",
       "      <td>2007</td>\n",
       "      <td>WD</td>\n",
       "      <td>Normal</td>\n",
       "      <td>923226300.0</td>\n",
       "      <td>609 MEADOW PL</td>\n",
       "    </tr>\n",
       "  </tbody>\n",
       "</table>\n",
       "</div>"
      ],
      "text/plain": [
       "           PID  GrLivArea  SalePrice  MSSubClass MSZoning  LotFrontage  \\\n",
       "697  923226300       1092      85500         160       RM         21.0   \n",
       "\n",
       "     LotArea Street Alley LotShape LandContour Utilities LotConfig LandSlope  \\\n",
       "697     1504   Pave   NaN      Reg         Lvl    AllPub    Inside       Gtl   \n",
       "\n",
       "    Neighborhood Condition1 Condition2 BldgType HouseStyle  OverallQual  \\\n",
       "697      MeadowV       Norm       Norm    Twnhs     2Story            4   \n",
       "\n",
       "     OverallCond  YearBuilt  YearRemodAdd RoofStyle RoofMatl Exterior1st  \\\n",
       "697            4       1972          1972     Gable  CompShg     CemntBd   \n",
       "\n",
       "    Exterior2nd MasVnrType  MasVnrArea ExterQual ExterCond Foundation  \\\n",
       "697     CmentBd        NaN         0.0        TA        TA     CBlock   \n",
       "\n",
       "    BsmtQual BsmtCond BsmtExposure BsmtFinType1  BsmtFinSF1 BsmtFinType2  \\\n",
       "697       TA       TA           No          BLQ       252.0          Unf   \n",
       "\n",
       "     BsmtFinSF2  BsmtUnfSF  TotalBsmtSF Heating HeatingQC CentralAir  \\\n",
       "697         0.0      294.0        546.0    GasA        TA          Y   \n",
       "\n",
       "    Electrical  1stFlrSF  2ndFlrSF  LowQualFinSF  BsmtFullBath  BsmtHalfBath  \\\n",
       "697      SBrkr       546       546             0           0.0           0.0   \n",
       "\n",
       "     FullBath  HalfBath  BedroomAbvGr  KitchenAbvGr KitchenQual  TotRmsAbvGrd  \\\n",
       "697         1         1             3             1          TA             5   \n",
       "\n",
       "    Functional  Fireplaces FireplaceQu GarageType  GarageYrBlt GarageFinish  \\\n",
       "697        Typ           0         NaN     Attchd       1972.0          Unf   \n",
       "\n",
       "     GarageCars  GarageArea GarageQual GarageCond PavedDrive  WoodDeckSF  \\\n",
       "697         1.0       253.0         TA         TA          Y           0   \n",
       "\n",
       "     OpenPorchSF  EnclosedPorch  3SsnPorch  ScreenPorch  PoolArea PoolQC  \\\n",
       "697            0              0          0            0         0    NaN   \n",
       "\n",
       "    Fence MiscFeature  MiscVal  MoSold  YrSold SaleType SaleCondition  \\\n",
       "697   NaN         NaN        0       5    2007      WD         Normal   \n",
       "\n",
       "        MapRefNo      Prop_Addr  \n",
       "697  923226300.0  609 MEADOW PL  "
      ]
     },
     "execution_count": 950,
     "metadata": {},
     "output_type": "execute_result"
    }
   ],
   "source": [
    "#Spot Checking, one record\n",
    "housing_m[housing_m.PID == 923226300] "
   ]
  },
  {
   "cell_type": "code",
   "execution_count": 951,
   "id": "e907c45a-ccbc-43d4-b1b4-dffbb7dfb34d",
   "metadata": {},
   "outputs": [
    {
     "data": {
      "text/html": [
       "<div>\n",
       "<style scoped>\n",
       "    .dataframe tbody tr th:only-of-type {\n",
       "        vertical-align: middle;\n",
       "    }\n",
       "\n",
       "    .dataframe tbody tr th {\n",
       "        vertical-align: top;\n",
       "    }\n",
       "\n",
       "    .dataframe thead th {\n",
       "        text-align: right;\n",
       "    }\n",
       "</style>\n",
       "<table border=\"1\" class=\"dataframe\">\n",
       "  <thead>\n",
       "    <tr style=\"text-align: right;\">\n",
       "      <th></th>\n",
       "      <th>PID</th>\n",
       "      <th>GrLivArea</th>\n",
       "      <th>SalePrice</th>\n",
       "      <th>MSSubClass</th>\n",
       "      <th>MSZoning</th>\n",
       "      <th>LotFrontage</th>\n",
       "      <th>LotArea</th>\n",
       "      <th>Street</th>\n",
       "      <th>Alley</th>\n",
       "      <th>LotShape</th>\n",
       "      <th>LandContour</th>\n",
       "      <th>Utilities</th>\n",
       "      <th>LotConfig</th>\n",
       "      <th>LandSlope</th>\n",
       "      <th>Neighborhood</th>\n",
       "      <th>Condition1</th>\n",
       "      <th>Condition2</th>\n",
       "      <th>BldgType</th>\n",
       "      <th>HouseStyle</th>\n",
       "      <th>OverallQual</th>\n",
       "      <th>OverallCond</th>\n",
       "      <th>YearBuilt</th>\n",
       "      <th>YearRemodAdd</th>\n",
       "      <th>RoofStyle</th>\n",
       "      <th>RoofMatl</th>\n",
       "      <th>Exterior1st</th>\n",
       "      <th>Exterior2nd</th>\n",
       "      <th>MasVnrType</th>\n",
       "      <th>MasVnrArea</th>\n",
       "      <th>ExterQual</th>\n",
       "      <th>ExterCond</th>\n",
       "      <th>Foundation</th>\n",
       "      <th>BsmtQual</th>\n",
       "      <th>BsmtCond</th>\n",
       "      <th>BsmtExposure</th>\n",
       "      <th>BsmtFinType1</th>\n",
       "      <th>BsmtFinSF1</th>\n",
       "      <th>BsmtFinType2</th>\n",
       "      <th>BsmtFinSF2</th>\n",
       "      <th>BsmtUnfSF</th>\n",
       "      <th>TotalBsmtSF</th>\n",
       "      <th>Heating</th>\n",
       "      <th>HeatingQC</th>\n",
       "      <th>CentralAir</th>\n",
       "      <th>Electrical</th>\n",
       "      <th>1stFlrSF</th>\n",
       "      <th>2ndFlrSF</th>\n",
       "      <th>LowQualFinSF</th>\n",
       "      <th>BsmtFullBath</th>\n",
       "      <th>BsmtHalfBath</th>\n",
       "      <th>FullBath</th>\n",
       "      <th>HalfBath</th>\n",
       "      <th>BedroomAbvGr</th>\n",
       "      <th>KitchenAbvGr</th>\n",
       "      <th>KitchenQual</th>\n",
       "      <th>TotRmsAbvGrd</th>\n",
       "      <th>Functional</th>\n",
       "      <th>Fireplaces</th>\n",
       "      <th>FireplaceQu</th>\n",
       "      <th>GarageType</th>\n",
       "      <th>GarageYrBlt</th>\n",
       "      <th>GarageFinish</th>\n",
       "      <th>GarageCars</th>\n",
       "      <th>GarageArea</th>\n",
       "      <th>GarageQual</th>\n",
       "      <th>GarageCond</th>\n",
       "      <th>PavedDrive</th>\n",
       "      <th>WoodDeckSF</th>\n",
       "      <th>OpenPorchSF</th>\n",
       "      <th>EnclosedPorch</th>\n",
       "      <th>3SsnPorch</th>\n",
       "      <th>ScreenPorch</th>\n",
       "      <th>PoolArea</th>\n",
       "      <th>PoolQC</th>\n",
       "      <th>Fence</th>\n",
       "      <th>MiscFeature</th>\n",
       "      <th>MiscVal</th>\n",
       "      <th>MoSold</th>\n",
       "      <th>YrSold</th>\n",
       "      <th>SaleType</th>\n",
       "      <th>SaleCondition</th>\n",
       "      <th>MapRefNo</th>\n",
       "      <th>Prop_Addr</th>\n",
       "    </tr>\n",
       "  </thead>\n",
       "  <tbody>\n",
       "    <tr>\n",
       "      <th>697</th>\n",
       "      <td>923226300</td>\n",
       "      <td>1092</td>\n",
       "      <td>85500</td>\n",
       "      <td>160</td>\n",
       "      <td>RM</td>\n",
       "      <td>21.0</td>\n",
       "      <td>1504</td>\n",
       "      <td>Pave</td>\n",
       "      <td>NaN</td>\n",
       "      <td>Reg</td>\n",
       "      <td>Lvl</td>\n",
       "      <td>AllPub</td>\n",
       "      <td>Inside</td>\n",
       "      <td>Gtl</td>\n",
       "      <td>MeadowV</td>\n",
       "      <td>Norm</td>\n",
       "      <td>Norm</td>\n",
       "      <td>Twnhs</td>\n",
       "      <td>2Story</td>\n",
       "      <td>4</td>\n",
       "      <td>4</td>\n",
       "      <td>1972</td>\n",
       "      <td>1972</td>\n",
       "      <td>Gable</td>\n",
       "      <td>CompShg</td>\n",
       "      <td>CemntBd</td>\n",
       "      <td>CmentBd</td>\n",
       "      <td>NaN</td>\n",
       "      <td>0.0</td>\n",
       "      <td>TA</td>\n",
       "      <td>TA</td>\n",
       "      <td>CBlock</td>\n",
       "      <td>TA</td>\n",
       "      <td>TA</td>\n",
       "      <td>No</td>\n",
       "      <td>BLQ</td>\n",
       "      <td>252.0</td>\n",
       "      <td>Unf</td>\n",
       "      <td>0.0</td>\n",
       "      <td>294.0</td>\n",
       "      <td>546.0</td>\n",
       "      <td>GasA</td>\n",
       "      <td>TA</td>\n",
       "      <td>Y</td>\n",
       "      <td>SBrkr</td>\n",
       "      <td>546</td>\n",
       "      <td>546</td>\n",
       "      <td>0</td>\n",
       "      <td>0.0</td>\n",
       "      <td>0.0</td>\n",
       "      <td>1</td>\n",
       "      <td>1</td>\n",
       "      <td>3</td>\n",
       "      <td>1</td>\n",
       "      <td>TA</td>\n",
       "      <td>5</td>\n",
       "      <td>Typ</td>\n",
       "      <td>0</td>\n",
       "      <td>NaN</td>\n",
       "      <td>Attchd</td>\n",
       "      <td>1972.0</td>\n",
       "      <td>Unf</td>\n",
       "      <td>1.0</td>\n",
       "      <td>253.0</td>\n",
       "      <td>TA</td>\n",
       "      <td>TA</td>\n",
       "      <td>Y</td>\n",
       "      <td>0</td>\n",
       "      <td>0</td>\n",
       "      <td>0</td>\n",
       "      <td>0</td>\n",
       "      <td>0</td>\n",
       "      <td>0</td>\n",
       "      <td>NaN</td>\n",
       "      <td>NaN</td>\n",
       "      <td>NaN</td>\n",
       "      <td>0</td>\n",
       "      <td>5</td>\n",
       "      <td>2007</td>\n",
       "      <td>WD</td>\n",
       "      <td>Normal</td>\n",
       "      <td>923226300.0</td>\n",
       "      <td>609 MEADOW PL</td>\n",
       "    </tr>\n",
       "  </tbody>\n",
       "</table>\n",
       "</div>"
      ],
      "text/plain": [
       "           PID  GrLivArea  SalePrice  MSSubClass MSZoning  LotFrontage  \\\n",
       "697  923226300       1092      85500         160       RM         21.0   \n",
       "\n",
       "     LotArea Street Alley LotShape LandContour Utilities LotConfig LandSlope  \\\n",
       "697     1504   Pave   NaN      Reg         Lvl    AllPub    Inside       Gtl   \n",
       "\n",
       "    Neighborhood Condition1 Condition2 BldgType HouseStyle  OverallQual  \\\n",
       "697      MeadowV       Norm       Norm    Twnhs     2Story            4   \n",
       "\n",
       "     OverallCond  YearBuilt  YearRemodAdd RoofStyle RoofMatl Exterior1st  \\\n",
       "697            4       1972          1972     Gable  CompShg     CemntBd   \n",
       "\n",
       "    Exterior2nd MasVnrType  MasVnrArea ExterQual ExterCond Foundation  \\\n",
       "697     CmentBd        NaN         0.0        TA        TA     CBlock   \n",
       "\n",
       "    BsmtQual BsmtCond BsmtExposure BsmtFinType1  BsmtFinSF1 BsmtFinType2  \\\n",
       "697       TA       TA           No          BLQ       252.0          Unf   \n",
       "\n",
       "     BsmtFinSF2  BsmtUnfSF  TotalBsmtSF Heating HeatingQC CentralAir  \\\n",
       "697         0.0      294.0        546.0    GasA        TA          Y   \n",
       "\n",
       "    Electrical  1stFlrSF  2ndFlrSF  LowQualFinSF  BsmtFullBath  BsmtHalfBath  \\\n",
       "697      SBrkr       546       546             0           0.0           0.0   \n",
       "\n",
       "     FullBath  HalfBath  BedroomAbvGr  KitchenAbvGr KitchenQual  TotRmsAbvGrd  \\\n",
       "697         1         1             3             1          TA             5   \n",
       "\n",
       "    Functional  Fireplaces FireplaceQu GarageType  GarageYrBlt GarageFinish  \\\n",
       "697        Typ           0         NaN     Attchd       1972.0          Unf   \n",
       "\n",
       "     GarageCars  GarageArea GarageQual GarageCond PavedDrive  WoodDeckSF  \\\n",
       "697         1.0       253.0         TA         TA          Y           0   \n",
       "\n",
       "     OpenPorchSF  EnclosedPorch  3SsnPorch  ScreenPorch  PoolArea PoolQC  \\\n",
       "697            0              0          0            0         0    NaN   \n",
       "\n",
       "    Fence MiscFeature  MiscVal  MoSold  YrSold SaleType SaleCondition  \\\n",
       "697   NaN         NaN        0       5    2007      WD         Normal   \n",
       "\n",
       "        MapRefNo      Prop_Addr  \n",
       "697  923226300.0  609 MEADOW PL  "
      ]
     },
     "execution_count": 951,
     "metadata": {},
     "output_type": "execute_result"
    }
   ],
   "source": [
    "#drop NA addresses\n",
    "housing_m = housing_m.dropna(subset=['Prop_Addr'])\n",
    "housing_m.shape #(2603, 171)\n",
    "# housing_m.head(13)\n",
    "\n",
    "#drop unit numbers from Addresses\n",
    "housing_m.Prop_Addr.str.replace(r'\\d+$', '', regex=True)\n",
    "housing_m.shape #(2559, 83)\n",
    "housing_m[housing_m.PID == 923226300]"
   ]
  },
  {
   "cell_type": "code",
   "execution_count": 952,
   "id": "104b02ba-2a44-4af1-b66b-2a0ddc750e8c",
   "metadata": {},
   "outputs": [
    {
     "data": {
      "text/plain": [
       "<geopy.extra.rate_limiter.RateLimiter at 0x180f49350>"
      ]
     },
     "execution_count": 952,
     "metadata": {},
     "output_type": "execute_result"
    }
   ],
   "source": [
    "# Using Geopy to encode long and latitude\n",
    "locator = Nominatim(user_agent=\"katie\")\n",
    "# location = locator.geocode(\"Champ de Mars, Paris, France\")\n",
    "geocode = RateLimiter(locator.geocode, min_delay_seconds=3)\n",
    "geocode"
   ]
  },
  {
   "cell_type": "code",
   "execution_count": 647,
   "id": "c042acb4-e6d8-47fc-ad31-d02114f6ca0f",
   "metadata": {},
   "outputs": [],
   "source": [
    "#Create generator to monitor work DO NOT RUN\n",
    "# lat = []\n",
    "# gen = (lat.append(geolocator.geocode(i+', Ames, iowa')) for i in housing_m.Prop_Addr)\n",
    "\n",
    "# while True:\n",
    "#     try:\n",
    "#         value = next(gen)\n",
    "#         lat.append(value)\n",
    "#     except StopIteration:\n",
    "#         print(value)\n",
    "#         break\n",
    "#     except Exception as e:\n",
    "#         print(f\"Error occurred: {e}. Skipping to next item.\")\n"
   ]
  },
  {
   "cell_type": "code",
   "execution_count": 648,
   "id": "855074f6-a4ab-4e49-a4ad-80775eab1225",
   "metadata": {},
   "outputs": [],
   "source": [
    "#Remove every other index, convert list to series\n",
    "# Add = []\n",
    "# for i in range(0,len(lat),2):\n",
    "#     Add.append(lat[i])\n",
    "# Add_s = pd.Series(Add)\n",
    "# Add_s.isna().sum() #There are 37 address that failed\n",
    "#Add Series to master doc\n",
    "# housing_m['lat'] = Add_s.apply(lambda loc: loc.latitude if loc else None)\n",
    "# housing_m['long'] = Add_s.apply(lambda loc: loc.longitude if loc else None)"
   ]
  },
  {
   "cell_type": "code",
   "execution_count": 649,
   "id": "0da25039-7439-42cd-9709-2c6cf8ca9fcf",
   "metadata": {},
   "outputs": [],
   "source": [
    "#Save to CSV\n",
    "# housing_m[['PID','lat','long']].to_csv(\n",
    "#     'long_lat.csv', sep=',',header=True, index=False, encoding='utf-8')"
   ]
  },
  {
   "cell_type": "code",
   "execution_count": 943,
   "id": "be2c1a8e-b9ce-4eeb-9bf4-4cf25bbb5a6d",
   "metadata": {},
   "outputs": [],
   "source": [
    "#Open lat and long file csv\n",
    "lat_long = pd.read_csv('long_lat.csv')\n",
    "lat_long = lat_long.drop(index = lat_long[lat_long.PID == 909276070].index[0])"
   ]
  },
  {
   "cell_type": "code",
   "execution_count": 953,
   "id": "03150586-b52e-43f2-8160-094dc710ed2f",
   "metadata": {},
   "outputs": [
    {
     "data": {
      "text/html": [
       "<div>\n",
       "<style scoped>\n",
       "    .dataframe tbody tr th:only-of-type {\n",
       "        vertical-align: middle;\n",
       "    }\n",
       "\n",
       "    .dataframe tbody tr th {\n",
       "        vertical-align: top;\n",
       "    }\n",
       "\n",
       "    .dataframe thead th {\n",
       "        text-align: right;\n",
       "    }\n",
       "</style>\n",
       "<table border=\"1\" class=\"dataframe\">\n",
       "  <thead>\n",
       "    <tr style=\"text-align: right;\">\n",
       "      <th></th>\n",
       "      <th>PID</th>\n",
       "      <th>GrLivArea</th>\n",
       "      <th>SalePrice</th>\n",
       "      <th>MSSubClass</th>\n",
       "      <th>MSZoning</th>\n",
       "      <th>LotFrontage</th>\n",
       "      <th>LotArea</th>\n",
       "      <th>Street</th>\n",
       "      <th>Alley</th>\n",
       "      <th>LotShape</th>\n",
       "      <th>LandContour</th>\n",
       "      <th>Utilities</th>\n",
       "      <th>LotConfig</th>\n",
       "      <th>LandSlope</th>\n",
       "      <th>Neighborhood</th>\n",
       "      <th>Condition1</th>\n",
       "      <th>Condition2</th>\n",
       "      <th>BldgType</th>\n",
       "      <th>HouseStyle</th>\n",
       "      <th>OverallQual</th>\n",
       "      <th>OverallCond</th>\n",
       "      <th>YearBuilt</th>\n",
       "      <th>YearRemodAdd</th>\n",
       "      <th>RoofStyle</th>\n",
       "      <th>RoofMatl</th>\n",
       "      <th>Exterior1st</th>\n",
       "      <th>Exterior2nd</th>\n",
       "      <th>MasVnrType</th>\n",
       "      <th>MasVnrArea</th>\n",
       "      <th>ExterQual</th>\n",
       "      <th>ExterCond</th>\n",
       "      <th>Foundation</th>\n",
       "      <th>BsmtQual</th>\n",
       "      <th>BsmtCond</th>\n",
       "      <th>BsmtExposure</th>\n",
       "      <th>BsmtFinType1</th>\n",
       "      <th>BsmtFinSF1</th>\n",
       "      <th>BsmtFinType2</th>\n",
       "      <th>BsmtFinSF2</th>\n",
       "      <th>BsmtUnfSF</th>\n",
       "      <th>TotalBsmtSF</th>\n",
       "      <th>Heating</th>\n",
       "      <th>HeatingQC</th>\n",
       "      <th>CentralAir</th>\n",
       "      <th>Electrical</th>\n",
       "      <th>1stFlrSF</th>\n",
       "      <th>2ndFlrSF</th>\n",
       "      <th>LowQualFinSF</th>\n",
       "      <th>BsmtFullBath</th>\n",
       "      <th>BsmtHalfBath</th>\n",
       "      <th>FullBath</th>\n",
       "      <th>HalfBath</th>\n",
       "      <th>BedroomAbvGr</th>\n",
       "      <th>KitchenAbvGr</th>\n",
       "      <th>KitchenQual</th>\n",
       "      <th>TotRmsAbvGrd</th>\n",
       "      <th>Functional</th>\n",
       "      <th>Fireplaces</th>\n",
       "      <th>FireplaceQu</th>\n",
       "      <th>GarageType</th>\n",
       "      <th>GarageYrBlt</th>\n",
       "      <th>GarageFinish</th>\n",
       "      <th>GarageCars</th>\n",
       "      <th>GarageArea</th>\n",
       "      <th>GarageQual</th>\n",
       "      <th>GarageCond</th>\n",
       "      <th>PavedDrive</th>\n",
       "      <th>WoodDeckSF</th>\n",
       "      <th>OpenPorchSF</th>\n",
       "      <th>EnclosedPorch</th>\n",
       "      <th>3SsnPorch</th>\n",
       "      <th>ScreenPorch</th>\n",
       "      <th>PoolArea</th>\n",
       "      <th>PoolQC</th>\n",
       "      <th>Fence</th>\n",
       "      <th>MiscFeature</th>\n",
       "      <th>MiscVal</th>\n",
       "      <th>MoSold</th>\n",
       "      <th>YrSold</th>\n",
       "      <th>SaleType</th>\n",
       "      <th>SaleCondition</th>\n",
       "      <th>MapRefNo</th>\n",
       "      <th>Prop_Addr</th>\n",
       "      <th>lat</th>\n",
       "      <th>long</th>\n",
       "    </tr>\n",
       "  </thead>\n",
       "  <tbody>\n",
       "    <tr>\n",
       "      <th>0</th>\n",
       "      <td>909176150</td>\n",
       "      <td>856</td>\n",
       "      <td>126000</td>\n",
       "      <td>30</td>\n",
       "      <td>RL</td>\n",
       "      <td>NaN</td>\n",
       "      <td>7890</td>\n",
       "      <td>Pave</td>\n",
       "      <td>NaN</td>\n",
       "      <td>Reg</td>\n",
       "      <td>Lvl</td>\n",
       "      <td>AllPub</td>\n",
       "      <td>Corner</td>\n",
       "      <td>Gtl</td>\n",
       "      <td>SWISU</td>\n",
       "      <td>Norm</td>\n",
       "      <td>Norm</td>\n",
       "      <td>1Fam</td>\n",
       "      <td>1Story</td>\n",
       "      <td>6</td>\n",
       "      <td>6</td>\n",
       "      <td>1939</td>\n",
       "      <td>1950</td>\n",
       "      <td>Gable</td>\n",
       "      <td>CompShg</td>\n",
       "      <td>Wd Sdng</td>\n",
       "      <td>Wd Sdng</td>\n",
       "      <td>NaN</td>\n",
       "      <td>0.0</td>\n",
       "      <td>TA</td>\n",
       "      <td>TA</td>\n",
       "      <td>CBlock</td>\n",
       "      <td>TA</td>\n",
       "      <td>TA</td>\n",
       "      <td>No</td>\n",
       "      <td>Rec</td>\n",
       "      <td>238.0</td>\n",
       "      <td>Unf</td>\n",
       "      <td>0.0</td>\n",
       "      <td>618.0</td>\n",
       "      <td>856.0</td>\n",
       "      <td>GasA</td>\n",
       "      <td>TA</td>\n",
       "      <td>Y</td>\n",
       "      <td>SBrkr</td>\n",
       "      <td>856</td>\n",
       "      <td>0</td>\n",
       "      <td>0</td>\n",
       "      <td>1.0</td>\n",
       "      <td>0.0</td>\n",
       "      <td>1</td>\n",
       "      <td>0</td>\n",
       "      <td>2</td>\n",
       "      <td>1</td>\n",
       "      <td>TA</td>\n",
       "      <td>4</td>\n",
       "      <td>Typ</td>\n",
       "      <td>1</td>\n",
       "      <td>Gd</td>\n",
       "      <td>Detchd</td>\n",
       "      <td>1939.0</td>\n",
       "      <td>Unf</td>\n",
       "      <td>2.0</td>\n",
       "      <td>399.0</td>\n",
       "      <td>TA</td>\n",
       "      <td>TA</td>\n",
       "      <td>Y</td>\n",
       "      <td>0</td>\n",
       "      <td>0</td>\n",
       "      <td>0</td>\n",
       "      <td>0</td>\n",
       "      <td>166</td>\n",
       "      <td>0</td>\n",
       "      <td>NaN</td>\n",
       "      <td>NaN</td>\n",
       "      <td>NaN</td>\n",
       "      <td>0</td>\n",
       "      <td>3</td>\n",
       "      <td>2010</td>\n",
       "      <td>WD</td>\n",
       "      <td>Normal</td>\n",
       "      <td>909176150.0</td>\n",
       "      <td>436 HAYWARD AVE</td>\n",
       "      <td>42.018564</td>\n",
       "      <td>-93.651619</td>\n",
       "    </tr>\n",
       "    <tr>\n",
       "      <th>1</th>\n",
       "      <td>905476230</td>\n",
       "      <td>1049</td>\n",
       "      <td>139500</td>\n",
       "      <td>120</td>\n",
       "      <td>RL</td>\n",
       "      <td>42.0</td>\n",
       "      <td>4235</td>\n",
       "      <td>Pave</td>\n",
       "      <td>NaN</td>\n",
       "      <td>Reg</td>\n",
       "      <td>Lvl</td>\n",
       "      <td>AllPub</td>\n",
       "      <td>Inside</td>\n",
       "      <td>Gtl</td>\n",
       "      <td>Edwards</td>\n",
       "      <td>Norm</td>\n",
       "      <td>Norm</td>\n",
       "      <td>TwnhsE</td>\n",
       "      <td>1Story</td>\n",
       "      <td>5</td>\n",
       "      <td>5</td>\n",
       "      <td>1984</td>\n",
       "      <td>1984</td>\n",
       "      <td>Gable</td>\n",
       "      <td>CompShg</td>\n",
       "      <td>HdBoard</td>\n",
       "      <td>HdBoard</td>\n",
       "      <td>BrkFace</td>\n",
       "      <td>149.0</td>\n",
       "      <td>Gd</td>\n",
       "      <td>TA</td>\n",
       "      <td>CBlock</td>\n",
       "      <td>Gd</td>\n",
       "      <td>TA</td>\n",
       "      <td>Mn</td>\n",
       "      <td>GLQ</td>\n",
       "      <td>552.0</td>\n",
       "      <td>ALQ</td>\n",
       "      <td>393.0</td>\n",
       "      <td>104.0</td>\n",
       "      <td>1049.0</td>\n",
       "      <td>GasA</td>\n",
       "      <td>TA</td>\n",
       "      <td>Y</td>\n",
       "      <td>SBrkr</td>\n",
       "      <td>1049</td>\n",
       "      <td>0</td>\n",
       "      <td>0</td>\n",
       "      <td>1.0</td>\n",
       "      <td>0.0</td>\n",
       "      <td>2</td>\n",
       "      <td>0</td>\n",
       "      <td>2</td>\n",
       "      <td>1</td>\n",
       "      <td>Gd</td>\n",
       "      <td>5</td>\n",
       "      <td>Typ</td>\n",
       "      <td>0</td>\n",
       "      <td>NaN</td>\n",
       "      <td>Attchd</td>\n",
       "      <td>1984.0</td>\n",
       "      <td>Fin</td>\n",
       "      <td>1.0</td>\n",
       "      <td>266.0</td>\n",
       "      <td>TA</td>\n",
       "      <td>TA</td>\n",
       "      <td>Y</td>\n",
       "      <td>0</td>\n",
       "      <td>105</td>\n",
       "      <td>0</td>\n",
       "      <td>0</td>\n",
       "      <td>0</td>\n",
       "      <td>0</td>\n",
       "      <td>NaN</td>\n",
       "      <td>NaN</td>\n",
       "      <td>NaN</td>\n",
       "      <td>0</td>\n",
       "      <td>2</td>\n",
       "      <td>2009</td>\n",
       "      <td>WD</td>\n",
       "      <td>Normal</td>\n",
       "      <td>905476230.0</td>\n",
       "      <td>3416 WEST ST</td>\n",
       "      <td>42.024855</td>\n",
       "      <td>-93.663671</td>\n",
       "    </tr>\n",
       "  </tbody>\n",
       "</table>\n",
       "</div>"
      ],
      "text/plain": [
       "         PID  GrLivArea  SalePrice  MSSubClass MSZoning  LotFrontage  LotArea  \\\n",
       "0  909176150        856     126000          30       RL          NaN     7890   \n",
       "1  905476230       1049     139500         120       RL         42.0     4235   \n",
       "\n",
       "  Street Alley LotShape LandContour Utilities LotConfig LandSlope  \\\n",
       "0   Pave   NaN      Reg         Lvl    AllPub    Corner       Gtl   \n",
       "1   Pave   NaN      Reg         Lvl    AllPub    Inside       Gtl   \n",
       "\n",
       "  Neighborhood Condition1 Condition2 BldgType HouseStyle  OverallQual  \\\n",
       "0        SWISU       Norm       Norm     1Fam     1Story            6   \n",
       "1      Edwards       Norm       Norm   TwnhsE     1Story            5   \n",
       "\n",
       "   OverallCond  YearBuilt  YearRemodAdd RoofStyle RoofMatl Exterior1st  \\\n",
       "0            6       1939          1950     Gable  CompShg     Wd Sdng   \n",
       "1            5       1984          1984     Gable  CompShg     HdBoard   \n",
       "\n",
       "  Exterior2nd MasVnrType  MasVnrArea ExterQual ExterCond Foundation BsmtQual  \\\n",
       "0     Wd Sdng        NaN         0.0        TA        TA     CBlock       TA   \n",
       "1     HdBoard    BrkFace       149.0        Gd        TA     CBlock       Gd   \n",
       "\n",
       "  BsmtCond BsmtExposure BsmtFinType1  BsmtFinSF1 BsmtFinType2  BsmtFinSF2  \\\n",
       "0       TA           No          Rec       238.0          Unf         0.0   \n",
       "1       TA           Mn          GLQ       552.0          ALQ       393.0   \n",
       "\n",
       "   BsmtUnfSF  TotalBsmtSF Heating HeatingQC CentralAir Electrical  1stFlrSF  \\\n",
       "0      618.0        856.0    GasA        TA          Y      SBrkr       856   \n",
       "1      104.0       1049.0    GasA        TA          Y      SBrkr      1049   \n",
       "\n",
       "   2ndFlrSF  LowQualFinSF  BsmtFullBath  BsmtHalfBath  FullBath  HalfBath  \\\n",
       "0         0             0           1.0           0.0         1         0   \n",
       "1         0             0           1.0           0.0         2         0   \n",
       "\n",
       "   BedroomAbvGr  KitchenAbvGr KitchenQual  TotRmsAbvGrd Functional  \\\n",
       "0             2             1          TA             4        Typ   \n",
       "1             2             1          Gd             5        Typ   \n",
       "\n",
       "   Fireplaces FireplaceQu GarageType  GarageYrBlt GarageFinish  GarageCars  \\\n",
       "0           1          Gd     Detchd       1939.0          Unf         2.0   \n",
       "1           0         NaN     Attchd       1984.0          Fin         1.0   \n",
       "\n",
       "   GarageArea GarageQual GarageCond PavedDrive  WoodDeckSF  OpenPorchSF  \\\n",
       "0       399.0         TA         TA          Y           0            0   \n",
       "1       266.0         TA         TA          Y           0          105   \n",
       "\n",
       "   EnclosedPorch  3SsnPorch  ScreenPorch  PoolArea PoolQC Fence MiscFeature  \\\n",
       "0              0          0          166         0    NaN   NaN         NaN   \n",
       "1              0          0            0         0    NaN   NaN         NaN   \n",
       "\n",
       "   MiscVal  MoSold  YrSold SaleType SaleCondition     MapRefNo  \\\n",
       "0        0       3    2010      WD         Normal  909176150.0   \n",
       "1        0       2    2009      WD         Normal  905476230.0   \n",
       "\n",
       "         Prop_Addr        lat       long  \n",
       "0  436 HAYWARD AVE  42.018564 -93.651619  \n",
       "1     3416 WEST ST  42.024855 -93.663671  "
      ]
     },
     "execution_count": 953,
     "metadata": {},
     "output_type": "execute_result"
    }
   ],
   "source": [
    "#merge long lat\n",
    "housing_m = housing_m.merge(lat_long.drop(index = lat_long[lat_long.PID == 909276070].index[0]), how = 'left', on = 'PID')\n",
    "housing_m.head(2)"
   ]
  },
  {
   "cell_type": "code",
   "execution_count": 954,
   "id": "1d4e8453-2a6c-4df4-b9db-275c973b635d",
   "metadata": {},
   "outputs": [
    {
     "data": {
      "text/plain": [
       "<Axes: >"
      ]
     },
     "execution_count": 954,
     "metadata": {},
     "output_type": "execute_result"
    },
    {
     "data": {
      "image/png": "[encoded data removed]",
      "text/plain": [
       "<Figure size 640x480 with 1 Axes>"
      ]
     },
     "metadata": {},
     "output_type": "display_data"
    }
   ],
   "source": [
    "#Seaborn plot\n",
    "# Create a GeoDataFrame\n",
    "gdf = gpd.GeoDataFrame(\n",
    "    housing_m, geometry=gpd.points_from_xy(housing_m.long, housing_m.lat)) \n",
    "\n",
    "# Plot the GeoDataFrame\n",
    "gdf.plot(marker='o', color='red', markersize=5)"
   ]
  },
  {
   "cell_type": "code",
   "execution_count": 955,
   "id": "de712b9f-1d33-461a-a975-0f4673f5ef1c",
   "metadata": {},
   "outputs": [
    {
     "data": {
      "application/vnd.plotly.v1+json": {
       "config": {
        "plotlyServerURL": "https://plot.ly"
       },
       "data": [
        {
         "customdata": [
          [
           2010,
           909176150
          ],
          [
           2009,
           905476230
          ],
          [
           2007,
           911128020
          ],
          [
           2009,
           535377150
          ],
          [
           2009,
           534177230
          ],
          [
           2009,
           908128060
          ],
          [
           2009,
           902135020
          ],
          [
           2008,
           528228540
          ],
          [
           2008,
           923426010
          ],
          [
           2007,
           908186050
          ],
          [
           2008,
           528186170
          ],
          [
           2010,
           923426070
          ],
          [
           2009,
           902204080
          ],
          [
           2009,
           535105100
          ],
          [
           2008,
           907405020
          ],
          [
           2008,
           531382110
          ],
          [
           2007,
           906380120
          ],
          [
           2008,
           909101060
          ],
          [
           2010,
           534152050
          ],
          [
           2009,
           923252075
          ],
          [
           2007,
           531376060
          ],
          [
           2008,
           902201120
          ],
          [
           2008,
           923228080
          ],
          [
           2009,
           902326030
          ],
          [
           2010,
           527451330
          ],
          [
           2007,
           528218100
          ],
          [
           2009,
           916386140
          ],
          [
           2010,
           533221090
          ],
          [
           2009,
           534128010
          ],
          [
           2007,
           528106110
          ],
          [
           2009,
           902206260
          ],
          [
           2007,
           528222090
          ],
          [
           2010,
           528218150
          ],
          [
           2008,
           903400180
          ],
          [
           2008,
           535453210
          ],
          [
           2010,
           916386010
          ],
          [
           2006,
           907181090
          ],
          [
           2006,
           902206020
          ],
          [
           2007,
           527327050
          ],
          [
           2007,
           527455250
          ],
          [
           2008,
           528326110
          ],
          [
           2007,
           914452190
          ],
          [
           2008,
           535425060
          ],
          [
           2006,
           532376250
          ],
          [
           2007,
           535379110
          ],
          [
           2006,
           528118010
          ],
          [
           2007,
           528235160
          ],
          [
           2009,
           905478030
          ],
          [
           2010,
           902106130
          ],
          [
           2009,
           902102080
          ],
          [
           2007,
           909176170
          ],
          [
           2007,
           533206070
          ],
          [
           2007,
           527302020
          ],
          [
           2007,
           907414060
          ],
          [
           2009,
           904301060
          ],
          [
           2008,
           532479020
          ],
          [
           2007,
           528110070
          ],
          [
           2006,
           534429130
          ],
          [
           2008,
           528365060
          ],
          [
           2009,
           533135020
          ],
          [
           2006,
           910203100
          ],
          [
           2007,
           905451390
          ],
          [
           2009,
           533213010
          ],
          [
           2008,
           528118030
          ],
          [
           2010,
           907200340
          ],
          [
           2008,
           528164060
          ],
          [
           2008,
           907202010
          ],
          [
           2009,
           528186180
          ],
          [
           2010,
           909250060
          ],
          [
           2008,
           528315060
          ],
          [
           2010,
           528231020
          ],
          [
           2007,
           528456230
          ],
          [
           2006,
           907180120
          ],
          [
           2008,
           911370410
          ],
          [
           2006,
           527108090
          ],
          [
           2007,
           528222050
          ],
          [
           2007,
           528429110
          ],
          [
           2006,
           902328100
          ],
          [
           2010,
           527451410
          ],
          [
           2006,
           914476130
          ],
          [
           2008,
           535453020
          ],
          [
           2006,
           535379100
          ],
          [
           2009,
           905108190
          ],
          [
           2008,
           905201110
          ],
          [
           2009,
           903227090
          ],
          [
           2006,
           905107300
          ],
          [
           2007,
           903401070
          ],
          [
           2009,
           903230100
          ],
          [
           2010,
           527105010
          ],
          [
           2007,
           528480020
          ],
          [
           2008,
           527402130
          ],
          [
           2008,
           909251080
          ],
          [
           2008,
           908201120
          ],
          [
           2006,
           533221080
          ],
          [
           2006,
           535178100
          ],
          [
           2007,
           535457050
          ],
          [
           2009,
           923226270
          ],
          [
           2008,
           535105090
          ],
          [
           2009,
           533253070
          ],
          [
           2009,
           907280170
          ],
          [
           2008,
           914476450
          ],
          [
           2007,
           535327200
          ],
          [
           2009,
           528441090
          ],
          [
           2007,
           906426195
          ],
          [
           2007,
           534275170
          ],
          [
           2006,
           923226180
          ],
          [
           2010,
           923226320
          ],
          [
           2007,
           528118050
          ],
          [
           2010,
           904300150
          ],
          [
           2009,
           533236050
          ],
          [
           2008,
           527354160
          ],
          [
           2007,
           528435040
          ],
          [
           2006,
           534129230
          ],
          [
           2006,
           535325350
          ],
          [
           2007,
           902408080
          ],
          [
           2007,
           916455050
          ],
          [
           2009,
           909276200
          ],
          [
           2008,
           534277060
          ],
          [
           2008,
           905107280
          ],
          [
           2007,
           923204050
          ],
          [
           2006,
           531376050
          ],
          [
           2007,
           903454010
          ],
          [
           2008,
           906412010
          ],
          [
           2007,
           535301060
          ],
          [
           2007,
           534453080
          ],
          [
           2008,
           911102180
          ],
          [
           2009,
           535403210
          ],
          [
           2008,
           531382120
          ],
          [
           2008,
           916455120
          ],
          [
           2010,
           905475510
          ],
          [
           2007,
           916326090
          ],
          [
           2009,
           909101140
          ],
          [
           2007,
           907260050
          ],
          [
           2009,
           907131090
          ],
          [
           2006,
           903206160
          ],
          [
           2006,
           528222020
          ],
          [
           2007,
           526352090
          ],
          [
           2006,
           534201280
          ],
          [
           2006,
           908102330
          ],
          [
           2010,
           906385010
          ],
          [
           2006,
           534276230
          ],
          [
           2006,
           906420020
          ],
          [
           2010,
           527404120
          ],
          [
           2006,
           907192010
          ],
          [
           2009,
           527131030
          ],
          [
           2006,
           527452290
          ],
          [
           2010,
           907250030
          ],
          [
           2007,
           909251040
          ],
          [
           2006,
           535377100
          ],
          [
           2009,
           528174050
          ],
          [
           2006,
           533128090
          ],
          [
           2008,
           533250110
          ],
          [
           2008,
           908186040
          ],
          [
           2007,
           903231050
          ],
          [
           2008,
           908152110
          ],
          [
           2009,
           535476110
          ],
          [
           2008,
           533250050
          ],
          [
           2006,
           535325340
          ],
          [
           2007,
           909475050
          ],
          [
           2006,
           907196020
          ],
          [
           2010,
           533130160
          ],
          [
           2007,
           535102010
          ],
          [
           2009,
           531475220
          ],
          [
           2008,
           527325070
          ],
          [
           2006,
           911175440
          ],
          [
           2010,
           903226160
          ],
          [
           2008,
           902134100
          ],
          [
           2006,
           902111010
          ],
          [
           2009,
           535381040
          ],
          [
           2010,
           910202060
          ],
          [
           2007,
           535477180
          ],
          [
           2006,
           528429120
          ],
          [
           2006,
           908127050
          ],
          [
           2008,
           528439010
          ],
          [
           2008,
           906223110
          ],
          [
           2010,
           528358010
          ],
          [
           2006,
           532378160
          ],
          [
           2006,
           531450040
          ],
          [
           2009,
           527326040
          ],
          [
           2008,
           903204095
          ],
          [
           2007,
           527182170
          ],
          [
           2007,
           905105040
          ],
          [
           2007,
           528477020
          ],
          [
           2006,
           905202210
          ],
          [
           2006,
           903425190
          ],
          [
           2008,
           535150210
          ],
          [
           2006,
           535453160
          ],
          [
           2007,
           535353130
          ],
          [
           2008,
           535456070
          ],
          [
           2008,
           908250090
          ],
          [
           2006,
           527452070
          ],
          [
           2006,
           902325100
          ],
          [
           2008,
           921126030
          ],
          [
           2008,
           905401060
          ],
          [
           2006,
           916402125
          ],
          [
           2009,
           531452010
          ],
          [
           2006,
           528363070
          ],
          [
           2010,
           533208090
          ],
          [
           2008,
           534401130
          ],
          [
           2006,
           910203230
          ],
          [
           2006,
           907420090
          ],
          [
           2007,
           902303100
          ],
          [
           2006,
           906392120
          ],
          [
           2007,
           903484080
          ],
          [
           2009,
           527301320
          ],
          [
           2008,
           527140090
          ],
          [
           2008,
           909428170
          ],
          [
           2009,
           905228050
          ],
          [
           2008,
           533234020
          ],
          [
           2006,
           533212100
          ],
          [
           2009,
           534475185
          ],
          [
           2006,
           905452150
          ],
          [
           2010,
           528176010
          ],
          [
           2009,
           535450160
          ],
          [
           2008,
           533215040
          ],
          [
           2007,
           528104010
          ],
          [
           2007,
           535325090
          ],
          [
           2006,
           909250210
          ],
          [
           2007,
           527325110
          ],
          [
           2007,
           910202030
          ],
          [
           2010,
           535175180
          ],
          [
           2010,
           534202160
          ],
          [
           2006,
           916403020
          ],
          [
           2009,
           535354100
          ],
          [
           2008,
           905227050
          ],
          [
           2007,
           534451020
          ],
          [
           2007,
           533120030
          ],
          [
           2007,
           905352010
          ],
          [
           2009,
           905108220
          ],
          [
           2007,
           527165170
          ],
          [
           2010,
           535353190
          ],
          [
           2006,
           528315070
          ],
          [
           2009,
           903232060
          ],
          [
           2006,
           906204180
          ],
          [
           2007,
           906475110
          ],
          [
           2007,
           906223040
          ],
          [
           2008,
           909253190
          ],
          [
           2007,
           923400150
          ],
          [
           2006,
           923226290
          ],
          [
           2007,
           909282020
          ],
          [
           2008,
           528110110
          ],
          [
           2010,
           534479320
          ],
          [
           2007,
           528150110
          ],
          [
           2007,
           906380160
          ],
          [
           2007,
           911370460
          ],
          [
           2008,
           535477090
          ],
          [
           2009,
           534478230
          ],
          [
           2007,
           906426060
          ],
          [
           2006,
           528235190
          ],
          [
           2010,
           923225440
          ],
          [
           2010,
           923276030
          ],
          [
           2009,
           909425060
          ],
          [
           2007,
           902332030
          ],
          [
           2009,
           528188060
          ],
          [
           2007,
           527105140
          ],
          [
           2009,
           535477150
          ],
          [
           2006,
           535327210
          ],
          [
           2008,
           533213070
          ],
          [
           2007,
           904100100
          ],
          [
           2010,
           528188120
          ],
          [
           2007,
           528480180
          ],
          [
           2008,
           528114040
          ],
          [
           2008,
           528235020
          ],
          [
           2009,
           908275110
          ],
          [
           2006,
           905103140
          ],
          [
           2008,
           902402260
          ],
          [
           2009,
           528235200
          ],
          [
           2007,
           528181060
          ],
          [
           2007,
           923275200
          ],
          [
           2007,
           903451110
          ],
          [
           2006,
           528181040
          ],
          [
           2010,
           908102110
          ],
          [
           2008,
           533217050
          ],
          [
           2008,
           533350090
          ],
          [
           2007,
           528445070
          ],
          [
           2006,
           527212040
          ],
          [
           2007,
           907200270
          ],
          [
           2009,
           908201040
          ],
          [
           2006,
           907410100
          ],
          [
           2009,
           903481120
          ],
          [
           2007,
           535453180
          ],
          [
           2009,
           907227110
          ],
          [
           2010,
           531453010
          ],
          [
           2006,
           531478010
          ],
          [
           2006,
           535403200
          ],
          [
           2009,
           527254020
          ],
          [
           2009,
           527366030
          ],
          [
           2006,
           535325460
          ],
          [
           2007,
           528110040
          ],
          [
           2006,
           906392090
          ],
          [
           2009,
           535452140
          ],
          [
           2008,
           535151160
          ],
          [
           2008,
           535456050
          ],
          [
           2009,
           903429110
          ],
          [
           2007,
           916455150
          ],
          [
           2006,
           909425180
          ],
          [
           2009,
           528175050
          ],
          [
           2008,
           910205010
          ],
          [
           2009,
           533206020
          ],
          [
           2007,
           902427040
          ],
          [
           2009,
           528427020
          ],
          [
           2010,
           528458070
          ],
          [
           2008,
           903401030
          ],
          [
           2008,
           909275040
          ],
          [
           2009,
           527163130
          ],
          [
           2009,
           905200350
          ],
          [
           2009,
           528363050
          ],
          [
           2007,
           908154205
          ],
          [
           2007,
           903233140
          ],
          [
           2006,
           905107070
          ],
          [
           2007,
           528240020
          ],
          [
           2006,
           906225180
          ],
          [
           2006,
           528114010
          ],
          [
           2008,
           907126030
          ],
          [
           2008,
           904100160
          ],
          [
           2007,
           909254130
          ],
          [
           2007,
           535403030
          ],
          [
           2006,
           907412010
          ],
          [
           2007,
           903228080
          ],
          [
           2006,
           531452100
          ],
          [
           2006,
           526302030
          ],
          [
           2006,
           902106090
          ],
          [
           2007,
           527161090
          ],
          [
           2007,
           532353120
          ],
          [
           2010,
           535453070
          ],
          [
           2007,
           534252110
          ],
          [
           2008,
           535327230
          ],
          [
           2008,
           905425125
          ],
          [
           2008,
           908103280
          ],
          [
           2009,
           528221060
          ],
          [
           2010,
           921128020
          ],
          [
           2007,
           528174040
          ],
          [
           2006,
           909256010
          ],
          [
           2010,
           533212060
          ],
          [
           2007,
           908204180
          ],
          [
           2010,
           533223100
          ],
          [
           2006,
           909176180
          ],
          [
           2007,
           903475040
          ],
          [
           2006,
           535426195
          ],
          [
           2009,
           905103040
          ],
          [
           2007,
           528110100
          ],
          [
           2006,
           534431030
          ],
          [
           2006,
           905300010
          ],
          [
           2009,
           914474070
          ],
          [
           2008,
           534428100
          ],
          [
           2006,
           533350050
          ],
          [
           2006,
           908188130
          ],
          [
           2006,
           534453150
          ],
          [
           2007,
           528458120
          ],
          [
           2006,
           535179050
          ],
          [
           2008,
           527302185
          ],
          [
           2009,
           534128190
          ],
          [
           2008,
           528180110
          ],
          [
           2009,
           916176125
          ],
          [
           2007,
           903454090
          ],
          [
           2010,
           535457010
          ],
          [
           2008,
           528462040
          ],
          [
           2007,
           909428120
          ],
          [
           2008,
           916460060
          ],
          [
           2007,
           528431050
          ],
          [
           2009,
           527110020
          ],
          [
           2008,
           535352080
          ],
          [
           2010,
           527402250
          ],
          [
           2007,
           535451040
          ],
          [
           2009,
           905452050
          ],
          [
           2006,
           903225090
          ],
          [
           2009,
           531363010
          ],
          [
           2007,
           923205025
          ],
          [
           2010,
           532377060
          ],
          [
           2008,
           902109160
          ],
          [
           2008,
           902128075
          ],
          [
           2008,
           528178070
          ],
          [
           2008,
           903225160
          ],
          [
           2006,
           906380170
          ],
          [
           2007,
           528174020
          ],
          [
           2007,
           910201110
          ],
          [
           2010,
           535325400
          ],
          [
           2009,
           535150070
          ],
          [
           2007,
           533254100
          ],
          [
           2007,
           533254130
          ],
          [
           2009,
           907194110
          ],
          [
           2006,
           531375100
          ],
          [
           2008,
           532477030
          ],
          [
           2010,
           534102025
          ],
          [
           2010,
           905452160
          ],
          [
           2006,
           533208050
          ],
          [
           2006,
           905427030
          ],
          [
           2006,
           535301010
          ],
          [
           2006,
           909280030
          ],
          [
           2009,
           528116010
          ],
          [
           2007,
           528228270
          ],
          [
           2009,
           907252210
          ],
          [
           2006,
           909475020
          ],
          [
           2008,
           907253110
          ],
          [
           2007,
           535325280
          ],
          [
           2007,
           532378240
          ],
          [
           2008,
           908102260
          ],
          [
           2007,
           908226180
          ],
          [
           2009,
           527425060
          ],
          [
           2009,
           527451540
          ],
          [
           2010,
           902128170
          ],
          [
           2006,
           903455090
          ],
          [
           2010,
           910203250
          ],
          [
           2009,
           903228070
          ],
          [
           2006,
           527214060
          ],
          [
           2008,
           528427010
          ],
          [
           2009,
           535451250
          ],
          [
           2008,
           908152270
          ],
          [
           2009,
           909452050
          ],
          [
           2009,
           532354160
          ],
          [
           2009,
           531453100
          ],
          [
           2007,
           527328050
          ],
          [
           2008,
           907418010
          ],
          [
           2007,
           528344020
          ],
          [
           2006,
           532353180
          ],
          [
           2007,
           902106070
          ],
          [
           2007,
           528221050
          ],
          [
           2006,
           534479300
          ],
          [
           2009,
           906223060
          ],
          [
           2008,
           535105060
          ],
          [
           2009,
           528108040
          ],
          [
           2009,
           909279010
          ],
          [
           2008,
           527183030
          ],
          [
           2009,
           527276160
          ],
          [
           2010,
           902207130
          ],
          [
           2010,
           903227020
          ],
          [
           2010,
           908203100
          ],
          [
           2009,
           534152120
          ],
          [
           2010,
           907290240
          ],
          [
           2008,
           528478030
          ],
          [
           2007,
           910201180
          ],
          [
           2008,
           533208140
          ],
          [
           2007,
           528166150
          ],
          [
           2007,
           905107140
          ],
          [
           2009,
           527180100
          ],
          [
           2007,
           528458080
          ],
          [
           2006,
           905101450
          ],
          [
           2007,
           914460110
          ],
          [
           2009,
           534400290
          ],
          [
           2008,
           907254020
          ],
          [
           2008,
           528458030
          ],
          [
           2008,
           528480060
          ],
          [
           2007,
           905226050
          ],
          [
           2009,
           528253010
          ],
          [
           2008,
           528228345
          ],
          [
           2007,
           527425140
          ],
          [
           2008,
           907135020
          ],
          [
           2006,
           533206040
          ],
          [
           2007,
           535181140
          ],
          [
           2008,
           902427045
          ],
          [
           2009,
           527405130
          ],
          [
           2007,
           528431040
          ],
          [
           2006,
           527450210
          ],
          [
           2008,
           532378200
          ],
          [
           2009,
           909278020
          ],
          [
           2008,
           534225110
          ],
          [
           2007,
           909451130
          ],
          [
           2008,
           528142020
          ],
          [
           2009,
           527404030
          ],
          [
           2008,
           527162180
          ],
          [
           2007,
           534151180
          ],
          [
           2007,
           908204090
          ],
          [
           2007,
           532354070
          ],
          [
           2008,
           527302070
          ],
          [
           2008,
           527214030
          ],
          [
           2006,
           533128030
          ],
          [
           2008,
           902330010
          ],
          [
           2009,
           923228150
          ],
          [
           2006,
           527302080
          ],
          [
           2009,
           528344040
          ],
          [
           2006,
           535403040
          ],
          [
           2009,
           535375050
          ],
          [
           2009,
           535376060
          ],
          [
           2010,
           924151040
          ],
          [
           2008,
           528186160
          ],
          [
           2006,
           532351150
          ],
          [
           2006,
           905105010
          ],
          [
           2006,
           527452310
          ],
          [
           2006,
           909250200
          ],
          [
           2010,
           905101300
          ],
          [
           2009,
           902329080
          ],
          [
           2008,
           903225140
          ],
          [
           2008,
           533215080
          ],
          [
           2008,
           534452060
          ],
          [
           2006,
           532476050
          ],
          [
           2006,
           909428110
          ],
          [
           2006,
           528170040
          ],
          [
           2006,
           533110130
          ],
          [
           2006,
           921205030
          ],
          [
           2006,
           923203090
          ],
          [
           2009,
           535104120
          ],
          [
           2007,
           528366070
          ],
          [
           2008,
           923204040
          ],
          [
           2007,
           535378080
          ],
          [
           2007,
           533251130
          ],
          [
           2006,
           528235130
          ],
          [
           2009,
           903226130
          ],
          [
           2006,
           903235020
          ],
          [
           2009,
           527425110
          ],
          [
           2009,
           902327070
          ],
          [
           2007,
           903425270
          ],
          [
           2008,
           534127230
          ],
          [
           2007,
           914478100
          ],
          [
           2006,
           535301150
          ],
          [
           2010,
           903225150
          ],
          [
           2009,
           527402220
          ],
          [
           2009,
           904351240
          ],
          [
           2009,
           535452090
          ],
          [
           2009,
           528108020
          ],
          [
           2008,
           528427070
          ],
          [
           2006,
           902125020
          ],
          [
           2007,
           910201050
          ],
          [
           2010,
           527425090
          ],
          [
           2009,
           909277100
          ],
          [
           2009,
           531452070
          ],
          [
           2008,
           528387050
          ],
          [
           2008,
           905480240
          ],
          [
           2010,
           535476350
          ],
          [
           2010,
           527258010
          ],
          [
           2006,
           906394060
          ],
          [
           2008,
           909282030
          ],
          [
           2008,
           905225040
          ],
          [
           2008,
           908275130
          ],
          [
           2007,
           527226040
          ],
          [
           2008,
           903458110
          ],
          [
           2006,
           535425080
          ],
          [
           2009,
           907201220
          ],
          [
           2008,
           903426160
          ],
          [
           2007,
           905478140
          ],
          [
           2009,
           906475070
          ],
          [
           2007,
           907414070
          ],
          [
           2006,
           914476050
          ],
          [
           2006,
           923251180
          ],
          [
           2009,
           528235090
          ],
          [
           2009,
           527355150
          ],
          [
           2009,
           527454130
          ],
          [
           2008,
           533215020
          ],
          [
           2006,
           526302120
          ],
          [
           2006,
           532378220
          ],
          [
           2007,
           907420110
          ],
          [
           2009,
           527354100
          ],
          [
           2006,
           535404080
          ],
          [
           2010,
           906223090
          ],
          [
           2006,
           527450080
          ],
          [
           2008,
           905352030
          ],
          [
           2009,
           923275040
          ],
          [
           2010,
           906477110
          ],
          [
           2006,
           908103310
          ],
          [
           2007,
           531477040
          ],
          [
           2010,
           534176230
          ],
          [
           2007,
           907187060
          ],
          [
           2009,
           528385050
          ],
          [
           2008,
           908204160
          ],
          [
           2008,
           924100020
          ],
          [
           2006,
           907401080
          ],
          [
           2010,
           528108120
          ],
          [
           2008,
           916403230
          ],
          [
           2009,
           903236040
          ],
          [
           2007,
           903475060
          ],
          [
           2007,
           527302090
          ],
          [
           2007,
           923230120
          ],
          [
           2007,
           534403420
          ],
          [
           2008,
           902304060
          ],
          [
           2008,
           1007100110
          ],
          [
           2009,
           907290090
          ],
          [
           2008,
           907203090
          ],
          [
           2010,
           905102060
          ],
          [
           2007,
           907275150
          ],
          [
           2010,
           535152150
          ],
          [
           2006,
           528365090
          ],
          [
           2008,
           910200080
          ],
          [
           2008,
           923225080
          ],
          [
           2010,
           906402200
          ],
          [
           2009,
           921128050
          ],
          [
           2007,
           909250160
          ],
          [
           2008,
           908225170
          ],
          [
           2009,
           906380060
          ],
          [
           2007,
           527175130
          ],
          [
           2006,
           528480110
          ],
          [
           2010,
           528150070
          ],
          [
           2008,
           923400040
          ],
          [
           2009,
           910205020
          ],
          [
           2008,
           535103050
          ],
          [
           2009,
           528240150
          ],
          [
           2009,
           906226120
          ],
          [
           2010,
           535327140
          ],
          [
           2007,
           528427040
          ],
          [
           2008,
           528435020
          ],
          [
           2009,
           534431130
          ],
          [
           2009,
           923203110
          ],
          [
           2006,
           527356020
          ],
          [
           2006,
           527252090
          ],
          [
           2009,
           527258020
          ],
          [
           2010,
           533253060
          ],
          [
           2008,
           905107380
          ],
          [
           2009,
           531375040
          ],
          [
           2006,
           535355100
          ],
          [
           2007,
           907192120
          ],
          [
           2009,
           528138010
          ],
          [
           2009,
           908229020
          ],
          [
           2010,
           528480090
          ],
          [
           2009,
           527108070
          ],
          [
           2009,
           906226060
          ],
          [
           2006,
           908275290
          ],
          [
           2006,
           531375070
          ],
          [
           2006,
           528480070
          ],
          [
           2006,
           905300080
          ],
          [
           2006,
           907203040
          ],
          [
           2006,
           535450180
          ],
          [
           2009,
           531382070
          ],
          [
           2007,
           527216080
          ],
          [
           2007,
           906394050
          ],
          [
           2007,
           527252070
          ],
          [
           2008,
           534250010
          ],
          [
           2006,
           904100090
          ],
          [
           2010,
           905453040
          ],
          [
           2009,
           527326150
          ],
          [
           2006,
           909101050
          ],
          [
           2008,
           923203140
          ],
          [
           2009,
           906230020
          ],
          [
           2006,
           528218060
          ],
          [
           2007,
           906380040
          ],
          [
           2006,
           528228360
          ],
          [
           2009,
           532377130
          ],
          [
           2007,
           527256040
          ],
          [
           2006,
           903400030
          ],
          [
           2009,
           535453200
          ],
          [
           2006,
           528240080
          ],
          [
           2009,
           534476320
          ],
          [
           2010,
           902125080
          ],
          [
           2006,
           528327010
          ],
          [
           2009,
           916455070
          ],
          [
           2010,
           535350030
          ],
          [
           2007,
           905226170
          ],
          [
           2008,
           528488140
          ],
          [
           2006,
           528228580
          ],
          [
           2010,
           527453130
          ],
          [
           2008,
           534127210
          ],
          [
           2010,
           531452020
          ],
          [
           2006,
           911175430
          ],
          [
           2010,
           531452180
          ],
          [
           2008,
           902300110
          ],
          [
           2010,
           924152030
          ],
          [
           2006,
           902110120
          ],
          [
           2007,
           528439080
          ],
          [
           2008,
           908151040
          ],
          [
           2008,
           528390020
          ],
          [
           2007,
           531453140
          ],
          [
           2008,
           905226110
          ],
          [
           2006,
           531363080
          ],
          [
           2008,
           527450520
          ],
          [
           2007,
           534252040
          ],
          [
           2009,
           527453140
          ],
          [
           2009,
           531385020
          ],
          [
           2010,
           534151175
          ],
          [
           2006,
           914452060
          ],
          [
           2007,
           535426130
          ],
          [
           2009,
           905200220
          ],
          [
           2007,
           903425280
          ],
          [
           2008,
           527326130
          ],
          [
           2007,
           902105110
          ],
          [
           2009,
           528477050
          ],
          [
           2009,
           909282130
          ],
          [
           2009,
           534402170
          ],
          [
           2006,
           528228340
          ],
          [
           2010,
           911128180
          ],
          [
           2009,
           527404020
          ],
          [
           2010,
           908103350
          ],
          [
           2007,
           527126030
          ],
          [
           2009,
           916475040
          ],
          [
           2010,
           905452110
          ],
          [
           2007,
           533208020
          ],
          [
           2009,
           902103120
          ],
          [
           2009,
           527359180
          ],
          [
           2008,
           535475020
          ],
          [
           2006,
           923227100
          ],
          [
           2006,
           528150090
          ],
          [
           2009,
           914475030
          ],
          [
           2006,
           923225240
          ],
          [
           2006,
           527108060
          ],
          [
           2007,
           528482090
          ],
          [
           2007,
           527358060
          ],
          [
           2008,
           903235100
          ],
          [
           2007,
           903225040
          ],
          [
           2010,
           905453080
          ],
          [
           2008,
           903227080
          ],
          [
           2008,
           908102140
          ],
          [
           2009,
           534275060
          ],
          [
           2009,
           907202080
          ],
          [
           2006,
           532351090
          ],
          [
           2007,
           923226300
          ],
          [
           2009,
           907180130
          ],
          [
           2008,
           907412040
          ],
          [
           2008,
           535456100
          ],
          [
           2006,
           528172020
          ],
          [
           2008,
           907175080
          ],
          [
           2007,
           534427140
          ],
          [
           2007,
           905200010
          ],
          [
           2007,
           528228555
          ],
          [
           2008,
           905300020
          ],
          [
           2006,
           533253030
          ],
          [
           2007,
           923228250
          ],
          [
           2009,
           534128100
          ],
          [
           2007,
           908103090
          ],
          [
           2009,
           531369010
          ],
          [
           2008,
           535426350
          ],
          [
           2006,
           527210050
          ],
          [
           2006,
           923225190
          ],
          [
           2006,
           923228210
          ],
          [
           2006,
           902401090
          ],
          [
           2006,
           528174080
          ],
          [
           2007,
           910200040
          ],
          [
           2008,
           528294060
          ],
          [
           2008,
           902128150
          ],
          [
           2008,
           535451010
          ],
          [
           2007,
           533221060
          ],
          [
           2009,
           535175050
          ],
          [
           2009,
           909451100
          ],
          [
           2010,
           905104210
          ],
          [
           2007,
           907275080
          ],
          [
           2008,
           907285080
          ],
          [
           2009,
           907285050
          ],
          [
           2007,
           528118040
          ],
          [
           2006,
           907255050
          ],
          [
           2009,
           905105190
          ],
          [
           2009,
           923201100
          ],
          [
           2009,
           528120030
          ],
          [
           2009,
           907135170
          ],
          [
           2006,
           535478010
          ],
          [
           2008,
           535180120
          ],
          [
           2009,
           534426110
          ],
          [
           2006,
           535403150
          ],
          [
           2008,
           531376010
          ],
          [
           2008,
           911102170
          ],
          [
           2007,
           905475520
          ],
          [
           2006,
           907175030
          ],
          [
           2008,
           527212050
          ],
          [
           2009,
           902201110
          ],
          [
           2010,
           906201030
          ],
          [
           2006,
           535325130
          ],
          [
           2009,
           533213040
          ],
          [
           2009,
           527352150
          ],
          [
           2008,
           903226060
          ],
          [
           2009,
           923227080
          ],
          [
           2009,
           907252060
          ],
          [
           2006,
           528102010
          ],
          [
           2007,
           533208040
          ],
          [
           2007,
           534128090
          ],
          [
           2008,
           908103260
          ],
          [
           2007,
           903231180
          ],
          [
           2008,
           533206050
          ],
          [
           2009,
           535403280
          ],
          [
           2009,
           907192030
          ],
          [
           2008,
           914465060
          ],
          [
           2009,
           903228120
          ],
          [
           2006,
           903229040
          ],
          [
           2009,
           535101120
          ],
          [
           2010,
           527180040
          ],
          [
           2009,
           902110080
          ],
          [
           2009,
           902405120
          ],
          [
           2006,
           924100070
          ],
          [
           2006,
           903454020
          ],
          [
           2007,
           527110120
          ],
          [
           2008,
           902136110
          ],
          [
           2007,
           907130060
          ],
          [
           2010,
           526350040
          ],
          [
           2009,
           535352090
          ],
          [
           2008,
           907295100
          ],
          [
           2008,
           528431060
          ],
          [
           2010,
           535126040
          ],
          [
           2009,
           534477110
          ],
          [
           2006,
           528222010
          ],
          [
           2007,
           923203010
          ],
          [
           2009,
           535154060
          ],
          [
           2006,
           533125120
          ],
          [
           2008,
           902301150
          ],
          [
           2008,
           533250160
          ],
          [
           2006,
           528106010
          ],
          [
           2007,
           532376040
          ],
          [
           2006,
           535151130
          ],
          [
           2010,
           528240070
          ],
          [
           2007,
           527184020
          ],
          [
           2006,
           907135230
          ],
          [
           2007,
           527402150
          ],
          [
           2006,
           532378070
          ],
          [
           2007,
           910201020
          ],
          [
           2010,
           905103060
          ],
          [
           2009,
           923228110
          ],
          [
           2006,
           904100170
          ],
          [
           2007,
           533242090
          ],
          [
           2009,
           528456180
          ],
          [
           2006,
           907285100
          ],
          [
           2008,
           535104020
          ],
          [
           2007,
           528439040
          ],
          [
           2010,
           908225320
          ],
          [
           2010,
           527216070
          ],
          [
           2008,
           527451290
          ],
          [
           2007,
           907410050
          ],
          [
           2008,
           909254050
          ],
          [
           2008,
           531373060
          ],
          [
           2006,
           534451130
          ],
          [
           2010,
           902206220
          ],
          [
           2009,
           527164020
          ],
          [
           2009,
           527107130
          ],
          [
           2008,
           923225200
          ],
          [
           2007,
           909251030
          ],
          [
           2006,
           907194130
          ],
          [
           2009,
           907250070
          ],
          [
           2006,
           903454080
          ],
          [
           2008,
           534250335
          ],
          [
           2009,
           528108130
          ],
          [
           2007,
           923230010
          ],
          [
           2008,
           909281030
          ],
          [
           2009,
           527451320
          ],
          [
           2009,
           535303110
          ],
          [
           2006,
           528456200
          ],
          [
           2007,
           528120010
          ],
          [
           2009,
           902207170
          ],
          [
           2007,
           923204140
          ],
          [
           2009,
           906223080
          ],
          [
           2006,
           532378050
          ],
          [
           2007,
           906204140
          ],
          [
           2008,
           923202137
          ],
          [
           2010,
           907280040
          ],
          [
           2008,
           528170070
          ],
          [
           2008,
           909451020
          ],
          [
           2008,
           902300260
          ],
          [
           2008,
           911226010
          ],
          [
           2008,
           535375160
          ],
          [
           2009,
           527405160
          ],
          [
           2009,
           534200030
          ],
          [
           2006,
           528186110
          ],
          [
           2008,
           527450110
          ],
          [
           2009,
           528292030
          ],
          [
           2007,
           535177020
          ],
          [
           2006,
           535478110
          ],
          [
           2006,
           528142070
          ],
          [
           2008,
           527276040
          ],
          [
           2007,
           908127070
          ],
          [
           2006,
           908186090
          ],
          [
           2007,
           916403290
          ],
          [
           2009,
           528327070
          ],
          [
           2008,
           535453040
          ],
          [
           2007,
           923276180
          ],
          [
           2006,
           534430110
          ],
          [
           2008,
           907187030
          ],
          [
           2009,
           535383120
          ],
          [
           2008,
           902205070
          ],
          [
           2009,
           535453100
          ],
          [
           2009,
           528488100
          ],
          [
           2009,
           534403370
          ],
          [
           2008,
           535455080
          ],
          [
           2007,
           532479120
          ],
          [
           2009,
           531452260
          ],
          [
           2006,
           528488130
          ],
          [
           2007,
           923229010
          ],
          [
           2010,
           528382020
          ],
          [
           2010,
           914478045
          ],
          [
           2007,
           535478040
          ],
          [
           2009,
           907227080
          ],
          [
           2007,
           532376090
          ],
          [
           2008,
           907196050
          ],
          [
           2008,
           907265100
          ],
          [
           2007,
           528114050
          ],
          [
           2009,
           907260030
          ],
          [
           2008,
           905200510
          ],
          [
           2008,
           527106050
          ],
          [
           2006,
           527325160
          ],
          [
           2009,
           535403190
          ],
          [
           2006,
           907410040
          ],
          [
           2007,
           531384070
          ],
          [
           2007,
           528290170
          ],
          [
           2007,
           903457130
          ],
          [
           2010,
           902402250
          ],
          [
           2007,
           533223050
          ],
          [
           2006,
           527376090
          ],
          [
           2007,
           528168040
          ],
          [
           2009,
           528174070
          ],
          [
           2008,
           527106140
          ],
          [
           2010,
           909281080
          ],
          [
           2008,
           534250410
          ],
          [
           2007,
           907200250
          ],
          [
           2006,
           907200170
          ],
          [
           2010,
           527182190
          ],
          [
           2008,
           528290090
          ],
          [
           2010,
           528228440
          ],
          [
           2007,
           905476225
          ],
          [
           2007,
           907260040
          ],
          [
           2006,
           535376090
          ],
          [
           2006,
           526302040
          ],
          [
           2007,
           528188160
          ],
          [
           2006,
           527451450
          ],
          [
           2007,
           535453150
          ],
          [
           2009,
           907412020
          ],
          [
           2009,
           907252220
          ],
          [
           2007,
           535354260
          ],
          [
           2007,
           910206010
          ],
          [
           2008,
           903232030
          ],
          [
           2008,
           921201060
          ],
          [
           2009,
           535353040
          ],
          [
           2008,
           534427040
          ],
          [
           2010,
           527368020
          ],
          [
           2007,
           905103110
          ],
          [
           2010,
           528477080
          ],
          [
           2008,
           903230120
          ],
          [
           2006,
           906475050
          ],
          [
           2008,
           528429070
          ],
          [
           2007,
           905426010
          ],
          [
           2006,
           528150080
          ],
          [
           2007,
           534450090
          ],
          [
           2006,
           534403440
          ],
          [
           2007,
           905201080
          ],
          [
           2009,
           914476380
          ],
          [
           2006,
           533223110
          ],
          [
           2008,
           534426040
          ],
          [
           2010,
           527358140
          ],
          [
           2008,
           528102030
          ],
          [
           2010,
           905107320
          ],
          [
           2009,
           528228290
          ],
          [
           2006,
           527427210
          ],
          [
           2010,
           909100110
          ],
          [
           2006,
           528228415
          ],
          [
           2007,
           909281130
          ],
          [
           2008,
           907202240
          ],
          [
           2007,
           903400040
          ],
          [
           2006,
           532351060
          ],
          [
           2010,
           532377100
          ],
          [
           2008,
           527325240
          ],
          [
           2009,
           528390210
          ],
          [
           2008,
           532354150
          ],
          [
           2008,
           903452025
          ],
          [
           2009,
           528456240
          ],
          [
           2008,
           534225120
          ],
          [
           2007,
           906382060
          ],
          [
           2009,
           528166060
          ],
          [
           2007,
           533253180
          ],
          [
           2008,
           528315110
          ],
          [
           2008,
           535150280
          ],
          [
           2010,
           902305110
          ],
          [
           2007,
           907125040
          ],
          [
           2008,
           910203020
          ],
          [
           2008,
           528363020
          ],
          [
           2006,
           923202025
          ],
          [
           2006,
           528429100
          ],
          [
           2007,
           533236040
          ],
          [
           2007,
           535151110
          ],
          [
           2007,
           905377020
          ],
          [
           2008,
           903401020
          ],
          [
           2009,
           906230010
          ],
          [
           2007,
           534479140
          ],
          [
           2009,
           909253180
          ],
          [
           2006,
           531379030
          ],
          [
           2006,
           907227090
          ],
          [
           2006,
           909282110
          ],
          [
           2008,
           528166120
          ],
          [
           2008,
           914467050
          ],
          [
           2006,
           905427140
          ],
          [
           2008,
           527165010
          ],
          [
           2009,
           527359050
          ],
          [
           2007,
           535180030
          ],
          [
           2008,
           902427150
          ],
          [
           2009,
           905451300
          ],
          [
           2006,
           903233100
          ],
          [
           2007,
           902301030
          ],
          [
           2006,
           534275010
          ],
          [
           2007,
           908152070
          ],
          [
           2007,
           905104090
          ],
          [
           2006,
           535375040
          ],
          [
           2007,
           907202220
          ],
          [
           2008,
           907227050
          ],
          [
           2006,
           535382020
          ],
          [
           2008,
           905403060
          ],
          [
           2009,
           531376090
          ],
          [
           2008,
           535427070
          ],
          [
           2010,
           923228270
          ],
          [
           2008,
           528228445
          ],
          [
           2006,
           907125020
          ],
          [
           2007,
           533206060
          ],
          [
           2006,
           528275060
          ],
          [
           2007,
           534403290
          ],
          [
           2009,
           526351100
          ],
          [
           2006,
           534201300
          ],
          [
           2006,
           527105060
          ],
          [
           2006,
           904302020
          ],
          [
           2008,
           527107210
          ],
          [
           2007,
           534425080
          ],
          [
           2007,
           528354110
          ],
          [
           2008,
           907290250
          ],
          [
           2006,
           528480150
          ],
          [
           2010,
           534427010
          ],
          [
           2010,
           905106140
          ],
          [
           2007,
           914452120
          ],
          [
           2007,
           907250050
          ],
          [
           2007,
           909425140
          ],
          [
           2008,
           535301080
          ],
          [
           2007,
           534125120
          ],
          [
           2007,
           528186090
          ],
          [
           2008,
           533236070
          ],
          [
           2008,
           903228060
          ],
          [
           2007,
           528351010
          ],
          [
           2009,
           916403200
          ],
          [
           2007,
           905401020
          ],
          [
           2009,
           535382100
          ],
          [
           2007,
           905476170
          ],
          [
           2009,
           527364030
          ],
          [
           2007,
           526355190
          ],
          [
           2007,
           916226090
          ],
          [
           2010,
           533223020
          ],
          [
           2010,
           908275300
          ],
          [
           2007,
           527451170
          ],
          [
           2008,
           907425015
          ],
          [
           2006,
           923276100
          ],
          [
           2006,
           909276010
          ],
          [
           2010,
           528176070
          ],
          [
           2008,
           907412080
          ],
          [
           2009,
           923400110
          ],
          [
           2007,
           923229100
          ],
          [
           2007,
           903233180
          ],
          [
           2007,
           528231030
          ],
          [
           2006,
           909254070
          ],
          [
           2009,
           527455060
          ],
          [
           2007,
           534478140
          ],
          [
           2006,
           905108120
          ],
          [
           2009,
           905377130
          ],
          [
           2006,
           905201090
          ],
          [
           2009,
           905480210
          ],
          [
           2009,
           534278070
          ],
          [
           2009,
           527368010
          ],
          [
           2008,
           528188090
          ],
          [
           2010,
           535180130
          ],
          [
           2010,
           533210060
          ],
          [
           2007,
           527359010
          ],
          [
           2010,
           533130130
          ],
          [
           2009,
           531371050
          ],
          [
           2007,
           535354050
          ],
          [
           2009,
           902106010
          ],
          [
           2009,
           533213020
          ],
          [
           2009,
           528456220
          ],
          [
           2009,
           907227290
          ],
          [
           2009,
           528186010
          ],
          [
           2007,
           905104240
          ],
          [
           2006,
           906426090
          ],
          [
           2006,
           902301120
          ],
          [
           2009,
           902101010
          ],
          [
           2007,
           527450030
          ],
          [
           2010,
           535175070
          ],
          [
           2009,
           528108070
          ],
          [
           2007,
           909281020
          ],
          [
           2007,
           533213140
          ],
          [
           2007,
           535302070
          ],
          [
           2009,
           905480030
          ],
          [
           2008,
           907200110
          ],
          [
           2006,
           907275030
          ],
          [
           2007,
           907203110
          ],
          [
           2009,
           527127100
          ],
          [
           2009,
           528431020
          ],
          [
           2007,
           535379060
          ],
          [
           2007,
           903205085
          ],
          [
           2009,
           531450120
          ],
          [
           2007,
           902205130
          ],
          [
           2010,
           904100140
          ],
          [
           2007,
           923229140
          ],
          [
           2006,
           903456060
          ],
          [
           2008,
           528431120
          ],
          [
           2006,
           905107220
          ],
          [
           2009,
           903458170
          ],
          [
           2007,
           534202030
          ],
          [
           2008,
           527127140
          ],
          [
           2007,
           535101150
          ],
          [
           2006,
           535402070
          ],
          [
           2010,
           902403070
          ],
          [
           2009,
           528477070
          ],
          [
           2007,
           908127100
          ],
          [
           2009,
           902301080
          ],
          [
           2009,
           903475100
          ],
          [
           2008,
           903226150
          ],
          [
           2006,
           902207080
          ],
          [
           2010,
           535450210
          ],
          [
           2010,
           535153070
          ],
          [
           2007,
           905105170
          ],
          [
           2006,
           907290080
          ],
          [
           2008,
           526354070
          ],
          [
           2007,
           903458060
          ],
          [
           2007,
           532479050
          ],
          [
           2007,
           527427090
          ],
          [
           2010,
           905109170
          ],
          [
           2008,
           905479110
          ],
          [
           2007,
           907187040
          ],
          [
           2009,
           909451040
          ],
          [
           2009,
           905475160
          ],
          [
           2008,
           534250370
          ],
          [
           2009,
           905377010
          ],
          [
           2010,
           908208020
          ],
          [
           2009,
           531479020
          ],
          [
           2010,
           909428280
          ],
          [
           2010,
           535454070
          ],
          [
           2006,
           535304020
          ],
          [
           2008,
           527131110
          ],
          [
           2006,
           534403280
          ],
          [
           2007,
           527107040
          ],
          [
           2007,
           907270040
          ],
          [
           2008,
           903455140
          ],
          [
           2007,
           907180040
          ],
          [
           2009,
           528106020
          ],
          [
           2010,
           528228285
          ],
          [
           2006,
           907262080
          ],
          [
           2006,
           923225260
          ],
          [
           2009,
           535383060
          ],
          [
           2009,
           527453050
          ],
          [
           2006,
           527107030
          ],
          [
           2007,
           903236130
          ],
          [
           2010,
           534450180
          ],
          [
           2006,
           528275080
          ],
          [
           2007,
           909428340
          ],
          [
           2007,
           528441080
          ],
          [
           2009,
           527105130
          ],
          [
           2006,
           907175060
          ],
          [
           2007,
           908228010
          ],
          [
           2007,
           905480180
          ],
          [
           2008,
           534201240
          ],
          [
           2009,
           528441020
          ],
          [
           2009,
           527164090
          ],
          [
           2008,
           909277070
          ],
          [
           2008,
           534400060
          ],
          [
           2009,
           907290210
          ],
          [
           2008,
           906204150
          ],
          [
           2007,
           531451150
          ],
          [
           2007,
           528181080
          ],
          [
           2007,
           535106140
          ],
          [
           2006,
           533241010
          ],
          [
           2007,
           534276180
          ],
          [
           2010,
           527163010
          ],
          [
           2008,
           907194020
          ],
          [
           2006,
           907187010
          ],
          [
           2009,
           908151050
          ],
          [
           2009,
           528102140
          ],
          [
           2009,
           534125080
          ],
          [
           2009,
           528321010
          ],
          [
           2010,
           914475090
          ],
          [
           2006,
           534451120
          ],
          [
           2008,
           902202090
          ],
          [
           2006,
           909131125
          ],
          [
           2010,
           909427230
          ],
          [
           2009,
           909475040
          ],
          [
           2006,
           533242030
          ],
          [
           2009,
           528120170
          ],
          [
           2007,
           902100010
          ],
          [
           2008,
           535179060
          ],
          [
           2007,
           534276070
          ],
          [
           2006,
           905452140
          ],
          [
           2009,
           528387030
          ],
          [
           2009,
           534277090
          ],
          [
           2008,
           534104100
          ],
          [
           2008,
           902207220
          ],
          [
           2008,
           902300215
          ],
          [
           2007,
           534176140
          ],
          [
           2007,
           902128160
          ],
          [
           2010,
           527451180
          ],
          [
           2009,
           905402070
          ],
          [
           2009,
           916382110
          ],
          [
           2010,
           534176060
          ],
          [
           2010,
           527302110
          ],
          [
           2007,
           909425270
          ],
          [
           2007,
           527404050
          ],
          [
           2008,
           905480150
          ],
          [
           2007,
           903231090
          ],
          [
           2008,
           531375120
          ],
          [
           2009,
           906201021
          ],
          [
           2008,
           531371070
          ],
          [
           2009,
           528390100
          ],
          [
           2007,
           906200230
          ],
          [
           2009,
           907420040
          ],
          [
           2008,
           916402215
          ],
          [
           2010,
           907200290
          ],
          [
           2006,
           908225180
          ],
          [
           2009,
           906380050
          ],
          [
           2007,
           535450190
          ],
          [
           2006,
           528315030
          ],
          [
           2006,
           535103070
          ],
          [
           2010,
           905202090
          ],
          [
           2009,
           907192090
          ],
          [
           2007,
           527158090
          ],
          [
           2007,
           916326040
          ],
          [
           2007,
           534403040
          ],
          [
           2009,
           528220040
          ],
          [
           2009,
           907201280
          ],
          [
           2008,
           528235180
          ],
          [
           2006,
           528231050
          ],
          [
           2008,
           907425010
          ],
          [
           2006,
           905103180
          ],
          [
           2009,
           528228450
          ],
          [
           2008,
           906380030
          ],
          [
           2010,
           528445060
          ],
          [
           2008,
           909252110
          ],
          [
           2009,
           909179020
          ],
          [
           2009,
           909251050
          ],
          [
           2009,
           903231010
          ],
          [
           2009,
           528142090
          ],
          [
           2010,
           907200280
          ],
          [
           2008,
           528477040
          ],
          [
           2008,
           903206070
          ],
          [
           2008,
           909428190
          ],
          [
           2009,
           528112040
          ],
          [
           2009,
           528142040
          ],
          [
           2009,
           902106060
          ],
          [
           2009,
           527375100
          ],
          [
           2009,
           527105070
          ],
          [
           2009,
           909277090
          ],
          [
           2007,
           527110130
          ],
          [
           2009,
           527375210
          ],
          [
           2008,
           533215030
          ],
          [
           2010,
           906378100
          ],
          [
           2007,
           527325090
          ],
          [
           2010,
           526301100
          ],
          [
           2008,
           535178060
          ],
          [
           2006,
           903430090
          ],
          [
           2009,
           534402140
          ],
          [
           2007,
           908225240
          ],
          [
           2009,
           534451110
          ],
          [
           2010,
           914467040
          ],
          [
           2009,
           527451110
          ],
          [
           2007,
           907262020
          ],
          [
           2006,
           527376110
          ],
          [
           2009,
           904301375
          ],
          [
           2008,
           905352070
          ],
          [
           2008,
           527145090
          ],
          [
           2007,
           902427180
          ],
          [
           2010,
           903476030
          ],
          [
           2008,
           534400030
          ],
          [
           2008,
           533213120
          ],
          [
           2008,
           528290010
          ],
          [
           2007,
           907420060
          ],
          [
           2008,
           907260010
          ],
          [
           2007,
           906201200
          ],
          [
           2007,
           906382020
          ],
          [
           2010,
           532376160
          ],
          [
           2009,
           910202070
          ],
          [
           2007,
           528150120
          ],
          [
           2006,
           902101050
          ],
          [
           2006,
           909250070
          ],
          [
           2009,
           535476240
          ],
          [
           2008,
           528228405
          ],
          [
           2008,
           905202230
          ],
          [
           2007,
           527210060
          ],
          [
           2009,
           528228460
          ],
          [
           2010,
           528112020
          ],
          [
           2009,
           528290180
          ],
          [
           2006,
           907254050
          ],
          [
           2008,
           904100040
          ],
          [
           2006,
           534126060
          ],
          [
           2009,
           535402010
          ],
          [
           2008,
           534403080
          ],
          [
           2010,
           532351140
          ],
          [
           2007,
           903426010
          ],
          [
           2010,
           531367050
          ],
          [
           2007,
           533213130
          ],
          [
           2010,
           907185060
          ],
          [
           2006,
           905427010
          ],
          [
           2007,
           908102100
          ],
          [
           2010,
           527145080
          ],
          [
           2006,
           534250300
          ],
          [
           2007,
           905301050
          ],
          [
           2006,
           534202180
          ],
          [
           2008,
           531450170
          ],
          [
           2006,
           533212120
          ],
          [
           2008,
           902109120
          ],
          [
           2007,
           535450310
          ],
          [
           2008,
           903201030
          ],
          [
           2008,
           533236060
          ],
          [
           2010,
           908102130
          ],
          [
           2010,
           905105070
          ],
          [
           2007,
           533241030
          ],
          [
           2006,
           923228260
          ],
          [
           2008,
           534204030
          ],
          [
           2010,
           535477020
          ],
          [
           2008,
           907192130
          ],
          [
           2009,
           534151120
          ],
          [
           2010,
           908102170
          ],
          [
           2006,
           907401050
          ],
          [
           2009,
           902105060
          ],
          [
           2010,
           534431050
          ],
          [
           2006,
           528344060
          ],
          [
           2010,
           909452114
          ],
          [
           2010,
           909455040
          ],
          [
           2008,
           534276190
          ],
          [
           2008,
           907253060
          ],
          [
           2006,
           902329090
          ],
          [
           2008,
           527453160
          ],
          [
           2008,
           903233080
          ],
          [
           2008,
           528292060
          ],
          [
           2007,
           909256120
          ],
          [
           2008,
           906223220
          ],
          [
           2008,
           535153150
          ],
          [
           2007,
           527163080
          ],
          [
           2009,
           907414080
          ],
          [
           2007,
           527402090
          ],
          [
           2008,
           535426260
          ],
          [
           2007,
           528322020
          ],
          [
           2007,
           908152180
          ],
          [
           2008,
           909131170
          ],
          [
           2006,
           527146135
          ],
          [
           2006,
           907255010
          ],
          [
           2006,
           528142110
          ],
          [
           2009,
           533223030
          ],
          [
           2007,
           907131120
          ],
          [
           2006,
           534201130
          ],
          [
           2007,
           528366050
          ],
          [
           2007,
           528340030
          ],
          [
           2008,
           903475020
          ],
          [
           2007,
           908152290
          ],
          [
           2008,
           527163100
          ],
          [
           2008,
           916477020
          ],
          [
           2006,
           535456010
          ],
          [
           2009,
           534129080
          ],
          [
           2010,
           535101020
          ],
          [
           2006,
           528320060
          ],
          [
           2009,
           903234220
          ],
          [
           2008,
           911370520
          ],
          [
           2007,
           528218020
          ],
          [
           2006,
           902325050
          ],
          [
           2008,
           905427070
          ],
          [
           2006,
           907252050
          ],
          [
           2009,
           907253130
          ],
          [
           2009,
           903429080
          ],
          [
           2008,
           527451060
          ],
          [
           2008,
           907418040
          ],
          [
           2008,
           911226030
          ],
          [
           2006,
           535402230
          ],
          [
           2010,
           527427230
          ],
          [
           2007,
           903204030
          ],
          [
           2009,
           923225360
          ],
          [
           2006,
           903202120
          ],
          [
           2009,
           527455050
          ],
          [
           2006,
           903231190
          ],
          [
           2007,
           528275110
          ],
          [
           2006,
           906202040
          ],
          [
           2010,
           528382030
          ],
          [
           2007,
           907200190
          ],
          [
           2010,
           531451110
          ],
          [
           2009,
           906340130
          ],
          [
           2009,
           923400025
          ],
          [
           2009,
           528480130
          ],
          [
           2008,
           534277070
          ],
          [
           2007,
           907203060
          ],
          [
           2008,
           528480160
          ],
          [
           2007,
           907135050
          ],
          [
           2009,
           916403010
          ],
          [
           2008,
           528482020
          ],
          [
           2010,
           905451320
          ],
          [
           2008,
           907135260
          ],
          [
           2009,
           527455280
          ],
          [
           2008,
           527451400
          ],
          [
           2009,
           528290030
          ],
          [
           2007,
           535154080
          ],
          [
           2009,
           909276110
          ],
          [
           2008,
           914476010
          ],
          [
           2006,
           535451210
          ],
          [
           2008,
           916402115
          ],
          [
           2006,
           527375160
          ],
          [
           2008,
           527252080
          ],
          [
           2008,
           916380060
          ],
          [
           2008,
           533125080
          ],
          [
           2008,
           908275180
          ],
          [
           2007,
           528348030
          ],
          [
           2007,
           907252190
          ],
          [
           2006,
           527190220
          ],
          [
           2007,
           534425015
          ],
          [
           2009,
           528172060
          ],
          [
           2007,
           909455060
          ],
          [
           2008,
           527164120
          ],
          [
           2008,
           534477270
          ],
          [
           2008,
           527105050
          ],
          [
           2006,
           906394040
          ],
          [
           2010,
           902206240
          ],
          [
           2009,
           909253010
          ],
          [
           2007,
           909279080
          ],
          [
           2010,
           907290040
          ],
          [
           2007,
           535457020
          ],
          [
           2006,
           902204120
          ],
          [
           2009,
           535301170
          ],
          [
           2009,
           923228230
          ],
          [
           2009,
           923202060
          ],
          [
           2010,
           904302260
          ],
          [
           2006,
           909275250
          ],
          [
           2006,
           531452080
          ],
          [
           2010,
           528138020
          ],
          [
           2006,
           905101330
          ],
          [
           2010,
           916475110
          ],
          [
           2009,
           534128020
          ],
          [
           2009,
           909475300
          ],
          [
           2006,
           527358090
          ],
          [
           2006,
           909250120
          ],
          [
           2007,
           909254150
          ],
          [
           2006,
           905202190
          ],
          [
           2009,
           527353060
          ],
          [
           2007,
           905478220
          ],
          [
           2006,
           902456015
          ],
          [
           2008,
           916402015
          ],
          [
           2006,
           905426100
          ],
          [
           2007,
           923228220
          ],
          [
           2006,
           527182020
          ],
          [
           2009,
           528175060
          ],
          [
           2009,
           909451180
          ],
          [
           2008,
           908102040
          ],
          [
           2008,
           903230110
          ],
          [
           2009,
           906223210
          ],
          [
           2006,
           527377030
          ],
          [
           2009,
           905101260
          ],
          [
           2010,
           903426180
          ],
          [
           2007,
           916475020
          ],
          [
           2006,
           905200490
          ],
          [
           2008,
           905401045
          ],
          [
           2008,
           902205090
          ],
          [
           2007,
           910205130
          ],
          [
           2008,
           528280130
          ],
          [
           2009,
           534127130
          ],
          [
           2010,
           526353030
          ],
          [
           2008,
           903481100
          ],
          [
           2008,
           535402120
          ],
          [
           2008,
           527302210
          ],
          [
           2006,
           532378130
          ],
          [
           2007,
           902301130
          ],
          [
           2009,
           902103100
          ],
          [
           2009,
           535454100
          ],
          [
           2008,
           909250040
          ],
          [
           2009,
           902325070
          ],
          [
           2008,
           533125140
          ],
          [
           2009,
           924100060
          ],
          [
           2008,
           533251120
          ],
          [
           2009,
           907414020
          ],
          [
           2007,
           535451110
          ],
          [
           2008,
           535302130
          ],
          [
           2006,
           905402110
          ],
          [
           2006,
           534175100
          ],
          [
           2009,
           527164060
          ],
          [
           2006,
           907270050
          ],
          [
           2009,
           528178010
          ],
          [
           2009,
           907200230
          ],
          [
           2007,
           527162090
          ],
          [
           2006,
           527450460
          ],
          [
           2006,
           528106120
          ],
          [
           2006,
           528294070
          ],
          [
           2008,
           535455090
          ],
          [
           2007,
           535176070
          ],
          [
           2008,
           902405070
          ],
          [
           2006,
           535478090
          ],
          [
           2009,
           907202130
          ],
          [
           2008,
           902100030
          ],
          [
           2009,
           902105050
          ],
          [
           2008,
           534252270
          ],
          [
           2007,
           532377050
          ],
          [
           2007,
           534177210
          ],
          [
           2007,
           533221030
          ],
          [
           2006,
           909175030
          ],
          [
           2006,
           528164040
          ],
          [
           2007,
           527402240
          ],
          [
           2007,
           528181070
          ],
          [
           2010,
           535152130
          ],
          [
           2007,
           535353160
          ],
          [
           2008,
           907420080
          ],
          [
           2009,
           907410130
          ],
          [
           2010,
           534403410
          ],
          [
           2007,
           533205110
          ],
          [
           2010,
           907262050
          ],
          [
           2009,
           902405100
          ],
          [
           2008,
           534251280
          ],
          [
           2010,
           533205060
          ],
          [
           2007,
           907405130
          ],
          [
           2010,
           924100050
          ],
          [
           2008,
           923225370
          ],
          [
           2009,
           906203120
          ],
          [
           2009,
           903400220
          ],
          [
           2006,
           911370530
          ],
          [
           2008,
           528235120
          ],
          [
           2007,
           532477040
          ],
          [
           2006,
           528228430
          ],
          [
           2008,
           527357110
          ],
          [
           2007,
           907202100
          ],
          [
           2006,
           534127190
          ],
          [
           2009,
           535125070
          ],
          [
           2010,
           535401080
          ],
          [
           2006,
           534403400
          ],
          [
           2006,
           908188150
          ],
          [
           2007,
           527427160
          ],
          [
           2007,
           528326060
          ],
          [
           2007,
           531385130
          ],
          [
           2009,
           906230030
          ],
          [
           2009,
           906426210
          ],
          [
           2009,
           527162110
          ],
          [
           2010,
           527276150
          ],
          [
           2006,
           907201230
          ],
          [
           2008,
           905104110
          ],
          [
           2007,
           914476330
          ],
          [
           2006,
           907290160
          ],
          [
           2006,
           907125080
          ],
          [
           2006,
           908188110
          ],
          [
           2006,
           528172150
          ],
          [
           2010,
           535350040
          ],
          [
           2008,
           535302140
          ],
          [
           2009,
           528108010
          ],
          [
           2009,
           531375090
          ],
          [
           2008,
           526353050
          ],
          [
           2008,
           909276170
          ],
          [
           2009,
           528228295
          ],
          [
           2009,
           907202050
          ],
          [
           2006,
           905107240
          ],
          [
           2007,
           535305180
          ],
          [
           2010,
           531453040
          ],
          [
           2008,
           923277040
          ],
          [
           2007,
           528435070
          ],
          [
           2008,
           527454120
          ],
          [
           2007,
           923228290
          ],
          [
           2009,
           903451090
          ],
          [
           2007,
           527354050
          ],
          [
           2010,
           526351010
          ],
          [
           2008,
           908128110
          ],
          [
           2008,
           905427050
          ],
          [
           2009,
           923230200
          ],
          [
           2006,
           528228565
          ],
          [
           2007,
           906402070
          ],
          [
           2009,
           528431070
          ],
          [
           2009,
           532378120
          ],
          [
           2006,
           907290020
          ],
          [
           2006,
           905106210
          ],
          [
           2007,
           534276290
          ],
          [
           2009,
           528458140
          ],
          [
           2007,
           903453080
          ],
          [
           2007,
           910203290
          ],
          [
           2006,
           534226060
          ],
          [
           2007,
           534178010
          ],
          [
           2007,
           907401060
          ],
          [
           2006,
           911225110
          ],
          [
           2009,
           908250030
          ],
          [
           2006,
           909281010
          ],
          [
           2009,
           914475010
          ],
          [
           2007,
           923225050
          ],
          [
           2010,
           916455170
          ],
          [
           2008,
           534451170
          ],
          [
           2009,
           909175080
          ],
          [
           2010,
           906225210
          ],
          [
           2008,
           903234090
          ],
          [
           2008,
           907251090
          ],
          [
           2009,
           905475500
          ],
          [
           2009,
           528458180
          ],
          [
           2007,
           909252170
          ],
          [
           2010,
           906425045
          ],
          [
           2010,
           903228150
          ],
          [
           2009,
           534400050
          ],
          [
           2007,
           914452090
          ],
          [
           2008,
           528326030
          ],
          [
           2008,
           905402090
          ],
          [
           2007,
           907227060
          ],
          [
           2007,
           905102010
          ],
          [
           2008,
           907255020
          ],
          [
           2009,
           528315090
          ],
          [
           2007,
           528482010
          ],
          [
           2007,
           535304170
          ],
          [
           2007,
           528174030
          ],
          [
           2009,
           535402330
          ],
          [
           2009,
           903226170
          ],
          [
           2009,
           911104060
          ],
          [
           2007,
           906403060
          ],
          [
           2006,
           908102320
          ],
          [
           2006,
           535454050
          ],
          [
           2007,
           909276210
          ],
          [
           2008,
           528250030
          ],
          [
           2009,
           531375130
          ],
          [
           2008,
           907201060
          ],
          [
           2008,
           527208010
          ],
          [
           2009,
           902402150
          ],
          [
           2007,
           528174010
          ],
          [
           2010,
           903233120
          ],
          [
           2008,
           528490080
          ],
          [
           2008,
           527357180
          ],
          [
           2010,
           532354090
          ],
          [
           2009,
           527354200
          ],
          [
           2007,
           903233050
          ],
          [
           2009,
           535378020
          ],
          [
           2007,
           528250070
          ],
          [
           2009,
           535353240
          ],
          [
           2009,
           528240060
          ],
          [
           2008,
           903228040
          ],
          [
           2007,
           533252130
          ],
          [
           2009,
           535325290
          ],
          [
           2010,
           907401090
          ],
          [
           2009,
           908225290
          ],
          [
           2006,
           905200290
          ],
          [
           2007,
           535179120
          ],
          [
           2008,
           905103030
          ],
          [
           2008,
           907262060
          ],
          [
           2007,
           909254090
          ],
          [
           2008,
           909175100
          ],
          [
           2010,
           923276250
          ],
          [
           2008,
           527401130
          ],
          [
           2007,
           534201040
          ],
          [
           2008,
           908127120
          ],
          [
           2007,
           905105260
          ],
          [
           2009,
           904351200
          ],
          [
           2006,
           902207110
          ],
          [
           2006,
           902100110
          ],
          [
           2008,
           902105010
          ],
          [
           2006,
           909426060
          ],
          [
           2010,
           534401140
          ],
          [
           2007,
           527377110
          ],
          [
           2009,
           908102290
          ],
          [
           2010,
           907252120
          ],
          [
           2009,
           535451170
          ],
          [
           2009,
           903425245
          ],
          [
           2007,
           902107050
          ],
          [
           2009,
           531477020
          ],
          [
           2008,
           905104180
          ],
          [
           2008,
           909177120
          ],
          [
           2007,
           528228375
          ],
          [
           2007,
           906475170
          ],
          [
           2010,
           534451150
          ],
          [
           2009,
           535375010
          ],
          [
           2010,
           909455030
          ],
          [
           2009,
           528354050
          ],
          [
           2006,
           534455080
          ],
          [
           2007,
           903201090
          ],
          [
           2006,
           910226060
          ],
          [
           2008,
           916125425
          ],
          [
           2006,
           534128210
          ],
          [
           2010,
           528328100
          ],
          [
           2008,
           903429010
          ],
          [
           2008,
           531384030
          ],
          [
           2009,
           528110020
          ],
          [
           2008,
           532351050
          ],
          [
           2006,
           527328010
          ],
          [
           2007,
           902201090
          ],
          [
           2006,
           534127270
          ],
          [
           2009,
           531379050
          ],
          [
           2007,
           907135080
          ],
          [
           2007,
           908152280
          ],
          [
           2007,
           905106150
          ],
          [
           2009,
           527454050
          ],
          [
           2009,
           923276260
          ],
          [
           2006,
           533223010
          ],
          [
           2007,
           534475170
          ],
          [
           2010,
           533212020
          ],
          [
           2006,
           535180020
          ],
          [
           2006,
           527403120
          ],
          [
           2007,
           528376010
          ],
          [
           2007,
           527252050
          ],
          [
           2007,
           533221100
          ],
          [
           2006,
           528250060
          ],
          [
           2009,
           535378120
          ],
          [
           2008,
           903427090
          ],
          [
           2006,
           528488120
          ],
          [
           2008,
           910206110
          ],
          [
           2010,
           905107110
          ],
          [
           2007,
           902401030
          ],
          [
           2008,
           527106150
          ],
          [
           2007,
           534430090
          ],
          [
           2008,
           923225150
          ],
          [
           2007,
           909475230
          ],
          [
           2007,
           908152060
          ],
          [
           2010,
           905426200
          ],
          [
           2006,
           909103020
          ],
          [
           2009,
           902330040
          ],
          [
           2009,
           908152035
          ],
          [
           2009,
           528292040
          ],
          [
           2006,
           534276010
          ],
          [
           2007,
           534175010
          ],
          [
           2007,
           909252150
          ],
          [
           2007,
           905228020
          ],
          [
           2008,
           535180100
          ],
          [
           2007,
           923252080
          ],
          [
           2006,
           906392100
          ],
          [
           2009,
           907194010
          ],
          [
           2006,
           535402100
          ],
          [
           2006,
           902329070
          ],
          [
           2006,
           903234030
          ],
          [
           2007,
           533130170
          ],
          [
           2009,
           534275100
          ],
          [
           2006,
           527158020
          ],
          [
           2008,
           909100170
          ],
          [
           2008,
           527107010
          ],
          [
           2009,
           532378180
          ],
          [
           2007,
           534479120
          ],
          [
           2006,
           923203100
          ],
          [
           2006,
           902128100
          ],
          [
           2008,
           528172080
          ],
          [
           2007,
           528172050
          ],
          [
           2009,
           528344100
          ],
          [
           2007,
           905226130
          ],
          [
           2007,
           907135180
          ],
          [
           2010,
           907180050
          ],
          [
           2009,
           909252020
          ],
          [
           2007,
           534276160
          ],
          [
           2010,
           527225035
          ],
          [
           2006,
           923229110
          ],
          [
           2009,
           528240030
          ],
          [
           2007,
           526352080
          ],
          [
           2010,
           534476260
          ],
          [
           2010,
           905352140
          ],
          [
           2008,
           531382090
          ],
          [
           2010,
           902329030
          ],
          [
           2009,
           535303150
          ],
          [
           2008,
           911370540
          ],
          [
           2008,
           535176100
          ],
          [
           2006,
           535457070
          ],
          [
           2009,
           909250220
          ],
          [
           2009,
           534450150
          ],
          [
           2009,
           528290190
          ],
          [
           2008,
           902109080
          ],
          [
           2007,
           527453010
          ],
          [
           2006,
           903430130
          ],
          [
           2010,
           902206040
          ],
          [
           2009,
           528292070
          ],
          [
           2006,
           533223080
          ],
          [
           2008,
           535153140
          ],
          [
           2009,
           528221070
          ],
          [
           2009,
           533352150
          ],
          [
           2007,
           528327060
          ],
          [
           2007,
           528354060
          ],
          [
           2009,
           905452040
          ],
          [
           2008,
           527425035
          ],
          [
           2008,
           535455060
          ],
          [
           2009,
           905225090
          ],
          [
           2010,
           528344070
          ],
          [
           2008,
           527161010
          ],
          [
           2010,
           535125010
          ],
          [
           2010,
           531451280
          ],
          [
           2007,
           528290060
          ],
          [
           2007,
           906203140
          ],
          [
           2006,
           902108060
          ],
          [
           2010,
           533212010
          ],
          [
           2009,
           527450280
          ],
          [
           2007,
           532354060
          ],
          [
           2008,
           908250040
          ],
          [
           2006,
           907202140
          ],
          [
           2008,
           906223140
          ],
          [
           2006,
           903236200
          ],
          [
           2010,
           534276360
          ],
          [
           2008,
           907425035
          ],
          [
           2010,
           528458110
          ],
          [
           2010,
           923225390
          ],
          [
           2008,
           903225050
          ],
          [
           2009,
           909451140
          ],
          [
           2009,
           906340110
          ],
          [
           2009,
           902331010
          ],
          [
           2007,
           909275160
          ],
          [
           2006,
           527163020
          ],
          [
           2009,
           535383110
          ],
          [
           2007,
           921205070
          ],
          [
           2007,
           902207150
          ],
          [
           2009,
           534252240
          ],
          [
           2007,
           909250150
          ],
          [
           2006,
           907131070
          ],
          [
           2008,
           534477090
          ],
          [
           2006,
           527451460
          ],
          [
           2007,
           909275310
          ],
          [
           2008,
           535476370
          ],
          [
           2007,
           527427200
          ],
          [
           2010,
           903430080
          ],
          [
           2007,
           907252020
          ],
          [
           2007,
           909252010
          ],
          [
           2010,
           905378040
          ],
          [
           2008,
           907187080
          ],
          [
           2010,
           527452190
          ],
          [
           2009,
           908225370
          ],
          [
           2009,
           906201050
          ],
          [
           2009,
           907131190
          ],
          [
           2010,
           533352170
          ],
          [
           2008,
           903484020
          ],
          [
           2010,
           535106190
          ],
          [
           2006,
           528439030
          ],
          [
           2007,
           527404140
          ],
          [
           2009,
           907275090
          ],
          [
           2007,
           906394020
          ],
          [
           2010,
           535152010
          ],
          [
           2010,
           531369060
          ],
          [
           2009,
           534127170
          ],
          [
           2007,
           527451020
          ],
          [
           2007,
           903458020
          ],
          [
           2006,
           528315080
          ],
          [
           2009,
           535175030
          ],
          [
           2008,
           906204280
          ],
          [
           2006,
           534202020
          ],
          [
           2006,
           527250040
          ],
          [
           2006,
           908188140
          ],
          [
           2006,
           535425050
          ],
          [
           2006,
           527106010
          ],
          [
           2007,
           528280110
          ],
          [
           2010,
           527166040
          ],
          [
           2009,
           908102050
          ],
          [
           2006,
           904100030
          ],
          [
           2007,
           905480090
          ],
          [
           2009,
           914465055
          ],
          [
           2010,
           909176140
          ],
          [
           2006,
           535477060
          ],
          [
           2007,
           527455030
          ],
          [
           2008,
           528188150
          ],
          [
           2009,
           528490040
          ],
          [
           2008,
           527302050
          ],
          [
           2010,
           902402130
          ],
          [
           2008,
           528354100
          ],
          [
           2008,
           902109110
          ],
          [
           2010,
           907290170
          ],
          [
           2007,
           903476100
          ],
          [
           2007,
           527212060
          ],
          [
           2008,
           534126090
          ],
          [
           2006,
           909276070
          ],
          [
           2006,
           909276070
          ],
          [
           2007,
           534278190
          ],
          [
           2007,
           534204120
          ],
          [
           2006,
           535425040
          ],
          [
           2008,
           907202160
          ],
          [
           2009,
           903227070
          ],
          [
           2008,
           531375050
          ],
          [
           2008,
           535375140
          ],
          [
           2006,
           534201230
          ],
          [
           2009,
           906380100
          ],
          [
           2007,
           535106180
          ],
          [
           2006,
           535177100
          ],
          [
           2007,
           531363040
          ],
          [
           2009,
           909275080
          ],
          [
           2008,
           910202050
          ],
          [
           2008,
           907196040
          ],
          [
           2010,
           528180070
          ],
          [
           2006,
           527451380
          ],
          [
           2010,
           534152100
          ],
          [
           2007,
           534252070
          ],
          [
           2006,
           528290140
          ],
          [
           2006,
           527404180
          ],
          [
           2009,
           904100190
          ],
          [
           2006,
           908228040
          ],
          [
           2010,
           902104060
          ],
          [
           2009,
           527455090
          ],
          [
           2007,
           528112150
          ],
          [
           2010,
           534430080
          ],
          [
           2007,
           905101070
          ],
          [
           2007,
           531451030
          ],
          [
           2009,
           923225490
          ],
          [
           2008,
           531385060
          ],
          [
           2009,
           907290070
          ],
          [
           2006,
           908188120
          ],
          [
           2009,
           907181100
          ],
          [
           2010,
           535457090
          ],
          [
           2006,
           902204060
          ],
          [
           2007,
           534429030
          ],
          [
           2007,
           902300020
          ],
          [
           2008,
           907254090
          ],
          [
           2007,
           908127060
          ],
          [
           2008,
           534177180
          ],
          [
           2006,
           923400125
          ],
          [
           2009,
           528174060
          ],
          [
           2007,
           528172070
          ],
          [
           2009,
           905229040
          ],
          [
           2007,
           535327160
          ],
          [
           2010,
           535377090
          ],
          [
           2009,
           916403250
          ],
          [
           2006,
           916475100
          ],
          [
           2006,
           908275220
          ],
          [
           2008,
           528190010
          ],
          [
           2009,
           907290180
          ],
          [
           2008,
           909101180
          ],
          [
           2010,
           923230190
          ],
          [
           2010,
           527453150
          ],
          [
           2008,
           923228420
          ],
          [
           2006,
           905108090
          ],
          [
           2008,
           914453045
          ],
          [
           2009,
           535302120
          ],
          [
           2010,
           535456110
          ],
          [
           2007,
           527328020
          ],
          [
           2008,
           535380050
          ],
          [
           2008,
           923250210
          ],
          [
           2006,
           535454060
          ],
          [
           2007,
           534401200
          ],
          [
           2010,
           909250030
          ],
          [
           2009,
           527375180
          ],
          [
           2007,
           905376090
          ],
          [
           2006,
           534476100
          ],
          [
           2006,
           528280100
          ],
          [
           2009,
           528228435
          ],
          [
           2006,
           923250060
          ],
          [
           2009,
           535152230
          ],
          [
           2009,
           906340120
          ],
          [
           2006,
           527107020
          ],
          [
           2010,
           528120120
          ],
          [
           2009,
           909425130
          ],
          [
           2010,
           528181050
          ],
          [
           2007,
           527359160
          ],
          [
           2008,
           907405140
          ],
          [
           2008,
           905226030
          ],
          [
           2010,
           904350045
          ],
          [
           2008,
           535454150
          ],
          [
           2007,
           909452102
          ],
          [
           2009,
           909250080
          ],
          [
           2006,
           902305090
          ],
          [
           2008,
           533212050
          ],
          [
           2008,
           902107030
          ],
          [
           2009,
           914476020
          ],
          [
           2006,
           905225080
          ],
          [
           2008,
           527301245
          ],
          [
           2008,
           527451550
          ],
          [
           2009,
           903476090
          ],
          [
           2010,
           902110090
          ],
          [
           2009,
           527132090
          ],
          [
           2007,
           527450220
          ],
          [
           2008,
           909425085
          ],
          [
           2006,
           910200060
          ],
          [
           2008,
           527380240
          ],
          [
           2008,
           528186030
          ],
          [
           2009,
           528106070
          ],
          [
           2009,
           527163040
          ],
          [
           2007,
           534127140
          ],
          [
           2007,
           535376010
          ],
          [
           2008,
           527359070
          ],
          [
           2006,
           902134060
          ],
          [
           2007,
           527404150
          ],
          [
           2010,
           534475100
          ],
          [
           2008,
           528363110
          ],
          [
           2007,
           916460020
          ],
          [
           2008,
           528142140
          ],
          [
           2009,
           906392070
          ],
          [
           2010,
           904101110
          ],
          [
           2008,
           907412070
          ],
          [
           2009,
           903201080
          ],
          [
           2007,
           534401120
          ],
          [
           2010,
           902207140
          ],
          [
           2007,
           908127040
          ],
          [
           2008,
           531376070
          ],
          [
           2006,
           903456090
          ],
          [
           2008,
           527301170
          ],
          [
           2010,
           528240130
          ],
          [
           2009,
           528275070
          ],
          [
           2007,
           904302010
          ],
          [
           2008,
           902306120
          ],
          [
           2009,
           534251030
          ],
          [
           2008,
           902406020
          ],
          [
           2007,
           906392080
          ],
          [
           2009,
           534175080
          ],
          [
           2007,
           533242080
          ],
          [
           2006,
           914474020
          ],
          [
           2010,
           534129040
          ],
          [
           2009,
           535402270
          ],
          [
           2009,
           535353060
          ],
          [
           2009,
           534475250
          ],
          [
           2007,
           527425025
          ],
          [
           2008,
           902205140
          ],
          [
           2006,
           906475200
          ],
          [
           2008,
           909251090
          ],
          [
           2007,
           535155110
          ],
          [
           2007,
           527403310
          ],
          [
           2007,
           527162080
          ],
          [
           2010,
           905325030
          ],
          [
           2006,
           533253160
          ],
          [
           2007,
           907125120
          ],
          [
           2007,
           903457040
          ],
          [
           2006,
           902325160
          ],
          [
           2006,
           528235050
          ],
          [
           2008,
           528478040
          ],
          [
           2008,
           528240040
          ],
          [
           2008,
           528178090
          ],
          [
           2008,
           923277080
          ],
          [
           2008,
           903235010
          ],
          [
           2007,
           923275010
          ],
          [
           2009,
           528439060
          ],
          [
           2007,
           907290140
          ],
          [
           2009,
           535126100
          ],
          [
           2007,
           535325320
          ],
          [
           2006,
           527226010
          ],
          [
           2006,
           535354130
          ],
          [
           2010,
           909101070
          ],
          [
           2010,
           905201030
          ],
          [
           2009,
           923203190
          ],
          [
           2008,
           535383100
          ],
          [
           2006,
           531376030
          ],
          [
           2010,
           902206130
          ],
          [
           2009,
           532478020
          ],
          [
           2007,
           532377140
          ],
          [
           2009,
           528458060
          ],
          [
           2007,
           533350020
          ],
          [
           2009,
           904301100
          ],
          [
           2008,
           535403010
          ],
          [
           2008,
           923277030
          ],
          [
           2007,
           527184110
          ],
          [
           2007,
           535152060
          ],
          [
           2009,
           527166010
          ],
          [
           2007,
           903206170
          ],
          [
           2009,
           534226120
          ],
          [
           2006,
           527355060
          ],
          [
           2006,
           909282060
          ],
          [
           2010,
           527127150
          ],
          [
           2009,
           528365070
          ],
          [
           2010,
           909475140
          ],
          [
           2010,
           906380190
          ],
          [
           2007,
           535177110
          ],
          [
           2009,
           527401160
          ],
          [
           2006,
           902400110
          ],
          [
           2007,
           527353080
          ],
          [
           2007,
           534278170
          ],
          [
           2006,
           533252020
          ],
          [
           2007,
           923202220
          ],
          [
           2006,
           907251100
          ],
          [
           2006,
           535451190
          ],
          [
           2006,
           902128020
          ],
          [
           2008,
           911102090
          ],
          [
           2006,
           903425340
          ],
          [
           2010,
           527402200
          ],
          [
           2007,
           527301080
          ],
          [
           2009,
           923275140
          ],
          [
           2009,
           535475010
          ],
          [
           2009,
           532354230
          ],
          [
           2007,
           528150040
          ],
          [
           2007,
           533244040
          ],
          [
           2008,
           531450030
          ],
          [
           2006,
           527354040
          ],
          [
           2006,
           535305120
          ],
          [
           2007,
           535151100
          ],
          [
           2007,
           902304040
          ],
          [
           2009,
           906392130
          ],
          [
           2006,
           528358030
          ],
          [
           2009,
           906380210
          ],
          [
           2007,
           527452100
          ],
          [
           2007,
           527450150
          ],
          [
           2010,
           907125090
          ],
          [
           2006,
           908130020
          ],
          [
           2009,
           907194160
          ],
          [
           2007,
           907131060
          ],
          [
           2008,
           531363060
          ],
          [
           2009,
           903484110
          ],
          [
           2009,
           535402090
          ],
          [
           2010,
           902402010
          ],
          [
           2007,
           526355170
          ],
          [
           2007,
           535301160
          ],
          [
           2006,
           905480160
          ],
          [
           2006,
           527107120
          ],
          [
           2008,
           902201140
          ],
          [
           2006,
           534479130
          ],
          [
           2008,
           528186080
          ],
          [
           2006,
           923225510
          ],
          [
           2006,
           535180070
          ],
          [
           2007,
           903456110
          ],
          [
           2007,
           905104030
          ],
          [
           2008,
           528346050
          ],
          [
           2009,
           906392110
          ],
          [
           2007,
           535375130
          ],
          [
           2007,
           527357020
          ],
          [
           2007,
           903227140
          ],
          [
           2008,
           534175140
          ],
          [
           2010,
           902106140
          ],
          [
           2007,
           923228200
          ],
          [
           2009,
           527353020
          ],
          [
           2008,
           907290150
          ],
          [
           2006,
           535176050
          ],
          [
           2008,
           528280180
          ],
          [
           2008,
           909451150
          ],
          [
           2009,
           906402060
          ],
          [
           2008,
           527403360
          ],
          [
           2006,
           534176250
          ],
          [
           2008,
           527378020
          ],
          [
           2008,
           903455030
          ],
          [
           2007,
           908275090
          ],
          [
           2006,
           528120110
          ],
          [
           2006,
           535450100
          ],
          [
           2006,
           527301010
          ],
          [
           2010,
           535302200
          ],
          [
           2008,
           909252220
          ],
          [
           2008,
           923227030
          ],
          [
           2006,
           527107240
          ],
          [
           2008,
           916226030
          ],
          [
           2009,
           909178160
          ],
          [
           2007,
           906201022
          ],
          [
           2006,
           908102020
          ],
          [
           2010,
           531380080
          ],
          [
           2009,
           527376100
          ],
          [
           2006,
           905200280
          ],
          [
           2007,
           535402140
          ],
          [
           2010,
           905101100
          ],
          [
           2008,
           527226020
          ],
          [
           2008,
           535451230
          ],
          [
           2006,
           528360050
          ],
          [
           2009,
           907265010
          ],
          [
           2007,
           531375140
          ],
          [
           2006,
           535125060
          ],
          [
           2006,
           908186060
          ],
          [
           2008,
           526351030
          ],
          [
           2007,
           535451100
          ],
          [
           2006,
           905451050
          ],
          [
           2007,
           905226080
          ],
          [
           2006,
           924151050
          ],
          [
           2010,
           903232190
          ],
          [
           2006,
           905103130
          ],
          [
           2007,
           902427140
          ],
          [
           2010,
           535152050
          ],
          [
           2008,
           907262070
          ],
          [
           2006,
           527327080
          ],
          [
           2010,
           527146030
          ],
          [
           2009,
           903427120
          ],
          [
           2007,
           533352075
          ],
          [
           2006,
           907265030
          ],
          [
           2007,
           531380110
          ],
          [
           2007,
           903232100
          ],
          [
           2007,
           909428180
          ],
          [
           2009,
           534476150
          ],
          [
           2006,
           527378010
          ],
          [
           2009,
           924100040
          ],
          [
           2007,
           909275020
          ],
          [
           2006,
           909101190
          ],
          [
           2010,
           903206120
          ],
          [
           2006,
           904301410
          ],
          [
           2007,
           907295040
          ],
          [
           2008,
           907176010
          ],
          [
           2007,
           905100060
          ],
          [
           2009,
           532376110
          ],
          [
           2007,
           914460020
          ],
          [
           2009,
           528188020
          ],
          [
           2010,
           527454200
          ],
          [
           2007,
           528482030
          ],
          [
           2007,
           907280100
          ],
          [
           2007,
           527110080
          ],
          [
           2008,
           528118090
          ],
          [
           2007,
           535105110
          ],
          [
           2006,
           526354020
          ],
          [
           2007,
           535477130
          ],
          [
           2008,
           905452070
          ],
          [
           2009,
           906378110
          ],
          [
           2009,
           909426090
          ],
          [
           2008,
           533236090
          ],
          [
           2008,
           908275280
          ],
          [
           2008,
           903228090
          ],
          [
           2007,
           531385070
          ],
          [
           2007,
           527356050
          ],
          [
           2006,
           527166030
          ],
          [
           2006,
           907290230
          ],
          [
           2007,
           528186050
          ],
          [
           2008,
           535452120
          ],
          [
           2009,
           528482130
          ],
          [
           2008,
           534403050
          ],
          [
           2010,
           533244030
          ],
          [
           2008,
           528365080
          ],
          [
           2006,
           902206090
          ],
          [
           2008,
           909425010
          ],
          [
           2007,
           916384080
          ],
          [
           2006,
           909101330
          ],
          [
           2008,
           535380110
          ],
          [
           2008,
           903236010
          ],
          [
           2007,
           905101200
          ],
          [
           2008,
           531375110
          ],
          [
           2006,
           907405030
          ],
          [
           2007,
           908276230
          ],
          [
           2008,
           909256060
          ],
          [
           2006,
           527108030
          ],
          [
           2008,
           906475100
          ],
          [
           2009,
           907275010
          ],
          [
           2007,
           527404100
          ],
          [
           2008,
           905403150
          ],
          [
           2008,
           533350120
          ],
          [
           2009,
           909254010
          ],
          [
           2009,
           533221040
          ],
          [
           2009,
           533254050
          ],
          [
           2009,
           535178120
          ],
          [
           2010,
           527403020
          ],
          [
           2010,
           916125360
          ],
          [
           2008,
           909277040
          ],
          [
           2009,
           527302175
          ],
          [
           2009,
           905101490
          ],
          [
           2007,
           907227100
          ],
          [
           2010,
           911370510
          ],
          [
           2010,
           907414030
          ],
          [
           2007,
           909275110
          ],
          [
           2009,
           905200260
          ],
          [
           2008,
           902105130
          ],
          [
           2008,
           534453140
          ],
          [
           2010,
           907203070
          ],
          [
           2008,
           910226040
          ],
          [
           2006,
           905451410
          ],
          [
           2008,
           907295020
          ],
          [
           2007,
           533250190
          ],
          [
           2006,
           527450010
          ],
          [
           2010,
           906385020
          ],
          [
           2009,
           902109140
          ],
          [
           2008,
           534403100
          ],
          [
           2007,
           535453080
          ],
          [
           2010,
           528250100
          ],
          [
           2009,
           907130100
          ],
          [
           2006,
           535152280
          ],
          [
           2009,
           528166090
          ],
          [
           2009,
           528480040
          ],
          [
           2007,
           535300040
          ],
          [
           2008,
           533215070
          ],
          [
           2006,
           527451520
          ],
          [
           2007,
           905475270
          ],
          [
           2008,
           908102030
          ],
          [
           2010,
           909177100
          ],
          [
           2007,
           902302150
          ],
          [
           2006,
           907201160
          ],
          [
           2009,
           527453060
          ],
          [
           2007,
           905225020
          ],
          [
           2008,
           528181010
          ],
          [
           2007,
           917425190
          ],
          [
           2009,
           528180130
          ],
          [
           2009,
           531363030
          ],
          [
           2008,
           902102060
          ],
          [
           2007,
           923229040
          ],
          [
           2010,
           903450110
          ],
          [
           2006,
           909256020
          ],
          [
           2010,
           533221110
          ],
          [
           2009,
           526355080
          ],
          [
           2008,
           907181120
          ],
          [
           2007,
           903234160
          ],
          [
           2006,
           535454030
          ],
          [
           2010,
           534152070
          ],
          [
           2010,
           905106170
          ],
          [
           2009,
           909257050
          ],
          [
           2007,
           534252060
          ],
          [
           2009,
           903200080
          ],
          [
           2009,
           907126010
          ],
          [
           2009,
           907285020
          ],
          [
           2009,
           902109130
          ],
          [
           2007,
           903450060
          ],
          [
           2007,
           916455010
          ],
          [
           2006,
           535152070
          ],
          [
           2007,
           902206270
          ],
          [
           2006,
           534427090
          ],
          [
           2006,
           909279040
          ],
          [
           2010,
           533130020
          ],
          [
           2008,
           527455270
          ],
          [
           2009,
           526302110
          ],
          [
           2009,
           905401100
          ],
          [
           2010,
           903227150
          ],
          [
           2010,
           534251320
          ],
          [
           2010,
           909100080
          ],
          [
           2008,
           905200160
          ],
          [
           2007,
           914478020
          ],
          [
           2009,
           527451650
          ],
          [
           2009,
           528142150
          ],
          [
           2006,
           531452210
          ],
          [
           2009,
           528168030
          ],
          [
           2010,
           923202105
          ],
          [
           2007,
           911103060
          ],
          [
           2008,
           534401190
          ],
          [
           2009,
           907175100
          ],
          [
           2007,
           902110010
          ],
          [
           2007,
           534431020
          ],
          [
           2009,
           908186080
          ],
          [
           2007,
           903233030
          ],
          [
           2009,
           902406070
          ],
          [
           2007,
           532354010
          ],
          [
           2009,
           916380070
          ],
          [
           2008,
           903425420
          ],
          [
           2009,
           907227030
          ],
          [
           2010,
           910205120
          ],
          [
           2010,
           906201120
          ],
          [
           2010,
           923251080
          ],
          [
           2008,
           534451080
          ],
          [
           2006,
           902103090
          ],
          [
           2009,
           909428240
          ],
          [
           2008,
           528120130
          ],
          [
           2008,
           907255030
          ],
          [
           2009,
           908102270
          ],
          [
           2008,
           909100150
          ],
          [
           2009,
           903231060
          ],
          [
           2010,
           923201020
          ],
          [
           2009,
           534429150
          ],
          [
           2008,
           534129060
          ],
          [
           2007,
           534151090
          ],
          [
           2009,
           910204050
          ],
          [
           2007,
           535457040
          ],
          [
           2010,
           903426200
          ],
          [
           2009,
           535383070
          ],
          [
           2006,
           535353180
          ],
          [
           2008,
           908128050
          ],
          [
           2008,
           528429050
          ],
          [
           2009,
           527455240
          ],
          [
           2008,
           906476030
          ],
          [
           2007,
           909254140
          ],
          [
           2008,
           527359030
          ],
          [
           2007,
           533251110
          ],
          [
           2006,
           908178050
          ],
          [
           2007,
           923225040
          ],
          [
           2007,
           916455110
          ],
          [
           2010,
           531452050
          ],
          [
           2006,
           905351045
          ],
          [
           2006,
           905100030
          ],
          [
           2009,
           909101100
          ],
          [
           2007,
           902201130
          ],
          [
           2007,
           527162140
          ],
          [
           2006,
           527108040
          ],
          [
           2007,
           534476080
          ],
          [
           2007,
           902404010
          ],
          [
           2008,
           902328040
          ],
          [
           2010,
           908102060
          ],
          [
           2006,
           533250130
          ],
          [
           2006,
           535380010
          ],
          [
           2009,
           532353130
          ],
          [
           2009,
           531363050
          ],
          [
           2008,
           908154080
          ],
          [
           2008,
           534455030
          ],
          [
           2007,
           905352180
          ],
          [
           2009,
           916382100
          ],
          [
           2009,
           906201130
          ],
          [
           2006,
           534125210
          ],
          [
           2008,
           535126140
          ],
          [
           2009,
           535126010
          ],
          [
           2009,
           533252040
          ],
          [
           2006,
           527356060
          ],
          [
           2007,
           535151020
          ],
          [
           2009,
           528294050
          ],
          [
           2010,
           923205015
          ],
          [
           2008,
           527183060
          ],
          [
           2008,
           904351280
          ],
          [
           2009,
           914465020
          ],
          [
           2010,
           916386060
          ],
          [
           2009,
           528250020
          ],
          [
           2007,
           532476080
          ],
          [
           2006,
           527453070
          ],
          [
           2009,
           902134120
          ],
          [
           2006,
           903452090
          ],
          [
           2006,
           533212110
          ],
          [
           2009,
           902301060
          ],
          [
           2009,
           534276040
          ],
          [
           2006,
           909280070
          ],
          [
           2009,
           527451640
          ],
          [
           2006,
           916460070
          ],
          [
           2007,
           528120150
          ],
          [
           2010,
           902125160
          ],
          [
           2009,
           535154130
          ],
          [
           2010,
           527165230
          ],
          [
           2008,
           907412090
          ],
          [
           2008,
           528228465
          ],
          [
           2009,
           907126050
          ],
          [
           2010,
           906204230
          ],
          [
           2006,
           903233220
          ],
          [
           2007,
           528280150
          ],
          [
           2009,
           527403040
          ],
          [
           2006,
           533253090
          ],
          [
           2006,
           528180080
          ],
          [
           2006,
           528118020
          ],
          [
           2006,
           534477030
          ],
          [
           2009,
           532353020
          ],
          [
           2009,
           527162120
          ],
          [
           2010,
           903425110
          ],
          [
           2006,
           907285010
          ],
          [
           2007,
           907192150
          ],
          [
           2008,
           532353050
          ],
          [
           2009,
           528280230
          ],
          [
           2007,
           907280090
          ],
          [
           2008,
           531450090
          ],
          [
           2008,
           905351089
          ],
          [
           2008,
           905452120
          ],
          [
           2006,
           923275080
          ],
          [
           2007,
           908275200
          ],
          [
           2010,
           904352190
          ],
          [
           2008,
           923275090
          ],
          [
           2007,
           923425030
          ],
          [
           2006,
           527256120
          ],
          [
           2008,
           534202130
          ],
          [
           2008,
           527450250
          ],
          [
           2006,
           903232170
          ],
          [
           2009,
           531369020
          ],
          [
           2009,
           906380220
          ],
          [
           2007,
           902106120
          ],
          [
           2006,
           535325450
          ],
          [
           2008,
           527402060
          ],
          [
           2010,
           909426080
          ],
          [
           2007,
           527165020
          ],
          [
           2006,
           916403130
          ],
          [
           2010,
           527162130
          ],
          [
           2009,
           535450070
          ],
          [
           2009,
           905107310
          ],
          [
           2006,
           902104020
          ],
          [
           2010,
           905109130
          ],
          [
           2009,
           527146010
          ],
          [
           2008,
           527107090
          ],
          [
           2010,
           535152250
          ],
          [
           2008,
           902401010
          ],
          [
           2010,
           528363130
          ],
          [
           2006,
           534201250
          ],
          [
           2006,
           527455100
          ],
          [
           2008,
           528240050
          ],
          [
           2008,
           906424010
          ],
          [
           2006,
           535456020
          ],
          [
           2009,
           535125090
          ],
          [
           2008,
           905477050
          ],
          [
           2010,
           923228370
          ],
          [
           2010,
           535425010
          ],
          [
           2008,
           907425030
          ],
          [
           2007,
           909254100
          ],
          [
           2010,
           533253210
          ],
          [
           2009,
           908203090
          ],
          [
           2008,
           907255060
          ],
          [
           2006,
           528366040
          ],
          [
           2007,
           534127080
          ],
          [
           2009,
           528228455
          ],
          [
           2008,
           535380140
          ],
          [
           2009,
           527163070
          ],
          [
           2006,
           907130110
          ],
          [
           2006,
           528116030
          ],
          [
           2006,
           902106040
          ],
          [
           2006,
           527190050
          ],
          [
           2009,
           903231030
          ],
          [
           2008,
           903231080
          ],
          [
           2010,
           902327040
          ],
          [
           2006,
           535303050
          ],
          [
           2009,
           909251170
          ],
          [
           2010,
           914478110
          ],
          [
           2008,
           902326060
          ],
          [
           2008,
           923225310
          ],
          [
           2007,
           528429090
          ],
          [
           2007,
           527359080
          ],
          [
           2008,
           535303030
          ],
          [
           2008,
           914475020
          ],
          [
           2010,
           903454060
          ],
          [
           2009,
           528120160
          ],
          [
           2008,
           923252100
          ],
          [
           2008,
           905426030
          ],
          [
           2007,
           535476360
          ],
          [
           2007,
           528364110
          ],
          [
           2006,
           532376180
          ],
          [
           2008,
           907250020
          ],
          [
           2009,
           528235010
          ],
          [
           2009,
           528142130
          ],
          [
           2006,
           905475150
          ],
          [
           2008,
           902105020
          ],
          [
           2009,
           527165130
          ],
          [
           2009,
           902202150
          ],
          [
           2010,
           527105030
          ],
          [
           2008,
           535152200
          ],
          [
           2010,
           907410080
          ],
          [
           2008,
           916386080
          ],
          [
           2006,
           534479240
          ],
          [
           2008,
           916386040
          ],
          [
           2009,
           527161040
          ],
          [
           2009,
           528490070
          ],
          [
           2008,
           909175050
          ],
          [
           2009,
           908275040
          ],
          [
           2007,
           534104090
          ],
          [
           2009,
           528218090
          ],
          [
           2010,
           532378110
          ],
          [
           2006,
           527355280
          ],
          [
           2009,
           535151040
          ],
          [
           2008,
           910203090
          ],
          [
           2006,
           535151080
          ],
          [
           2007,
           923228390
          ],
          [
           2009,
           527405180
          ],
          [
           2010,
           923225300
          ],
          [
           2007,
           923230180
          ],
          [
           2007,
           527256030
          ],
          [
           2006,
           528188040
          ],
          [
           2007,
           902125120
          ],
          [
           2009,
           534202170
          ],
          [
           2006,
           905477010
          ],
          [
           2010,
           923226250
          ],
          [
           2006,
           907203010
          ],
          [
           2009,
           535351050
          ],
          [
           2008,
           906420130
          ],
          [
           2008,
           534428020
          ],
          [
           2007,
           907192020
          ],
          [
           2010,
           528386040
          ],
          [
           2008,
           902406090
          ],
          [
           2007,
           535353050
          ],
          [
           2006,
           532376080
          ],
          [
           2009,
           903231130
          ],
          [
           2009,
           527455080
          ],
          [
           2007,
           528250010
          ],
          [
           2009,
           909101010
          ],
          [
           2008,
           909275050
          ],
          [
           2007,
           527302060
          ],
          [
           2007,
           534450110
          ],
          [
           2006,
           535382130
          ],
          [
           2008,
           535105030
          ],
          [
           2006,
           533253050
          ],
          [
           2010,
           528138060
          ],
          [
           2006,
           535377070
          ],
          [
           2008,
           905201120
          ],
          [
           2010,
           923204150
          ],
          [
           2009,
           907135040
          ],
          [
           2010,
           903204040
          ],
          [
           2007,
           905100080
          ],
          [
           2008,
           910202100
          ],
          [
           2008,
           903454100
          ],
          [
           2010,
           528292020
          ],
          [
           2006,
           903231070
          ],
          [
           2009,
           528110010
          ],
          [
           2006,
           528228325
          ],
          [
           2010,
           534401110
          ],
          [
           2010,
           908226130
          ],
          [
           2008,
           534252090
          ],
          [
           2007,
           902330090
          ],
          [
           2009,
           535354070
          ],
          [
           2006,
           916326010
          ],
          [
           2006,
           905200380
          ],
          [
           2006,
           902406030
          ],
          [
           2008,
           535354200
          ],
          [
           2006,
           923226150
          ],
          [
           2010,
           903234050
          ],
          [
           2006,
           532353030
          ],
          [
           2010,
           534431070
          ],
          [
           2009,
           528435050
          ],
          [
           2009,
           528482040
          ],
          [
           2007,
           904101070
          ],
          [
           2009,
           528102040
          ],
          [
           2009,
           527452060
          ],
          [
           2007,
           534127260
          ],
          [
           2009,
           907275140
          ],
          [
           2009,
           903201020
          ],
          [
           2007,
           534278150
          ],
          [
           2007,
           527182040
          ],
          [
           2009,
           528120020
          ],
          [
           2008,
           905476120
          ],
          [
           2008,
           910201130
          ],
          [
           2008,
           905201020
          ],
          [
           2007,
           535181030
          ],
          [
           2006,
           913350030
          ],
          [
           2008,
           531451020
          ],
          [
           2008,
           531452140
          ],
          [
           2007,
           906201023
          ],
          [
           2006,
           904302030
          ],
          [
           2010,
           905105200
          ],
          [
           2008,
           905108170
          ],
          [
           2009,
           534129370
          ],
          [
           2009,
           528275160
          ],
          [
           2010,
           914476520
          ],
          [
           2008,
           905451330
          ],
          [
           2008,
           903401050
          ],
          [
           2010,
           905101310
          ],
          [
           2008,
           903232090
          ],
          [
           2009,
           535425070
          ],
          [
           2008,
           907227300
          ],
          [
           2008,
           902306130
          ],
          [
           2009,
           903202170
          ],
          [
           2007,
           902207010
          ],
          [
           2006,
           535478070
          ],
          [
           2006,
           902109010
          ],
          [
           2009,
           907185050
          ],
          [
           2007,
           534275220
          ],
          [
           2007,
           535450220
          ],
          [
           2008,
           902305080
          ],
          [
           2009,
           535304100
          ],
          [
           2009,
           528250040
          ],
          [
           2008,
           907262030
          ],
          [
           2007,
           907285040
          ],
          [
           2010,
           535302080
          ],
          [
           2010,
           905107250
          ],
          [
           2010,
           535179020
          ],
          [
           2008,
           533217060
          ],
          [
           2007,
           527165100
          ],
          [
           2009,
           528290120
          ],
          [
           2006,
           535101110
          ],
          [
           2006,
           535402220
          ],
          [
           2008,
           533208080
          ],
          [
           2006,
           916225130
          ],
          [
           2007,
           910200110
          ],
          [
           2008,
           534479150
          ],
          [
           2007,
           528294010
          ],
          [
           2008,
           905102170
          ],
          [
           2008,
           532376170
          ],
          [
           2007,
           905377050
          ],
          [
           2006,
           534430050
          ],
          [
           2006,
           908128100
          ],
          [
           2009,
           903205040
          ],
          [
           2009,
           905402060
          ],
          [
           2007,
           909275030
          ],
          [
           2007,
           907192040
          ],
          [
           2006,
           906223180
          ]
         ],
         "hovertemplate": "SalePrice=%{marker.color}<br>lat=%{lat}<br>long=%{lon}<br>YrSold=%{customdata[0]}<br>PID=%{customdata[1]}<extra></extra>",
         "lat": [
          42.01856448979592,
          42.02485531593042,
          42.021547615297024,
          42.03739146938776,
          42.04455376067282,
          42.018988,
          42.031162,
          42.063308,
          41.98649573595674,
          42.018963681474496,
          null,
          41.98649987838884,
          42.03216732653061,
          42.04690161396658,
          42.01590809090909,
          42.03586941394644,
          42.02481975297594,
          42.02208247765018,
          42.04331646337044,
          41.98752773737374,
          42.03717083511299,
          42.03351832653061,
          41.99215551070729,
          42.02935814285714,
          42.051676299375686,
          42.0619889732416,
          41.994931209457846,
          42.046150735023375,
          42.04903420384354,
          42.06129117942748,
          42.03109366137248,
          42.06322648533865,
          42.06188820235543,
          42.02954372815348,
          42.037273779743664,
          41.99523381632653,
          42.017335540535086,
          42.03195016326531,
          42.05450581967213,
          42.048851159119046,
          42.05578479212245,
          41.99419902380953,
          42.04129604081633,
          42.035861571428576,
          42.03594679591837,
          42.06042873469387,
          42.05971268357939,
          42.02486103224607,
          42.03146246938776,
          42.03339248979592,
          42.01869102040816,
          42.04744045286655,
          42.05547019086042,
          42.01355127272727,
          42.02811888524044,
          42.034612217391306,
          42.06226109103388,
          42.04013450915821,
          42.049582,
          42.04729657142857,
          42.020318,
          42.0245466193626,
          42.04742736392327,
          42.06042781632653,
          42.021390115667074,
          42.05847504704884,
          42.01967954096487,
          null,
          42.019084346938776,
          42.05392142671923,
          42.06011711190303,
          42.051807710171495,
          42.01751131982996,
          42.00941067078177,
          42.062991697905794,
          42.0622131258519,
          null,
          42.02806730612245,
          42.05168394906352,
          42.03713342424243,
          42.035903530612245,
          42.03087976925107,
          42.032558897959184,
          42.03345546938776,
          42.03134108089813,
          42.02701343509556,
          42.03150042455403,
          42.06086624608271,
          42.052132986853664,
          42.05536916392078,
          42.01780281632653,
          42.0203107,
          42.04615068202805,
          42.04222355411135,
          42.03468289795919,
          41.992332618748165,
          42.046992315952615,
          42.04299352441229,
          42.018014,
          41.996073,
          42.038608571428576,
          42.05310115636974,
          42.027877,
          42.04216255555556,
          41.99253552569278,
          41.992212332620966,
          42.06042720408163,
          42.02828955914435,
          42.0525554028463,
          42.054149095181536,
          42.04817947474747,
          42.038378,
          42.02619203943843,
          41.99703640663635,
          42.01867749991436,
          42.044865,
          42.03134156628693,
          41.99297998782015,
          42.03713731403104,
          42.02510548979591,
          42.02721361270797,
          42.041233315036166,
          42.03602586446804,
          42.02147665741722,
          42.038482504829126,
          42.03586988976251,
          41.99551603030303,
          42.02508273469388,
          42.00072925266047,
          42.022083404893664,
          42.016945472759005,
          42.020881,
          42.03141326212844,
          42.06165534795861,
          42.05145469964584,
          42.04574050623812,
          42.020343414141415,
          42.02461337755501,
          42.04224059534753,
          42.0297174048556,
          42.053514279505634,
          42.016892,
          42.06221430156738,
          42.04895500520409,
          42.01855820993013,
          42.01788108163265,
          42.037159122448976,
          42.05923777869763,
          42.047999,
          42.04482523153892,
          42.01896239856682,
          42.0323832020202,
          42.01879497674418,
          42.03797473457034,
          42.04474817188798,
          42.038378,
          42.01119537789834,
          42.016904971498526,
          42.04577395463849,
          42.04888004672891,
          42.035663809096576,
          42.0545474,
          42.019100407352354,
          42.03363191836735,
          42.03025391265237,
          42.03119248315056,
          42.03476542857143,
          42.0226691058526,
          42.03487444444444,
          null,
          42.0210151632653,
          42.05319034438527,
          42.03093013690148,
          42.05171935144844,
          42.03458848484848,
          42.03471223334514,
          42.05512945519149,
          42.03348381632653,
          42.059300612982,
          42.03108467910268,
          42.05230299257608,
          42.03214923147222,
          42.02695466155664,
          42.04218612244898,
          42.036146841115006,
          42.03456289103087,
          42.03473895918367,
          42.01805245,
          42.050471,
          42.02906930612245,
          41.99298995025634,
          42.02864482351206,
          41.99958722865255,
          42.03465549651289,
          42.051065,
          42.04772986946443,
          42.0392109,
          42.0208634872324,
          42.01452227144189,
          42.02795584333695,
          42.02326647986106,
          42.02295797959184,
          42.05361420021923,
          42.06055687660365,
          42.01264838383838,
          42.032688,
          42.04661079961037,
          42.04749027140474,
          42.03475926805175,
          42.0258097972012,
          42.05735590330952,
          42.035835,
          42.04657878629308,
          42.06314938723892,
          42.0400426,
          42.018795670013375,
          42.055141,
          42.0227918367347,
          42.04484653880461,
          42.04658077450373,
          41.9980307755102,
          42.03484223074918,
          42.03364287695338,
          42.03605240841249,
          42.04741032017221,
          null,
          42.03156251472419,
          42.05741197153812,
          42.03586727206577,
          42.053875936692656,
          42.03236318181818,
          42.03261395653461,
          42.024522800247645,
          42.03089965686291,
          42.0167937755102,
          41.986502525252526,
          41.992285539793606,
          42.01582647553629,
          42.0622569043589,
          42.03736035134902,
          42.05969691592808,
          42.024647108395335,
          42.00941017586717,
          42.036550780194254,
          42.03619649733313,
          42.02826236005448,
          42.06055030637491,
          41.99189830612245,
          41.98891501194138,
          42.0146305299342,
          42.02722873813198,
          null,
          42.06085597027575,
          42.036222982244986,
          42.03946451020408,
          42.04711876691764,
          42.03358356636981,
          null,
          42.05138551893792,
          42.06113041399615,
          42.06116358191152,
          42.0193813,
          42.03229221822774,
          42.029278208465776,
          42.060604411485215,
          42.0582276512523,
          41.988232259809486,
          42.02550732377964,
          42.05821100049504,
          42.02116183673469,
          42.04694863364057,
          42.03744755908851,
          42.0530506292041,
          42.06057809473684,
          42.02221155838693,
          42.022373232949136,
          42.0146232814465,
          42.024135294184624,
          42.03708595663889,
          42.021695122448975,
          42.034671747183744,
          42.03577746938775,
          42.03834740816327,
          42.05985571428571,
          42.05005399823367,
          42.03933089886095,
          42.0630493,
          42.02387559248089,
          42.03584051515152,
          42.0430122,
          42.03461982419273,
          42.02807554568359,
          41.99551248484848,
          42.01339983344091,
          42.05833398088454,
          42.0215383877551,
          42.0477401256381,
          42.0269485163718,
          42.05442958419464,
          42.05079679398725,
          42.0279133,
          42.020092543879066,
          42.05871859585295,
          42.03231091899866,
          42.05062963265306,
          null,
          42.03143963636364,
          42.03220831608917,
          42.06117828569519,
          42.03150314601391,
          42.061122147279214,
          42.02116749369187,
          42.033505289394334,
          42.01622585714286,
          42.04013980676682,
          42.01396975757576,
          42.033347285714285,
          42.03562879077359,
          42.053668,
          42.03136811566622,
          42.05897712282691,
          42.03478771651257,
          42.03602821212121,
          42.04316111859127,
          42.039533285714285,
          42.02839073708279,
          42.02000134693878,
          42.06205245860441,
          41.992886874408,
          42.05923104269617,
          42.01599771428572,
          42.047554433193056,
          42.0199462,
          42.04622359385471,
          42.01874163265306,
          42.02656995,
          42.039054300535824,
          42.03237701034279,
          42.062257812827184,
          42.03919368684427,
          42.02944714893617,
          41.99524126901108,
          42.04030279785764,
          42.03728964083625,
          42.01879748684436,
          42.03574847468436,
          42.0503128,
          42.04396232081264,
          42.055303816598176,
          42.04649121414232,
          42.05779497875085,
          42.00149914254683,
          42.02410653061224,
          42.03482142857143,
          42.050214596203936,
          42.01265586868687,
          41.996394780494285,
          42.0544825,
          42.060674292874886,
          42.037116510204086,
          42.0545832173913,
          42.03718187878788,
          42.02541185461348,
          42.03342520408163,
          42.03771545869594,
          41.9912068279948,
          42.03492614970521,
          42.03053925526278,
          42.03226914285714,
          42.05718584898524,
          42.03374326530612,
          42.024647,
          42.05922094551288,
          42.022501592513066,
          42.03849987878044,
          42.04353949935175,
          42.042245,
          42.043196,
          42.0165166262228,
          42.03779751992414,
          42.037359639964464,
          42.04844622222222,
          42.02583595734114,
          42.04769447845684,
          42.0281873047507,
          42.04199377551021,
          42.0169293039374,
          42.0607792297516,
          42.06259555537441,
          42.01885693993959,
          42.011654,
          42.01869977841745,
          42.03854471428571,
          42.03489390322482,
          42.01975985,
          42.022556599869965,
          42.056585,
          42.05165547608443,
          42.032449285714286,
          42.0241246122449,
          42.02132716963949,
          42.03334642857143,
          42.05437757352141,
          42.03720968686869,
          42.01872699002386,
          42.01052241853046,
          42.034622285714285,
          42.03568872714663,
          42.05645099500372,
          42.016003067952575,
          42.053416930353976,
          42.03514258197271,
          42.03136939759234,
          42.062056240414826,
          42.037195530778,
          42.03074241421573,
          42.0472850574594,
          42.062987,
          42.01580493115075,
          42.0610026,
          42.05691061974768,
          42.03047530489075,
          42.03366324489796,
          42.01961035,
          42.043653874687614,
          42.01627243643616,
          42.05226690017801,
          42.02259728571429,
          42.047816063070826,
          42.05864089074064,
          42.03066861357932,
          42.058339921875,
          42.05073962729427,
          42.03339691836735,
          41.9962111942174,
          42.03835418428905,
          42.01773528997087,
          42.05103227664718,
          42.05217516802972,
          42.03363995808504,
          42.058398539747806,
          42.063341906833216,
          42.05663491840557,
          42.01909123815859,
          42.047505,
          42.04313344897959,
          42.026947690553214,
          42.05328469387755,
          42.05445930526654,
          42.0525671934726,
          42.03459803030303,
          42.0168864,
          42.04764304782165,
          null,
          42.06043498193772,
          42.05518535362239,
          42.05934421119287,
          42.04311905624381,
          42.0186819,
          42.03586555102041,
          42.05455169737027,
          42.060110571428574,
          42.04804412244898,
          42.02889263343808,
          41.9925693,
          42.054501,
          42.05342209992673,
          42.04013764071213,
          42.03729542857143,
          42.0372426122449,
          41.98974552906844,
          null,
          42.03637796697601,
          42.03121063779482,
          42.04895463333342,
          42.01875678168227,
          42.03339260294421,
          42.02804460246242,
          42.03363724489796,
          42.046291522056016,
          42.034683,
          42.037211,
          42.0134524,
          42.05852329023244,
          42.04575485977505,
          41.993253,
          41.99306538458213,
          42.04818346460969,
          42.04950416439778,
          41.99317600351737,
          42.035826,
          42.04475584557552,
          42.03350432653061,
          42.03118540718059,
          42.0566141520629,
          42.02912002366332,
          42.02743925,
          42.04894545931406,
          41.994432,
          42.040859204081634,
          42.03367965306122,
          42.05470832653061,
          42.02304640816327,
          42.03611175102567,
          42.06298560675671,
          42.05534983838808,
          42.033675714285714,
          42.022788142857145,
          42.05661342218788,
          42.01764715939968,
          42.03552981169623,
          42.05055927360286,
          42.02284059853292,
          42.036844606060605,
          42.05884043624161,
          42.02316163982928,
          42.015873,
          42.03378981113612,
          42.0197906,
          42.06022015058052,
          42.02295687755102,
          42.04078546204856,
          42.020059778607575,
          42.02911295918368,
          42.023976828047495,
          42.02469308728671,
          42.01353445454545,
          41.996899895960425,
          41.98769334343434,
          42.05945425901293,
          42.05291513617854,
          42.05011223963888,
          42.04659135169006,
          42.05285252734815,
          42.03476522873856,
          42.01458634071595,
          42.05291637350058,
          42.03841749102241,
          42.03079004563383,
          42.05260930263202,
          null,
          41.988754497238666,
          42.02423292307692,
          42.020201,
          42.0305425,
          42.04377747858016,
          42.017765,
          42.051606908616456,
          42.0195893,
          41.99082077407747,
          42.01511921212121,
          42.06234669940753,
          41.99920531082715,
          42.03119946938776,
          42.054475,
          41.99123401860321,
          42.04126429351552,
          null,
          42.02265498235664,
          42.01695428571429,
          42.021225,
          42.03324141929304,
          42.01887520909529,
          42.04291583082946,
          42.04969847336652,
          42.02253369387755,
          41.992492403615074,
          42.03003917337248,
          41.993090368244026,
          42.018046346938775,
          42.02011791418733,
          42.02587218003842,
          42.05659525375694,
          42.05142301513821,
          42.060462,
          41.986498,
          42.021477530612245,
          42.04892890817189,
          42.06122452447367,
          42.03231420003687,
          42.03836985690008,
          42.05453381217946,
          42.054149,
          42.0384108367347,
          41.99302302560038,
          42.05050176633044,
          42.05778268719642,
          42.0580958832001,
          42.04292843701024,
          42.03166456924505,
          42.03789478718914,
          42.03459238267333,
          42.016317023596216,
          42.06162466808756,
          42.02185524747475,
          42.05142825378456,
          42.06297980174738,
          42.0324048560419,
          42.01773114285714,
          42.037880984107865,
          42.05218586544711,
          42.02890321194663,
          42.021766,
          42.03578971428571,
          42.035478157326274,
          42.06084660866363,
          42.02320307609885,
          42.05789536974548,
          42.04553058199126,
          42.034476,
          42.02515574286182,
          42.05528206355001,
          42.02208263383202,
          41.99295948712776,
          42.03122187318037,
          42.0620926571262,
          42.02539048178546,
          42.063176890926,
          42.0347092512174,
          42.05900058389262,
          42.02949532172788,
          42.03720334607937,
          42.060176458179896,
          42.03738579865772,
          42.03339740816326,
          42.055592,
          41.99633696806935,
          42.038242857142855,
          42.03387026937016,
          42.05122208592715,
          42.062995452109085,
          42.05068821188921,
          42.04886393696468,
          42.03470498605157,
          42.01910027419408,
          42.03651955306964,
          42.02912142857143,
          41.98920287894761,
          42.03084185,
          42.05322338850979,
          42.01901087755102,
          42.04946678372613,
          42.035634898410905,
          42.03266153193981,
          42.03780587272578,
          42.05146405037852,
          42.04467577213927,
          42.05068774720407,
          42.03698944897959,
          42.043132443732944,
          41.99436430952381,
          42.03893266606289,
          42.03343549761995,
          42.027622,
          42.05527671524565,
          42.03234869387755,
          42.052361100598375,
          42.01604345103652,
          42.03990752355813,
          42.063332643566966,
          42.02136264484655,
          42.055197743096855,
          42.02017885714286,
          42.063184675,
          41.99535006060606,
          42.02512044767799,
          42.04771201799954,
          42.032211292796056,
          42.051508,
          42.03693412121212,
          41.9934958,
          42.059710469537016,
          41.9970794347026,
          41.99058305966545,
          42.062807,
          42.0507044,
          42.03046517167965,
          42.02407498695896,
          42.03343397959184,
          42.02086615826354,
          42.043157545707366,
          42.01978695428436,
          42.036257673469386,
          41.992261665241934,
          42.01743548190004,
          42.01391930303031,
          42.0348683877551,
          42.0591858589008,
          42.01849162205524,
          42.04128712317432,
          42.03441534858317,
          42.0633081553146,
          42.029447063829785,
          42.0427331748041,
          41.99172278896287,
          42.04790075,
          42.02110648484849,
          42.036014528539255,
          42.04003007162375,
          42.060522673469386,
          41.99100085550783,
          41.9925693,
          42.02807470877492,
          42.05925125070055,
          42.02271846938776,
          42.05866265772722,
          42.032355714285714,
          42.03818257142857,
          42.0461505760374,
          42.04484298006625,
          null,
          42.02996191433617,
          42.01847041777077,
          42.01785786161569,
          42.01784829160197,
          42.06042751020408,
          42.01777557142857,
          42.02992519260834,
          41.993425,
          42.06125391005535,
          42.01887237613264,
          42.0354431086131,
          42.04210733692971,
          42.04122444683396,
          42.03835063265306,
          42.03624601645499,
          42.02140362966889,
          42.02508203703704,
          42.01816904567709,
          42.06055254736842,
          42.03347424489796,
          42.03318050758283,
          42.03939307692308,
          42.047117,
          42.05183843368243,
          42.03347295918367,
          41.9934958,
          42.01849059534388,
          42.06133843434343,
          42.04769896383669,
          42.04772546508857,
          42.02000289795919,
          42.031539081816845,
          42.04748696849148,
          42.03914984821677,
          42.01683112623088,
          41.99713146754121,
          42.03356314285715,
          42.03347219306265,
          42.04832516560455,
          42.057391,
          42.03028234502641,
          42.027279412009655,
          41.99121668853178,
          42.02510471428571,
          42.0607983,
          42.03024178915276,
          42.02120044753399,
          42.052806,
          42.037115346938776,
          42.01627236360775,
          42.05431157972937,
          42.04739544326311,
          42.03598415118583,
          42.06162825548448,
          41.99323482050913,
          42.04410238605175,
          42.04859977363349,
          42.02932957142857,
          42.04465756768533,
          42.06209099209688,
          42.03464492397396,
          42.04300283036514,
          42.060213257327135,
          42.0610026,
          42.01907195177884,
          42.05526655102041,
          42.0355439219536,
          42.02278728571429,
          42.03238033177932,
          41.992184963279854,
          42.0334156649055,
          42.04614997430092,
          42.05181411846149,
          42.01785941350981,
          42.04781114704566,
          42.053192821097824,
          42.021705410251386,
          42.060878739096815,
          42.05167192812549,
          42.014511424224295,
          42.01688175,
          42.03512386445076,
          42.0355057683593,
          42.03078187127208,
          42.05826323456243,
          42.06162008936728,
          41.9909172685874,
          42.01788028571429,
          42.0162024251408,
          42.01711058562838,
          42.02410591836735,
          42.04470455277747,
          42.06226769607274,
          41.9882466,
          42.0174931964112,
          42.05167520656314,
          42.039664625,
          42.0518115551455,
          42.060677470545,
          42.03030776829692,
          41.99308116084478,
          42.03074334854461,
          42.03533265,
          42.03220343981452,
          41.99006190909091,
          42.01871460122548,
          42.0584829369804,
          null,
          42.029323454669566,
          42.0223864145049,
          42.03750226530613,
          42.05329801774885,
          42.04878818681946,
          42.05757013131882,
          42.05260986231037,
          42.05709294424635,
          42.04566290558734,
          42.03462175437361,
          42.06056202980451,
          42.05844882894972,
          42.0208362244898,
          42.01896050792869,
          41.99799866666667,
          42.05562017571148,
          42.03699233333333,
          41.988449381188026,
          42.03846308598738,
          42.01793884070354,
          42.03524663636364,
          42.032131,
          42.03581657575758,
          42.05125546848755,
          42.04097965601346,
          42.034627,
          42.03468253846154,
          42.03763878770042,
          42.0512234774297,
          41.99152844292028,
          42.052652020595886,
          41.994589418510536,
          42.035209948063226,
          42.0208892,
          42.03477656100864,
          42.016592642992194,
          42.017270154955895,
          42.06127303702146,
          42.01696585714286,
          42.0336325176661,
          42.06079867245493,
          42.0544829,
          42.03834765306122,
          42.01427780382489,
          42.03521695575414,
          42.05784985928519,
          42.02306402527244,
          42.02923907965382,
          42.04644281340748,
          42.05252870596256,
          42.058083423844494,
          42.059247882699815,
          42.06075994872547,
          42.016308079544864,
          42.04472415943532,
          42.021890285714285,
          42.02139934187503,
          42.059273306491,
          42.05939,
          42.06241774557579,
          42.0248537545739,
          42.01696536734694,
          42.037093072943854,
          42.05357834520508,
          null,
          42.05166496151424,
          42.03609989665396,
          42.01395854545455,
          42.018855,
          42.020109857142856,
          42.03245227272727,
          41.993447992458734,
          42.03499897448807,
          42.04200866666667,
          42.049145333333335,
          42.03239792399196,
          42.052356,
          42.03141083558686,
          42.02464895423611,
          42.05451639362017,
          42.02822981289852,
          42.05981703400088,
          42.036499771402205,
          42.04131004433642,
          42.03230660297078,
          41.9958225,
          42.046218828212254,
          42.04110597278998,
          42.0502301379245,
          42.06135217171717,
          42.03156547245381,
          42.06258686057208,
          42.0554806326207,
          42.02250589795919,
          42.062657645458366,
          42.017082540110366,
          42.0210402,
          42.02943135849678,
          42.03608293877551,
          42.03468518793098,
          42.05420181752388,
          42.050904800001526,
          42.03462185714285,
          42.02547327808115,
          42.0518064285135,
          42.04820777421599,
          42.02479737104799,
          42.05952628460094,
          42.04217177819932,
          42.05372201688925,
          42.042162530612245,
          42.0286939,
          42.02223673469388,
          42.02153085714286,
          42.050650204081634,
          41.99317417475513,
          null,
          42.04715923663277,
          42.04308351145873,
          42.0232390182144,
          42.02831142974932,
          42.03070499581556,
          42.03485555126173,
          42.0167571632653,
          42.036860243728135,
          42.020933,
          42.01601802360942,
          42.058667,
          41.99707492449542,
          42.026465793737074,
          42.0569344489796,
          42.04983192979639,
          42.04289140503031,
          42.02711267470888,
          42.0241288,
          42.03154212121212,
          42.02928091836735,
          42.04322796774737,
          42.01978,
          42.0314912306776,
          42.03733828571429,
          42.021082,
          42.0207578,
          42.03524363636364,
          42.02701554963833,
          42.03759678961276,
          42.03966656627249,
          41.99170768611459,
          42.06242275897743,
          42.02223624489796,
          42.04745090547442,
          42.05868119250007,
          42.039192,
          42.05148839215905,
          42.04573429879347,
          42.06002552297214,
          42.02789525,
          42.0607983,
          42.04073415384615,
          42.0524282721338,
          42.01610690243902,
          42.05138919534893,
          42.04199908695652,
          42.02984275524341,
          41.99420040476191,
          42.01843341986025,
          42.01296781237336,
          42.04057529833007,
          42.0464758761245,
          42.05749057745997,
          42.04715826745573,
          42.03346926530613,
          42.05198234419191,
          41.99886893356923,
          42.02843489140655,
          42.03469328571428,
          42.02402775704999,
          42.04901822222222,
          42.05032721169686,
          42.00532228134959,
          42.04645711033484,
          42.017729714285714,
          42.05184661753557,
          42.016108,
          41.98832197300109,
          42.018934,
          42.057019,
          42.01366703030303,
          41.98650174747475,
          41.98962778422582,
          42.03158218181819,
          42.060075151592784,
          42.016565,
          42.04998175832964,
          42.03465587755102,
          42.030542,
          42.02404937661948,
          42.03230475371348,
          42.022839469732666,
          42.044865,
          42.04927244444444,
          null,
          42.04210783827835,
          42.04870900198112,
          42.04946708384158,
          42.04576801482544,
          42.03528965968998,
          42.03591370582252,
          42.03204761580879,
          42.0474208778708,
          42.051808991829496,
          42.020932,
          42.0570115625,
          42.029681990232056,
          42.02829405776361,
          42.02921671428571,
          42.03438566183446,
          42.05258744001936,
          42.04420197427004,
          42.06298145483986,
          42.01748201059284,
          42.04711367213032,
          42.04054722222222,
          42.02367542136731,
          42.02211963676932,
          42.0187764,
          42.02125010922551,
          42.06313658641084,
          42.05505746261415,
          42.03588751020408,
          42.03215358773583,
          42.03653084545842,
          42.032410142857145,
          42.0334826686892,
          41.99006642551354,
          42.02304189053859,
          42.055187881522514,
          42.03077885600234,
          42.02315908693674,
          42.04823265416526,
          42.063138921202615,
          42.048463226780186,
          42.04076895640166,
          42.028273633417264,
          42.05235718295244,
          42.01999567346939,
          42.02897514542568,
          42.02594715,
          42.0335893877551,
          42.031558857142855,
          42.035955529411765,
          42.0440822096279,
          42.02977506451708,
          42.01695440816327,
          42.049363748381104,
          42.0232052041655,
          42.034654869565216,
          42.05472050723045,
          42.0301059194334,
          42.02300440771931,
          42.01793292035177,
          42.02631983690328,
          42.044063547972655,
          42.02323952276801,
          42.020046,
          42.03529173469388,
          42.01101502112876,
          42.03462525275332,
          42.039428575757576,
          42.06150353934216,
          42.03851289795919,
          42.06053909361631,
          42.01741145364216,
          42.02411995918367,
          42.01831652349715,
          42.062091597199526,
          42.06259266171987,
          42.0159373939394,
          41.99165272637433,
          42.03463595887808,
          42.050719979734446,
          42.059934007862864,
          42.03027480292898,
          42.03529924783509,
          42.05861109625003,
          42.0111119,
          42.053102044317626,
          42.06081248688973,
          42.01820137496702,
          42.021432530612245,
          42.02283463686645,
          42.04573750207937,
          42.05326607916812,
          42.05821273108703,
          42.01870463875645,
          42.04058604997788,
          42.01628240097984,
          42.03223489763352,
          42.03468709238534,
          42.05824526963186,
          42.0458176,
          42.04653046342225,
          42.042544072003146,
          42.0585471102701,
          42.01656892409964,
          42.01794700414633,
          42.018735875,
          42.0630493,
          42.04778145671749,
          42.05397580005523,
          41.99704856950386,
          42.03546389234047,
          42.03336293877551,
          42.02028772012317,
          42.01460101496856,
          42.01126338546205,
          42.04643892844015,
          42.06059908475474,
          42.0343937215734,
          42.04398683020316,
          42.04402466064136,
          42.02577055699128,
          42.050068,
          42.044865,
          42.04844622222222,
          42.03020093333333,
          42.02914222733479,
          42.042697198152425,
          42.03241185714286,
          42.0518476645498,
          42.027501491778565,
          41.99403279320556,
          42.043831992663335,
          42.05456341144617,
          42.01507807249898,
          42.0547111875,
          42.02288767346938,
          42.03153617171717,
          42.03779282870747,
          42.03462389795918,
          42.03528065637948,
          42.049831,
          42.03443346808511,
          42.01333597560976,
          41.99774714285714,
          42.022127911694575,
          42.02011555074262,
          42.02542071299656,
          42.035850921568624,
          42.054420316530845,
          42.04899244058884,
          42.032157081632654,
          42.01640816784333,
          42.05960509552833,
          41.99897305784972,
          42.04194211111111,
          42.063194,
          42.01964106200265,
          42.05981374714104,
          42.06000521774237,
          42.016107,
          42.03245158480525,
          42.0624250316325,
          42.02537245182207,
          42.05304913208351,
          42.017731,
          42.016058,
          42.0178816122449,
          42.03248908080808,
          42.05986543585511,
          42.02217429156724,
          42.05230945904727,
          42.03052779215003,
          42.01248196341464,
          42.06210217554008,
          42.06044317589348,
          42.05262561046639,
          42.05994583673469,
          42.01765605108048,
          42.0607983,
          42.052365,
          42.046585068991575,
          42.02622400986277,
          42.05497791050766,
          42.053808,
          42.04226981632653,
          42.0268939484598,
          42.04001564,
          42.02071514285714,
          42.035559909769326,
          41.99707230816514,
          42.05238114963003,
          42.01620118367347,
          42.05251744317545,
          42.02747756354625,
          null,
          42.06046593912505,
          42.02711537871572,
          42.02660105,
          42.041346894343455,
          42.04711701639097,
          42.059638029665024,
          42.013603,
          42.016966836734696,
          42.03140367155928,
          42.0254978104783,
          42.03570724489796,
          42.02262815877891,
          42.05951443308143,
          42.03348324489796,
          42.01908487755102,
          42.0354846932177,
          42.06277727104964,
          42.03214755196517,
          42.060522,
          42.061973426915145,
          42.06210054694594,
          42.057841431661416,
          42.01778406443797,
          42.03440539409389,
          42.0481469080698,
          42.04193530612245,
          42.04196627272727,
          42.036373,
          42.03010247474747,
          42.03626206368011,
          42.04711534426065,
          42.01865805775843,
          42.02820253037844,
          42.02109939613352,
          42.06044347674504,
          42.04479537305228,
          42.028674,
          42.04657795219448,
          42.03677207969333,
          42.04746460668941,
          42.03028497891152,
          42.03736017021277,
          42.03334190834953,
          42.04715859051474,
          42.02096769495813,
          42.03067032042588,
          42.04650796460303,
          41.991722794908725,
          42.04657263636364,
          42.037575046337366,
          42.01629334353572,
          42.04317541660578,
          42.02066305806104,
          42.01521012121212,
          42.03222571428572,
          42.03920205412156,
          42.05333709171579,
          42.01056179606271,
          null,
          42.042468820539256,
          42.01847493317559,
          42.028079,
          42.05068691960442,
          42.03159403030303,
          42.05692794825048,
          42.01598014285714,
          42.03074030686293,
          42.04484760847421,
          42.05838894226471,
          42.01351763636364,
          42.05539898989899,
          42.03876387482974,
          42.05336436117511,
          42.0189009826657,
          42.0194865,
          42.059775067363496,
          42.01762642857143,
          42.05919244462287,
          42.04645234469238,
          42.0209879606785,
          42.04661954545454,
          42.04951401231898,
          42.05359703383797,
          42.0267127469368,
          42.01878699857484,
          42.05849882679412,
          41.99422168981559,
          42.03489277551021,
          42.046344,
          42.0485273986674,
          42.05322805592855,
          42.03234106060607,
          42.0067187,
          42.063233,
          42.02921975510204,
          42.02762908393899,
          42.018427086422605,
          42.01869896919504,
          42.027971818210446,
          42.05243194070072,
          42.01578728909277,
          42.02253088773595,
          42.04029695918779,
          42.05548000995599,
          42.034485801091,
          41.99178102040816,
          42.0324470955923,
          42.049934959970216,
          42.03159277575579,
          42.05923775779311,
          42.032036157917815,
          42.052652510297946,
          42.02139720832133,
          42.035488934679215,
          42.026621,
          41.986494575757575,
          42.05141960255021,
          42.044865,
          42.021137,
          42.0513878166948,
          42.01904550069909,
          42.05210678848806,
          42.0241324,
          42.01915969974403,
          42.04856553884273,
          42.05168285625098,
          42.05959467655501,
          42.043940677332905,
          42.01888519183492,
          41.99691174840776,
          42.036185242424246,
          41.99960612857368,
          42.05235439029177,
          42.05782742605607,
          41.99424803839457,
          42.04772329614281,
          42.01984976319134,
          42.05345909468864,
          42.01886017317223,
          42.058184,
          42.04111748923096,
          42.0591739548731,
          null,
          42.05843904438765,
          42.03708534557202,
          42.06006791332484,
          42.02324445241788,
          42.0309689479991,
          42.01693457142857,
          null,
          42.01767675510204,
          42.034773,
          42.03234126530612,
          42.040951612244896,
          41.991716,
          41.9921562718167,
          42.02709255,
          42.01868817307693,
          42.03556280472201,
          42.061195,
          42.03339408735639,
          41.994364286083055,
          42.048995,
          null,
          42.050341,
          42.0188722244898,
          42.016780204081634,
          42.031528402880696,
          42.05210295812272,
          42.0238414218346,
          42.02348365,
          41.99982707161941,
          42.02700265,
          41.9925693,
          42.05974177551021,
          42.05833262355332,
          null,
          42.02080173426982,
          42.03146458896717,
          42.03078692058876,
          42.0497753800013,
          42.03338348441219,
          42.02899673469389,
          41.99533390909091,
          42.03345587905148,
          42.02862570937789,
          42.03220181632653,
          42.02139873643378,
          42.05800970964109,
          42.04809792269506,
          42.05135967551002,
          42.024136214891946,
          42.040069331513095,
          42.054604937723646,
          42.0346726686378,
          42.029261857142856,
          42.03220964639802,
          42.034627923079576,
          42.01908381632653,
          42.02907646938775,
          42.04859922225177,
          41.99125580488239,
          42.04475561393878,
          42.01380354545454,
          42.03598260606061,
          42.04042164423877,
          42.02654033333333,
          42.04354439370992,
          42.058055,
          42.01739615254073,
          42.05804937799808,
          42.02139222756277,
          42.05911163753795,
          42.052547,
          42.06129134006623,
          42.0585568173041,
          42.034779020408166,
          42.044282569629246,
          42.02710956480346,
          42.034625874460026,
          42.01984605,
          42.03439316763602,
          42.03230057142857,
          42.04404295929859,
          42.035684591836734,
          42.04384912201061,
          42.04615041705143,
          42.01876393877551,
          42.058476859767694,
          42.05458686956521,
          42.058239946514746,
          42.04302518364962,
          42.03491136367376,
          42.01389871428572,
          42.01704335764476,
          42.041214097838505,
          42.0476047890515,
          42.01620173469388,
          42.02717642489103,
          42.0431717996238,
          42.04743192670482,
          42.01383387755102,
          41.9934958,
          41.99177606122449,
          42.03254869387755,
          42.02974284670459,
          42.0067187,
          42.0602303,
          42.0373054880356,
          42.06241273217415,
          42.05037325787849,
          42.019845,
          42.049094,
          42.04869596019231,
          42.04017671411401,
          42.04111144014991,
          42.0187954493948,
          42.05488151341967,
          42.055759454849536,
          42.03513882316325,
          42.03120351101744,
          42.027858332874445,
          42.05912130631692,
          42.05675269387755,
          42.02005014844595,
          42.03130020342695,
          41.995639636363634,
          42.01628418948768,
          42.02207108163265,
          42.01879911680402,
          42.05868780124198,
          42.038242,
          42.04049986543264,
          42.06298473735977,
          42.03779939641082,
          42.051257,
          42.01853588619291,
          42.06258395999818,
          42.01961,
          42.03135067548951,
          42.0393602020202,
          42.0347606095106,
          41.98787306972328,
          42.054146461291175,
          42.05015365745678,
          41.991661771727685,
          42.025409366124286,
          42.0532638621418,
          42.05269954061322,
          42.01899045919927,
          41.991581,
          42.06330892484189,
          42.02949388202726,
          42.05430953383287,
          42.03469450295671,
          42.01775610204081,
          42.03065626590733,
          42.04264009172283,
          42.0503128,
          41.976775,
          42.02143698915696,
          42.04580647474747,
          42.042074826893845,
          42.01517981818182,
          42.02253827375642,
          42.01803175,
          42.01747083627112,
          41.99707827717013,
          41.992720967045045,
          41.99549672727273,
          42.03570702069996,
          42.01745576208653,
          42.03075197899311,
          42.03153563265306,
          42.01834544467016,
          42.025078040816325,
          42.050680245396464,
          42.01711511708953,
          42.02974456182286,
          42.03368926530612,
          42.040791,
          41.99436454761905,
          42.05576197061274,
          42.02677862546519,
          42.0208016,
          42.033180475682144,
          42.01766371428572,
          42.05379760477604,
          42.05211211938322,
          42.039626,
          42.05922767469544,
          42.04122489445505,
          42.03367444897959,
          42.01992066105976,
          42.02970564088348,
          42.020909424242426,
          42.034797857142856,
          42.018848319180094,
          42.06083992430277,
          42.03779023299645,
          42.02122648824435,
          42.0615751,
          42.028083367346944,
          42.05921795212532,
          42.03145560606061,
          42.05089156910706,
          42.05145127272728,
          42.03487773148428,
          42.052691714285714,
          42.03237266666667,
          42.03607759183674,
          42.036185914349126,
          42.06025005647437,
          42.033556530612245,
          42.04298891836734,
          42.03849757142857,
          42.014143408163264,
          42.02042696117159,
          42.03253748979592,
          42.04305854270129,
          42.03237534962453,
          42.015998,
          42.016264,
          42.01733036556407,
          41.9874384,
          42.05653622292416,
          42.04797712829743,
          42.02091675510204,
          42.03116806035273,
          42.02283281632653,
          42.031128547575314,
          42.03338514285715,
          42.03316868097388,
          42.01494529764479,
          42.0392109,
          42.04907590142522,
          42.02110348484849,
          42.01886496403276,
          42.03595241414142,
          42.026882,
          42.031376465559255,
          42.0305425,
          42.03102234891576,
          42.01705749125654,
          42.06311145561556,
          42.02441242578105,
          42.0356067408004,
          42.038222600566144,
          null,
          42.05256419055564,
          42.03820447062935,
          42.0325177134508,
          42.02142712244898,
          41.998546795918365,
          42.046481193134674,
          42.05443754843614,
          42.02874720155019,
          42.03498006470297,
          42.0630493,
          42.036070387755096,
          42.05643197161087,
          42.03329495918367,
          42.04873920408163,
          42.03686267652424,
          42.01905185981175,
          42.01875699429935,
          42.02989551048682,
          42.05052122199741,
          41.9874384,
          42.046461875977286,
          42.03473584536784,
          42.04760576262371,
          42.04288865097901,
          42.05455987750386,
          42.05257444095413,
          42.05913879165885,
          42.0461507880187,
          42.06012071125605,
          42.036071142857146,
          42.02891119630249,
          42.05122408118039,
          42.02027379591837,
          42.03129138585015,
          42.02826922093435,
          42.0608049049749,
          42.03920211409396,
          41.99133917447501,
          null,
          42.01983695918367,
          42.02654288104371,
          42.02086426530612,
          42.02812757375572,
          42.01983928571428,
          42.05709104833873,
          42.04504742401709,
          42.04547581818181,
          42.01711241139302,
          42.03278785385953,
          42.042148,
          41.98745148979592,
          42.02383501275371,
          42.01651302063701,
          42.04014941166468,
          42.02804506830828,
          42.03247928571429,
          42.045772413444254,
          42.04237125262611,
          42.05919,
          42.02224722059627,
          42.05987485826613,
          42.034589545454544,
          42.03498958150041,
          41.99304420509126,
          42.0321689780129,
          42.05865435025579,
          42.05917508506074,
          42.05334115361809,
          42.033632835927946,
          42.01887367728432,
          42.01834130645958,
          42.01909889183453,
          42.04261932346703,
          42.06010831450914,
          41.99006188397296,
          42.06114085708555,
          42.05140521978751,
          42.036118067114096,
          null,
          42.03586734570598,
          42.02822412244898,
          42.03840614285714,
          42.0067187,
          42.04435263296085,
          42.034796285714286,
          42.01885400251003,
          42.0354656678733,
          42.05783941996024,
          42.03029130520363,
          42.050701,
          42.02699542127183,
          42.03125390909091,
          42.05693096765655,
          42.04623312513961,
          42.04479406584831,
          42.06215714750543,
          42.03456663265306,
          42.05561906653435,
          42.052543122412686,
          42.02549132421804,
          42.056575537958985,
          42.03468248979592,
          42.03266336780784,
          42.05333163673215,
          42.05933832133246,
          42.04888291835724,
          42.03660749939788,
          42.05943523076923,
          42.032549,
          42.0313573159518,
          42.04761859498138,
          42.0523734322908,
          42.03587810204082,
          42.0180698,
          42.019704723445976,
          42.03111692525835,
          42.03046801799284,
          42.04335598367911,
          42.016115443957176,
          42.0503128,
          41.99176118367347,
          42.03354385714285,
          null,
          42.02661890853676,
          42.02774530000001,
          42.01699175190272,
          42.0584955988902,
          42.0352283939394,
          41.9932815225218,
          42.03040829025322,
          42.04317080845566,
          42.01804687755102,
          42.021012594079615,
          42.03612533302503,
          42.05166402018092,
          42.01990042857143,
          42.03698187878788,
          42.05548094395306,
          42.02701217390607,
          42.0182295194729,
          42.01909746734447,
          42.02306780977296,
          42.01777176161699,
          42.04966160016732,
          42.02215898209924,
          42.03290016411737,
          42.02058558498263,
          42.03457414285714,
          42.02397200025093,
          42.04582278227754,
          42.05319216790972,
          42.053556549952205,
          42.01888666091595,
          42.02382405268974,
          42.044831196564,
          42.03610286097453,
          42.047695,
          42.05241519646527,
          42.02395534693878,
          42.05384236587125,
          42.04565872727273,
          42.03339650911119,
          42.04820813541316,
          42.05670899093472,
          42.018796671864536,
          42.0418620340182,
          42.06150951715559,
          42.05800552553736,
          42.058131505708175,
          42.02085754586926,
          42.034406260859576,
          42.02367945537705,
          41.99713698687289,
          42.017743377278194,
          42.03734973435483,
          42.04984136325135,
          null,
          42.05100085340539,
          42.05465328747312,
          42.02827238071639,
          42.05239737241568,
          42.03028547773993,
          42.01628393398656,
          42.026019624956064,
          42.060527,
          42.04795096657084,
          42.01982143549701,
          42.01982143549701,
          42.04482343327602,
          42.046627,
          42.04186427763978,
          42.01977291808922,
          42.033411,
          42.03788941578877,
          42.03737504081633,
          42.04581491836735,
          42.02548264949602,
          42.04582264860672,
          42.04402128488845,
          null,
          null,
          42.02268957938945,
          42.01665042866146,
          42.0577749954113,
          42.05168067062588,
          42.043321232838565,
          42.04400813867079,
          42.058054374661424,
          42.05448710632901,
          42.0327743446741,
          42.021429673469385,
          42.03225344897959,
          42.05026176930743,
          42.061417,
          42.03920093288591,
          42.03461245031534,
          42.036356120579214,
          41.99286803679146,
          42.03617143045269,
          42.016954530612246,
          42.01879830182419,
          42.01716050269561,
          42.034909673469386,
          42.032176877551024,
          42.04139501333769,
          42.03011802143985,
          42.01801534413703,
          42.02094806122449,
          42.04375148778255,
          41.98650195959596,
          42.05924114669836,
          42.059171791900965,
          42.0324962823351,
          42.03837164246261,
          42.03710803509143,
          41.99908145627565,
          41.99436150025814,
          42.01882610908847,
          null,
          42.01628342298432,
          42.02192499918255,
          41.99154815807068,
          42.05068728251894,
          41.99186216828855,
          42.030542,
          41.995063,
          42.040341224489794,
          42.03490536734694,
          42.056447428117565,
          42.03598142857143,
          41.98890067884555,
          42.03476018367347,
          42.03978813086087,
          42.01908355102041,
          42.05234010168374,
          42.02639049473349,
          42.03605080914022,
          42.05799913138434,
          42.06241523887497,
          41.98925479375738,
          42.04411844467045,
          42.02662024334552,
          42.059904433064496,
          42.060731867838726,
          42.01311312321812,
          42.05822101793551,
          42.05087230391671,
          42.01381857142857,
          42.03373066468031,
          42.026007,
          42.03487876766617,
          42.01181652137016,
          42.019085408163264,
          42.02839985,
          42.047567265550725,
          42.0314626122449,
          41.996911936929806,
          42.032661,
          42.05430551029377,
          42.051654408072366,
          42.02589425700439,
          42.03028301753961,
          42.06152173624419,
          42.05254668582404,
          42.01453205986839,
          42.02261581632653,
          42.051158,
          42.057006534557765,
          42.06145186925646,
          42.05836682044044,
          42.04857355,
          42.03821362760548,
          42.05001652113813,
          42.030370530612245,
          42.05358836993309,
          42.03597620805369,
          42.05158958718548,
          41.99718783796052,
          42.0596633,
          42.024481,
          42.03239440978262,
          42.013683848484845,
          42.03251712428072,
          42.0392109,
          42.0304250439126,
          42.02108226530612,
          42.03720422652643,
          41.976775,
          42.05484837117483,
          42.06117450489474,
          42.058646144375054,
          42.02789,
          42.02769035,
          42.043927753531165,
          42.02712546980143,
          42.02448141478391,
          42.04365403142575,
          42.04615355888146,
          41.995862,
          42.0463123234812,
          42.04031158740381,
          42.03478934093556,
          42.03618790180763,
          42.05655151182624,
          42.03242908163266,
          42.02452050910066,
          42.017746571428574,
          42.04215446938776,
          42.0534156445612,
          42.05914047760562,
          42.02656209572818,
          42.043463213483925,
          42.0213336540556,
          42.0239428367347,
          42.02933328571429,
          42.06039105535776,
          42.05226586515384,
          42.06110342847591,
          42.05866432653061,
          41.98724084507599,
          42.03118511908954,
          41.98989992815509,
          42.05321602823657,
          42.01628495599104,
          42.04590928286497,
          42.038378,
          42.05926630702864,
          42.03472576222682,
          42.02208232146833,
          42.03376271803412,
          41.9920911280019,
          42.03520103030303,
          42.03632713933951,
          42.030223845509,
          42.03728355858157,
          42.0347575024348,
          42.05085454280478,
          42.036990270138126,
          42.02792105,
          42.04014137336195,
          41.98789996613723,
          42.0598335,
          42.04397958290653,
          42.05819059134361,
          42.03142016697981,
          42.04661706060606,
          42.05238119425546,
          42.015989,
          42.06314183901623,
          42.04971038436874,
          42.01077357972208,
          42.024635979329645,
          42.04401057122211,
          42.05653743391751,
          42.02953089547328,
          42.0523089122682,
          42.04467756303036,
          42.04376906424129,
          41.99325218411634,
          42.01828352551928,
          42.03609211111112,
          42.03315791422828,
          42.02112144948884,
          42.028567,
          42.05514960869565,
          42.054417,
          41.98822925075457,
          42.03700275757576,
          42.03537914558364,
          42.06128279834525,
          42.04638011188117,
          42.03465655833629,
          42.053262801007165,
          42.038475686868686,
          42.02869995,
          42.02322586631043,
          42.05177008211314,
          42.02463291108684,
          42.05025516004462,
          42.05261060854816,
          42.02133066437374,
          42.02106089795918,
          42.016122791562886,
          42.02108398519905,
          42.03779694130547,
          42.022957795918366,
          42.04018945174048,
          42.03005281632653,
          42.04956606736796,
          42.04088230612245,
          42.02283439804153,
          42.06144056645819,
          42.03362853061224,
          42.03492250798488,
          42.05703281157089,
          41.992981774936986,
          42.04289354938526,
          41.976775,
          42.03209108414542,
          42.05188771003549,
          42.02379443302653,
          42.03733263265306,
          42.0507044,
          42.03367036734694,
          42.04268285798441,
          42.031475163265306,
          41.9925693,
          42.052397,
          42.01628470048992,
          42.04493193780322,
          42.05857819253082,
          null,
          42.02958091062711,
          42.05444193877551,
          42.04452171442495,
          42.04960010499492,
          42.02511612121212,
          42.01956980932589,
          42.06074638936844,
          42.03618424242424,
          42.05551467165237,
          42.04134478111184,
          42.017787755102034,
          41.99331178787879,
          42.0607983,
          42.0045186106386,
          42.01681718367347,
          42.03376816326531,
          42.02011329977096,
          42.03603625309854,
          42.05251390637993,
          42.0332778736901,
          42.03939524195497,
          42.034611255938,
          42.059365782046015,
          42.03709327272728,
          42.049413962912574,
          42.01697138775511,
          42.037745,
          42.0486261288408,
          42.01896305872155,
          42.052681,
          42.03605315151515,
          42.02582065813658,
          42.03274631523725,
          41.989269962685945,
          42.03164405050505,
          42.032344,
          42.027111773373264,
          42.04402320439621,
          42.0159676969697,
          42.05485709836066,
          42.06078187626982,
          42.0290462244898,
          42.034608287927725,
          42.01697175510204,
          42.03603411367355,
          42.03152572727273,
          42.01248164634146,
          42.0348524769652,
          42.04959968595626,
          41.99068225802583,
          42.02012720689655,
          42.021885327164206,
          42.030304,
          42.02764613699593,
          42.01766727393634,
          42.01880653426052,
          42.03337493877551,
          42.03547188676149,
          41.995227545146506,
          null,
          42.049714503104646,
          42.05209934919439,
          42.0180246001813,
          42.0607983,
          42.06026381632653,
          42.04681067442588,
          42.05034167989689,
          42.03632541910413,
          42.02533237514933,
          42.02618222242579,
          42.01495149750324,
          42.0471576213377,
          42.01854294999573,
          42.03334814285714,
          42.03613564403293,
          42.050280268960826,
          42.058192197114536,
          42.01627320293952,
          42.05701005118444,
          42.03592591001854,
          42.05130147625216,
          42.04194368686869,
          42.04638169320729,
          42.04970528515862,
          42.03046118181818,
          42.01580415802055,
          41.99410007480293,
          42.02185706060606,
          42.03584083673469,
          42.03442457142857,
          42.03779564343747,
          42.01586263636364,
          42.01984084151792,
          42.016065265306125,
          42.06281190009081,
          42.02458194328168,
          42.0187764,
          42.05364195653941,
          42.027463,
          42.0375958,
          42.0169505422425,
          42.046150470046754,
          42.04312177940154,
          42.042333993501046,
          42.05522035353536,
          41.99845083673469,
          42.01881660987127,
          42.05534491781397,
          42.033648673469386,
          42.02165918367346,
          42.0067187,
          42.01378672727272,
          42.01853567565075,
          42.0332706331265,
          42.03247783673469,
          42.03578542405308,
          42.021148281281725,
          42.02479216259773,
          42.01774375797878,
          42.04462444997488,
          42.0525776349339,
          42.024613,
          42.03042011781359,
          42.04196994949495,
          42.03595766666667,
          42.06019847098656,
          42.02119537927844,
          42.04505799686908,
          42.058839,
          42.05214107653552,
          42.04199771428571,
          42.04629916806402,
          42.05165761210855,
          42.02580918614993,
          42.02015051309412,
          42.01625297959184,
          42.02928591836734,
          42.02016451037359,
          42.05071838925048,
          42.03441436,
          42.05818162382071,
          41.9974232,
          42.057789279643096,
          42.03772392063905,
          42.0334784489796,
          41.991109121673176,
          41.976775,
          42.01606471428572,
          42.046150841014025,
          42.04929427138124,
          42.01724606614414,
          42.034873204081634,
          42.04331738262278,
          42.0305902153294,
          42.01606057142857,
          42.0440485230458,
          42.03351130621579,
          42.02116562342297,
          42.01784835088658,
          42.03028423066889,
          42.02534759262952,
          41.99724605809091,
          42.043950501913415,
          42.031402,
          42.04127676962795,
          null,
          42.04772999279086,
          42.04854121553709,
          42.05284062808919,
          42.02848294284575,
          42.033713346938775,
          42.04231685634495,
          42.02266834527918,
          42.033550326530616,
          41.99539500416808,
          42.0596633,
          42.03750462746446,
          42.05891924185025,
          41.9909898142846,
          42.01996547854931,
          42.0397374085605,
          42.01853734360848,
          42.03121157173339,
          42.03919251931721,
          42.018961358192975,
          42.03247648484848,
          42.02730468048847,
          42.035940857142855,
          41.99419362131509,
          42.02952243495852,
          42.020670200000005,
          42.02138008372053,
          42.03184751488522,
          41.98863328632139,
          42.035627,
          42.03226288957077,
          42.01249068292682,
          42.06061594203664,
          42.017701,
          42.01975985,
          42.02224651984003,
          42.03234790909091,
          41.99335964301636,
          42.03954124010309,
          42.04626054887079,
          42.04321316252822,
          42.02134210412769,
          42.034618749504006,
          42.02888042529264,
          42.034636753004754,
          42.0350251460312,
          42.0197445912689,
          42.05510150572288,
          42.04886768508504,
          42.02539704205355,
          42.01622614285714,
          42.04964781107426,
          42.04475538230206,
          42.018824,
          41.99279715485504,
          41.99612709241717,
          42.03480396512893,
          42.02440635,
          42.03356375510205,
          42.02208185292281,
          42.03356240816326,
          42.0592170902796,
          42.06279969481224,
          42.036215286105424,
          42.02791058457986,
          42.02820781632653,
          42.02089475360223,
          42.04483500312437,
          42.03694315700855,
          42.03484686085428,
          42.03773282264411,
          null,
          42.03819044230735,
          null,
          41.99378064922707,
          42.03177733826975,
          42.0456386122449,
          42.046453,
          42.04805057476391,
          42.04377237616086,
          42.05020643650429,
          42.043985058753705,
          42.058737152268336,
          41.9910532345421,
          42.0598335,
          42.0240232552038,
          41.99687862217903,
          41.99414512291532,
          42.06087060545863,
          42.03744353304904,
          42.05071683049882,
          42.03038024489796,
          42.02527951515151,
          42.04747743904708,
          42.02911030612245,
          42.044964,
          42.01639531087636,
          42.05183011937376,
          41.99634304549552,
          42.06060493735942,
          42.03369234693877,
          42.044181855022174,
          42.057345518899616,
          42.01365021212121,
          42.021169363960766,
          42.03335815373232,
          42.03240181818182,
          42.05846803506189,
          42.05522161616162,
          42.04312369921638,
          42.05778373023761,
          42.06042832653061,
          42.03739596957785,
          42.03540027795152,
          42.0591486731634,
          42.02850316666667,
          42.01784848459848,
          42.016237489583936,
          42.03528206398965,
          42.05886891443513,
          42.0187764,
          42.03569580387607,
          42.02375505406583,
          42.025041,
          41.9889428,
          42.018913234963165,
          42.0229314,
          41.9889428,
          41.986502,
          42.05881126845638,
          42.0472465,
          42.052480812109046,
          42.031520525252525,
          42.03602158561776,
          42.02463150999388,
          42.0314243877551,
          42.03866947471524,
          42.05539722222222,
          42.01494616274132,
          42.05693463265306,
          41.9993665708047,
          42.05917604000987,
          42.03711555555555,
          42.03157838556309,
          42.03241948979592,
          42.030093597166974,
          42.06082197543335,
          42.06095352056197,
          42.04495999930424,
          42.02883129754714,
          42.05164793373692,
          42.045738253119055,
          42.05030841544594,
          42.06030525519523,
          42.03034370651663,
          42.034836081632655,
          42.04878318729735,
          42.02437897959184,
          41.991780641862334,
          42.04126240206098,
          42.01611499948408,
          42.016225,
          42.04215934659067,
          42.0194388,
          42.01777357142857,
          42.04952265171645,
          42.04791597701745,
          42.06196632018636,
          42.03601553061224,
          42.05813929966258,
          42.02119664766538,
          42.060437,
          42.03148287755102,
          42.0610026,
          42.03243614141415,
          42.03158911111112,
          42.02923415499327,
          42.04037,
          42.01774144897959,
          41.994393,
          42.02918255102041,
          41.99178588598931,
          null,
          42.050079416790645,
          42.04061953061225,
          41.997078855936365,
          42.02423726665693,
          42.060602011057085,
          41.98738846938775,
          42.02822588834018,
          42.03691324242424,
          42.050547819757305,
          42.03571573469387,
          42.018620604965065,
          42.06118616382303,
          42.0596633,
          42.02632120397248,
          42.03245028571428,
          42.05784644125896,
          42.03363257142857,
          42.060764951356745,
          42.04400232161542,
          42.01457847856688,
          41.99405586040726,
          42.03601824098498,
          41.99507548979592,
          42.05923973763154,
          42.05088919830085,
          42.01866271428571,
          42.0182144,
          42.04831911111111,
          42.0620127348117,
          42.03538295383696,
          42.05342436288952,
          42.04390334464078,
          42.02122286311423,
          42.04319952697053,
          41.99181325243282,
          42.053299204294746,
          41.991766863187166,
          41.99154866822061,
          42.05900223489933,
          null,
          42.03349893877551,
          42.04657956494262,
          42.024896481267774,
          41.99237969770272,
          42.021803161484655,
          42.03722504081633,
          42.02944169714717,
          42.041105164779786,
          42.01686156311544,
          42.051016,
          42.02796205429704,
          42.03488251140334,
          42.03475459306628,
          42.03141264646465,
          42.05007518475336,
          42.06090146418519,
          42.02208660424489,
          42.020122,
          42.05460248137384,
          42.03566082068494,
          42.03483957142857,
          42.04722115084994,
          42.04286334960819,
          42.059846894154944,
          42.03720520408163,
          42.03261412244898,
          41.99313386433791,
          42.01895888272266,
          42.03369585714286,
          42.03248367657032,
          42.02246437048411,
          42.02410714285714,
          42.05709484015397,
          42.03229496969697,
          42.0630493,
          42.06330748731288,
          42.03920257142857,
          42.02159548979592,
          42.04394083137912,
          42.02825981632653,
          42.03582053494847,
          41.99817349317236,
          42.03231529686042,
          42.02712577584114,
          42.03481163298788,
          41.99176002903685,
          42.03239,
          42.03536472396376,
          42.0386104489796,
          42.054143294806416,
          42.05209502548216,
          42.03328527989371,
          42.06235291657504,
          42.050717,
          42.04868297959183,
          42.01887723000482,
          42.03325592625249,
          42.044865,
          42.05974242857143,
          42.06125144742018,
          42.02316584831397,
          42.021696512606006,
          42.0344073877551,
          42.04283703436526,
          41.9968967156678,
          42.03638884285896,
          42.03637109386144,
          42.03371208163265,
          42.027850650000005,
          42.02997524398301,
          42.03074107700428,
          42.04565875510204,
          42.05942310187974,
          41.99607576901646,
          42.024134,
          42.02714385096228,
          42.03339302706197,
          42.03156136363637,
          42.04078615263452,
          42.0208882,
          42.02755995,
          42.03201642669712,
          42.034625760400026,
          42.031202533833984,
          42.01865543471588,
          42.0423584226295,
          42.03599737254902,
          42.03847468686869,
          42.06080924314691,
          42.01620136734695,
          42.01784808346278,
          42.04049997979798,
          42.03134931935007,
          42.04375970105864,
          42.04694850691245,
          42.05779515230231,
          42.0602303,
          42.04825613501672,
          42.04010222131483,
          42.047715503863365,
          42.00562308313463,
          42.02242708163266,
          42.03478859453858,
          42.05893023242427,
          42.03321929912531,
          42.03571148979592,
          42.0227831471151,
          42.03918705369127,
          42.01899,
          42.032101777475496,
          42.02766928890711,
          42.020129,
          42.016802051693205,
          42.03099668235503,
          null,
          null,
          null,
          null,
          null,
          null,
          null,
          null,
          null,
          null,
          null,
          null,
          null,
          null,
          null,
          null,
          null,
          null,
          null,
          null,
          null
         ],
         "legendgroup": "",
         "lon": [
          -93.65161918367347,
          -93.66367099341755,
          -93.61406809992512,
          -93.61220695918368,
          -93.63181831620726,
          -93.6715721070941,
          -93.61256091846626,
          -93.64230583853364,
          -93.6036188257733,
          -93.67006654263754,
          null,
          -93.60213991860324,
          -93.6087965510204,
          -93.61572103026556,
          -93.6876522121212,
          -93.68920687419867,
          -93.68911130789051,
          -93.65692684113984,
          -93.63727919577092,
          -93.6061805959596,
          -93.69121204722514,
          -93.6088355510204,
          -93.6030863886634,
          -93.61228857142856,
          -93.62760442259348,
          -93.64550296114534,
          -93.650374,
          -93.6457721435571,
          -93.63264578650906,
          -93.65753648637376,
          -93.61045453926472,
          -93.64433362330249,
          -93.64447838998942,
          -93.62737676136398,
          -93.60675880919582,
          -93.64923497959184,
          -93.69270120197211,
          -93.61018020408164,
          -93.6315601147541,
          -93.6253976305988,
          -93.65110150218392,
          -93.60742948809524,
          -93.6052156734694,
          -93.672579,
          -93.6138648979592,
          -93.65768375510204,
          -93.64377151492386,
          -93.66069363575488,
          -93.6202082244898,
          -93.61561781632652,
          -93.65162163265306,
          -93.64761628687974,
          -93.63783989426828,
          -93.68477896969698,
          -93.6587373332222,
          -93.660487,
          -93.65618536506652,
          -93.62208412387304,
          -93.655958,
          -93.65029642857142,
          -93.628408,
          -93.66738084341767,
          -93.6475996487335,
          -93.6575430612245,
          -93.68792039017748,
          -93.65680995634683,
          -93.68657648378274,
          null,
          -93.64689269387756,
          -93.65478466554772,
          -93.64407676418914,
          -93.6505290164941,
          -93.69065122622848,
          -93.6155758230605,
          -93.63605879162316,
          -93.64426567751812,
          null,
          -93.61530573469388,
          -93.62743413389023,
          -93.60600708080808,
          -93.61386526530612,
          -93.67154223074894,
          -93.6653221632653,
          -93.62348414285714,
          -93.6728131863958,
          -93.62547046323006,
          -93.62472727699644,
          -93.6389765770365,
          -93.64365631551216,
          -93.6266190612291,
          -93.64647512244898,
          -93.665322,
          -93.64578297226852,
          -93.61584551930623,
          -93.60670769387757,
          -93.60312324722656,
          -93.61572734636202,
          -93.64930425966442,
          -93.6813538557042,
          -93.602595,
          -93.61221769387755,
          -93.64139716702556,
          -93.67912,
          -93.62367055555556,
          -93.60262134872586,
          -93.60339916510804,
          -93.65744926530613,
          -93.65878627384562,
          -93.6355961810786,
          -93.64371993188,
          -93.630294,
          -93.61280176470588,
          -93.60864389206752,
          -93.64683644623204,
          -93.64234020531468,
          -93.621618,
          -93.67289230477073,
          -93.6055428854154,
          -93.69121340618791,
          -93.62720573469387,
          -93.68678307886384,
          -93.61727799531305,
          -93.62847008877344,
          -93.6168112727172,
          -93.60890513399804,
          -93.68915891193907,
          -93.6469074949495,
          -93.6633366122449,
          -93.64966625676163,
          -93.65586234297449,
          -93.68795145142214,
          -93.690581,
          -93.62762851950863,
          -93.64400952242131,
          -93.61846427481623,
          -93.62654775999262,
          -93.67639185858586,
          -93.69205532625902,
          -93.62228029253552,
          -93.68220220455852,
          -93.62714799845187,
          -93.689424,
          -93.63419894544032,
          -93.62913307832436,
          -93.68789159060452,
          -93.6469343265306,
          -93.61220516326532,
          -93.64939269814306,
          -93.650289,
          -93.64810611298782,
          -93.6701125847686,
          -93.6236834040404,
          -93.67513790697674,
          -93.6039140588975,
          -93.64791854964815,
          -93.61274980392156,
          -93.64359939425104,
          -93.68856952271436,
          -93.65232379747752,
          -93.61700179201884,
          -93.683921687578,
          -93.63530666666668,
          -93.61476988525514,
          -93.6245344897959,
          -93.61426001934532,
          -93.61581118310563,
          -93.61408520408165,
          -93.62532593181548,
          -93.60366755555556,
          null,
          -93.67148908163266,
          -93.64376476899724,
          -93.68199716308956,
          -93.65428032490836,
          -93.66994189898988,
          -93.687856790651,
          -93.63508069267212,
          -93.6257706734694,
          -93.63312900362668,
          -93.67588045842474,
          -93.64365697352228,
          -93.66717891980689,
          -93.62286472313644,
          -93.61728436734694,
          -93.6067183929868,
          -93.61907956662776,
          -93.6077650612245,
          -93.66655328915088,
          -93.627279,
          -93.61532728571429,
          -93.65327529754713,
          -93.66624914356966,
          -93.64609469150162,
          -93.68622907491604,
          -93.655506,
          -93.64603878546193,
          -93.6294784,
          -93.62945981841196,
          -93.68374009310392,
          -93.6186268970768,
          -93.68911880614316,
          -93.62398130612245,
          -93.63735972351776,
          -93.63422767405338,
          -93.64039073737374,
          -93.659392,
          -93.64350378515024,
          -93.64492734127276,
          -93.62560211863472,
          -93.66607205192382,
          -93.65612294798628,
          -93.609088,
          -93.64688583408538,
          -93.65417937402002,
          -93.6124554,
          -93.64838541912324,
          -93.633802,
          -93.62548479591835,
          -93.61509322351316,
          -93.62633287305052,
          -93.64656387755102,
          -93.61721855921348,
          -93.66049019219334,
          -93.62874606568025,
          -93.6533032150516,
          null,
          -93.67123417821566,
          -93.63599502545436,
          -93.6203006384482,
          -93.65469929085654,
          -93.62260554545456,
          -93.683206,
          -93.68225547575491,
          -93.68109655740692,
          -93.64838363265304,
          -93.60612031313131,
          -93.60323406682328,
          -93.6427680895134,
          -93.6574877363118,
          -93.62139680717895,
          -93.6553784014037,
          -93.6894175696057,
          -93.61543940059218,
          -93.6036697126137,
          -93.62245830908866,
          -93.68179635857511,
          -93.64365786824769,
          -93.60429612244896,
          -93.60371822707666,
          -93.64298118780832,
          -93.61222826161584,
          null,
          -93.64016214507028,
          -93.60366895117828,
          -93.61222924489796,
          -93.64634438338976,
          -93.65572973167484,
          null,
          -93.64384909097969,
          -93.65728995301232,
          -93.64270906146292,
          -93.6644765,
          -93.67466926377168,
          -93.608717,
          -93.64364459718288,
          -93.64954088846125,
          -93.60435779961487,
          -93.62826987704072,
          -93.64963653495818,
          -93.6776827755102,
          -93.64577722964748,
          -93.6575664153229,
          -93.64243274242688,
          -93.62884491578949,
          -93.687930042606,
          -93.66488768470606,
          -93.68394391958672,
          -93.62415224239898,
          -93.606752073161,
          -93.68313389795918,
          -93.6849951387715,
          -93.68175228571428,
          -93.60874928571428,
          -93.62815914285714,
          -93.63933355890704,
          -93.6154373302759,
          -93.6559183,
          -93.68912167103052,
          -93.60777784848484,
          -93.6197207,
          -93.60761720639056,
          -93.62147152372344,
          -93.6471045858586,
          -93.64416302842116,
          -93.65013950947724,
          -93.62551346938776,
          -93.64778782365164,
          -93.6048353974724,
          -93.64415341205856,
          -93.64676290642836,
          -93.62575915436877,
          -93.6433134674271,
          -93.63789395842964,
          -93.66686222837316,
          -93.65620536734694,
          null,
          -93.62236668686867,
          -93.67253772940806,
          -93.641526,
          -93.67996952877064,
          -93.65757749527188,
          -93.69218022846148,
          -93.65783559113645,
          -93.64491606122448,
          -93.61038558320044,
          -93.68569576767676,
          -93.6216614489796,
          -93.68623349496264,
          -93.618459,
          -93.61886691410052,
          -93.640518123423,
          -93.67697466213608,
          -93.60600470707072,
          -93.62477456483307,
          -93.61222985714284,
          -93.6632647299644,
          -93.67378595918368,
          -93.64457367220116,
          -93.65205791896162,
          -93.64942373186408,
          -93.64837885714286,
          -93.644926896477,
          -93.6653515,
          -93.64544340848364,
          -93.6516226122449,
          -93.62336047599264,
          -93.60570357400624,
          -93.6725511511952,
          -93.65737546477388,
          -93.6217385362576,
          -93.67829025531914,
          -93.6035056538022,
          -93.62214108540458,
          -93.65819855808628,
          -93.66928026366276,
          -93.62824103741372,
          -93.6481626,
          -93.61316938402076,
          -93.6364751856661,
          -93.63312312052932,
          -93.65146345283424,
          -93.64995508984912,
          -93.62709063265306,
          -93.6059824897959,
          -93.648351532708,
          -93.63955761616162,
          -93.64660354427208,
          -93.64259794157329,
          -93.63712424040322,
          -93.61595657142855,
          -93.62643386956522,
          -93.60799021212122,
          -93.66493873192312,
          -93.62554691836736,
          -93.69140194782878,
          -93.60722957089274,
          -93.67217225423155,
          -93.62018697987196,
          -93.61400865306122,
          -93.65531279784706,
          -93.62556069387756,
          -93.68949394140166,
          -93.64947028383988,
          -93.62691449706048,
          -93.61543984597746,
          -93.61986377477628,
          -93.647022,
          -93.645509,
          -93.69015542114964,
          -93.69060626586594,
          -93.66125796344346,
          -93.639552,
          -93.66607259932762,
          -93.64663943537052,
          -93.66086579008224,
          -93.61754234693878,
          -93.64118843764037,
          -93.65860293118872,
          -93.64189535276586,
          -93.68289296919988,
          -93.643556,
          -93.68464309104452,
          -93.61243779591835,
          -93.67191825955148,
          -93.6774812595442,
          -93.66149567643896,
          -93.6235075,
          -93.62960010095908,
          -93.61540881632654,
          -93.6254213265306,
          -93.62946068188016,
          -93.62163181632653,
          -93.6441540674731,
          -93.60887713131314,
          -93.67328616654792,
          -93.6447411423989,
          -93.67426804081632,
          -93.68500228550349,
          -93.63156375802194,
          -93.68366082946746,
          -93.65323766252466,
          -93.67698065927452,
          -93.6187385078336,
          -93.64450127152682,
          -93.62139599190822,
          -93.68109763935172,
          -93.61637686541748,
          -93.65399520765304,
          -93.64382077985354,
          -93.6325959,
          -93.62394609055036,
          -93.60682804611989,
          -93.62263804081633,
          -93.6663492,
          -93.63785692655183,
          -93.6821187933657,
          -93.64060076646572,
          -93.62822157142855,
          -93.64598659483784,
          -93.65675772325476,
          -93.6720386563243,
          -93.6343910625,
          -93.64662739398727,
          -93.67536573469388,
          -93.60711752442693,
          -93.62832041301807,
          -93.68445533701971,
          -93.64730202075964,
          -93.6424376975465,
          -93.6607112540801,
          -93.649542301261,
          -93.64031889686984,
          -93.62176390413988,
          -93.69137515829988,
          -93.647671,
          -93.61226375510203,
          -93.60479012759878,
          -93.62721524489795,
          -93.6423122535478,
          -93.62765172237602,
          -93.67086053535353,
          -93.644184,
          -93.62458843657076,
          null,
          -93.65414661216344,
          -93.6267052291767,
          -93.63897183030832,
          -93.63698612936076,
          -93.6663829759606,
          -93.67407142857142,
          -93.63779464883544,
          -93.627926,
          -93.65051097959184,
          -93.61086585885806,
          -93.6021357,
          -93.637788,
          -93.65304393958787,
          -93.61031392353992,
          -93.6140802857143,
          -93.61242581632654,
          -93.59996872621436,
          null,
          -93.677257350006,
          -93.67573680093103,
          -93.62924181330852,
          -93.64838682231044,
          -93.67123834844584,
          -93.61253632831034,
          -93.62555610204082,
          -93.64706809744942,
          -93.627695,
          -93.660602,
          -93.6396547,
          -93.65218318239246,
          -93.6539210146762,
          -93.64787321806948,
          -93.60816367708648,
          -93.61800109327204,
          -93.65311839997617,
          -93.60623275724798,
          -93.615429,
          -93.64596875881588,
          -93.62453204081632,
          -93.62385053019987,
          -93.6222984445571,
          -93.61062325031136,
          -93.62515039490025,
          -93.63454246820592,
          -93.601624,
          -93.61844169387756,
          -93.62555793877551,
          -93.62648085714288,
          -93.65834769387754,
          -93.60694141044608,
          -93.6541551783833,
          -93.6441992173775,
          -93.61405285714284,
          -93.6271091632653,
          -93.62231982989508,
          -93.63973588049144,
          -93.68623304546638,
          -93.65166036668946,
          -93.66017316218904,
          -93.6048054141414,
          -93.6291108657718,
          -93.688895,
          -93.642674,
          -93.66217073409716,
          -93.664509,
          -93.62295726356056,
          -93.62546034693877,
          -93.60656958697224,
          -93.68718591763704,
          -93.62171457142856,
          -93.65858202077328,
          -93.6820369359333,
          -93.68471572727272,
          -93.60299219600132,
          -93.606366989899,
          -93.64319327177768,
          -93.63375536933796,
          -93.62586720306224,
          -93.64687694636557,
          -93.61867770937496,
          -93.67190502706886,
          -93.6837257559237,
          -93.6339819544364,
          -93.60912559182812,
          -93.68199438769652,
          -93.62917921696383,
          null,
          -93.60495553528985,
          -93.68243961538462,
          -93.675132,
          -93.678758,
          -93.63251732040536,
          -93.689101,
          -93.65170730227656,
          -93.6654029,
          -93.60022157484228,
          -93.6878653838384,
          -93.65333767490483,
          -93.64408742095492,
          -93.62063910204084,
          -93.637326,
          -93.60243061324628,
          -93.62754452265992,
          null,
          -93.57832729307644,
          -93.68117685714286,
          -93.684411,
          -93.67282384824917,
          -93.68128598545968,
          -93.61760893209151,
          -93.65379020401356,
          -93.62844153061224,
          -93.60530083890698,
          -93.6831742061637,
          -93.65077168001568,
          -93.6469003877551,
          -93.66201652254809,
          -93.68961370743756,
          -93.63278756748916,
          -93.64265836776028,
          -93.655516,
          -93.608125,
          -93.6253292244898,
          -93.61662458579931,
          -93.64249212714206,
          -93.6786209631735,
          -93.61107609317202,
          -93.644148,
          -93.644192,
          -93.62169385714286,
          -93.6081644942168,
          -93.63749315294264,
          -93.62986759861607,
          -93.629625753887,
          -93.64930738305368,
          -93.67415414231128,
          -93.69152303149954,
          -93.61600823920722,
          -93.69159318608703,
          -93.65221048846104,
          -93.6590163181818,
          -93.64252609194008,
          -93.63597536209686,
          -93.679752,
          -93.66219771428572,
          -93.69138693054298,
          -93.64236547683238,
          -93.676399360278,
          -93.683356,
          -93.61032328571429,
          -93.691368353397,
          -93.62614208665283,
          -93.688895,
          -93.62985262130675,
          -93.63036795695383,
          -93.655797,
          -93.66606191273536,
          -93.63425011897093,
          -93.6569485660342,
          -93.60816571991228,
          -93.67863688229222,
          -93.64563281822882,
          -93.6905694613764,
          -93.64022440631769,
          -93.6734836316701,
          -93.6290162818792,
          -93.6258169129528,
          -93.60675628318276,
          -93.6414130851072,
          -93.62458487248324,
          -93.6140427755102,
          -93.653209853281,
          -93.64682732432732,
          -93.61898336734694,
          -93.66194959440077,
          -93.6437224223748,
          -93.6415741695409,
          -93.6260942530966,
          -93.63474361913696,
          -93.68622929966418,
          -93.61476109680883,
          -93.68624346346672,
          -93.61848014285717,
          -93.60018413490596,
          -93.61813433448592,
          -93.64235043856486,
          -93.67531048979592,
          -93.65117696467397,
          -93.68522470040688,
          -93.66098447742898,
          -93.69228547634812,
          -93.62707910309376,
          -93.62479946563464,
          -93.62611562861272,
          -93.68877371428572,
          -93.63701692058576,
          -93.6064848452381,
          -93.60524586740932,
          -93.6667508603405,
          -93.62515444596777,
          -93.63428082858952,
          -93.61695569387754,
          -93.64250793879312,
          -93.63947253148343,
          -93.6281476385107,
          -93.64039482796149,
          -93.61524020165535,
          -93.62675858329791,
          -93.67535371428572,
          -93.634378025,
          -93.647011989899,
          -93.66493964599474,
          -93.64670427559804,
          -93.61892575481906,
          -93.63471,
          -93.60502794949495,
          -93.6093452,
          -93.6552007059271,
          -93.60409578337028,
          -93.60383229513144,
          -93.635963,
          -93.6352344,
          -93.62447142863358,
          -93.6625751725542,
          -93.62348342857142,
          -93.67758435907253,
          -93.62321486965608,
          -93.68472770538008,
          -93.67609259183672,
          -93.60328933021609,
          -93.69085450610454,
          -93.68550604040404,
          -93.60776691836736,
          -93.65040116571043,
          -93.69079671519896,
          -93.62325760777752,
          -93.66861455432976,
          -93.64218655574228,
          -93.67826268085106,
          -93.64931675322148,
          -93.60157702884216,
          -93.63248836660205,
          -93.67618415151516,
          -93.6916023140184,
          -93.6070279042265,
          -93.6291915510204,
          -93.604222598044,
          -93.6021357,
          -93.61014271429372,
          -93.64933063070106,
          -93.62844465306122,
          -93.64084551761728,
          -93.61541004081631,
          -93.608716,
          -93.64580462969136,
          -93.61406195922254,
          null,
          -93.6781799948893,
          -93.67948936241542,
          -93.6801774863413,
          -93.68118917350554,
          -93.65749616326532,
          -93.68560220408165,
          -93.6779561719857,
          -93.604106,
          -93.65429293465564,
          -93.69251180861552,
          -93.60569883577747,
          -93.61285385715064,
          -93.62456660627306,
          -93.60764075510204,
          -93.69123942575058,
          -93.61680909086884,
          -93.66355788888887,
          -93.69174026119212,
          -93.62885495789476,
          -93.6088341632653,
          -93.68572630529712,
          -93.61263997435896,
          -93.646828,
          -93.6379785407475,
          -93.62370485714284,
          -93.6093452,
          -93.68659668498664,
          -93.65862,
          -93.6466556166478,
          -93.63152308199788,
          -93.67364530612244,
          -93.62450668469695,
          -93.64765887536495,
          -93.60930168616562,
          -93.68964000369684,
          -93.6072490569355,
          -93.62241285714283,
          -93.62047117158788,
          -93.6198595345658,
          -93.634738,
          -93.61727963334768,
          -93.60867480737409,
          -93.60002553480204,
          -93.62715557142856,
          -93.6364315,
          -93.6108383261398,
          -93.68889377734922,
          -93.619783,
          -93.61603242857144,
          -93.6804398781678,
          -93.64253480339607,
          -93.6142805154145,
          -93.62268006475738,
          -93.643988570908,
          -93.60816040856515,
          -93.61493435062953,
          -93.65367775597775,
          -93.61826685714286,
          -93.64823284612062,
          -93.65759867203336,
          -93.66951756572132,
          -93.61880678521356,
          -93.64141992057222,
          -93.6325959,
          -93.6919548486722,
          -93.62635424489795,
          -93.67104108534794,
          -93.6272573265306,
          -93.67266393241763,
          -93.60301436490518,
          -93.6580366031701,
          -93.6400583554058,
          -93.65042915397504,
          -93.6800134289633,
          -93.6167052407816,
          -93.64354139484782,
          -93.66465472502972,
          -93.62613914098549,
          -93.62770173042392,
          -93.6839763848764,
          -93.644405,
          -93.69182330890914,
          -93.62930107326687,
          -93.61044502247243,
          -93.63585790740748,
          -93.63567359736632,
          -93.60414456756044,
          -93.64704514285714,
          -93.69133679337207,
          -93.6879923077972,
          -93.62703997959184,
          -93.62980991056968,
          -93.65441192506609,
          -93.6027426,
          -93.63963199612056,
          -93.62762874955108,
          -93.61868875,
          -93.65046909898264,
          -93.65539242272703,
          -93.6068260153733,
          -93.60743936126562,
          -93.68199346256552,
          -93.67095644136586,
          -93.68319406749146,
          -93.60997548484848,
          -93.68100702779306,
          -93.65149763205174,
          null,
          -93.62015225124316,
          -93.60415458704888,
          -93.6154473877551,
          -93.62584077426474,
          -93.62915074903395,
          -93.65196413300134,
          -93.62900207876736,
          -93.6415073065371,
          -93.61184232632132,
          -93.60557498097911,
          -93.65273732220116,
          -93.62175577659416,
          -93.6714876122449,
          -93.66914556457004,
          -93.644516,
          -93.65117019771787,
          -93.60600677777778,
          -93.60331614523712,
          -93.62270412862706,
          -93.6891516173948,
          -93.61222263636364,
          -93.606876,
          -93.60600425252524,
          -93.64269276238964,
          -93.62684278990056,
          -93.608814,
          -93.66195007692308,
          -93.68794560760956,
          -93.64365523268008,
          -93.60500455620638,
          -93.65083023795216,
          -93.60122804548456,
          -93.60468306987144,
          -93.68312365714286,
          -93.66951124378872,
          -93.68899743746088,
          -93.6840958795833,
          -93.65619674912348,
          -93.68690285714284,
          -93.66938175037308,
          -93.63774189850938,
          -93.6393163,
          -93.60870085714284,
          -93.68406111340154,
          -93.68951234693058,
          -93.64217439770088,
          -93.62823044963444,
          -93.608717,
          -93.64544654019151,
          -93.63054914493678,
          -93.65472971810732,
          -93.64934614756156,
          -93.63873755367472,
          -93.63960037779924,
          -93.6306693908486,
          -93.68760908163266,
          -93.68666765624916,
          -93.63312500181334,
          -93.643553,
          -93.64173415044884,
          -93.66369532455674,
          -93.68695036734694,
          -93.61269650911262,
          -93.61827582597934,
          null,
          -93.6298432321745,
          -93.60671648211698,
          -93.6856536060606,
          -93.682787,
          -93.62818671428572,
          -93.62260726262626,
          -93.64681158483924,
          -93.61863851557771,
          -93.62169166666666,
          -93.639331,
          -93.67362276162544,
          -93.64225902147986,
          -93.6247256505704,
          -93.68203606488623,
          -93.6421010576062,
          -93.66349395424876,
          -93.6551864675853,
          -93.62970391791234,
          -93.62774527117207,
          -93.66484362593184,
          -93.602322,
          -93.64544334040303,
          -93.62338267151682,
          -93.63430969696306,
          -93.65862,
          -93.67234434223374,
          -93.64170654972128,
          -93.6244069848543,
          -93.6556846734694,
          -93.6404592288353,
          -93.6409719833404,
          -93.684442,
          -93.62580581729026,
          -93.67452128571428,
          -93.67212195721362,
          -93.63046370018368,
          -93.65094213329934,
          -93.67417240816329,
          -93.62550722701606,
          -93.65054898899793,
          -93.62460230980588,
          -93.68888958084088,
          -93.6553652970704,
          -93.64625071872992,
          -93.6543088794394,
          -93.61893795918368,
          -93.61664575394435,
          -93.69211408163264,
          -93.62859538775513,
          -93.65621279591836,
          -93.6083826859676,
          null,
          -93.64183001480237,
          -93.61853604176454,
          -93.6710654882045,
          -93.62558708257562,
          -93.67974620831588,
          -93.62053642728075,
          -93.6483834489796,
          -93.68918278391688,
          -93.683124,
          -93.6402420555802,
          -93.656246,
          -93.6046475171096,
          -93.66032570849042,
          -93.63765912244898,
          -93.63478873225073,
          -93.61287066175692,
          -93.60476359890072,
          -93.6678676,
          -93.62152304040404,
          -93.6171027755102,
          -93.623531453391,
          -93.67514,
          -93.6770425386448,
          -93.61408085714288,
          -93.684519,
          -93.68312262857144,
          -93.61244363636364,
          -93.66494477445994,
          -93.6902622220076,
          -93.60412723685246,
          -93.6018171072548,
          -93.6417903005472,
          -93.69205469387757,
          -93.64763462609488,
          -93.64258983323604,
          -93.626753,
          -93.61952556769371,
          -93.6267063752662,
          -93.63908853643554,
          -93.6566373245119,
          -93.6364315,
          -93.62447853846152,
          -93.65583139715451,
          -93.68329965853658,
          -93.64367262325128,
          -93.62296382608696,
          -93.67670051724056,
          -93.60641379761904,
          -93.68788918120902,
          -93.64292029141716,
          -93.61727616494667,
          -93.63453451948163,
          -93.65221497316996,
          -93.64177671006505,
          -93.62156881632652,
          -93.6574501465908,
          -93.64521998339232,
          -93.66520309028522,
          -93.61386404081634,
          -93.66468275786433,
          -93.639552,
          -93.61724350547,
          -93.63972683596012,
          -93.64544674443336,
          -93.66214257142856,
          -93.62739947523752,
          -93.68297,
          -93.60264139470424,
          -93.642325,
          -93.655017,
          -93.6845574040404,
          -93.60646486868688,
          -93.60444350418034,
          -93.62236943434344,
          -93.64407953314362,
          -93.644405,
          -93.62563247253073,
          -93.6216515510204,
          -93.674511,
          -93.67240756707396,
          -93.6648772824148,
          -93.66007304628964,
          -93.621618,
          -93.639331,
          null,
          -93.61296405358212,
          -93.6451036585535,
          -93.63570856679404,
          -93.65265019942632,
          -93.69184014108129,
          -93.61722920800686,
          -93.6189605281827,
          -93.64758041232044,
          -93.65050904399028,
          -93.683345,
          -93.65441359375,
          -93.678181195683,
          -93.68091120648327,
          -93.61826257142856,
          -93.61747530123144,
          -93.62956220974218,
          -93.61344680244356,
          -93.65305565872592,
          -93.6396927898254,
          -93.64581029094607,
          -93.61565977777778,
          -93.65978894256052,
          -93.68579351117005,
          -93.6826174,
          -93.68446798947812,
          -93.6340710138004,
          -93.64252197625024,
          -93.61245140816328,
          -93.62723363218142,
          -93.68788355559666,
          -93.60769442857142,
          -93.6563841302438,
          -93.6054401909198,
          -93.62845120786706,
          -93.6439603995685,
          -93.67436008391157,
          -93.626679883796,
          -93.62666747171784,
          -93.63370723672809,
          -93.61985785089291,
          -93.60898913203766,
          -93.60705409205347,
          -93.64235910059388,
          -93.6718996122449,
          -93.6172969807962,
          -93.62238624690356,
          -93.6245336734694,
          -93.60770175510204,
          -93.61057705882352,
          -93.61662054515148,
          -93.67795673643693,
          -93.68126765306124,
          -93.6174714724021,
          -93.6253307862428,
          -93.660487,
          -93.62498424342682,
          -93.67029979872376,
          -93.66289102447584,
          -93.6891088086974,
          -93.6613735116964,
          -93.63019974439564,
          -93.67102361025562,
          -93.667721,
          -93.68036485714286,
          -93.63989112051938,
          -93.61006091665114,
          -93.61726248484848,
          -93.63353181710464,
          -93.62673348979592,
          -93.63693627207762,
          -93.68394718020176,
          -93.62572524489796,
          -93.69073804830629,
          -93.65750893531012,
          -93.64176933861502,
          -93.68787247474746,
          -93.60344737275906,
          -93.61105051866134,
          -93.62479788876188,
          -93.637490524524,
          -93.62055726521544,
          -93.62944124298578,
          -93.642739916618,
          -93.6418021,
          -93.64135675121511,
          -93.64015721921795,
          -93.69157660431875,
          -93.66047273469388,
          -93.65942942367084,
          -93.62622991999754,
          -93.6413613790638,
          -93.63676940744348,
          -93.63952640343916,
          -93.6296709216563,
          -93.6813320926418,
          -93.68319471916004,
          -93.68645026777664,
          -93.64944538220884,
          -93.6170078,
          -93.6432893783217,
          -93.62139147931464,
          -93.63697835811374,
          -93.6892297339987,
          -93.68923765466582,
          -93.67535741666669,
          -93.6559183,
          -93.63553267246368,
          -93.65714067144042,
          -93.60133717353398,
          -93.62926987680248,
          -93.60773793877551,
          -93.64859801749694,
          -93.64274629332604,
          -93.6435998698284,
          -93.64119769245886,
          -93.65426990047376,
          -93.61910824030905,
          -93.61312859600518,
          -93.62312652643324,
          -93.6660712308181,
          -93.651997,
          -93.621618,
          -93.639331,
          -93.60771933333334,
          -93.6201471256216,
          -93.6317290238436,
          -93.61540930612246,
          -93.62742486533254,
          -93.66613972695129,
          -93.65298445538993,
          -93.63155173333324,
          -93.63669020571436,
          -93.64417992287248,
          -93.62671179166666,
          -93.65856524489796,
          -93.62366934343434,
          -93.69055674746764,
          -93.68426260204082,
          -93.69243150921577,
          -93.650689,
          -93.68747221276595,
          -93.68430787804876,
          -93.64680712244898,
          -93.68791956691226,
          -93.66207773576618,
          -93.69049048258952,
          -93.6105761764706,
          -93.65590479824506,
          -93.6167814314537,
          -93.66855348979593,
          -93.69123043198356,
          -93.63626510175811,
          -93.64967720218152,
          -93.62771055555557,
          -93.6452748980294,
          -93.68685460834126,
          -93.64381650176335,
          -93.64408414806776,
          -93.683296,
          -93.675374,
          -93.64181839540622,
          -93.69062288349016,
          -93.64250787907976,
          -93.64442,
          -93.651777,
          -93.6468604489796,
          -93.62368516161617,
          -93.65256833567588,
          -93.68792628863292,
          -93.64348184635656,
          -93.6259780470045,
          -93.6405458414634,
          -93.65438858654986,
          -93.6539598452122,
          -93.63272112714208,
          -93.63922063265306,
          -93.63967902197976,
          -93.6364315,
          -93.630417,
          -93.64688139022547,
          -93.68938646605434,
          -93.63460714015186,
          -93.618344,
          -93.61488920408163,
          -93.62172628670233,
          -93.6277972,
          -93.6635408367347,
          -93.62848902504592,
          -93.60475783903652,
          -93.62769490365976,
          -93.68682538775508,
          -93.6321309749112,
          -93.66031389994257,
          null,
          -93.63403035217894,
          -93.60489958791166,
          -93.62136375,
          -93.62930602362958,
          -93.6459628728382,
          -93.6439843336821,
          -93.684168,
          -93.68680783673469,
          -93.68448476877506,
          -93.68888870094035,
          -93.6711171020408,
          -93.6253253977232,
          -93.6567019879936,
          -93.61720153061223,
          -93.64681975510204,
          -93.60388829835333,
          -93.64046454535584,
          -93.667057007354,
          -93.629176,
          -93.64277531399816,
          -93.65459591064815,
          -93.64195865053232,
          -93.68445351933772,
          -93.65707440417286,
          -93.6345057351846,
          -93.61052979591835,
          -93.62629245454544,
          -93.677215,
          -93.62359061616162,
          -93.69231755747025,
          -93.64588658189211,
          -93.68835371472744,
          -93.66171536533082,
          -93.67855367114376,
          -93.63405060531882,
          -93.62980914090632,
          -93.675848,
          -93.62656551196972,
          -93.68788782745293,
          -93.64492751919109,
          -93.61899075925766,
          -93.61058763829789,
          -93.6289333382767,
          -93.6417944783108,
          -93.67758661544352,
          -93.67673803276509,
          -93.64206048966598,
          -93.60169746193904,
          -93.62479963636363,
          -93.60368087492306,
          -93.691702800301,
          -93.6379153876308,
          -93.67758147209967,
          -93.68786617171718,
          -93.61563275510204,
          -93.62093408231274,
          -93.6525270045858,
          -93.64502095154818,
          null,
          -93.62138323748763,
          -93.68630890924456,
          -93.61366,
          -93.62615838123916,
          -93.62152434343434,
          -93.64147775501496,
          -93.64644685714286,
          -93.68221448418412,
          -93.61750528752938,
          -93.6378914226328,
          -93.68465248484848,
          -93.62791653535352,
          -93.6057927895483,
          -93.65588089772652,
          -93.67439551930664,
          -93.64872647506812,
          -93.63117195284556,
          -93.68560465306123,
          -93.650488246871,
          -93.64544667635276,
          -93.69067896398592,
          -93.627966,
          -93.65345176877533,
          -93.65278913785878,
          -93.62306696748756,
          -93.67328688093542,
          -93.6378922678984,
          -93.64789842684952,
          -93.6069253265306,
          -93.631941,
          -93.61837826270128,
          -93.65764873299152,
          -93.62132202020202,
          -93.6162945,
          -93.646445,
          -93.61392595918367,
          -93.66053930270782,
          -93.6866276553865,
          -93.68328779777768,
          -93.62147019046544,
          -93.62933825707675,
          -93.68366222103342,
          -93.60415664642606,
          -93.61017181635673,
          -93.6243609854988,
          -93.62600197691496,
          -93.60410040816326,
          -93.62635229303132,
          -93.62563073925816,
          -93.62450757959591,
          -93.64317104495814,
          -93.68548960015973,
          -93.65081211897608,
          -93.6867241326706,
          -93.68645464146188,
          -93.68812023225244,
          -93.60920896969698,
          -93.6427686299776,
          -93.621618,
          -93.683401,
          -93.64373879864944,
          -93.69219595401574,
          -93.64072038253975,
          -93.66768194285714,
          -93.69167725063993,
          -93.62659424143224,
          -93.62745846084783,
          -93.64394877789402,
          -93.6150424980138,
          -93.63958651461576,
          -93.60441480040151,
          -93.60886957575758,
          -93.6460387342286,
          -93.63222042442554,
          -93.62985899498922,
          -93.65321690365111,
          -93.65357221984912,
          -93.66351284112656,
          -93.65011125860852,
          -93.683069584533,
          -93.632759,
          -93.62478349895784,
          -93.65022700720829,
          null,
          -93.63675673845938,
          -93.62352184046208,
          -93.63907908074022,
          -93.68889711994818,
          -93.6104506558996,
          -93.6471167755102,
          null,
          -93.682723,
          -93.60598114285712,
          -93.60880151020407,
          -93.61843908163266,
          -93.601336,
          -93.6084029175788,
          -93.65670986122794,
          -93.64421892307692,
          -93.68623319529848,
          -93.652376,
          -93.67143803722824,
          -93.6470082679869,
          -93.632611,
          null,
          -93.635969,
          -93.646474,
          -93.64625073469388,
          -93.66847303731996,
          -93.63832453179472,
          -93.65978848253648,
          -93.60706065,
          -93.64472895643355,
          -93.66294744065245,
          -93.6021357,
          -93.63495514285714,
          -93.65012184751308,
          null,
          -93.67854840944416,
          -93.62472662642602,
          -93.68221545255236,
          -93.63046679126812,
          -93.6700116887824,
          -93.62171171428572,
          -93.64790984848484,
          -93.66934895944958,
          -93.66602692414152,
          -93.60768387755104,
          -93.62665305219952,
          -93.64182285981389,
          -93.63462414095068,
          -93.61727860987578,
          -93.6240256097643,
          -93.60759889784792,
          -93.63646963865264,
          -93.66973775232464,
          -93.61826428571428,
          -93.61876687740951,
          -93.61031071353489,
          -93.64696563265306,
          -93.61392424489796,
          -93.65334224019912,
          -93.60003156989616,
          -93.64599539703968,
          -93.6857276060606,
          -93.60799793939394,
          -93.6170522793614,
          -93.66647533333332,
          -93.63261046652536,
          -93.635861,
          -93.68392905776103,
          -93.65495209183136,
          -93.68687474351474,
          -93.6381182011327,
          -93.628226,
          -93.65760764934078,
          -93.64093664203897,
          -93.608867,
          -93.6131651392585,
          -93.6083176757122,
          -93.60475999674486,
          -93.68782857258704,
          -93.61898138864947,
          -93.6156317755102,
          -93.62576579920582,
          -93.67249157142857,
          -93.63130940099082,
          -93.64583711582564,
          -93.6518441020408,
          -93.65716540760376,
          -93.62644647826087,
          -93.64947732091154,
          -93.6171444880136,
          -93.62031613617994,
          -93.68400428571428,
          -93.68393498668452,
          -93.62741617421996,
          -93.64810461004222,
          -93.6869765510204,
          -93.60867184608313,
          -93.62596656923655,
          -93.64807924431726,
          -93.68675696938776,
          -93.6093452,
          -93.6041162244898,
          -93.68353202040817,
          -93.62746622915472,
          -93.6162945,
          -93.6439316,
          -93.66115679305786,
          -93.64167800035054,
          -93.63712515829856,
          -93.685047,
          -93.63368,
          -93.6155152580065,
          -93.6073690195486,
          -93.62703009793653,
          -93.66916401261176,
          -93.62498566826036,
          -93.65294508026614,
          -93.68930842325092,
          -93.67863640434246,
          -93.6791161110155,
          -93.63902087855888,
          -93.62326030612245,
          -93.68713883684688,
          -93.67761417500942,
          -93.60254727272728,
          -93.68119088994776,
          -93.69203789795918,
          -93.66937326450352,
          -93.6521417061194,
          -93.61891928571428,
          -93.61705367616844,
          -93.65423516290106,
          -93.69062607322525,
          -93.616288,
          -93.64020250538066,
          -93.64167515527444,
          -93.685229,
          -93.67361746234788,
          -93.61704195959597,
          -93.68499576324322,
          -93.60394051401822,
          -93.64249539030304,
          -93.625870402722,
          -93.60205286361573,
          -93.62826716757364,
          -93.6356519938145,
          -93.61883290722687,
          -93.67187315915312,
          -93.600982,
          -93.6421149897036,
          -93.68520334075956,
          -93.64266101521424,
          -93.66973712848696,
          -93.682723,
          -93.67625133130213,
          -93.6222919407632,
          -93.6481626,
          -93.62945,
          -93.62946088638576,
          -93.62457703030304,
          -93.6295010654081,
          -93.6878659090909,
          -93.60438564862078,
          -93.6649803,
          -93.63975358571136,
          -93.60431648622732,
          -93.60530866046922,
          -93.64798054545454,
          -93.6293608200486,
          -93.651822,
          -93.679967,
          -93.62043069387757,
          -93.68766481029267,
          -93.66333636734694,
          -93.64847774408116,
          -93.64488430678456,
          -93.67994368720932,
          -93.62241787755102,
          -93.629457,
          -93.60630972619047,
          -93.65329081799592,
          -93.6660558689138,
          -93.68312297142856,
          -93.6745246509813,
          -93.68560404081632,
          -93.65448720349738,
          -93.64081258920636,
          -93.618395,
          -93.64943924872458,
          -93.610614,
          -93.62453530612244,
          -93.61542733620075,
          -93.6849454248906,
          -93.67640175757576,
          -93.609088,
          -93.64232664770807,
          -93.64039014736542,
          -93.6905270168328,
          -93.68688367985106,
          -93.6291384384083,
          -93.6084256122449,
          -93.64948587730068,
          -93.62152086868689,
          -93.63977789364256,
          -93.63747845454546,
          -93.67371450855045,
          -93.63730291836734,
          -93.6215438888889,
          -93.61408379591836,
          -93.62029508197648,
          -93.64142675603722,
          -93.62156963265306,
          -93.64575671428572,
          -93.61243712244898,
          -93.68706444897958,
          -93.66464522571768,
          -93.66554281632652,
          -93.6127537651229,
          -93.672494760584,
          -93.687873,
          -93.644405,
          -93.651822,
          -93.6038168,
          -93.6262780908437,
          -93.62906842068897,
          -93.67310073469388,
          -93.67742937034932,
          -93.65741271428573,
          -93.60684206639309,
          -93.61858214285716,
          -93.61590522326648,
          -93.63984137116496,
          -93.6294784,
          -93.63267379956628,
          -93.67640515151516,
          -93.6850832247816,
          -93.60886785858588,
          -93.62525,
          -93.61730224444268,
          -93.678758,
          -93.67805045810474,
          -93.65159811836796,
          -93.6404083005542,
          -93.68396438625858,
          -93.62932983124064,
          -93.61435295902842,
          null,
          -93.65569000339838,
          -93.62704705046264,
          -93.6287337222282,
          -93.62510589795916,
          -93.65888812244896,
          -93.63331189475612,
          -93.65124218090162,
          -93.62053553101669,
          -93.68991858232673,
          -93.6559183,
          -93.67440985714286,
          -93.63254618038142,
          -93.60872140816326,
          -93.6359494489796,
          -93.68929512185456,
          -93.69251582177093,
          -93.67328652374168,
          -93.6767330344811,
          -93.62608464092632,
          -93.6038168,
          -93.64544681251397,
          -93.62560141242317,
          -93.6449265406404,
          -93.61364245694682,
          -93.62795353815586,
          -93.65405592868406,
          -93.62984648518588,
          -93.64576131484569,
          -93.64027799877442,
          -93.61543326530612,
          -93.62054253089792,
          -93.64361043552432,
          -93.62686902040817,
          -93.67151022351354,
          -93.60892366574294,
          -93.63874104084712,
          -93.62297802013424,
          -93.60453041284202,
          null,
          -93.67381812244898,
          -93.66374178824336,
          -93.65582469387756,
          -93.61061975409754,
          -93.67360714285714,
          -93.64152654648848,
          -93.62360488018685,
          -93.63383418181816,
          -93.64474187118972,
          -93.65939348402765,
          -93.612503,
          -93.604969,
          -93.6891240580733,
          -93.6892086342482,
          -93.60776791494204,
          -93.6124565522069,
          -93.62044965306124,
          -93.6522149891641,
          -93.62250919893587,
          -93.635558,
          -93.65686398117616,
          -93.63750893207488,
          -93.67004396969696,
          -93.62053982633488,
          -93.60816408565162,
          -93.61419323795631,
          -93.65130933642588,
          -93.65025874338772,
          -93.65230523871368,
          -93.66194715352418,
          -93.69239451908518,
          -93.69068352578893,
          -93.64509064963066,
          -93.62139972114164,
          -93.62312913893597,
          -93.60529940316184,
          -93.641526,
          -93.61846536488972,
          -93.62457037583891,
          null,
          -93.68984638246268,
          -93.6122507755102,
          -93.61885120408164,
          -93.6162945,
          -93.61330526592172,
          -93.60670585714286,
          -93.64838331434242,
          -93.62954600198024,
          -93.64174276771456,
          -93.61867631787278,
          -93.62467,
          -93.62264784136816,
          -93.60899563636364,
          -93.64145647188434,
          -93.64544354464483,
          -93.61750567835146,
          -93.64538553741868,
          -93.659175,
          -93.65128350496198,
          -93.6556306614624,
          -93.66493729775829,
          -93.62422771374996,
          -93.60798526530613,
          -93.66229552840989,
          -93.652527,
          -93.63922623608168,
          -93.61428673550056,
          -93.68766345157674,
          -93.6435853076923,
          -93.683476,
          -93.61585524405643,
          -93.64492645168124,
          -93.62729175116552,
          -93.67418285714284,
          -93.66545537543936,
          -93.68493931363165,
          -93.6820008636136,
          -93.62234911146597,
          -93.62332249557672,
          -93.6815636829872,
          -93.6481626,
          -93.6041636734694,
          -93.62475385714286,
          null,
          -93.68799439636044,
          -93.61487045,
          -93.64216871943997,
          -93.63698156802168,
          -93.61222217171716,
          -93.64673839941864,
          -93.60682723382124,
          -93.62574447558184,
          -93.64682651020408,
          -93.69042392222048,
          -93.62268012445372,
          -93.62981621634086,
          -93.6442381632653,
          -93.60480771717172,
          -93.62442998453206,
          -93.62166343205271,
          -93.68670166598604,
          -93.64515978488132,
          -93.67103851283342,
          -93.68916936746068,
          -93.62727295519169,
          -93.66466268204026,
          -93.68573364458288,
          -93.69168603900368,
          -93.659175,
          -93.62404794278793,
          -93.61815536689608,
          -93.64361585829182,
          -93.6280221192271,
          -93.6806201438868,
          -93.68890046748884,
          -93.6177285184774,
          -93.69239440264975,
          -93.635145,
          -93.6295873275791,
          -93.62569491836734,
          -93.65460839627404,
          -93.61481281818182,
          -93.68377969538923,
          -93.6267296792946,
          -93.62562088563766,
          -93.66923376324236,
          -93.6062388657502,
          -93.63794834427313,
          -93.64155693660015,
          -93.63835771923058,
          -93.67854939601284,
          -93.65711292709214,
          -93.65884226666122,
          -93.6072027855146,
          -93.65050593773736,
          -93.60367614147803,
          -93.625627272713,
          null,
          -93.6408471633756,
          -93.63780634837752,
          -93.60727534405744,
          -93.65575412517684,
          -93.6189278569942,
          -93.6812110617612,
          -93.6219415096092,
          -93.628865,
          -93.63497935824894,
          -93.64027047855132,
          -93.64027047855132,
          -93.62120641565328,
          -93.625787,
          -93.60633864092205,
          -93.68532405231228,
          -93.622628,
          -93.69147201386848,
          -93.61544836734691,
          -93.62601469387756,
          -93.6891139269998,
          -93.61812796437889,
          -93.61250605741652,
          null,
          null,
          -93.6253261988616,
          -93.68902362497391,
          -93.65181467493376,
          -93.62750711476306,
          -93.63751258190996,
          -93.624654309507,
          -93.6427782379469,
          -93.62775298723088,
          -93.65917208950648,
          -93.6602711632653,
          -93.6171734489796,
          -93.62565524642145,
          -93.65449785960404,
          -93.62305004697988,
          -93.67237317309048,
          -93.6864682868005,
          -93.60422433229849,
          -93.68876227146406,
          -93.6813584489796,
          -93.66932676408317,
          -93.69269706256377,
          -93.60670402040816,
          -93.60790391836734,
          -93.6212784437598,
          -93.6188554908037,
          -93.68289623299076,
          -93.67148853061224,
          -93.63124205592922,
          -93.6063708989899,
          -93.64937718128256,
          -93.65017942182132,
          -93.66105268900716,
          -93.61120802640453,
          -93.61104458874252,
          -93.64407023219474,
          -93.64694338759084,
          -93.66349512094324,
          null,
          -93.68125140538808,
          -93.6556735494769,
          -93.6013973180521,
          -93.6261370041288,
          -93.6033461176431,
          -93.674511,
          -93.60714173860612,
          -93.61594365306122,
          -93.6077674489796,
          -93.63174796221436,
          -93.6107982857143,
          -93.61007465592138,
          -93.609088,
          -93.62973661707248,
          -93.64700210204082,
          -93.63208759425396,
          -93.66799458555889,
          -93.623741,
          -93.64146848415004,
          -93.6417060753997,
          -93.6084036783902,
          -93.61860399215747,
          -93.68806989731254,
          -93.63749972829945,
          -93.65279349120956,
          -93.6429211589446,
          -93.64957258097478,
          -93.633713000615,
          -93.68676364285714,
          -93.6607130326408,
          -93.6585512097175,
          -93.61057217477776,
          -93.64497712862388,
          -93.64674681632653,
          -93.61659226379214,
          -93.64492680751783,
          -93.61714579591836,
          -93.60437923257598,
          -93.662202,
          -93.63888925844304,
          -93.62957308653634,
          -93.62089386191246,
          -93.61732245002152,
          -93.63324758470864,
          -93.6275963517249,
          -93.64296237561663,
          -93.62844291836734,
          -93.630396,
          -93.65391811019867,
          -93.65610068592804,
          -93.63698959279156,
          -93.6334836668575,
          -93.61273429080856,
          -93.63432967977276,
          -93.61394577551022,
          -93.62802456691792,
          -93.62478976510069,
          -93.65406540011706,
          -93.64660657093047,
          -93.6530882,
          -93.68943978590072,
          -93.65572484780404,
          -93.68462064646464,
          -93.62875638564466,
          -93.6294784,
          -93.60682743689593,
          -93.67148963265306,
          -93.69120882273684,
          -93.62945,
          -93.6394146812147,
          -93.6424864254284,
          -93.64266487492704,
          -93.65682577722971,
          -93.61728337615877,
          -93.62759043272207,
          -93.605942312012,
          -93.68938891380006,
          -93.63268689392063,
          -93.64012036864928,
          -93.60378,
          -93.63316447180974,
          -93.61041149678016,
          -93.61864088968365,
          -93.62564954791496,
          -93.62525282874702,
          -93.6076953877551,
          -93.6840621935039,
          -93.64647528571427,
          -93.61633851020407,
          -93.62931575139147,
          -93.63811811100749,
          -93.6690269909767,
          -93.64916910893866,
          -93.69223928523525,
          -93.62711895918366,
          -93.615331,
          -93.6426143572054,
          -93.64050502672988,
          -93.641526,
          -93.6550911020408,
          -93.60392378579724,
          -93.62386536688874,
          -93.605575322611,
          -93.642499162315,
          -93.68113037450748,
          -93.6142550156629,
          -93.61261990196078,
          -93.62217083904108,
          -93.61721785048007,
          -93.65690511624553,
          -93.66365507844624,
          -93.60818247108398,
          -93.61222147474749,
          -93.6912242746472,
          -93.60998419814982,
          -93.66016848302029,
          -93.6734832633402,
          -93.64689817607702,
          -93.65819074824287,
          -93.65786165094778,
          -93.6105051666287,
          -93.60394169328764,
          -93.6383982,
          -93.61762823568324,
          -93.63936394715856,
          -93.62762032731209,
          -93.62457872727272,
          -93.63443437035062,
          -93.641698,
          -93.6335953177344,
          -93.65412668416836,
          -93.6413159030044,
          -93.69051213258712,
          -93.61247676435411,
          -93.62615978205886,
          -93.61041103348938,
          -93.6384883030068,
          -93.62120572020515,
          -93.64629760406146,
          -93.61008246710554,
          -93.68766332125496,
          -93.60886888888888,
          -93.61426639635516,
          -93.61545985798256,
          -93.625286736037,
          -93.6261934347826,
          -93.638063,
          -93.6040358307396,
          -93.6050291010101,
          -93.67575486674556,
          -93.6561013050686,
          -93.64376799339864,
          -93.68785619766275,
          -93.63574211446308,
          -93.61703526262626,
          -93.61731928679264,
          -93.6891174314398,
          -93.6540462308774,
          -93.69066484576736,
          -93.62727738805113,
          -93.6287658945054,
          -93.69204514277004,
          -93.6712684489796,
          -93.69167096104457,
          -93.69047330555122,
          -93.69220054665072,
          -93.62418206122447,
          -93.60785242348912,
          -93.60853375510204,
          -93.61723704898948,
          -93.61844104081632,
          -93.65938651479426,
          -93.6356765293179,
          -93.60883902040815,
          -93.62054071251104,
          -93.6533918818711,
          -93.604281376353,
          -93.61264121577676,
          -93.62945,
          -93.67772001407806,
          -93.6513635507571,
          -93.68912644511607,
          -93.61544869387755,
          -93.6352344,
          -93.62349128571428,
          -93.63197699794864,
          -93.62020846938776,
          -93.6021357,
          -93.637584,
          -93.68115054632092,
          -93.61260210452647,
          -93.64236597323692,
          null,
          -93.68520634174575,
          -93.6301746122449,
          -93.6330337420966,
          -93.6313761517771,
          -93.6261432020202,
          -93.66463091019884,
          -93.65268457973669,
          -93.60909057575758,
          -93.638062,
          -93.617056876761,
          -93.64625416326533,
          -93.6013863939394,
          -93.6364315,
          -93.63987969468069,
          -93.64860475510204,
          -93.68413783673468,
          -93.67854489522742,
          -93.68988475913449,
          -93.6320665228675,
          -93.66575547820165,
          -93.6071566200376,
          -93.67219103054538,
          -93.62225303744788,
          -93.60887627272729,
          -93.6561853591516,
          -93.6858308367347,
          -93.690134,
          -93.61553204653222,
          -93.66928372102704,
          -93.618734,
          -93.6079974848485,
          -93.6662938917822,
          -93.66072222300056,
          -93.59996163163196,
          -93.6234501010101,
          -93.674315,
          -93.60471826923042,
          -93.61766536467212,
          -93.68787273737374,
          -93.63154857377047,
          -93.63219859003296,
          -93.62149285714284,
          -93.6561862512053,
          -93.68573373469388,
          -93.68920750825848,
          -93.6225894040404,
          -93.64058113414632,
          -93.623741,
          -93.63141419607622,
          -93.6002151916141,
          -93.64385572413794,
          -93.65567300787936,
          -93.625951,
          -93.6603170025214,
          -93.67947,
          -93.68977050049337,
          -93.6755855510204,
          -93.6695144226477,
          -93.60738803049604,
          null,
          -93.62595076436872,
          -93.64062832128066,
          -93.68001602552728,
          -93.6364315,
          -93.6575450612245,
          -93.61572146125864,
          -93.61746741627456,
          -93.60366918912683,
          -93.66493870757986,
          -93.68945516172744,
          -93.6412334778419,
          -93.64174117357346,
          -93.663491571215,
          -93.62169108163263,
          -93.68876404466504,
          -93.63731636146414,
          -93.63933664905286,
          -93.6820582779254,
          -93.65369833105926,
          -93.60692725319848,
          -93.6410041014894,
          -93.62761807070709,
          -93.6438304934309,
          -93.6539584102346,
          -93.60897672727272,
          -93.64382832309678,
          -93.65059963435036,
          -93.65901636363635,
          -93.61223146938777,
          -93.67004946938776,
          -93.69058645850664,
          -93.68765181818182,
          -93.66329144396406,
          -93.64695448979592,
          -93.6360580066801,
          -93.68225724415127,
          -93.6826174,
          -93.62715398916312,
          -93.665763,
          -93.6594875,
          -93.64492333383258,
          -93.6458262871142,
          -93.6480061077216,
          -93.61584383687811,
          -93.62917626262626,
          -93.65773120408164,
          -93.63968323115046,
          -93.63647630515446,
          -93.67536793877552,
          -93.68313334693876,
          -93.6162945,
          -93.68566436363636,
          -93.64257482447316,
          -93.66667140949792,
          -93.6169588367347,
          -93.62827711224118,
          -93.68377459441854,
          -93.6673830555189,
          -93.67947,
          -93.64812865520894,
          -93.62967988400132,
          -93.6921399851542,
          -93.62018375994091,
          -93.62607665656566,
          -93.60600455555556,
          -93.64119445354052,
          -93.68851928140651,
          -93.61858644945607,
          -93.655045,
          -93.64350700503826,
          -93.61891271428571,
          -93.64706896851362,
          -93.62965412980452,
          -93.66071686672564,
          -93.6785450239042,
          -93.65032657142856,
          -93.6168817755102,
          -93.68687632879237,
          -93.62481769751672,
          -93.66236432,
          -93.64982856533044,
          -93.6626278,
          -93.6513167008098,
          -93.69148692644865,
          -93.61561708163264,
          -93.60459116021848,
          -93.62945,
          -93.64728785714286,
          -93.64575048613426,
          -93.61548374429668,
          -93.6908588015676,
          -93.609088,
          -93.6373458675667,
          -93.6764470591615,
          -93.64484689795918,
          -93.62468097354947,
          -93.629115839808,
          -93.69205030711537,
          -93.6814352689172,
          -93.61908511265284,
          -93.62848650130395,
          -93.64682492089028,
          -93.61760348302398,
          -93.610465,
          -93.6217902894782,
          null,
          -93.64899078475864,
          -93.6265682965729,
          -93.61863289727206,
          -93.6664126376065,
          -93.62349271428572,
          -93.6259626741692,
          -93.65593597588736,
          -93.6655563469388,
          -93.60100359767598,
          -93.6530882,
          -93.68681027295912,
          -93.6547666651152,
          -93.60840789662672,
          -93.6170035381688,
          -93.62970074216166,
          -93.69069530661795,
          -93.61732269411668,
          -93.62185078564524,
          -93.66919161672236,
          -93.6215464949495,
          -93.60702960866344,
          -93.67474,
          -93.6532138888426,
          -93.62559675637488,
          -93.68312194285714,
          -93.62665286263945,
          -93.6857367451697,
          -93.60682177448564,
          -93.628396,
          -93.61855975092026,
          -93.63957529268292,
          -93.65391326190446,
          -93.68560342857144,
          -93.6774812595442,
          -93.65601724220453,
          -93.62368281818182,
          -93.6072161313927,
          -93.6226506470458,
          -93.63191858558795,
          -93.63800493871996,
          -93.626873786999,
          -93.60658864153648,
          -93.62202728322204,
          -93.61115778005492,
          -93.62031532340924,
          -93.67148147261672,
          -93.64230305845231,
          -93.62534887899916,
          -93.6789146546886,
          -93.6449862244898,
          -93.63524797694907,
          -93.6460220352635,
          -93.6715710248743,
          -93.60531126765665,
          -93.64682109724754,
          -93.68622974916045,
          -93.67585257313156,
          -93.67558720408164,
          -93.6568399415625,
          -93.60883693877553,
          -93.6390175819789,
          -93.63602729662436,
          -93.623741,
          -93.61005959140935,
          -93.6138866122449,
          -93.67855005372527,
          -93.64817334149568,
          -93.61107399396587,
          -93.67697577022678,
          -93.691571859458,
          null,
          -93.6282938877226,
          null,
          -93.65190486806183,
          -93.6857369518755,
          -93.6339097755102,
          -93.615497,
          -93.61471907997306,
          -93.64613373604098,
          -93.63725743097132,
          -93.6188215288355,
          -93.64077180722924,
          -93.60818715387052,
          -93.6383982,
          -93.65836061340228,
          -93.60678292756349,
          -93.64920467122464,
          -93.640394415045,
          -93.66102019201834,
          -93.62483750861745,
          -93.61535046938776,
          -93.6261751919192,
          -93.64492743023192,
          -93.61709559183672,
          -93.623601,
          -93.6422776698748,
          -93.6298156203518,
          -93.64660164309728,
          -93.65410519145624,
          -93.61539524489795,
          -93.61640146857192,
          -93.63594255697696,
          -93.68449416161616,
          -93.69231014980758,
          -93.6835050233421,
          -93.62238523232324,
          -93.64261114217834,
          -93.62905934343434,
          -93.64929801288592,
          -93.65172700055372,
          -93.6576212244898,
          -93.62268066172076,
          -93.67603409068204,
          -93.63901993667888,
          -93.6237345,
          -93.68151730116716,
          -93.69199673958042,
          -93.67594483454232,
          -93.64202754608218,
          -93.6826174,
          -93.68786876840196,
          -93.67482333858284,
          -93.664942,
          -93.60481825402604,
          -93.66349621316732,
          -93.65681159770244,
          -93.60481825402604,
          -93.604697,
          -93.62850830201342,
          -93.6261179,
          -93.62743263348708,
          -93.62344805050505,
          -93.69166094205524,
          -93.69074120533328,
          -93.62020748979592,
          -93.61543933256898,
          -93.62808022222222,
          -93.64003561860824,
          -93.63764908163266,
          -93.646091478662,
          -93.63901899479887,
          -93.60909744444444,
          -93.6725030123201,
          -93.6171774897959,
          -93.67070699361872,
          -93.6323134790355,
          -93.63584734952138,
          -93.61858843321248,
          -93.61014988032704,
          -93.65377797370296,
          -93.6263093799963,
          -93.62565939713714,
          -93.64143700923474,
          -93.68114818670198,
          -93.60692624489796,
          -93.6155054296003,
          -93.6617377142857,
          -93.60328538234566,
          -93.6068492565192,
          -93.68159884080995,
          -93.64470557142856,
          -93.6468005348761,
          -93.66634537502176,
          -93.68538120408164,
          -93.65361834715776,
          -93.63506393379616,
          -93.6427774854986,
          -93.6122272244898,
          -93.63702991849178,
          -93.68843594838444,
          -93.658514,
          -93.61852881632652,
          -93.6325959,
          -93.62368428282828,
          -93.62367022222222,
          -93.61062533539705,
          -93.61863934693878,
          -93.64839214285716,
          -93.601665,
          -93.61228306122447,
          -93.60354340531627,
          null,
          -93.63417721752649,
          -93.61897742857144,
          -93.6042061347988,
          -93.62691278211034,
          -93.654187545965,
          -93.604969,
          -93.66334449524402,
          -93.60480656565656,
          -93.65416093421088,
          -93.67119930612245,
          -93.68789279530226,
          -93.64271412292584,
          -93.6530882,
          -93.66141570442318,
          -93.61562981632652,
          -93.63621469149052,
          -93.60774357142856,
          -93.63896732740672,
          -93.61859892143676,
          -93.68395672040948,
          -93.64920269857254,
          -93.62139016854567,
          -93.6492303877551,
          -93.63926843011136,
          -93.63984883545916,
          -93.65184214285716,
          -93.6644522,
          -93.639331,
          -93.64553746424714,
          -93.66976906886674,
          -93.6360176415407,
          -93.61881913834986,
          -93.62841848709826,
          -93.61854051630031,
          -93.60330967646463,
          -93.62570534982588,
          -93.60352968637952,
          -93.60155648482912,
          -93.62905038926176,
          null,
          -93.6153968979592,
          -93.62643257544444,
          -93.66202749237029,
          -93.6030124276298,
          -93.68365707487992,
          -93.61724381632654,
          -93.6813598672391,
          -93.62170398723748,
          -93.68953200184843,
          -93.653111,
          -93.6067537105345,
          -93.61863983452544,
          -93.66951160057664,
          -93.62366729292928,
          -93.62563864355856,
          -93.64039656214251,
          -93.657991365334,
          -93.643532,
          -93.63780058898163,
          -93.62958292930873,
          -93.61386436734696,
          -93.61743868591742,
          -93.64931050644294,
          -93.65233799717822,
          -93.61080818367348,
          -93.66532320408164,
          -93.60743914450624,
          -93.69170105482748,
          -93.62577985714286,
          -93.67559582618264,
          -93.62532326135414,
          -93.62714128571427,
          -93.64148806658568,
          -93.62368193939392,
          -93.6559183,
          -93.64197185815958,
          -93.626974,
          -93.66032375510204,
          -93.6246098694362,
          -93.61203083673468,
          -93.617228180198,
          -93.64973434070023,
          -93.66718052467492,
          -93.6059876496096,
          -93.61841950860624,
          -93.60093325191208,
          -93.62044771428572,
          -93.67601192089812,
          -93.62054040816328,
          -93.64268586610108,
          -93.64053606379284,
          -93.6562433769068,
          -93.65862700132564,
          -93.627284,
          -93.63590975510203,
          -93.68116848400564,
          -93.62892854772402,
          -93.621618,
          -93.634978,
          -93.6544098393102,
          -93.66467775962268,
          -93.62708114256192,
          -93.6639116734694,
          -93.61097251718265,
          -93.59995653935891,
          -93.68646893724338,
          -93.68624166123048,
          -93.68413791836736,
          -93.65646003616536,
          -93.67795676335533,
          -93.67168092299572,
          -93.63259946938776,
          -93.64292189170718,
          -93.6039697423383,
          -93.667341,
          -93.62547083203638,
          -93.67129540238363,
          -93.62259009090909,
          -93.60642698097304,
          -93.68334465714284,
          -93.61729810172298,
          -93.6260878033062,
          -93.6046536928216,
          -93.61899232638844,
          -93.68849966830945,
          -93.6245728923891,
          -93.6105774117647,
          -93.61725526262626,
          -93.64038587968584,
          -93.6868757755102,
          -93.68127120441729,
          -93.61565902020202,
          -93.67357792566746,
          -93.61390747403853,
          -93.645769583718,
          -93.63787630845324,
          -93.6439316,
          -93.61986037640224,
          -93.60937895449864,
          -93.64604748389924,
          -93.6448327303395,
          -93.62946408163263,
          -93.62053214205046,
          -93.64056991600413,
          -93.67000729617077,
          -93.67115820408164,
          -93.67170477835889,
          -93.6238963624161,
          -93.67181294858048,
          -93.6263728406611,
          -93.6661381147073,
          -93.643832,
          -93.6897483798832,
          -93.68221981020946,
          null,
          null,
          null,
          null,
          null,
          null,
          null,
          null,
          null,
          null,
          null,
          null,
          null,
          null,
          null,
          null,
          null,
          null,
          null,
          null,
          null
         ],
         "marker": {
          "color": [
           126000,
           139500,
           124900,
           114000,
           227000,
           198500,
           93000,
           187687,
           137500,
           140000,
           219500,
           136000,
           80000,
           159000,
           214000,
           163000,
           203000,
           67000,
           205000,
           131250,
           181000,
           115000,
           98000,
           265979,
           105500,
           168165,
           201000,
           177500,
           200000,
           450000,
           91300,
           173500,
           199500,
           207000,
           155000,
           220000,
           196000,
           61500,
           195000,
           129250,
           291000,
           134000,
           186000,
           133500,
           148000,
           325300,
           215000,
           131000,
           109500,
           110000,
           150000,
           193800,
           178000,
           179600,
           179000,
           140000,
           395000,
           151500,
           341000,
           235000,
           72000,
           154000,
           222000,
           390000,
           128200,
           615000,
           158000,
           254000,
           169000,
           284500,
           184500,
           210400,
           214000,
           392500,
           274725,
           156932,
           282922,
           144000,
           88000,
           148000,
           159000,
           120000,
           134900,
           185000,
           132500,
           160500,
           165000,
           100000,
           189900,
           227875,
           111900,
           145000,
           118000,
           166000,
           148000,
           99000,
           86000,
           165000,
           211500,
           210000,
           228500,
           132000,
           468000,
           240000,
           151500,
           73000,
           75500,
           500067,
           107500,
           172500,
           185000,
           311872,
           165150,
           125000,
           159500,
           180500,
           160000,
           109008,
           153000,
           132250,
           184900,
           127000,
           475000,
           142000,
           112000,
           80900,
           135000,
           193500,
           232500,
           114000,
           257000,
           117000,
           213000,
           212000,
           202500,
           185101,
           167000,
           138500,
           102000,
           198900,
           145000,
           220000,
           126000,
           200000,
           278000,
           145000,
           318000,
           146500,
           86900,
           213000,
           262000,
           217500,
           148000,
           113000,
           160500,
           145000,
           245500,
           133500,
           198000,
           205000,
           285000,
           175000,
           160000,
           272000,
           115000,
           134000,
           78000,
           111500,
           142900,
           125500,
           125500,
           423000,
           119900,
           247000,
           226500,
           260400,
           135000,
           175900,
           82500,
           79500,
           207500,
           115000,
           249700,
           164000,
           220000,
           135000,
           133700,
           112500,
           150000,
           99000,
           146300,
           155000,
           298751,
           256000,
           176000,
           120000,
           321000,
           190000,
           174900,
           85000,
           164990,
           144100,
           294900,
           50000,
           260000,
           180000,
           236500,
           63900,
           223000,
           151000,
           149500,
           149900,
           500000,
           92900,
           290000,
           345474,
           127000,
           102000,
           190000,
           75200,
           108538,
           142250,
           180000,
           132000,
           152400,
           64000,
           302000,
           182000,
           137000,
           168000,
           97500,
           286000,
           115000,
           209000,
           187500,
           220000,
           91000,
           93500,
           79400,
           259500,
           417500,
           132000,
           342000,
           194000,
           235000,
           136870,
           147000,
           277000,
           201490,
           85000,
           149900,
           174500,
           133900,
           173000,
           225000,
           109500,
           159000,
           179400,
           219000,
           175500,
           261329,
           383000,
           179000,
           103500,
           164500,
           55000,
           170000,
           209500,
           124500,
           139400,
           202665,
           155891,
           160000,
           150000,
           221300,
           361919,
           134900,
           118000,
           195800,
           135000,
           152000,
           133900,
           152000,
           107000,
           120000,
           372500,
           220000,
           167000,
           479069,
           233555,
           118900,
           140000,
           130000,
           179900,
           282000,
           217500,
           212500,
           126000,
           280750,
           87000,
           244600,
           215200,
           162500,
           138000,
           181316,
           148000,
           315000,
           184750,
           132000,
           149500,
           183500,
           224500,
           415000,
           155000,
           135000,
           164000,
           128500,
           196500,
           131000,
           151000,
           149900,
           139900,
           180000,
           120750,
           154000,
           139900,
           100000,
           240000,
           135000,
           174000,
           378500,
           207000,
           131000,
           152000,
           61500,
           147110,
           137000,
           128500,
           207500,
           172500,
           380000,
           137000,
           130000,
           215000,
           153000,
           385000,
           130000,
           127000,
           270000,
           141000,
           235000,
           256900,
           336860,
           375000,
           141000,
           160000,
           182000,
           217000,
           195000,
           255000,
           168500,
           118500,
           149900,
           119000,
           113000,
           159000,
           159000,
           168000,
           122000,
           122250,
           120000,
           421250,
           106900,
           194000,
           204000,
           100000,
           105000,
           104900,
           187000,
           181500,
           187100,
           158000,
           192000,
           230000,
           128000,
           197000,
           415000,
           135960,
           250000,
           296000,
           172500,
           236500,
           223000,
           230500,
           130000,
           125500,
           147500,
           79000,
           97000,
           97000,
           119000,
           125500,
           82000,
           93000,
           535000,
           235128,
           138000,
           176000,
           208000,
           141000,
           162000,
           151500,
           218836,
           322500,
           151000,
           127500,
           203000,
           121000,
           213000,
           174000,
           398800,
           205000,
           189000,
           185000,
           12789,
           128000,
           90000,
           167900,
           143000,
           250000,
           150909,
           178000,
           350000,
           143500,
           180500,
           255000,
           154500,
           245000,
           153000,
           230000,
           212700,
           339750,
           112000,
           207500,
           195000,
           120500,
           144000,
           176400,
           130000,
           97000,
           76500,
           419005,
           83000,
           142000,
           154900,
           145000,
           123900,
           250000,
           143000,
           183000,
           255000,
           131750,
           132500,
           181900,
           387000,
           268000,
           122000,
           97000,
           229000,
           340000,
           115000,
           135000,
           149000,
           285000,
           234250,
           119500,
           142500,
           123000,
           149000,
           136000,
           119000,
           124000,
           328900,
           118000,
           260000,
           157000,
           437154,
           260000,
           369900,
           164000,
           187500,
           263000,
           173000,
           128500,
           194000,
           178000,
           128000,
           89000,
           130000,
           160000,
           90000,
           150000,
           143000,
           156000,
           87000,
           148500,
           63000,
           128000,
           253293,
           214000,
           124000,
           129850,
           115000,
           163500,
           145000,
           271000,
           95000,
           192000,
           394432,
           181000,
           381000,
           140000,
           130500,
           155000,
           89500,
           277500,
           140000,
           160000,
           125000,
           185000,
           173500,
           135000,
           131000,
           200000,
           278000,
           137900,
           300000,
           169000,
           129200,
           167000,
           187500,
           129900,
           236000,
           125500,
           192000,
           165500,
           155000,
           127500,
           144000,
           171000,
           217000,
           260000,
           82500,
           172000,
           195000,
           376162,
           175000,
           126500,
           122000,
           213000,
           138000,
           147000,
           130000,
           103000,
           213000,
           110000,
           131500,
           275000,
           165500,
           290000,
           126000,
           124000,
           320000,
           425000,
           96500,
           91900,
           272500,
           154204,
           200825,
           611657,
           160000,
           78000,
           201800,
           195500,
           142953,
           107500,
           213133,
           297900,
           122000,
           162000,
           250000,
           318000,
           260000,
           155000,
           120000,
           159000,
           112000,
           226000,
           324000,
           99900,
           271500,
           377500,
           131000,
           125000,
           142500,
           266000,
           142500,
           149900,
           135000,
           257000,
           591587,
           176432,
           392000,
           135000,
           150000,
           186000,
           215000,
           116000,
           160500,
           269500,
           170440,
           246500,
           246990,
           131400,
           455000,
           109000,
           132500,
           230500,
           128900,
           107400,
           405000,
           220000,
           144900,
           137000,
           230348,
           246578,
           149900,
           183000,
           99500,
           35311,
           194500,
           139500,
           231000,
           111500,
           249000,
           147000,
           301500,
           144000,
           145000,
           139500,
           100500,
           144000,
           123000,
           189000,
           243500,
           145000,
           135000,
           139000,
           153575,
           175000,
           132000,
           310000,
           144800,
           177500,
           215000,
           68400,
           128000,
           125200,
           251000,
           315000,
           127000,
           194000,
           103500,
           197500,
           140000,
           140000,
           378000,
           173000,
           127000,
           309000,
           340000,
           175000,
           68500,
           135000,
           308030,
           120000,
           123000,
           141500,
           136500,
           125000,
           85500,
           204000,
           186500,
           109500,
           275000,
           226001,
           150750,
           129000,
           185485,
           144000,
           214000,
           75000,
           162000,
           110000,
           193000,
           148000,
           356383,
           104500,
           79500,
           93500,
           185850,
           115000,
           185900,
           155000,
           116000,
           177000,
           155000,
           137000,
           125000,
           228000,
           210000,
           191000,
           418000,
           275000,
           130000,
           139500,
           335000,
           138000,
           134500,
           133000,
           124500,
           159500,
           173000,
           40000,
           80000,
           235000,
           325000,
           129500,
           178000,
           127000,
           172500,
           154000,
           164900,
           160000,
           254750,
           315000,
           199900,
           185000,
           165000,
           132000,
           196000,
           153000,
           195000,
           271000,
           119000,
           119900,
           124000,
           171500,
           135000,
           119000,
           170000,
           72000,
           169000,
           95000,
           177500,
           105000,
           113000,
           185000,
           245000,
           190000,
           140000,
           258000,
           140000,
           176000,
           334000,
           114000,
           324000,
           342643,
           129000,
           132500,
           216500,
           182000,
           156000,
           143250,
           137000,
           87000,
           121500,
           80000,
           131000,
           301000,
           252678,
           237000,
           163000,
           260000,
           113000,
           538000,
           85400,
           213500,
           231000,
           192500,
           79900,
           129000,
           166000,
           189000,
           129500,
           136500,
           192500,
           250000,
           119500,
           170000,
           404000,
           157000,
           104000,
           112000,
           131000,
           198600,
           260116,
           99500,
           143000,
           239900,
           120875,
           228500,
           146000,
           240000,
           284000,
           116500,
           132000,
           81000,
           114000,
           120500,
           130000,
           310090,
           103400,
           245000,
           120000,
           124000,
           329900,
           133000,
           110000,
           142500,
           187500,
           327000,
           125900,
           139000,
           137000,
           188000,
           78500,
           46500,
           138000,
           185000,
           158000,
           105500,
           171000,
           184000,
           187750,
           146800,
           290000,
           169900,
           130000,
           123000,
           143900,
           223500,
           207000,
           440000,
           198500,
           149350,
           165000,
           235000,
           143500,
           203160,
           191750,
           187000,
           99500,
           122500,
           148800,
           153500,
           285000,
           184500,
           195500,
           257500,
           185000,
           160000,
           132500,
           212000,
           176000,
           192000,
           130000,
           192000,
           117000,
           157500,
           200000,
           89000,
           140000,
           190000,
           261500,
           156000,
           68104,
           81300,
           370000,
           145500,
           142000,
           216000,
           123000,
           254900,
           79000,
           180000,
           240000,
           243000,
           372397,
           39300,
           157500,
           187000,
           173000,
           139000,
           145500,
           190000,
           394617,
           158900,
           174000,
           190000,
           128000,
           178740,
           315000,
           163000,
           180500,
           129500,
           133000,
           161000,
           248000,
           135000,
           93850,
           208300,
           142600,
           212999,
           386250,
           213750,
           315000,
           124000,
           150000,
           139500,
           120500,
           290000,
           215000,
           336820,
           174000,
           142100,
           130000,
           184000,
           269500,
           146500,
           145000,
           187000,
           119900,
           210000,
           412500,
           213000,
           182000,
           185000,
           152000,
           135000,
           115500,
           121500,
           149000,
           125000,
           136500,
           148000,
           125000,
           99800,
           120000,
           127000,
           160000,
           125600,
           224243,
           242000,
           88250,
           191000,
           148000,
           166000,
           172400,
           224500,
           157000,
           140000,
           183500,
           80000,
           175000,
           181900,
           315750,
           145000,
           197000,
           84900,
           158000,
           156000,
           305900,
           257500,
           116000,
           143450,
           277500,
           200000,
           105000,
           755000,
           204000,
           255000,
           156500,
           86000,
           240900,
           268000,
           244000,
           155000,
           144500,
           122500,
           141000,
           131000,
           230000,
           320000,
           185900,
           130000,
           188000,
           127500,
           188500,
           200100,
           148500,
           137000,
           157000,
           82500,
           168000,
           108000,
           177625,
           235000,
           155000,
           108000,
           155000,
           175000,
           362500,
           184900,
           135000,
           150000,
           195000,
           210000,
           133000,
           286500,
           119900,
           190000,
           137000,
           115000,
           113500,
           167500,
           335000,
           140000,
           176000,
           125000,
           105000,
           130250,
           210900,
           122000,
           375000,
           275000,
           64500,
           144000,
           171500,
           108500,
           244400,
           196000,
           91000,
           257000,
           165000,
           103000,
           143000,
           286000,
           126000,
           159950,
           140750,
           270000,
           118500,
           110000,
           123000,
           119000,
           126175,
           132000,
           148000,
           134500,
           216837,
           206900,
           109900,
           129000,
           133000,
           270000,
           125000,
           235500,
           115000,
           125000,
           299800,
           135000,
           140000,
           76000,
           335000,
           166000,
           139500,
           247900,
           160000,
           168000,
           267000,
           127500,
           204750,
           555000,
           160000,
           197000,
           151400,
           59000,
           146000,
           187500,
           200000,
           116500,
           215000,
           215000,
           307000,
           270000,
           217000,
           108500,
           120000,
           141000,
           253000,
           174000,
           110000,
           180500,
           140000,
           262280,
           128000,
           202500,
           114500,
           200000,
           124000,
           175900,
           231500,
           217000,
           159500,
           462000,
           154000,
           403000,
           190000,
           85500,
           140000,
           160000,
           266500,
           315000,
           221000,
           300000,
           103000,
           166000,
           145000,
           136900,
           263550,
           140000,
           205000,
           295000,
           153900,
           158500,
           130000,
           96000,
           122000,
           316500,
           197500,
           210000,
           219500,
           133000,
           79000,
           126000,
           155000,
           162000,
           188000,
           402000,
           228500,
           170000,
           180000,
           161750,
           97900,
           212000,
           122900,
           348000,
           172000,
           128000,
           227000,
           160000,
           170000,
           158000,
           167800,
           134900,
           190000,
           192140,
           149300,
           132000,
           181000,
           248500,
           221500,
           177000,
           197000,
           147500,
           141500,
           280000,
           150000,
           226700,
           153000,
           224000,
           360000,
           350000,
           107500,
           213000,
           189500,
           155000,
           161500,
           158000,
           285000,
           245350,
           192000,
           215000,
           139000,
           117000,
           154000,
           111000,
           110000,
           254900,
           125000,
           200000,
           162900,
           61000,
           245000,
           180000,
           110000,
           140000,
           155000,
           172900,
           184000,
           168675,
           255900,
           301000,
           217000,
           138500,
           147000,
           354000,
           135000,
           160000,
           127000,
           219990,
           235000,
           377426,
           160200,
           306000,
           190000,
           214000,
           134000,
           170000,
           190000,
           179900,
           112000,
           140000,
           233000,
           176500,
           200500,
           235000,
           140000,
           191500,
           190000,
           302000,
           158000,
           187000,
           149900,
           119164,
           143000,
           138000,
           170000,
           100000,
           154000,
           239000,
           90500,
           135000,
           155000,
           221000,
           230000,
           144000,
           207000,
           129000,
           197600,
           280000,
           203135,
           162500,
           98000,
           235000,
           157000,
           143000,
           150000,
           225000,
           119750,
           229000,
           163000,
           160000,
           173500,
           139000,
           157000,
           384500,
           141000,
           140000,
           270000,
           220000,
           360000,
           156000,
           211000,
           135500,
           430000,
           410000,
           125000,
           171500,
           188000,
           305000,
           119000,
           197900,
           178000,
           625000,
           150000,
           250000,
           176000,
           163000,
           235000,
           222000,
           313000,
           155000,
           106000,
           193000,
           65000,
           147000,
           184000,
           128250,
           91000,
           140200,
           147000,
           115000,
           219500,
           180000,
           221000,
           153500,
           143000,
           332000,
           143000,
           241000,
           135750,
           112500,
           205950,
           146000,
           175000,
           256000,
           129000,
           145000,
           148800,
           89500,
           167000,
           157900,
           177500,
           171500,
           109900,
           184000,
           184500,
           334000,
           294000,
           290000,
           135000,
           252000,
           270000,
           275000,
           200000,
           255900,
           200000,
           194500,
           165500,
           187500,
           225000,
           100000,
           177000,
           220000,
           224900,
           156500,
           139000,
           153000,
           88000,
           115000,
           100000,
           195000,
           172000,
           259000,
           90000,
           202900,
           206000,
           222000,
           172000,
           138887,
           139000,
           278000,
           249000,
           136500,
           64500,
           150000,
           225000,
           93900,
           130000,
           230000,
           124000,
           145900,
           115000,
           239500,
           181000,
           175000,
           149500,
           270000,
           145000,
           241500,
           112500,
           152000,
           186500,
           185000,
           244000,
           82375,
           171000,
           220000,
           124000,
           114000,
           128900,
           133500,
           189000,
           106000,
           372500,
           173000,
           162500,
           190000,
           129000,
           137500,
           146000,
           164500,
           178000,
           268500,
           382500,
           124000,
           176000,
           116000,
           252000,
           230000,
           127500,
           150000,
           184000,
           105000,
           143500,
           73000,
           130000,
           176000,
           145000,
           175500,
           168500,
           140000,
           374000,
           184000,
           209500,
           136000,
           138000,
           189000,
           293200,
           180500,
           214000,
           237000,
           124900,
           173000,
           260000,
           185000,
           161000,
           94900,
           271900,
           214500,
           300000,
           193000,
           294000,
           225000,
           146900,
           130000,
           262500,
           256000,
           162000,
           167000,
           130000,
           155000,
           248000,
           215000,
           269500,
           233500,
           185000,
           141000,
           174000,
           145000,
           210000,
           133000,
           145000,
           134000,
           279000,
           129000,
           130000,
           256300,
           142000,
           237500,
           188700,
           175900,
           150500,
           180000,
           134500,
           171000,
           138000,
           227000,
           148500,
           84500,
           149000,
           192350,
           172000,
           165400,
           185000,
           131900,
           213490,
           277000,
           257500,
           62383,
           274300,
           158000,
           106500,
           250000,
           202500,
           118400,
           146000,
           127000,
           219500,
           78000,
           82000,
           239000,
           156450,
           134000,
           214900,
           52000,
           60000,
           147000,
           123500,
           237000,
           84000,
           238500,
           141500,
           138500,
           139900,
           167000,
           183500,
           250000,
           177000,
           127000,
           165000,
           287000,
           337000,
           253000,
           136000,
           200000,
           200000,
           134900,
           75000,
           207000,
           149900,
           87500,
           188000,
           213000,
           153000,
           149900,
           355000,
           85000,
           194700,
           138400,
           207500,
           292500,
           148000,
           184000,
           137500,
           109500,
           211000,
           152500,
           184100,
           157000,
           218000,
           115000,
           232000,
           120000,
           155000,
           116000,
           157500,
           240000,
           189950,
           136500,
           159000,
           133000,
           127000,
           108000,
           127000,
           103600,
           64000,
           169000,
           111000,
           257000,
           178900,
           178900,
           100000,
           272000,
           90000,
           167500,
           140000,
           82000,
           130000,
           168000,
           226500,
           279000,
           76500,
           99900,
           185000,
           265000,
           161000,
           136500,
           139000,
           228950,
           250000,
           333168,
           127500,
           189000,
           610000,
           128000,
           169000,
           135000,
           179900,
           220000,
           147900,
           157000,
           129000,
           147000,
           149000,
           183900,
           165000,
           149500,
           153000,
           88000,
           330000,
           319900,
           177000,
           180000,
           125000,
           161000,
           176000,
           99500,
           160250,
           152000,
           192000,
           124000,
           115000,
           315000,
           133500,
           144500,
           121000,
           168000,
           127000,
           181000,
           129900,
           136905,
           148500,
           89500,
           136000,
           129500,
           260000,
           230000,
           165000,
           114504,
           110500,
           285000,
           118000,
           183500,
           98000,
           173000,
           123000,
           105000,
           153500,
           116000,
           284000,
           245700,
           336000,
           150000,
           123600,
           191000,
           155000,
           120000,
           164000,
           150900,
           189500,
           167300,
           153000,
           230000,
           182000,
           240000,
           123000,
           275000,
           166800,
           146000,
           135000,
           82500,
           156000,
           118000,
           155000,
           52500,
           130000,
           214000,
           165000,
           185000,
           174000,
           150000,
           466500,
           269790,
           154400,
           111250,
           112500,
           165000,
           355000,
           181000,
           180000,
           189000,
           162000,
           238000,
           105000,
           151000,
           111000,
           132000,
           96000,
           128500,
           225000,
           113000,
           128950,
           144500,
           262500,
           119500,
           109500,
           121000,
           297000,
           58500,
           153500,
           165600,
           106000,
           281213,
           100000,
           161500,
           165000,
           193000,
           141500,
           108000,
           239000,
           167900,
           177000,
           122000,
           228500,
           175000,
           124000,
           191000,
           127500,
           98000,
           156500,
           207000,
           130500,
           135000,
           154300,
           232000,
           123000,
           203000,
           191000,
           135000,
           181000,
           185750,
           106000,
           101000,
           300000,
           139000,
           260000,
           124400,
           145000,
           137500,
           157500,
           222000,
           175000,
           180400,
           108000,
           137500,
           96000,
           240000,
           127000,
           155000,
           142500,
           154000,
           234500,
           175500,
           125500,
           279500,
           200000,
           143750,
           87000,
           349265,
           174000,
           194000,
           194000,
           117600,
           156000,
           183000,
           147000,
           117000,
           146000,
           89900,
           142000,
           239000,
           144000,
           162000,
           147000,
           205000,
           55000,
           235000,
           319900,
           118000,
           196500,
           103000,
           173000,
           97500,
           88750,
           104900,
           96500,
           128500,
           250000,
           142125,
           115400,
           179200,
           130000,
           190500,
           178000,
           130000,
           192000,
           148000,
           135500,
           101800,
           184900,
           222500,
           122000,
           240000,
           132000,
           196000,
           232698,
           161500,
           116900,
           144000,
           213500,
           312500,
           115000,
           207000,
           144000,
           135900,
           130000,
           120000,
           81000,
           156500,
           300000,
           135000,
           134800,
           148000,
           140000,
           113000,
           93500,
           161000,
           100000,
           167900,
           216000,
           135000,
           199900,
           192500,
           160000,
           156500,
           295493,
           170000,
           275000,
           193000,
           205000,
           174000,
           208500,
           108000,
           95000,
           138000,
           170000,
           105000,
           87000,
           165000,
           139500,
           126000,
           225000,
           226500,
           111750,
           97500,
           143000,
           240000,
           113700,
           263400,
           145400,
           306000,
           274000,
           325000,
           178000,
           162500,
           103200,
           205000,
           96900,
           110000,
           128000,
           350000,
           178000,
           316000,
           194500,
           173000,
           210000,
           205000,
           163500,
           105900,
           94750,
           170000,
           84500,
           215000,
           185088,
           236000,
           108500,
           129400,
           172500,
           110000,
           175900,
           213250,
           204000,
           209000,
           218500,
           163000,
           102900,
           175000,
           128000,
           107900,
           280000,
           191000,
           139400,
           155000,
           178750,
           260000,
           170000,
           126000,
           161000,
           79000,
           183200,
           250000,
           176000,
           370000,
           134500,
           128000,
           135000,
           245000,
           131500,
           110000,
           115000,
           169000,
           127000,
           58500,
           85000,
           165000,
           106250,
           184000,
           119000,
           275000,
           128500,
           229800,
           373000,
           159900,
           139000,
           130500,
           212000,
           139000,
           225000,
           210000,
           117500,
           188900,
           199500,
           213500,
           260000,
           289000,
           206000,
           174850,
           136000,
           475000,
           197000,
           137500,
           165000,
           130000,
           255000,
           109500,
           105000,
           89000,
           129000,
           149000,
           182900,
           112000,
           144750,
           122000,
           372000,
           312500,
           175000,
           241500,
           155000,
           131000,
           117500,
           173000,
           350000,
           200000,
           128000,
           113000,
           159000,
           117250,
           203000,
           175000,
           141000,
           116000,
           154000,
           149700,
           244000,
           128600,
           91500,
           202000,
           147000,
           133000,
           266000,
           126500,
           134450,
           212300,
           129000,
           350000,
           237000,
           109000,
           170000,
           128000,
           140500,
           115000,
           106500,
           200000,
           136500,
           145250,
           226750,
           151000,
           275000,
           123000,
           140000,
           157000,
           120000,
           112000,
           275500,
           147500,
           202500,
           122500,
           147500,
           152500,
           185000,
           241500,
           139500,
           179900,
           98000,
           205000,
           165000,
           172500,
           172000,
           94000,
           115000,
           98300,
           584500,
           211000,
           149000,
           226000,
           145000,
           176500,
           102000,
           135000,
           165250,
           188000,
           123900,
           153600,
           104500,
           214000,
           183000,
           190000,
           236500,
           155000,
           190000,
           230000,
           201000,
           131750,
           201000,
           167000,
           155000,
           196000,
           145000,
           118500,
           209500,
           125000,
           246900,
           215700,
           130000,
           129000,
           215000,
           173000,
           146000,
           265000,
           285000,
           177000,
           460000,
           158500,
           192100,
           169500,
           99600,
           239900,
           158000,
           345000,
           135500,
           113000,
           179000,
           152000,
           176500,
           155900,
           280000,
           127000,
           263000,
           145000,
           254000,
           287500,
           120000,
           311500,
           265900,
           35000,
           86900,
           127000,
           118500,
           159000,
           200000,
           119000,
           115000,
           250000,
           195000,
           220000,
           119500,
           155000,
           290000,
           137000,
           180000,
           241600,
           153000,
           142000,
           160000,
           198000,
           181000,
           139000,
           117000,
           246000,
           185500,
           238000,
           165000,
           64000,
           87000,
           127000,
           165500,
           137000,
           208900,
           279700,
           105500,
           187000,
           124500,
           168500,
           152000,
           180000,
           231500,
           132000,
           445000,
           252000,
           129500,
           305000,
           94500,
           118000,
           85000,
           160000,
           90000,
           157500,
           148500,
           158000,
           192000,
           186700,
           248500,
           152000,
           157500,
           153500,
           110000,
           112000,
           177000,
           345000,
           207500,
           102000,
           81400,
           212500,
           137250,
           234000,
           119000,
           223500,
           152000,
           219500,
           94550,
           169500,
           204000,
           143000,
           137000,
           140000,
           137500,
           190000,
           110000,
           124500,
           190000,
           132000,
           143000,
           104000,
           80000,
           148000,
           119500,
           269500,
           150000,
           290000,
           173500,
           119600,
           140000,
           197900,
           99900,
           138500,
           145500,
           132500,
           146500,
           132500,
           315500,
           130000,
           133500,
           110000,
           270000,
           157900,
           72500,
           111500,
           224000,
           379000,
           274000,
           167000,
           108000,
           60000,
           169000,
           174500,
           215000,
           188500,
           123000,
           141000,
           159900,
           105000,
           180000,
           137500,
           232000,
           100000,
           200000,
           90350,
           159900,
           255000,
           229000,
           129900,
           187500,
           125000,
           148400,
           148000,
           122000,
           120000,
           204000,
           239900,
           144000,
           153500,
           128000,
           84900,
           270000,
           155500,
           135000,
           143500,
           284700,
           141500,
           211000,
           410000,
           316600,
           146500,
           227000,
           193500,
           318750,
           179900,
           141000,
           168000,
           166500,
           188500,
           127500,
           251000,
           174000,
           192000,
           300000,
           137500,
           103000,
           116500,
           147400,
           87500,
           127500,
           218000,
           118000,
           202000,
           317000,
           80000,
           149500,
           185000,
           179900,
           159895,
           143000,
           218000,
           110000,
           170000,
           156000,
           190000,
           282500,
           309000,
           137900,
           110000,
           191000,
           140000,
           227000,
           180000,
           144000,
           244000,
           211000,
           179200,
           173000,
           134500,
           142500,
           125000,
           114900,
           119500,
           124500,
           470000,
           147000,
           100000,
           80500,
           203000,
           221800,
           89500,
           142000,
           151000,
           215000,
           160000,
           250000,
           189000,
           133000,
           149900,
           156500,
           328000,
           239500,
           177900,
           145000,
           116900,
           325000,
           155000,
           144000,
           188000,
           225000,
           141000,
           205000,
           107500,
           85500,
           242000,
           149000,
           135000,
           206000,
           85000,
           300000,
           315000,
           240050,
           180000,
           139000,
           185000,
           187000,
           326000,
           178000,
           239000,
           133000,
           123000,
           139000,
           140000,
           137450,
           170000,
           163000,
           105000,
           320000,
           197900,
           180000,
           171000,
           55000,
           274900,
           128500,
           260000,
           187000,
           290000,
           116000,
           230000,
           188500,
           284000,
           123500,
           256000,
           173000,
           93000,
           195500,
           136500,
           213000,
           167500,
           137000,
           172500,
           177500,
           209000,
           179500,
           119900,
           226000,
           184000,
           127000,
           207500,
           150000,
           119000,
           135000,
           75190,
           124500,
           83500,
           129500,
           441929,
           171750,
           100000,
           143000,
           93000,
           76000,
           128500,
           164900,
           228000,
           141000,
           190550,
           410000,
           131500,
           153000,
           126000,
           105000,
           138000,
           165500,
           110000,
           149000,
           176000,
           64500,
           170000,
           139950,
           188000,
           214000,
           68000,
           165000,
           139000,
           145000,
           128500,
           158450,
           120500,
           141000,
           222500,
           114500,
           451950,
           234000,
           159000,
           80000,
           178400,
           185000,
           129900,
           228000,
           105000,
           125000,
           146000,
           146500,
           109500,
           144000,
           172500,
           275500,
           291000,
           200500,
           337500,
           143750,
           164000,
           279500,
           149000,
           140500,
           170000,
           255500,
           119000,
           120000,
           144900,
           163500,
           242500,
           193000,
           153900,
           225000,
           157000,
           137900,
           152000,
           163000,
           257500,
           201000,
           159900,
           145000,
           136500,
           162900,
           157500,
           124900,
           161000,
           137000,
           110500,
           120000,
           110000,
           200000,
           126500,
           119200,
           129500,
           126000,
           178000,
           224900,
           240000,
           135000,
           163000,
           159500,
           170000,
           163900,
           179000,
           119000,
           159000,
           171900,
           335000,
           141000,
           112900,
           185000,
           129500,
           115000,
           109900,
           129800,
           196500,
           121000,
           139600,
           145000,
           217500,
           215000
          ],
          "coloraxis": "coloraxis",
          "size": [
           126000,
           139500,
           124900,
           114000,
           227000,
           198500,
           93000,
           187687,
           137500,
           140000,
           219500,
           136000,
           80000,
           159000,
           214000,
           163000,
           203000,
           67000,
           205000,
           131250,
           181000,
           115000,
           98000,
           265979,
           105500,
           168165,
           201000,
           177500,
           200000,
           450000,
           91300,
           173500,
           199500,
           207000,
           155000,
           220000,
           196000,
           61500,
           195000,
           129250,
           291000,
           134000,
           186000,
           133500,
           148000,
           325300,
           215000,
           131000,
           109500,
           110000,
           150000,
           193800,
           178000,
           179600,
           179000,
           140000,
           395000,
           151500,
           341000,
           235000,
           72000,
           154000,
           222000,
           390000,
           128200,
           615000,
           158000,
           254000,
           169000,
           284500,
           184500,
           210400,
           214000,
           392500,
           274725,
           156932,
           282922,
           144000,
           88000,
           148000,
           159000,
           120000,
           134900,
           185000,
           132500,
           160500,
           165000,
           100000,
           189900,
           227875,
           111900,
           145000,
           118000,
           166000,
           148000,
           99000,
           86000,
           165000,
           211500,
           210000,
           228500,
           132000,
           468000,
           240000,
           151500,
           73000,
           75500,
           500067,
           107500,
           172500,
           185000,
           311872,
           165150,
           125000,
           159500,
           180500,
           160000,
           109008,
           153000,
           132250,
           184900,
           127000,
           475000,
           142000,
           112000,
           80900,
           135000,
           193500,
           232500,
           114000,
           257000,
           117000,
           213000,
           212000,
           202500,
           185101,
           167000,
           138500,
           102000,
           198900,
           145000,
           220000,
           126000,
           200000,
           278000,
           145000,
           318000,
           146500,
           86900,
           213000,
           262000,
           217500,
           148000,
           113000,
           160500,
           145000,
           245500,
           133500,
           198000,
           205000,
           285000,
           175000,
           160000,
           272000,
           115000,
           134000,
           78000,
           111500,
           142900,
           125500,
           125500,
           423000,
           119900,
           247000,
           226500,
           260400,
           135000,
           175900,
           82500,
           79500,
           207500,
           115000,
           249700,
           164000,
           220000,
           135000,
           133700,
           112500,
           150000,
           99000,
           146300,
           155000,
           298751,
           256000,
           176000,
           120000,
           321000,
           190000,
           174900,
           85000,
           164990,
           144100,
           294900,
           50000,
           260000,
           180000,
           236500,
           63900,
           223000,
           151000,
           149500,
           149900,
           500000,
           92900,
           290000,
           345474,
           127000,
           102000,
           190000,
           75200,
           108538,
           142250,
           180000,
           132000,
           152400,
           64000,
           302000,
           182000,
           137000,
           168000,
           97500,
           286000,
           115000,
           209000,
           187500,
           220000,
           91000,
           93500,
           79400,
           259500,
           417500,
           132000,
           342000,
           194000,
           235000,
           136870,
           147000,
           277000,
           201490,
           85000,
           149900,
           174500,
           133900,
           173000,
           225000,
           109500,
           159000,
           179400,
           219000,
           175500,
           261329,
           383000,
           179000,
           103500,
           164500,
           55000,
           170000,
           209500,
           124500,
           139400,
           202665,
           155891,
           160000,
           150000,
           221300,
           361919,
           134900,
           118000,
           195800,
           135000,
           152000,
           133900,
           152000,
           107000,
           120000,
           372500,
           220000,
           167000,
           479069,
           233555,
           118900,
           140000,
           130000,
           179900,
           282000,
           217500,
           212500,
           126000,
           280750,
           87000,
           244600,
           215200,
           162500,
           138000,
           181316,
           148000,
           315000,
           184750,
           132000,
           149500,
           183500,
           224500,
           415000,
           155000,
           135000,
           164000,
           128500,
           196500,
           131000,
           151000,
           149900,
           139900,
           180000,
           120750,
           154000,
           139900,
           100000,
           240000,
           135000,
           174000,
           378500,
           207000,
           131000,
           152000,
           61500,
           147110,
           137000,
           128500,
           207500,
           172500,
           380000,
           137000,
           130000,
           215000,
           153000,
           385000,
           130000,
           127000,
           270000,
           141000,
           235000,
           256900,
           336860,
           375000,
           141000,
           160000,
           182000,
           217000,
           195000,
           255000,
           168500,
           118500,
           149900,
           119000,
           113000,
           159000,
           159000,
           168000,
           122000,
           122250,
           120000,
           421250,
           106900,
           194000,
           204000,
           100000,
           105000,
           104900,
           187000,
           181500,
           187100,
           158000,
           192000,
           230000,
           128000,
           197000,
           415000,
           135960,
           250000,
           296000,
           172500,
           236500,
           223000,
           230500,
           130000,
           125500,
           147500,
           79000,
           97000,
           97000,
           119000,
           125500,
           82000,
           93000,
           535000,
           235128,
           138000,
           176000,
           208000,
           141000,
           162000,
           151500,
           218836,
           322500,
           151000,
           127500,
           203000,
           121000,
           213000,
           174000,
           398800,
           205000,
           189000,
           185000,
           12789,
           128000,
           90000,
           167900,
           143000,
           250000,
           150909,
           178000,
           350000,
           143500,
           180500,
           255000,
           154500,
           245000,
           153000,
           230000,
           212700,
           339750,
           112000,
           207500,
           195000,
           120500,
           144000,
           176400,
           130000,
           97000,
           76500,
           419005,
           83000,
           142000,
           154900,
           145000,
           123900,
           250000,
           143000,
           183000,
           255000,
           131750,
           132500,
           181900,
           387000,
           268000,
           122000,
           97000,
           229000,
           340000,
           115000,
           135000,
           149000,
           285000,
           234250,
           119500,
           142500,
           123000,
           149000,
           136000,
           119000,
           124000,
           328900,
           118000,
           260000,
           157000,
           437154,
           260000,
           369900,
           164000,
           187500,
           263000,
           173000,
           128500,
           194000,
           178000,
           128000,
           89000,
           130000,
           160000,
           90000,
           150000,
           143000,
           156000,
           87000,
           148500,
           63000,
           128000,
           253293,
           214000,
           124000,
           129850,
           115000,
           163500,
           145000,
           271000,
           95000,
           192000,
           394432,
           181000,
           381000,
           140000,
           130500,
           155000,
           89500,
           277500,
           140000,
           160000,
           125000,
           185000,
           173500,
           135000,
           131000,
           200000,
           278000,
           137900,
           300000,
           169000,
           129200,
           167000,
           187500,
           129900,
           236000,
           125500,
           192000,
           165500,
           155000,
           127500,
           144000,
           171000,
           217000,
           260000,
           82500,
           172000,
           195000,
           376162,
           175000,
           126500,
           122000,
           213000,
           138000,
           147000,
           130000,
           103000,
           213000,
           110000,
           131500,
           275000,
           165500,
           290000,
           126000,
           124000,
           320000,
           425000,
           96500,
           91900,
           272500,
           154204,
           200825,
           611657,
           160000,
           78000,
           201800,
           195500,
           142953,
           107500,
           213133,
           297900,
           122000,
           162000,
           250000,
           318000,
           260000,
           155000,
           120000,
           159000,
           112000,
           226000,
           324000,
           99900,
           271500,
           377500,
           131000,
           125000,
           142500,
           266000,
           142500,
           149900,
           135000,
           257000,
           591587,
           176432,
           392000,
           135000,
           150000,
           186000,
           215000,
           116000,
           160500,
           269500,
           170440,
           246500,
           246990,
           131400,
           455000,
           109000,
           132500,
           230500,
           128900,
           107400,
           405000,
           220000,
           144900,
           137000,
           230348,
           246578,
           149900,
           183000,
           99500,
           35311,
           194500,
           139500,
           231000,
           111500,
           249000,
           147000,
           301500,
           144000,
           145000,
           139500,
           100500,
           144000,
           123000,
           189000,
           243500,
           145000,
           135000,
           139000,
           153575,
           175000,
           132000,
           310000,
           144800,
           177500,
           215000,
           68400,
           128000,
           125200,
           251000,
           315000,
           127000,
           194000,
           103500,
           197500,
           140000,
           140000,
           378000,
           173000,
           127000,
           309000,
           340000,
           175000,
           68500,
           135000,
           308030,
           120000,
           123000,
           141500,
           136500,
           125000,
           85500,
           204000,
           186500,
           109500,
           275000,
           226001,
           150750,
           129000,
           185485,
           144000,
           214000,
           75000,
           162000,
           110000,
           193000,
           148000,
           356383,
           104500,
           79500,
           93500,
           185850,
           115000,
           185900,
           155000,
           116000,
           177000,
           155000,
           137000,
           125000,
           228000,
           210000,
           191000,
           418000,
           275000,
           130000,
           139500,
           335000,
           138000,
           134500,
           133000,
           124500,
           159500,
           173000,
           40000,
           80000,
           235000,
           325000,
           129500,
           178000,
           127000,
           172500,
           154000,
           164900,
           160000,
           254750,
           315000,
           199900,
           185000,
           165000,
           132000,
           196000,
           153000,
           195000,
           271000,
           119000,
           119900,
           124000,
           171500,
           135000,
           119000,
           170000,
           72000,
           169000,
           95000,
           177500,
           105000,
           113000,
           185000,
           245000,
           190000,
           140000,
           258000,
           140000,
           176000,
           334000,
           114000,
           324000,
           342643,
           129000,
           132500,
           216500,
           182000,
           156000,
           143250,
           137000,
           87000,
           121500,
           80000,
           131000,
           301000,
           252678,
           237000,
           163000,
           260000,
           113000,
           538000,
           85400,
           213500,
           231000,
           192500,
           79900,
           129000,
           166000,
           189000,
           129500,
           136500,
           192500,
           250000,
           119500,
           170000,
           404000,
           157000,
           104000,
           112000,
           131000,
           198600,
           260116,
           99500,
           143000,
           239900,
           120875,
           228500,
           146000,
           240000,
           284000,
           116500,
           132000,
           81000,
           114000,
           120500,
           130000,
           310090,
           103400,
           245000,
           120000,
           124000,
           329900,
           133000,
           110000,
           142500,
           187500,
           327000,
           125900,
           139000,
           137000,
           188000,
           78500,
           46500,
           138000,
           185000,
           158000,
           105500,
           171000,
           184000,
           187750,
           146800,
           290000,
           169900,
           130000,
           123000,
           143900,
           223500,
           207000,
           440000,
           198500,
           149350,
           165000,
           235000,
           143500,
           203160,
           191750,
           187000,
           99500,
           122500,
           148800,
           153500,
           285000,
           184500,
           195500,
           257500,
           185000,
           160000,
           132500,
           212000,
           176000,
           192000,
           130000,
           192000,
           117000,
           157500,
           200000,
           89000,
           140000,
           190000,
           261500,
           156000,
           68104,
           81300,
           370000,
           145500,
           142000,
           216000,
           123000,
           254900,
           79000,
           180000,
           240000,
           243000,
           372397,
           39300,
           157500,
           187000,
           173000,
           139000,
           145500,
           190000,
           394617,
           158900,
           174000,
           190000,
           128000,
           178740,
           315000,
           163000,
           180500,
           129500,
           133000,
           161000,
           248000,
           135000,
           93850,
           208300,
           142600,
           212999,
           386250,
           213750,
           315000,
           124000,
           150000,
           139500,
           120500,
           290000,
           215000,
           336820,
           174000,
           142100,
           130000,
           184000,
           269500,
           146500,
           145000,
           187000,
           119900,
           210000,
           412500,
           213000,
           182000,
           185000,
           152000,
           135000,
           115500,
           121500,
           149000,
           125000,
           136500,
           148000,
           125000,
           99800,
           120000,
           127000,
           160000,
           125600,
           224243,
           242000,
           88250,
           191000,
           148000,
           166000,
           172400,
           224500,
           157000,
           140000,
           183500,
           80000,
           175000,
           181900,
           315750,
           145000,
           197000,
           84900,
           158000,
           156000,
           305900,
           257500,
           116000,
           143450,
           277500,
           200000,
           105000,
           755000,
           204000,
           255000,
           156500,
           86000,
           240900,
           268000,
           244000,
           155000,
           144500,
           122500,
           141000,
           131000,
           230000,
           320000,
           185900,
           130000,
           188000,
           127500,
           188500,
           200100,
           148500,
           137000,
           157000,
           82500,
           168000,
           108000,
           177625,
           235000,
           155000,
           108000,
           155000,
           175000,
           362500,
           184900,
           135000,
           150000,
           195000,
           210000,
           133000,
           286500,
           119900,
           190000,
           137000,
           115000,
           113500,
           167500,
           335000,
           140000,
           176000,
           125000,
           105000,
           130250,
           210900,
           122000,
           375000,
           275000,
           64500,
           144000,
           171500,
           108500,
           244400,
           196000,
           91000,
           257000,
           165000,
           103000,
           143000,
           286000,
           126000,
           159950,
           140750,
           270000,
           118500,
           110000,
           123000,
           119000,
           126175,
           132000,
           148000,
           134500,
           216837,
           206900,
           109900,
           129000,
           133000,
           270000,
           125000,
           235500,
           115000,
           125000,
           299800,
           135000,
           140000,
           76000,
           335000,
           166000,
           139500,
           247900,
           160000,
           168000,
           267000,
           127500,
           204750,
           555000,
           160000,
           197000,
           151400,
           59000,
           146000,
           187500,
           200000,
           116500,
           215000,
           215000,
           307000,
           270000,
           217000,
           108500,
           120000,
           141000,
           253000,
           174000,
           110000,
           180500,
           140000,
           262280,
           128000,
           202500,
           114500,
           200000,
           124000,
           175900,
           231500,
           217000,
           159500,
           462000,
           154000,
           403000,
           190000,
           85500,
           140000,
           160000,
           266500,
           315000,
           221000,
           300000,
           103000,
           166000,
           145000,
           136900,
           263550,
           140000,
           205000,
           295000,
           153900,
           158500,
           130000,
           96000,
           122000,
           316500,
           197500,
           210000,
           219500,
           133000,
           79000,
           126000,
           155000,
           162000,
           188000,
           402000,
           228500,
           170000,
           180000,
           161750,
           97900,
           212000,
           122900,
           348000,
           172000,
           128000,
           227000,
           160000,
           170000,
           158000,
           167800,
           134900,
           190000,
           192140,
           149300,
           132000,
           181000,
           248500,
           221500,
           177000,
           197000,
           147500,
           141500,
           280000,
           150000,
           226700,
           153000,
           224000,
           360000,
           350000,
           107500,
           213000,
           189500,
           155000,
           161500,
           158000,
           285000,
           245350,
           192000,
           215000,
           139000,
           117000,
           154000,
           111000,
           110000,
           254900,
           125000,
           200000,
           162900,
           61000,
           245000,
           180000,
           110000,
           140000,
           155000,
           172900,
           184000,
           168675,
           255900,
           301000,
           217000,
           138500,
           147000,
           354000,
           135000,
           160000,
           127000,
           219990,
           235000,
           377426,
           160200,
           306000,
           190000,
           214000,
           134000,
           170000,
           190000,
           179900,
           112000,
           140000,
           233000,
           176500,
           200500,
           235000,
           140000,
           191500,
           190000,
           302000,
           158000,
           187000,
           149900,
           119164,
           143000,
           138000,
           170000,
           100000,
           154000,
           239000,
           90500,
           135000,
           155000,
           221000,
           230000,
           144000,
           207000,
           129000,
           197600,
           280000,
           203135,
           162500,
           98000,
           235000,
           157000,
           143000,
           150000,
           225000,
           119750,
           229000,
           163000,
           160000,
           173500,
           139000,
           157000,
           384500,
           141000,
           140000,
           270000,
           220000,
           360000,
           156000,
           211000,
           135500,
           430000,
           410000,
           125000,
           171500,
           188000,
           305000,
           119000,
           197900,
           178000,
           625000,
           150000,
           250000,
           176000,
           163000,
           235000,
           222000,
           313000,
           155000,
           106000,
           193000,
           65000,
           147000,
           184000,
           128250,
           91000,
           140200,
           147000,
           115000,
           219500,
           180000,
           221000,
           153500,
           143000,
           332000,
           143000,
           241000,
           135750,
           112500,
           205950,
           146000,
           175000,
           256000,
           129000,
           145000,
           148800,
           89500,
           167000,
           157900,
           177500,
           171500,
           109900,
           184000,
           184500,
           334000,
           294000,
           290000,
           135000,
           252000,
           270000,
           275000,
           200000,
           255900,
           200000,
           194500,
           165500,
           187500,
           225000,
           100000,
           177000,
           220000,
           224900,
           156500,
           139000,
           153000,
           88000,
           115000,
           100000,
           195000,
           172000,
           259000,
           90000,
           202900,
           206000,
           222000,
           172000,
           138887,
           139000,
           278000,
           249000,
           136500,
           64500,
           150000,
           225000,
           93900,
           130000,
           230000,
           124000,
           145900,
           115000,
           239500,
           181000,
           175000,
           149500,
           270000,
           145000,
           241500,
           112500,
           152000,
           186500,
           185000,
           244000,
           82375,
           171000,
           220000,
           124000,
           114000,
           128900,
           133500,
           189000,
           106000,
           372500,
           173000,
           162500,
           190000,
           129000,
           137500,
           146000,
           164500,
           178000,
           268500,
           382500,
           124000,
           176000,
           116000,
           252000,
           230000,
           127500,
           150000,
           184000,
           105000,
           143500,
           73000,
           130000,
           176000,
           145000,
           175500,
           168500,
           140000,
           374000,
           184000,
           209500,
           136000,
           138000,
           189000,
           293200,
           180500,
           214000,
           237000,
           124900,
           173000,
           260000,
           185000,
           161000,
           94900,
           271900,
           214500,
           300000,
           193000,
           294000,
           225000,
           146900,
           130000,
           262500,
           256000,
           162000,
           167000,
           130000,
           155000,
           248000,
           215000,
           269500,
           233500,
           185000,
           141000,
           174000,
           145000,
           210000,
           133000,
           145000,
           134000,
           279000,
           129000,
           130000,
           256300,
           142000,
           237500,
           188700,
           175900,
           150500,
           180000,
           134500,
           171000,
           138000,
           227000,
           148500,
           84500,
           149000,
           192350,
           172000,
           165400,
           185000,
           131900,
           213490,
           277000,
           257500,
           62383,
           274300,
           158000,
           106500,
           250000,
           202500,
           118400,
           146000,
           127000,
           219500,
           78000,
           82000,
           239000,
           156450,
           134000,
           214900,
           52000,
           60000,
           147000,
           123500,
           237000,
           84000,
           238500,
           141500,
           138500,
           139900,
           167000,
           183500,
           250000,
           177000,
           127000,
           165000,
           287000,
           337000,
           253000,
           136000,
           200000,
           200000,
           134900,
           75000,
           207000,
           149900,
           87500,
           188000,
           213000,
           153000,
           149900,
           355000,
           85000,
           194700,
           138400,
           207500,
           292500,
           148000,
           184000,
           137500,
           109500,
           211000,
           152500,
           184100,
           157000,
           218000,
           115000,
           232000,
           120000,
           155000,
           116000,
           157500,
           240000,
           189950,
           136500,
           159000,
           133000,
           127000,
           108000,
           127000,
           103600,
           64000,
           169000,
           111000,
           257000,
           178900,
           178900,
           100000,
           272000,
           90000,
           167500,
           140000,
           82000,
           130000,
           168000,
           226500,
           279000,
           76500,
           99900,
           185000,
           265000,
           161000,
           136500,
           139000,
           228950,
           250000,
           333168,
           127500,
           189000,
           610000,
           128000,
           169000,
           135000,
           179900,
           220000,
           147900,
           157000,
           129000,
           147000,
           149000,
           183900,
           165000,
           149500,
           153000,
           88000,
           330000,
           319900,
           177000,
           180000,
           125000,
           161000,
           176000,
           99500,
           160250,
           152000,
           192000,
           124000,
           115000,
           315000,
           133500,
           144500,
           121000,
           168000,
           127000,
           181000,
           129900,
           136905,
           148500,
           89500,
           136000,
           129500,
           260000,
           230000,
           165000,
           114504,
           110500,
           285000,
           118000,
           183500,
           98000,
           173000,
           123000,
           105000,
           153500,
           116000,
           284000,
           245700,
           336000,
           150000,
           123600,
           191000,
           155000,
           120000,
           164000,
           150900,
           189500,
           167300,
           153000,
           230000,
           182000,
           240000,
           123000,
           275000,
           166800,
           146000,
           135000,
           82500,
           156000,
           118000,
           155000,
           52500,
           130000,
           214000,
           165000,
           185000,
           174000,
           150000,
           466500,
           269790,
           154400,
           111250,
           112500,
           165000,
           355000,
           181000,
           180000,
           189000,
           162000,
           238000,
           105000,
           151000,
           111000,
           132000,
           96000,
           128500,
           225000,
           113000,
           128950,
           144500,
           262500,
           119500,
           109500,
           121000,
           297000,
           58500,
           153500,
           165600,
           106000,
           281213,
           100000,
           161500,
           165000,
           193000,
           141500,
           108000,
           239000,
           167900,
           177000,
           122000,
           228500,
           175000,
           124000,
           191000,
           127500,
           98000,
           156500,
           207000,
           130500,
           135000,
           154300,
           232000,
           123000,
           203000,
           191000,
           135000,
           181000,
           185750,
           106000,
           101000,
           300000,
           139000,
           260000,
           124400,
           145000,
           137500,
           157500,
           222000,
           175000,
           180400,
           108000,
           137500,
           96000,
           240000,
           127000,
           155000,
           142500,
           154000,
           234500,
           175500,
           125500,
           279500,
           200000,
           143750,
           87000,
           349265,
           174000,
           194000,
           194000,
           117600,
           156000,
           183000,
           147000,
           117000,
           146000,
           89900,
           142000,
           239000,
           144000,
           162000,
           147000,
           205000,
           55000,
           235000,
           319900,
           118000,
           196500,
           103000,
           173000,
           97500,
           88750,
           104900,
           96500,
           128500,
           250000,
           142125,
           115400,
           179200,
           130000,
           190500,
           178000,
           130000,
           192000,
           148000,
           135500,
           101800,
           184900,
           222500,
           122000,
           240000,
           132000,
           196000,
           232698,
           161500,
           116900,
           144000,
           213500,
           312500,
           115000,
           207000,
           144000,
           135900,
           130000,
           120000,
           81000,
           156500,
           300000,
           135000,
           134800,
           148000,
           140000,
           113000,
           93500,
           161000,
           100000,
           167900,
           216000,
           135000,
           199900,
           192500,
           160000,
           156500,
           295493,
           170000,
           275000,
           193000,
           205000,
           174000,
           208500,
           108000,
           95000,
           138000,
           170000,
           105000,
           87000,
           165000,
           139500,
           126000,
           225000,
           226500,
           111750,
           97500,
           143000,
           240000,
           113700,
           263400,
           145400,
           306000,
           274000,
           325000,
           178000,
           162500,
           103200,
           205000,
           96900,
           110000,
           128000,
           350000,
           178000,
           316000,
           194500,
           173000,
           210000,
           205000,
           163500,
           105900,
           94750,
           170000,
           84500,
           215000,
           185088,
           236000,
           108500,
           129400,
           172500,
           110000,
           175900,
           213250,
           204000,
           209000,
           218500,
           163000,
           102900,
           175000,
           128000,
           107900,
           280000,
           191000,
           139400,
           155000,
           178750,
           260000,
           170000,
           126000,
           161000,
           79000,
           183200,
           250000,
           176000,
           370000,
           134500,
           128000,
           135000,
           245000,
           131500,
           110000,
           115000,
           169000,
           127000,
           58500,
           85000,
           165000,
           106250,
           184000,
           119000,
           275000,
           128500,
           229800,
           373000,
           159900,
           139000,
           130500,
           212000,
           139000,
           225000,
           210000,
           117500,
           188900,
           199500,
           213500,
           260000,
           289000,
           206000,
           174850,
           136000,
           475000,
           197000,
           137500,
           165000,
           130000,
           255000,
           109500,
           105000,
           89000,
           129000,
           149000,
           182900,
           112000,
           144750,
           122000,
           372000,
           312500,
           175000,
           241500,
           155000,
           131000,
           117500,
           173000,
           350000,
           200000,
           128000,
           113000,
           159000,
           117250,
           203000,
           175000,
           141000,
           116000,
           154000,
           149700,
           244000,
           128600,
           91500,
           202000,
           147000,
           133000,
           266000,
           126500,
           134450,
           212300,
           129000,
           350000,
           237000,
           109000,
           170000,
           128000,
           140500,
           115000,
           106500,
           200000,
           136500,
           145250,
           226750,
           151000,
           275000,
           123000,
           140000,
           157000,
           120000,
           112000,
           275500,
           147500,
           202500,
           122500,
           147500,
           152500,
           185000,
           241500,
           139500,
           179900,
           98000,
           205000,
           165000,
           172500,
           172000,
           94000,
           115000,
           98300,
           584500,
           211000,
           149000,
           226000,
           145000,
           176500,
           102000,
           135000,
           165250,
           188000,
           123900,
           153600,
           104500,
           214000,
           183000,
           190000,
           236500,
           155000,
           190000,
           230000,
           201000,
           131750,
           201000,
           167000,
           155000,
           196000,
           145000,
           118500,
           209500,
           125000,
           246900,
           215700,
           130000,
           129000,
           215000,
           173000,
           146000,
           265000,
           285000,
           177000,
           460000,
           158500,
           192100,
           169500,
           99600,
           239900,
           158000,
           345000,
           135500,
           113000,
           179000,
           152000,
           176500,
           155900,
           280000,
           127000,
           263000,
           145000,
           254000,
           287500,
           120000,
           311500,
           265900,
           35000,
           86900,
           127000,
           118500,
           159000,
           200000,
           119000,
           115000,
           250000,
           195000,
           220000,
           119500,
           155000,
           290000,
           137000,
           180000,
           241600,
           153000,
           142000,
           160000,
           198000,
           181000,
           139000,
           117000,
           246000,
           185500,
           238000,
           165000,
           64000,
           87000,
           127000,
           165500,
           137000,
           208900,
           279700,
           105500,
           187000,
           124500,
           168500,
           152000,
           180000,
           231500,
           132000,
           445000,
           252000,
           129500,
           305000,
           94500,
           118000,
           85000,
           160000,
           90000,
           157500,
           148500,
           158000,
           192000,
           186700,
           248500,
           152000,
           157500,
           153500,
           110000,
           112000,
           177000,
           345000,
           207500,
           102000,
           81400,
           212500,
           137250,
           234000,
           119000,
           223500,
           152000,
           219500,
           94550,
           169500,
           204000,
           143000,
           137000,
           140000,
           137500,
           190000,
           110000,
           124500,
           190000,
           132000,
           143000,
           104000,
           80000,
           148000,
           119500,
           269500,
           150000,
           290000,
           173500,
           119600,
           140000,
           197900,
           99900,
           138500,
           145500,
           132500,
           146500,
           132500,
           315500,
           130000,
           133500,
           110000,
           270000,
           157900,
           72500,
           111500,
           224000,
           379000,
           274000,
           167000,
           108000,
           60000,
           169000,
           174500,
           215000,
           188500,
           123000,
           141000,
           159900,
           105000,
           180000,
           137500,
           232000,
           100000,
           200000,
           90350,
           159900,
           255000,
           229000,
           129900,
           187500,
           125000,
           148400,
           148000,
           122000,
           120000,
           204000,
           239900,
           144000,
           153500,
           128000,
           84900,
           270000,
           155500,
           135000,
           143500,
           284700,
           141500,
           211000,
           410000,
           316600,
           146500,
           227000,
           193500,
           318750,
           179900,
           141000,
           168000,
           166500,
           188500,
           127500,
           251000,
           174000,
           192000,
           300000,
           137500,
           103000,
           116500,
           147400,
           87500,
           127500,
           218000,
           118000,
           202000,
           317000,
           80000,
           149500,
           185000,
           179900,
           159895,
           143000,
           218000,
           110000,
           170000,
           156000,
           190000,
           282500,
           309000,
           137900,
           110000,
           191000,
           140000,
           227000,
           180000,
           144000,
           244000,
           211000,
           179200,
           173000,
           134500,
           142500,
           125000,
           114900,
           119500,
           124500,
           470000,
           147000,
           100000,
           80500,
           203000,
           221800,
           89500,
           142000,
           151000,
           215000,
           160000,
           250000,
           189000,
           133000,
           149900,
           156500,
           328000,
           239500,
           177900,
           145000,
           116900,
           325000,
           155000,
           144000,
           188000,
           225000,
           141000,
           205000,
           107500,
           85500,
           242000,
           149000,
           135000,
           206000,
           85000,
           300000,
           315000,
           240050,
           180000,
           139000,
           185000,
           187000,
           326000,
           178000,
           239000,
           133000,
           123000,
           139000,
           140000,
           137450,
           170000,
           163000,
           105000,
           320000,
           197900,
           180000,
           171000,
           55000,
           274900,
           128500,
           260000,
           187000,
           290000,
           116000,
           230000,
           188500,
           284000,
           123500,
           256000,
           173000,
           93000,
           195500,
           136500,
           213000,
           167500,
           137000,
           172500,
           177500,
           209000,
           179500,
           119900,
           226000,
           184000,
           127000,
           207500,
           150000,
           119000,
           135000,
           75190,
           124500,
           83500,
           129500,
           441929,
           171750,
           100000,
           143000,
           93000,
           76000,
           128500,
           164900,
           228000,
           141000,
           190550,
           410000,
           131500,
           153000,
           126000,
           105000,
           138000,
           165500,
           110000,
           149000,
           176000,
           64500,
           170000,
           139950,
           188000,
           214000,
           68000,
           165000,
           139000,
           145000,
           128500,
           158450,
           120500,
           141000,
           222500,
           114500,
           451950,
           234000,
           159000,
           80000,
           178400,
           185000,
           129900,
           228000,
           105000,
           125000,
           146000,
           146500,
           109500,
           144000,
           172500,
           275500,
           291000,
           200500,
           337500,
           143750,
           164000,
           279500,
           149000,
           140500,
           170000,
           255500,
           119000,
           120000,
           144900,
           163500,
           242500,
           193000,
           153900,
           225000,
           157000,
           137900,
           152000,
           163000,
           257500,
           201000,
           159900,
           145000,
           136500,
           162900,
           157500,
           124900,
           161000,
           137000,
           110500,
           120000,
           110000,
           200000,
           126500,
           119200,
           129500,
           126000,
           178000,
           224900,
           240000,
           135000,
           163000,
           159500,
           170000,
           163900,
           179000,
           119000,
           159000,
           171900,
           335000,
           141000,
           112900,
           185000,
           129500,
           115000,
           109900,
           129800,
           196500,
           121000,
           139600,
           145000,
           217500,
           215000
          ],
          "sizemode": "area",
          "sizeref": 7550
         },
         "mode": "markers",
         "name": "",
         "showlegend": false,
         "subplot": "mapbox",
         "type": "scattermapbox"
        }
       ],
       "layout": {
        "coloraxis": {
         "colorbar": {
          "title": {
           "text": "SalePrice"
          }
         },
         "colorscale": [
          [
           0,
           "#0d0887"
          ],
          [
           0.1111111111111111,
           "#46039f"
          ],
          [
           0.2222222222222222,
           "#7201a8"
          ],
          [
           0.3333333333333333,
           "#9c179e"
          ],
          [
           0.4444444444444444,
           "#bd3786"
          ],
          [
           0.5555555555555556,
           "#d8576b"
          ],
          [
           0.6666666666666666,
           "#ed7953"
          ],
          [
           0.7777777777777778,
           "#fb9f3a"
          ],
          [
           0.8888888888888888,
           "#fdca26"
          ],
          [
           1,
           "#f0f921"
          ]
         ]
        },
        "height": 400,
        "legend": {
         "itemsizing": "constant",
         "tracegroupgap": 0
        },
        "mapbox": {
         "bearing": 0,
         "center": {
          "lat": 42.01970305649769,
          "lon": -93.63777177159335
         },
         "domain": {
          "x": [
           0,
           1
          ],
          "y": [
           0,
           1
          ]
         },
         "pitch": 0,
         "style": "carto-positron",
         "zoom": 11.443141229740755
        },
        "margin": {
         "b": 0,
         "l": 0,
         "r": 1,
         "t": 30
        },
        "template": {
         "data": {
          "bar": [
           {
            "error_x": {
             "color": "#2a3f5f"
            },
            "error_y": {
             "color": "#2a3f5f"
            },
            "marker": {
             "line": {
              "color": "#E5ECF6",
              "width": 0.5
             },
             "pattern": {
              "fillmode": "overlay",
              "size": 10,
              "solidity": 0.2
             }
            },
            "type": "bar"
           }
          ],
          "barpolar": [
           {
            "marker": {
             "line": {
              "color": "#E5ECF6",
              "width": 0.5
             },
             "pattern": {
              "fillmode": "overlay",
              "size": 10,
              "solidity": 0.2
             }
            },
            "type": "barpolar"
           }
          ],
          "carpet": [
           {
            "aaxis": {
             "endlinecolor": "#2a3f5f",
             "gridcolor": "white",
             "linecolor": "white",
             "minorgridcolor": "white",
             "startlinecolor": "#2a3f5f"
            },
            "baxis": {
             "endlinecolor": "#2a3f5f",
             "gridcolor": "white",
             "linecolor": "white",
             "minorgridcolor": "white",
             "startlinecolor": "#2a3f5f"
            },
            "type": "carpet"
           }
          ],
          "choropleth": [
           {
            "colorbar": {
             "outlinewidth": 0,
             "ticks": ""
            },
            "type": "choropleth"
           }
          ],
          "contour": [
           {
            "colorbar": {
             "outlinewidth": 0,
             "ticks": ""
            },
            "colorscale": [
             [
              0,
              "#0d0887"
             ],
             [
              0.1111111111111111,
              "#46039f"
             ],
             [
              0.2222222222222222,
              "#7201a8"
             ],
             [
              0.3333333333333333,
              "#9c179e"
             ],
             [
              0.4444444444444444,
              "#bd3786"
             ],
             [
              0.5555555555555556,
              "#d8576b"
             ],
             [
              0.6666666666666666,
              "#ed7953"
             ],
             [
              0.7777777777777778,
              "#fb9f3a"
             ],
             [
              0.8888888888888888,
              "#fdca26"
             ],
             [
              1,
              "#f0f921"
             ]
            ],
            "type": "contour"
           }
          ],
          "contourcarpet": [
           {
            "colorbar": {
             "outlinewidth": 0,
             "ticks": ""
            },
            "type": "contourcarpet"
           }
          ],
          "heatmap": [
           {
            "colorbar": {
             "outlinewidth": 0,
             "ticks": ""
            },
            "colorscale": [
             [
              0,
              "#0d0887"
             ],
             [
              0.1111111111111111,
              "#46039f"
             ],
             [
              0.2222222222222222,
              "#7201a8"
             ],
             [
              0.3333333333333333,
              "#9c179e"
             ],
             [
              0.4444444444444444,
              "#bd3786"
             ],
             [
              0.5555555555555556,
              "#d8576b"
             ],
             [
              0.6666666666666666,
              "#ed7953"
             ],
             [
              0.7777777777777778,
              "#fb9f3a"
             ],
             [
              0.8888888888888888,
              "#fdca26"
             ],
             [
              1,
              "#f0f921"
             ]
            ],
            "type": "heatmap"
           }
          ],
          "heatmapgl": [
           {
            "colorbar": {
             "outlinewidth": 0,
             "ticks": ""
            },
            "colorscale": [
             [
              0,
              "#0d0887"
             ],
             [
              0.1111111111111111,
              "#46039f"
             ],
             [
              0.2222222222222222,
              "#7201a8"
             ],
             [
              0.3333333333333333,
              "#9c179e"
             ],
             [
              0.4444444444444444,
              "#bd3786"
             ],
             [
              0.5555555555555556,
              "#d8576b"
             ],
             [
              0.6666666666666666,
              "#ed7953"
             ],
             [
              0.7777777777777778,
              "#fb9f3a"
             ],
             [
              0.8888888888888888,
              "#fdca26"
             ],
             [
              1,
              "#f0f921"
             ]
            ],
            "type": "heatmapgl"
           }
          ],
          "histogram": [
           {
            "marker": {
             "pattern": {
              "fillmode": "overlay",
              "size": 10,
              "solidity": 0.2
             }
            },
            "type": "histogram"
           }
          ],
          "histogram2d": [
           {
            "colorbar": {
             "outlinewidth": 0,
             "ticks": ""
            },
            "colorscale": [
             [
              0,
              "#0d0887"
             ],
             [
              0.1111111111111111,
              "#46039f"
             ],
             [
              0.2222222222222222,
              "#7201a8"
             ],
             [
              0.3333333333333333,
              "#9c179e"
             ],
             [
              0.4444444444444444,
              "#bd3786"
             ],
             [
              0.5555555555555556,
              "#d8576b"
             ],
             [
              0.6666666666666666,
              "#ed7953"
             ],
             [
              0.7777777777777778,
              "#fb9f3a"
             ],
             [
              0.8888888888888888,
              "#fdca26"
             ],
             [
              1,
              "#f0f921"
             ]
            ],
            "type": "histogram2d"
           }
          ],
          "histogram2dcontour": [
           {
            "colorbar": {
             "outlinewidth": 0,
             "ticks": ""
            },
            "colorscale": [
             [
              0,
              "#0d0887"
             ],
             [
              0.1111111111111111,
              "#46039f"
             ],
             [
              0.2222222222222222,
              "#7201a8"
             ],
             [
              0.3333333333333333,
              "#9c179e"
             ],
             [
              0.4444444444444444,
              "#bd3786"
             ],
             [
              0.5555555555555556,
              "#d8576b"
             ],
             [
              0.6666666666666666,
              "#ed7953"
             ],
             [
              0.7777777777777778,
              "#fb9f3a"
             ],
             [
              0.8888888888888888,
              "#fdca26"
             ],
             [
              1,
              "#f0f921"
             ]
            ],
            "type": "histogram2dcontour"
           }
          ],
          "mesh3d": [
           {
            "colorbar": {
             "outlinewidth": 0,
             "ticks": ""
            },
            "type": "mesh3d"
           }
          ],
          "parcoords": [
           {
            "line": {
             "colorbar": {
              "outlinewidth": 0,
              "ticks": ""
             }
            },
            "type": "parcoords"
           }
          ],
          "pie": [
           {
            "automargin": true,
            "type": "pie"
           }
          ],
          "scatter": [
           {
            "fillpattern": {
             "fillmode": "overlay",
             "size": 10,
             "solidity": 0.2
            },
            "type": "scatter"
           }
          ],
          "scatter3d": [
           {
            "line": {
             "colorbar": {
              "outlinewidth": 0,
              "ticks": ""
             }
            },
            "marker": {
             "colorbar": {
              "outlinewidth": 0,
              "ticks": ""
             }
            },
            "type": "scatter3d"
           }
          ],
          "scattercarpet": [
           {
            "marker": {
             "colorbar": {
              "outlinewidth": 0,
              "ticks": ""
             }
            },
            "type": "scattercarpet"
           }
          ],
          "scattergeo": [
           {
            "marker": {
             "colorbar": {
              "outlinewidth": 0,
              "ticks": ""
             }
            },
            "type": "scattergeo"
           }
          ],
          "scattergl": [
           {
            "marker": {
             "colorbar": {
              "outlinewidth": 0,
              "ticks": ""
             }
            },
            "type": "scattergl"
           }
          ],
          "scattermapbox": [
           {
            "marker": {
             "colorbar": {
              "outlinewidth": 0,
              "ticks": ""
             }
            },
            "type": "scattermapbox"
           }
          ],
          "scatterpolar": [
           {
            "marker": {
             "colorbar": {
              "outlinewidth": 0,
              "ticks": ""
             }
            },
            "type": "scatterpolar"
           }
          ],
          "scatterpolargl": [
           {
            "marker": {
             "colorbar": {
              "outlinewidth": 0,
              "ticks": ""
             }
            },
            "type": "scatterpolargl"
           }
          ],
          "scatterternary": [
           {
            "marker": {
             "colorbar": {
              "outlinewidth": 0,
              "ticks": ""
             }
            },
            "type": "scatterternary"
           }
          ],
          "surface": [
           {
            "colorbar": {
             "outlinewidth": 0,
             "ticks": ""
            },
            "colorscale": [
             [
              0,
              "#0d0887"
             ],
             [
              0.1111111111111111,
              "#46039f"
             ],
             [
              0.2222222222222222,
              "#7201a8"
             ],
             [
              0.3333333333333333,
              "#9c179e"
             ],
             [
              0.4444444444444444,
              "#bd3786"
             ],
             [
              0.5555555555555556,
              "#d8576b"
             ],
             [
              0.6666666666666666,
              "#ed7953"
             ],
             [
              0.7777777777777778,
              "#fb9f3a"
             ],
             [
              0.8888888888888888,
              "#fdca26"
             ],
             [
              1,
              "#f0f921"
             ]
            ],
            "type": "surface"
           }
          ],
          "table": [
           {
            "cells": {
             "fill": {
              "color": "#EBF0F8"
             },
             "line": {
              "color": "white"
             }
            },
            "header": {
             "fill": {
              "color": "#C8D4E3"
             },
             "line": {
              "color": "white"
             }
            },
            "type": "table"
           }
          ]
         },
         "layout": {
          "annotationdefaults": {
           "arrowcolor": "#2a3f5f",
           "arrowhead": 0,
           "arrowwidth": 1
          },
          "autotypenumbers": "strict",
          "coloraxis": {
           "colorbar": {
            "outlinewidth": 0,
            "ticks": ""
           }
          },
          "colorscale": {
           "diverging": [
            [
             0,
             "#8e0152"
            ],
            [
             0.1,
             "#c51b7d"
            ],
            [
             0.2,
             "#de77ae"
            ],
            [
             0.3,
             "#f1b6da"
            ],
            [
             0.4,
             "#fde0ef"
            ],
            [
             0.5,
             "#f7f7f7"
            ],
            [
             0.6,
             "#e6f5d0"
            ],
            [
             0.7,
             "#b8e186"
            ],
            [
             0.8,
             "#7fbc41"
            ],
            [
             0.9,
             "#4d9221"
            ],
            [
             1,
             "#276419"
            ]
           ],
           "sequential": [
            [
             0,
             "#0d0887"
            ],
            [
             0.1111111111111111,
             "#46039f"
            ],
            [
             0.2222222222222222,
             "#7201a8"
            ],
            [
             0.3333333333333333,
             "#9c179e"
            ],
            [
             0.4444444444444444,
             "#bd3786"
            ],
            [
             0.5555555555555556,
             "#d8576b"
            ],
            [
             0.6666666666666666,
             "#ed7953"
            ],
            [
             0.7777777777777778,
             "#fb9f3a"
            ],
            [
             0.8888888888888888,
             "#fdca26"
            ],
            [
             1,
             "#f0f921"
            ]
           ],
           "sequentialminus": [
            [
             0,
             "#0d0887"
            ],
            [
             0.1111111111111111,
             "#46039f"
            ],
            [
             0.2222222222222222,
             "#7201a8"
            ],
            [
             0.3333333333333333,
             "#9c179e"
            ],
            [
             0.4444444444444444,
             "#bd3786"
            ],
            [
             0.5555555555555556,
             "#d8576b"
            ],
            [
             0.6666666666666666,
             "#ed7953"
            ],
            [
             0.7777777777777778,
             "#fb9f3a"
            ],
            [
             0.8888888888888888,
             "#fdca26"
            ],
            [
             1,
             "#f0f921"
            ]
           ]
          },
          "colorway": [
           "#636efa",
           "#EF553B",
           "#00cc96",
           "#ab63fa",
           "#FFA15A",
           "#19d3f3",
           "#FF6692",
           "#B6E880",
           "#FF97FF",
           "#FECB52"
          ],
          "font": {
           "color": "#2a3f5f"
          },
          "geo": {
           "bgcolor": "white",
           "lakecolor": "white",
           "landcolor": "#E5ECF6",
           "showlakes": true,
           "showland": true,
           "subunitcolor": "white"
          },
          "hoverlabel": {
           "align": "left"
          },
          "hovermode": "closest",
          "mapbox": {
           "style": "light"
          },
          "paper_bgcolor": "white",
          "plot_bgcolor": "#E5ECF6",
          "polar": {
           "angularaxis": {
            "gridcolor": "white",
            "linecolor": "white",
            "ticks": ""
           },
           "bgcolor": "#E5ECF6",
           "radialaxis": {
            "gridcolor": "white",
            "linecolor": "white",
            "ticks": ""
           }
          },
          "scene": {
           "xaxis": {
            "backgroundcolor": "#E5ECF6",
            "gridcolor": "white",
            "gridwidth": 2,
            "linecolor": "white",
            "showbackground": true,
            "ticks": "",
            "zerolinecolor": "white"
           },
           "yaxis": {
            "backgroundcolor": "#E5ECF6",
            "gridcolor": "white",
            "gridwidth": 2,
            "linecolor": "white",
            "showbackground": true,
            "ticks": "",
            "zerolinecolor": "white"
           },
           "zaxis": {
            "backgroundcolor": "#E5ECF6",
            "gridcolor": "white",
            "gridwidth": 2,
            "linecolor": "white",
            "showbackground": true,
            "ticks": "",
            "zerolinecolor": "white"
           }
          },
          "shapedefaults": {
           "line": {
            "color": "#2a3f5f"
           }
          },
          "ternary": {
           "aaxis": {
            "gridcolor": "white",
            "linecolor": "white",
            "ticks": ""
           },
           "baxis": {
            "gridcolor": "white",
            "linecolor": "white",
            "ticks": ""
           },
           "bgcolor": "#E5ECF6",
           "caxis": {
            "gridcolor": "white",
            "linecolor": "white",
            "ticks": ""
           }
          },
          "title": {
           "x": 0.05
          },
          "xaxis": {
           "automargin": true,
           "gridcolor": "white",
           "linecolor": "white",
           "ticks": "",
           "title": {
            "standoff": 15
           },
           "zerolinecolor": "white",
           "zerolinewidth": 2
          },
          "yaxis": {
           "automargin": true,
           "gridcolor": "white",
           "linecolor": "white",
           "ticks": "",
           "title": {
            "standoff": 15
           },
           "zerolinecolor": "white",
           "zerolinewidth": 2
          }
         }
        },
        "title": {
         "text": "Houses in AMES"
        },
        "width": 600
       }
      },
      "image/png": "[encoded data removed]",
      "text/html": [
       "<div>                            <div id=\"f4a6bee1-141c-4c13-8b4f-947e5b2b0d2d\" class=\"plotly-graph-div\" style=\"height:400px; width:600px;\"></div>            <script type=\"text/javascript\">                require([\"plotly\"], function(Plotly) {                    window.PLOTLYENV=window.PLOTLYENV || {};                                    if (document.getElementById(\"f4a6bee1-141c-4c13-8b4f-947e5b2b0d2d\")) {                    Plotly.newPlot(                        \"f4a6bee1-141c-4c13-8b4f-947e5b2b0d2d\",                        [{\"customdata\":[[2010,909176150],[2009,905476230],[2007,911128020],[2009,535377150],[2009,534177230],[2009,908128060],[2009,902135020],[2008,528228540],[2008,923426010],[2007,908186050],[2008,528186170],[2010,923426070],[2009,902204080],[2009,535105100],[2008,907405020],[2008,531382110],[2007,906380120],[2008,909101060],[2010,534152050],[2009,923252075],[2007,531376060],[2008,902201120],[2008,923228080],[2009,902326030],[2010,527451330],[2007,528218100],[2009,916386140],[2010,533221090],[2009,534128010],[2007,528106110],[2009,902206260],[2007,528222090],[2010,528218150],[2008,903400180],[2008,535453210],[2010,916386010],[2006,907181090],[2006,902206020],[2007,527327050],[2007,527455250],[2008,528326110],[2007,914452190],[2008,535425060],[2006,532376250],[2007,535379110],[2006,528118010],[2007,528235160],[2009,905478030],[2010,902106130],[2009,902102080],[2007,909176170],[2007,533206070],[2007,527302020],[2007,907414060],[2009,904301060],[2008,532479020],[2007,528110070],[2006,534429130],[2008,528365060],[2009,533135020],[2006,910203100],[2007,905451390],[2009,533213010],[2008,528118030],[2010,907200340],[2008,528164060],[2008,907202010],[2009,528186180],[2010,909250060],[2008,528315060],[2010,528231020],[2007,528456230],[2006,907180120],[2008,911370410],[2006,527108090],[2007,528222050],[2007,528429110],[2006,902328100],[2010,527451410],[2006,914476130],[2008,535453020],[2006,535379100],[2009,905108190],[2008,905201110],[2009,903227090],[2006,905107300],[2007,903401070],[2009,903230100],[2010,527105010],[2007,528480020],[2008,527402130],[2008,909251080],[2008,908201120],[2006,533221080],[2006,535178100],[2007,535457050],[2009,923226270],[2008,535105090],[2009,533253070],[2009,907280170],[2008,914476450],[2007,535327200],[2009,528441090],[2007,906426195],[2007,534275170],[2006,923226180],[2010,923226320],[2007,528118050],[2010,904300150],[2009,533236050],[2008,527354160],[2007,528435040],[2006,534129230],[2006,535325350],[2007,902408080],[2007,916455050],[2009,909276200],[2008,534277060],[2008,905107280],[2007,923204050],[2006,531376050],[2007,903454010],[2008,906412010],[2007,535301060],[2007,534453080],[2008,911102180],[2009,535403210],[2008,531382120],[2008,916455120],[2010,905475510],[2007,916326090],[2009,909101140],[2007,907260050],[2009,907131090],[2006,903206160],[2006,528222020],[2007,526352090],[2006,534201280],[2006,908102330],[2010,906385010],[2006,534276230],[2006,906420020],[2010,527404120],[2006,907192010],[2009,527131030],[2006,527452290],[2010,907250030],[2007,909251040],[2006,535377100],[2009,528174050],[2006,533128090],[2008,533250110],[2008,908186040],[2007,903231050],[2008,908152110],[2009,535476110],[2008,533250050],[2006,535325340],[2007,909475050],[2006,907196020],[2010,533130160],[2007,535102010],[2009,531475220],[2008,527325070],[2006,911175440],[2010,903226160],[2008,902134100],[2006,902111010],[2009,535381040],[2010,910202060],[2007,535477180],[2006,528429120],[2006,908127050],[2008,528439010],[2008,906223110],[2010,528358010],[2006,532378160],[2006,531450040],[2009,527326040],[2008,903204095],[2007,527182170],[2007,905105040],[2007,528477020],[2006,905202210],[2006,903425190],[2008,535150210],[2006,535453160],[2007,535353130],[2008,535456070],[2008,908250090],[2006,527452070],[2006,902325100],[2008,921126030],[2008,905401060],[2006,916402125],[2009,531452010],[2006,528363070],[2010,533208090],[2008,534401130],[2006,910203230],[2006,907420090],[2007,902303100],[2006,906392120],[2007,903484080],[2009,527301320],[2008,527140090],[2008,909428170],[2009,905228050],[2008,533234020],[2006,533212100],[2009,534475185],[2006,905452150],[2010,528176010],[2009,535450160],[2008,533215040],[2007,528104010],[2007,535325090],[2006,909250210],[2007,527325110],[2007,910202030],[2010,535175180],[2010,534202160],[2006,916403020],[2009,535354100],[2008,905227050],[2007,534451020],[2007,533120030],[2007,905352010],[2009,905108220],[2007,527165170],[2010,535353190],[2006,528315070],[2009,903232060],[2006,906204180],[2007,906475110],[2007,906223040],[2008,909253190],[2007,923400150],[2006,923226290],[2007,909282020],[2008,528110110],[2010,534479320],[2007,528150110],[2007,906380160],[2007,911370460],[2008,535477090],[2009,534478230],[2007,906426060],[2006,528235190],[2010,923225440],[2010,923276030],[2009,909425060],[2007,902332030],[2009,528188060],[2007,527105140],[2009,535477150],[2006,535327210],[2008,533213070],[2007,904100100],[2010,528188120],[2007,528480180],[2008,528114040],[2008,528235020],[2009,908275110],[2006,905103140],[2008,902402260],[2009,528235200],[2007,528181060],[2007,923275200],[2007,903451110],[2006,528181040],[2010,908102110],[2008,533217050],[2008,533350090],[2007,528445070],[2006,527212040],[2007,907200270],[2009,908201040],[2006,907410100],[2009,903481120],[2007,535453180],[2009,907227110],[2010,531453010],[2006,531478010],[2006,535403200],[2009,527254020],[2009,527366030],[2006,535325460],[2007,528110040],[2006,906392090],[2009,535452140],[2008,535151160],[2008,535456050],[2009,903429110],[2007,916455150],[2006,909425180],[2009,528175050],[2008,910205010],[2009,533206020],[2007,902427040],[2009,528427020],[2010,528458070],[2008,903401030],[2008,909275040],[2009,527163130],[2009,905200350],[2009,528363050],[2007,908154205],[2007,903233140],[2006,905107070],[2007,528240020],[2006,906225180],[2006,528114010],[2008,907126030],[2008,904100160],[2007,909254130],[2007,535403030],[2006,907412010],[2007,903228080],[2006,531452100],[2006,526302030],[2006,902106090],[2007,527161090],[2007,532353120],[2010,535453070],[2007,534252110],[2008,535327230],[2008,905425125],[2008,908103280],[2009,528221060],[2010,921128020],[2007,528174040],[2006,909256010],[2010,533212060],[2007,908204180],[2010,533223100],[2006,909176180],[2007,903475040],[2006,535426195],[2009,905103040],[2007,528110100],[2006,534431030],[2006,905300010],[2009,914474070],[2008,534428100],[2006,533350050],[2006,908188130],[2006,534453150],[2007,528458120],[2006,535179050],[2008,527302185],[2009,534128190],[2008,528180110],[2009,916176125],[2007,903454090],[2010,535457010],[2008,528462040],[2007,909428120],[2008,916460060],[2007,528431050],[2009,527110020],[2008,535352080],[2010,527402250],[2007,535451040],[2009,905452050],[2006,903225090],[2009,531363010],[2007,923205025],[2010,532377060],[2008,902109160],[2008,902128075],[2008,528178070],[2008,903225160],[2006,906380170],[2007,528174020],[2007,910201110],[2010,535325400],[2009,535150070],[2007,533254100],[2007,533254130],[2009,907194110],[2006,531375100],[2008,532477030],[2010,534102025],[2010,905452160],[2006,533208050],[2006,905427030],[2006,535301010],[2006,909280030],[2009,528116010],[2007,528228270],[2009,907252210],[2006,909475020],[2008,907253110],[2007,535325280],[2007,532378240],[2008,908102260],[2007,908226180],[2009,527425060],[2009,527451540],[2010,902128170],[2006,903455090],[2010,910203250],[2009,903228070],[2006,527214060],[2008,528427010],[2009,535451250],[2008,908152270],[2009,909452050],[2009,532354160],[2009,531453100],[2007,527328050],[2008,907418010],[2007,528344020],[2006,532353180],[2007,902106070],[2007,528221050],[2006,534479300],[2009,906223060],[2008,535105060],[2009,528108040],[2009,909279010],[2008,527183030],[2009,527276160],[2010,902207130],[2010,903227020],[2010,908203100],[2009,534152120],[2010,907290240],[2008,528478030],[2007,910201180],[2008,533208140],[2007,528166150],[2007,905107140],[2009,527180100],[2007,528458080],[2006,905101450],[2007,914460110],[2009,534400290],[2008,907254020],[2008,528458030],[2008,528480060],[2007,905226050],[2009,528253010],[2008,528228345],[2007,527425140],[2008,907135020],[2006,533206040],[2007,535181140],[2008,902427045],[2009,527405130],[2007,528431040],[2006,527450210],[2008,532378200],[2009,909278020],[2008,534225110],[2007,909451130],[2008,528142020],[2009,527404030],[2008,527162180],[2007,534151180],[2007,908204090],[2007,532354070],[2008,527302070],[2008,527214030],[2006,533128030],[2008,902330010],[2009,923228150],[2006,527302080],[2009,528344040],[2006,535403040],[2009,535375050],[2009,535376060],[2010,924151040],[2008,528186160],[2006,532351150],[2006,905105010],[2006,527452310],[2006,909250200],[2010,905101300],[2009,902329080],[2008,903225140],[2008,533215080],[2008,534452060],[2006,532476050],[2006,909428110],[2006,528170040],[2006,533110130],[2006,921205030],[2006,923203090],[2009,535104120],[2007,528366070],[2008,923204040],[2007,535378080],[2007,533251130],[2006,528235130],[2009,903226130],[2006,903235020],[2009,527425110],[2009,902327070],[2007,903425270],[2008,534127230],[2007,914478100],[2006,535301150],[2010,903225150],[2009,527402220],[2009,904351240],[2009,535452090],[2009,528108020],[2008,528427070],[2006,902125020],[2007,910201050],[2010,527425090],[2009,909277100],[2009,531452070],[2008,528387050],[2008,905480240],[2010,535476350],[2010,527258010],[2006,906394060],[2008,909282030],[2008,905225040],[2008,908275130],[2007,527226040],[2008,903458110],[2006,535425080],[2009,907201220],[2008,903426160],[2007,905478140],[2009,906475070],[2007,907414070],[2006,914476050],[2006,923251180],[2009,528235090],[2009,527355150],[2009,527454130],[2008,533215020],[2006,526302120],[2006,532378220],[2007,907420110],[2009,527354100],[2006,535404080],[2010,906223090],[2006,527450080],[2008,905352030],[2009,923275040],[2010,906477110],[2006,908103310],[2007,531477040],[2010,534176230],[2007,907187060],[2009,528385050],[2008,908204160],[2008,924100020],[2006,907401080],[2010,528108120],[2008,916403230],[2009,903236040],[2007,903475060],[2007,527302090],[2007,923230120],[2007,534403420],[2008,902304060],[2008,1007100110],[2009,907290090],[2008,907203090],[2010,905102060],[2007,907275150],[2010,535152150],[2006,528365090],[2008,910200080],[2008,923225080],[2010,906402200],[2009,921128050],[2007,909250160],[2008,908225170],[2009,906380060],[2007,527175130],[2006,528480110],[2010,528150070],[2008,923400040],[2009,910205020],[2008,535103050],[2009,528240150],[2009,906226120],[2010,535327140],[2007,528427040],[2008,528435020],[2009,534431130],[2009,923203110],[2006,527356020],[2006,527252090],[2009,527258020],[2010,533253060],[2008,905107380],[2009,531375040],[2006,535355100],[2007,907192120],[2009,528138010],[2009,908229020],[2010,528480090],[2009,527108070],[2009,906226060],[2006,908275290],[2006,531375070],[2006,528480070],[2006,905300080],[2006,907203040],[2006,535450180],[2009,531382070],[2007,527216080],[2007,906394050],[2007,527252070],[2008,534250010],[2006,904100090],[2010,905453040],[2009,527326150],[2006,909101050],[2008,923203140],[2009,906230020],[2006,528218060],[2007,906380040],[2006,528228360],[2009,532377130],[2007,527256040],[2006,903400030],[2009,535453200],[2006,528240080],[2009,534476320],[2010,902125080],[2006,528327010],[2009,916455070],[2010,535350030],[2007,905226170],[2008,528488140],[2006,528228580],[2010,527453130],[2008,534127210],[2010,531452020],[2006,911175430],[2010,531452180],[2008,902300110],[2010,924152030],[2006,902110120],[2007,528439080],[2008,908151040],[2008,528390020],[2007,531453140],[2008,905226110],[2006,531363080],[2008,527450520],[2007,534252040],[2009,527453140],[2009,531385020],[2010,534151175],[2006,914452060],[2007,535426130],[2009,905200220],[2007,903425280],[2008,527326130],[2007,902105110],[2009,528477050],[2009,909282130],[2009,534402170],[2006,528228340],[2010,911128180],[2009,527404020],[2010,908103350],[2007,527126030],[2009,916475040],[2010,905452110],[2007,533208020],[2009,902103120],[2009,527359180],[2008,535475020],[2006,923227100],[2006,528150090],[2009,914475030],[2006,923225240],[2006,527108060],[2007,528482090],[2007,527358060],[2008,903235100],[2007,903225040],[2010,905453080],[2008,903227080],[2008,908102140],[2009,534275060],[2009,907202080],[2006,532351090],[2007,923226300],[2009,907180130],[2008,907412040],[2008,535456100],[2006,528172020],[2008,907175080],[2007,534427140],[2007,905200010],[2007,528228555],[2008,905300020],[2006,533253030],[2007,923228250],[2009,534128100],[2007,908103090],[2009,531369010],[2008,535426350],[2006,527210050],[2006,923225190],[2006,923228210],[2006,902401090],[2006,528174080],[2007,910200040],[2008,528294060],[2008,902128150],[2008,535451010],[2007,533221060],[2009,535175050],[2009,909451100],[2010,905104210],[2007,907275080],[2008,907285080],[2009,907285050],[2007,528118040],[2006,907255050],[2009,905105190],[2009,923201100],[2009,528120030],[2009,907135170],[2006,535478010],[2008,535180120],[2009,534426110],[2006,535403150],[2008,531376010],[2008,911102170],[2007,905475520],[2006,907175030],[2008,527212050],[2009,902201110],[2010,906201030],[2006,535325130],[2009,533213040],[2009,527352150],[2008,903226060],[2009,923227080],[2009,907252060],[2006,528102010],[2007,533208040],[2007,534128090],[2008,908103260],[2007,903231180],[2008,533206050],[2009,535403280],[2009,907192030],[2008,914465060],[2009,903228120],[2006,903229040],[2009,535101120],[2010,527180040],[2009,902110080],[2009,902405120],[2006,924100070],[2006,903454020],[2007,527110120],[2008,902136110],[2007,907130060],[2010,526350040],[2009,535352090],[2008,907295100],[2008,528431060],[2010,535126040],[2009,534477110],[2006,528222010],[2007,923203010],[2009,535154060],[2006,533125120],[2008,902301150],[2008,533250160],[2006,528106010],[2007,532376040],[2006,535151130],[2010,528240070],[2007,527184020],[2006,907135230],[2007,527402150],[2006,532378070],[2007,910201020],[2010,905103060],[2009,923228110],[2006,904100170],[2007,533242090],[2009,528456180],[2006,907285100],[2008,535104020],[2007,528439040],[2010,908225320],[2010,527216070],[2008,527451290],[2007,907410050],[2008,909254050],[2008,531373060],[2006,534451130],[2010,902206220],[2009,527164020],[2009,527107130],[2008,923225200],[2007,909251030],[2006,907194130],[2009,907250070],[2006,903454080],[2008,534250335],[2009,528108130],[2007,923230010],[2008,909281030],[2009,527451320],[2009,535303110],[2006,528456200],[2007,528120010],[2009,902207170],[2007,923204140],[2009,906223080],[2006,532378050],[2007,906204140],[2008,923202137],[2010,907280040],[2008,528170070],[2008,909451020],[2008,902300260],[2008,911226010],[2008,535375160],[2009,527405160],[2009,534200030],[2006,528186110],[2008,527450110],[2009,528292030],[2007,535177020],[2006,535478110],[2006,528142070],[2008,527276040],[2007,908127070],[2006,908186090],[2007,916403290],[2009,528327070],[2008,535453040],[2007,923276180],[2006,534430110],[2008,907187030],[2009,535383120],[2008,902205070],[2009,535453100],[2009,528488100],[2009,534403370],[2008,535455080],[2007,532479120],[2009,531452260],[2006,528488130],[2007,923229010],[2010,528382020],[2010,914478045],[2007,535478040],[2009,907227080],[2007,532376090],[2008,907196050],[2008,907265100],[2007,528114050],[2009,907260030],[2008,905200510],[2008,527106050],[2006,527325160],[2009,535403190],[2006,907410040],[2007,531384070],[2007,528290170],[2007,903457130],[2010,902402250],[2007,533223050],[2006,527376090],[2007,528168040],[2009,528174070],[2008,527106140],[2010,909281080],[2008,534250410],[2007,907200250],[2006,907200170],[2010,527182190],[2008,528290090],[2010,528228440],[2007,905476225],[2007,907260040],[2006,535376090],[2006,526302040],[2007,528188160],[2006,527451450],[2007,535453150],[2009,907412020],[2009,907252220],[2007,535354260],[2007,910206010],[2008,903232030],[2008,921201060],[2009,535353040],[2008,534427040],[2010,527368020],[2007,905103110],[2010,528477080],[2008,903230120],[2006,906475050],[2008,528429070],[2007,905426010],[2006,528150080],[2007,534450090],[2006,534403440],[2007,905201080],[2009,914476380],[2006,533223110],[2008,534426040],[2010,527358140],[2008,528102030],[2010,905107320],[2009,528228290],[2006,527427210],[2010,909100110],[2006,528228415],[2007,909281130],[2008,907202240],[2007,903400040],[2006,532351060],[2010,532377100],[2008,527325240],[2009,528390210],[2008,532354150],[2008,903452025],[2009,528456240],[2008,534225120],[2007,906382060],[2009,528166060],[2007,533253180],[2008,528315110],[2008,535150280],[2010,902305110],[2007,907125040],[2008,910203020],[2008,528363020],[2006,923202025],[2006,528429100],[2007,533236040],[2007,535151110],[2007,905377020],[2008,903401020],[2009,906230010],[2007,534479140],[2009,909253180],[2006,531379030],[2006,907227090],[2006,909282110],[2008,528166120],[2008,914467050],[2006,905427140],[2008,527165010],[2009,527359050],[2007,535180030],[2008,902427150],[2009,905451300],[2006,903233100],[2007,902301030],[2006,534275010],[2007,908152070],[2007,905104090],[2006,535375040],[2007,907202220],[2008,907227050],[2006,535382020],[2008,905403060],[2009,531376090],[2008,535427070],[2010,923228270],[2008,528228445],[2006,907125020],[2007,533206060],[2006,528275060],[2007,534403290],[2009,526351100],[2006,534201300],[2006,527105060],[2006,904302020],[2008,527107210],[2007,534425080],[2007,528354110],[2008,907290250],[2006,528480150],[2010,534427010],[2010,905106140],[2007,914452120],[2007,907250050],[2007,909425140],[2008,535301080],[2007,534125120],[2007,528186090],[2008,533236070],[2008,903228060],[2007,528351010],[2009,916403200],[2007,905401020],[2009,535382100],[2007,905476170],[2009,527364030],[2007,526355190],[2007,916226090],[2010,533223020],[2010,908275300],[2007,527451170],[2008,907425015],[2006,923276100],[2006,909276010],[2010,528176070],[2008,907412080],[2009,923400110],[2007,923229100],[2007,903233180],[2007,528231030],[2006,909254070],[2009,527455060],[2007,534478140],[2006,905108120],[2009,905377130],[2006,905201090],[2009,905480210],[2009,534278070],[2009,527368010],[2008,528188090],[2010,535180130],[2010,533210060],[2007,527359010],[2010,533130130],[2009,531371050],[2007,535354050],[2009,902106010],[2009,533213020],[2009,528456220],[2009,907227290],[2009,528186010],[2007,905104240],[2006,906426090],[2006,902301120],[2009,902101010],[2007,527450030],[2010,535175070],[2009,528108070],[2007,909281020],[2007,533213140],[2007,535302070],[2009,905480030],[2008,907200110],[2006,907275030],[2007,907203110],[2009,527127100],[2009,528431020],[2007,535379060],[2007,903205085],[2009,531450120],[2007,902205130],[2010,904100140],[2007,923229140],[2006,903456060],[2008,528431120],[2006,905107220],[2009,903458170],[2007,534202030],[2008,527127140],[2007,535101150],[2006,535402070],[2010,902403070],[2009,528477070],[2007,908127100],[2009,902301080],[2009,903475100],[2008,903226150],[2006,902207080],[2010,535450210],[2010,535153070],[2007,905105170],[2006,907290080],[2008,526354070],[2007,903458060],[2007,532479050],[2007,527427090],[2010,905109170],[2008,905479110],[2007,907187040],[2009,909451040],[2009,905475160],[2008,534250370],[2009,905377010],[2010,908208020],[2009,531479020],[2010,909428280],[2010,535454070],[2006,535304020],[2008,527131110],[2006,534403280],[2007,527107040],[2007,907270040],[2008,903455140],[2007,907180040],[2009,528106020],[2010,528228285],[2006,907262080],[2006,923225260],[2009,535383060],[2009,527453050],[2006,527107030],[2007,903236130],[2010,534450180],[2006,528275080],[2007,909428340],[2007,528441080],[2009,527105130],[2006,907175060],[2007,908228010],[2007,905480180],[2008,534201240],[2009,528441020],[2009,527164090],[2008,909277070],[2008,534400060],[2009,907290210],[2008,906204150],[2007,531451150],[2007,528181080],[2007,535106140],[2006,533241010],[2007,534276180],[2010,527163010],[2008,907194020],[2006,907187010],[2009,908151050],[2009,528102140],[2009,534125080],[2009,528321010],[2010,914475090],[2006,534451120],[2008,902202090],[2006,909131125],[2010,909427230],[2009,909475040],[2006,533242030],[2009,528120170],[2007,902100010],[2008,535179060],[2007,534276070],[2006,905452140],[2009,528387030],[2009,534277090],[2008,534104100],[2008,902207220],[2008,902300215],[2007,534176140],[2007,902128160],[2010,527451180],[2009,905402070],[2009,916382110],[2010,534176060],[2010,527302110],[2007,909425270],[2007,527404050],[2008,905480150],[2007,903231090],[2008,531375120],[2009,906201021],[2008,531371070],[2009,528390100],[2007,906200230],[2009,907420040],[2008,916402215],[2010,907200290],[2006,908225180],[2009,906380050],[2007,535450190],[2006,528315030],[2006,535103070],[2010,905202090],[2009,907192090],[2007,527158090],[2007,916326040],[2007,534403040],[2009,528220040],[2009,907201280],[2008,528235180],[2006,528231050],[2008,907425010],[2006,905103180],[2009,528228450],[2008,906380030],[2010,528445060],[2008,909252110],[2009,909179020],[2009,909251050],[2009,903231010],[2009,528142090],[2010,907200280],[2008,528477040],[2008,903206070],[2008,909428190],[2009,528112040],[2009,528142040],[2009,902106060],[2009,527375100],[2009,527105070],[2009,909277090],[2007,527110130],[2009,527375210],[2008,533215030],[2010,906378100],[2007,527325090],[2010,526301100],[2008,535178060],[2006,903430090],[2009,534402140],[2007,908225240],[2009,534451110],[2010,914467040],[2009,527451110],[2007,907262020],[2006,527376110],[2009,904301375],[2008,905352070],[2008,527145090],[2007,902427180],[2010,903476030],[2008,534400030],[2008,533213120],[2008,528290010],[2007,907420060],[2008,907260010],[2007,906201200],[2007,906382020],[2010,532376160],[2009,910202070],[2007,528150120],[2006,902101050],[2006,909250070],[2009,535476240],[2008,528228405],[2008,905202230],[2007,527210060],[2009,528228460],[2010,528112020],[2009,528290180],[2006,907254050],[2008,904100040],[2006,534126060],[2009,535402010],[2008,534403080],[2010,532351140],[2007,903426010],[2010,531367050],[2007,533213130],[2010,907185060],[2006,905427010],[2007,908102100],[2010,527145080],[2006,534250300],[2007,905301050],[2006,534202180],[2008,531450170],[2006,533212120],[2008,902109120],[2007,535450310],[2008,903201030],[2008,533236060],[2010,908102130],[2010,905105070],[2007,533241030],[2006,923228260],[2008,534204030],[2010,535477020],[2008,907192130],[2009,534151120],[2010,908102170],[2006,907401050],[2009,902105060],[2010,534431050],[2006,528344060],[2010,909452114],[2010,909455040],[2008,534276190],[2008,907253060],[2006,902329090],[2008,527453160],[2008,903233080],[2008,528292060],[2007,909256120],[2008,906223220],[2008,535153150],[2007,527163080],[2009,907414080],[2007,527402090],[2008,535426260],[2007,528322020],[2007,908152180],[2008,909131170],[2006,527146135],[2006,907255010],[2006,528142110],[2009,533223030],[2007,907131120],[2006,534201130],[2007,528366050],[2007,528340030],[2008,903475020],[2007,908152290],[2008,527163100],[2008,916477020],[2006,535456010],[2009,534129080],[2010,535101020],[2006,528320060],[2009,903234220],[2008,911370520],[2007,528218020],[2006,902325050],[2008,905427070],[2006,907252050],[2009,907253130],[2009,903429080],[2008,527451060],[2008,907418040],[2008,911226030],[2006,535402230],[2010,527427230],[2007,903204030],[2009,923225360],[2006,903202120],[2009,527455050],[2006,903231190],[2007,528275110],[2006,906202040],[2010,528382030],[2007,907200190],[2010,531451110],[2009,906340130],[2009,923400025],[2009,528480130],[2008,534277070],[2007,907203060],[2008,528480160],[2007,907135050],[2009,916403010],[2008,528482020],[2010,905451320],[2008,907135260],[2009,527455280],[2008,527451400],[2009,528290030],[2007,535154080],[2009,909276110],[2008,914476010],[2006,535451210],[2008,916402115],[2006,527375160],[2008,527252080],[2008,916380060],[2008,533125080],[2008,908275180],[2007,528348030],[2007,907252190],[2006,527190220],[2007,534425015],[2009,528172060],[2007,909455060],[2008,527164120],[2008,534477270],[2008,527105050],[2006,906394040],[2010,902206240],[2009,909253010],[2007,909279080],[2010,907290040],[2007,535457020],[2006,902204120],[2009,535301170],[2009,923228230],[2009,923202060],[2010,904302260],[2006,909275250],[2006,531452080],[2010,528138020],[2006,905101330],[2010,916475110],[2009,534128020],[2009,909475300],[2006,527358090],[2006,909250120],[2007,909254150],[2006,905202190],[2009,527353060],[2007,905478220],[2006,902456015],[2008,916402015],[2006,905426100],[2007,923228220],[2006,527182020],[2009,528175060],[2009,909451180],[2008,908102040],[2008,903230110],[2009,906223210],[2006,527377030],[2009,905101260],[2010,903426180],[2007,916475020],[2006,905200490],[2008,905401045],[2008,902205090],[2007,910205130],[2008,528280130],[2009,534127130],[2010,526353030],[2008,903481100],[2008,535402120],[2008,527302210],[2006,532378130],[2007,902301130],[2009,902103100],[2009,535454100],[2008,909250040],[2009,902325070],[2008,533125140],[2009,924100060],[2008,533251120],[2009,907414020],[2007,535451110],[2008,535302130],[2006,905402110],[2006,534175100],[2009,527164060],[2006,907270050],[2009,528178010],[2009,907200230],[2007,527162090],[2006,527450460],[2006,528106120],[2006,528294070],[2008,535455090],[2007,535176070],[2008,902405070],[2006,535478090],[2009,907202130],[2008,902100030],[2009,902105050],[2008,534252270],[2007,532377050],[2007,534177210],[2007,533221030],[2006,909175030],[2006,528164040],[2007,527402240],[2007,528181070],[2010,535152130],[2007,535353160],[2008,907420080],[2009,907410130],[2010,534403410],[2007,533205110],[2010,907262050],[2009,902405100],[2008,534251280],[2010,533205060],[2007,907405130],[2010,924100050],[2008,923225370],[2009,906203120],[2009,903400220],[2006,911370530],[2008,528235120],[2007,532477040],[2006,528228430],[2008,527357110],[2007,907202100],[2006,534127190],[2009,535125070],[2010,535401080],[2006,534403400],[2006,908188150],[2007,527427160],[2007,528326060],[2007,531385130],[2009,906230030],[2009,906426210],[2009,527162110],[2010,527276150],[2006,907201230],[2008,905104110],[2007,914476330],[2006,907290160],[2006,907125080],[2006,908188110],[2006,528172150],[2010,535350040],[2008,535302140],[2009,528108010],[2009,531375090],[2008,526353050],[2008,909276170],[2009,528228295],[2009,907202050],[2006,905107240],[2007,535305180],[2010,531453040],[2008,923277040],[2007,528435070],[2008,527454120],[2007,923228290],[2009,903451090],[2007,527354050],[2010,526351010],[2008,908128110],[2008,905427050],[2009,923230200],[2006,528228565],[2007,906402070],[2009,528431070],[2009,532378120],[2006,907290020],[2006,905106210],[2007,534276290],[2009,528458140],[2007,903453080],[2007,910203290],[2006,534226060],[2007,534178010],[2007,907401060],[2006,911225110],[2009,908250030],[2006,909281010],[2009,914475010],[2007,923225050],[2010,916455170],[2008,534451170],[2009,909175080],[2010,906225210],[2008,903234090],[2008,907251090],[2009,905475500],[2009,528458180],[2007,909252170],[2010,906425045],[2010,903228150],[2009,534400050],[2007,914452090],[2008,528326030],[2008,905402090],[2007,907227060],[2007,905102010],[2008,907255020],[2009,528315090],[2007,528482010],[2007,535304170],[2007,528174030],[2009,535402330],[2009,903226170],[2009,911104060],[2007,906403060],[2006,908102320],[2006,535454050],[2007,909276210],[2008,528250030],[2009,531375130],[2008,907201060],[2008,527208010],[2009,902402150],[2007,528174010],[2010,903233120],[2008,528490080],[2008,527357180],[2010,532354090],[2009,527354200],[2007,903233050],[2009,535378020],[2007,528250070],[2009,535353240],[2009,528240060],[2008,903228040],[2007,533252130],[2009,535325290],[2010,907401090],[2009,908225290],[2006,905200290],[2007,535179120],[2008,905103030],[2008,907262060],[2007,909254090],[2008,909175100],[2010,923276250],[2008,527401130],[2007,534201040],[2008,908127120],[2007,905105260],[2009,904351200],[2006,902207110],[2006,902100110],[2008,902105010],[2006,909426060],[2010,534401140],[2007,527377110],[2009,908102290],[2010,907252120],[2009,535451170],[2009,903425245],[2007,902107050],[2009,531477020],[2008,905104180],[2008,909177120],[2007,528228375],[2007,906475170],[2010,534451150],[2009,535375010],[2010,909455030],[2009,528354050],[2006,534455080],[2007,903201090],[2006,910226060],[2008,916125425],[2006,534128210],[2010,528328100],[2008,903429010],[2008,531384030],[2009,528110020],[2008,532351050],[2006,527328010],[2007,902201090],[2006,534127270],[2009,531379050],[2007,907135080],[2007,908152280],[2007,905106150],[2009,527454050],[2009,923276260],[2006,533223010],[2007,534475170],[2010,533212020],[2006,535180020],[2006,527403120],[2007,528376010],[2007,527252050],[2007,533221100],[2006,528250060],[2009,535378120],[2008,903427090],[2006,528488120],[2008,910206110],[2010,905107110],[2007,902401030],[2008,527106150],[2007,534430090],[2008,923225150],[2007,909475230],[2007,908152060],[2010,905426200],[2006,909103020],[2009,902330040],[2009,908152035],[2009,528292040],[2006,534276010],[2007,534175010],[2007,909252150],[2007,905228020],[2008,535180100],[2007,923252080],[2006,906392100],[2009,907194010],[2006,535402100],[2006,902329070],[2006,903234030],[2007,533130170],[2009,534275100],[2006,527158020],[2008,909100170],[2008,527107010],[2009,532378180],[2007,534479120],[2006,923203100],[2006,902128100],[2008,528172080],[2007,528172050],[2009,528344100],[2007,905226130],[2007,907135180],[2010,907180050],[2009,909252020],[2007,534276160],[2010,527225035],[2006,923229110],[2009,528240030],[2007,526352080],[2010,534476260],[2010,905352140],[2008,531382090],[2010,902329030],[2009,535303150],[2008,911370540],[2008,535176100],[2006,535457070],[2009,909250220],[2009,534450150],[2009,528290190],[2008,902109080],[2007,527453010],[2006,903430130],[2010,902206040],[2009,528292070],[2006,533223080],[2008,535153140],[2009,528221070],[2009,533352150],[2007,528327060],[2007,528354060],[2009,905452040],[2008,527425035],[2008,535455060],[2009,905225090],[2010,528344070],[2008,527161010],[2010,535125010],[2010,531451280],[2007,528290060],[2007,906203140],[2006,902108060],[2010,533212010],[2009,527450280],[2007,532354060],[2008,908250040],[2006,907202140],[2008,906223140],[2006,903236200],[2010,534276360],[2008,907425035],[2010,528458110],[2010,923225390],[2008,903225050],[2009,909451140],[2009,906340110],[2009,902331010],[2007,909275160],[2006,527163020],[2009,535383110],[2007,921205070],[2007,902207150],[2009,534252240],[2007,909250150],[2006,907131070],[2008,534477090],[2006,527451460],[2007,909275310],[2008,535476370],[2007,527427200],[2010,903430080],[2007,907252020],[2007,909252010],[2010,905378040],[2008,907187080],[2010,527452190],[2009,908225370],[2009,906201050],[2009,907131190],[2010,533352170],[2008,903484020],[2010,535106190],[2006,528439030],[2007,527404140],[2009,907275090],[2007,906394020],[2010,535152010],[2010,531369060],[2009,534127170],[2007,527451020],[2007,903458020],[2006,528315080],[2009,535175030],[2008,906204280],[2006,534202020],[2006,527250040],[2006,908188140],[2006,535425050],[2006,527106010],[2007,528280110],[2010,527166040],[2009,908102050],[2006,904100030],[2007,905480090],[2009,914465055],[2010,909176140],[2006,535477060],[2007,527455030],[2008,528188150],[2009,528490040],[2008,527302050],[2010,902402130],[2008,528354100],[2008,902109110],[2010,907290170],[2007,903476100],[2007,527212060],[2008,534126090],[2006,909276070],[2006,909276070],[2007,534278190],[2007,534204120],[2006,535425040],[2008,907202160],[2009,903227070],[2008,531375050],[2008,535375140],[2006,534201230],[2009,906380100],[2007,535106180],[2006,535177100],[2007,531363040],[2009,909275080],[2008,910202050],[2008,907196040],[2010,528180070],[2006,527451380],[2010,534152100],[2007,534252070],[2006,528290140],[2006,527404180],[2009,904100190],[2006,908228040],[2010,902104060],[2009,527455090],[2007,528112150],[2010,534430080],[2007,905101070],[2007,531451030],[2009,923225490],[2008,531385060],[2009,907290070],[2006,908188120],[2009,907181100],[2010,535457090],[2006,902204060],[2007,534429030],[2007,902300020],[2008,907254090],[2007,908127060],[2008,534177180],[2006,923400125],[2009,528174060],[2007,528172070],[2009,905229040],[2007,535327160],[2010,535377090],[2009,916403250],[2006,916475100],[2006,908275220],[2008,528190010],[2009,907290180],[2008,909101180],[2010,923230190],[2010,527453150],[2008,923228420],[2006,905108090],[2008,914453045],[2009,535302120],[2010,535456110],[2007,527328020],[2008,535380050],[2008,923250210],[2006,535454060],[2007,534401200],[2010,909250030],[2009,527375180],[2007,905376090],[2006,534476100],[2006,528280100],[2009,528228435],[2006,923250060],[2009,535152230],[2009,906340120],[2006,527107020],[2010,528120120],[2009,909425130],[2010,528181050],[2007,527359160],[2008,907405140],[2008,905226030],[2010,904350045],[2008,535454150],[2007,909452102],[2009,909250080],[2006,902305090],[2008,533212050],[2008,902107030],[2009,914476020],[2006,905225080],[2008,527301245],[2008,527451550],[2009,903476090],[2010,902110090],[2009,527132090],[2007,527450220],[2008,909425085],[2006,910200060],[2008,527380240],[2008,528186030],[2009,528106070],[2009,527163040],[2007,534127140],[2007,535376010],[2008,527359070],[2006,902134060],[2007,527404150],[2010,534475100],[2008,528363110],[2007,916460020],[2008,528142140],[2009,906392070],[2010,904101110],[2008,907412070],[2009,903201080],[2007,534401120],[2010,902207140],[2007,908127040],[2008,531376070],[2006,903456090],[2008,527301170],[2010,528240130],[2009,528275070],[2007,904302010],[2008,902306120],[2009,534251030],[2008,902406020],[2007,906392080],[2009,534175080],[2007,533242080],[2006,914474020],[2010,534129040],[2009,535402270],[2009,535353060],[2009,534475250],[2007,527425025],[2008,902205140],[2006,906475200],[2008,909251090],[2007,535155110],[2007,527403310],[2007,527162080],[2010,905325030],[2006,533253160],[2007,907125120],[2007,903457040],[2006,902325160],[2006,528235050],[2008,528478040],[2008,528240040],[2008,528178090],[2008,923277080],[2008,903235010],[2007,923275010],[2009,528439060],[2007,907290140],[2009,535126100],[2007,535325320],[2006,527226010],[2006,535354130],[2010,909101070],[2010,905201030],[2009,923203190],[2008,535383100],[2006,531376030],[2010,902206130],[2009,532478020],[2007,532377140],[2009,528458060],[2007,533350020],[2009,904301100],[2008,535403010],[2008,923277030],[2007,527184110],[2007,535152060],[2009,527166010],[2007,903206170],[2009,534226120],[2006,527355060],[2006,909282060],[2010,527127150],[2009,528365070],[2010,909475140],[2010,906380190],[2007,535177110],[2009,527401160],[2006,902400110],[2007,527353080],[2007,534278170],[2006,533252020],[2007,923202220],[2006,907251100],[2006,535451190],[2006,902128020],[2008,911102090],[2006,903425340],[2010,527402200],[2007,527301080],[2009,923275140],[2009,535475010],[2009,532354230],[2007,528150040],[2007,533244040],[2008,531450030],[2006,527354040],[2006,535305120],[2007,535151100],[2007,902304040],[2009,906392130],[2006,528358030],[2009,906380210],[2007,527452100],[2007,527450150],[2010,907125090],[2006,908130020],[2009,907194160],[2007,907131060],[2008,531363060],[2009,903484110],[2009,535402090],[2010,902402010],[2007,526355170],[2007,535301160],[2006,905480160],[2006,527107120],[2008,902201140],[2006,534479130],[2008,528186080],[2006,923225510],[2006,535180070],[2007,903456110],[2007,905104030],[2008,528346050],[2009,906392110],[2007,535375130],[2007,527357020],[2007,903227140],[2008,534175140],[2010,902106140],[2007,923228200],[2009,527353020],[2008,907290150],[2006,535176050],[2008,528280180],[2008,909451150],[2009,906402060],[2008,527403360],[2006,534176250],[2008,527378020],[2008,903455030],[2007,908275090],[2006,528120110],[2006,535450100],[2006,527301010],[2010,535302200],[2008,909252220],[2008,923227030],[2006,527107240],[2008,916226030],[2009,909178160],[2007,906201022],[2006,908102020],[2010,531380080],[2009,527376100],[2006,905200280],[2007,535402140],[2010,905101100],[2008,527226020],[2008,535451230],[2006,528360050],[2009,907265010],[2007,531375140],[2006,535125060],[2006,908186060],[2008,526351030],[2007,535451100],[2006,905451050],[2007,905226080],[2006,924151050],[2010,903232190],[2006,905103130],[2007,902427140],[2010,535152050],[2008,907262070],[2006,527327080],[2010,527146030],[2009,903427120],[2007,533352075],[2006,907265030],[2007,531380110],[2007,903232100],[2007,909428180],[2009,534476150],[2006,527378010],[2009,924100040],[2007,909275020],[2006,909101190],[2010,903206120],[2006,904301410],[2007,907295040],[2008,907176010],[2007,905100060],[2009,532376110],[2007,914460020],[2009,528188020],[2010,527454200],[2007,528482030],[2007,907280100],[2007,527110080],[2008,528118090],[2007,535105110],[2006,526354020],[2007,535477130],[2008,905452070],[2009,906378110],[2009,909426090],[2008,533236090],[2008,908275280],[2008,903228090],[2007,531385070],[2007,527356050],[2006,527166030],[2006,907290230],[2007,528186050],[2008,535452120],[2009,528482130],[2008,534403050],[2010,533244030],[2008,528365080],[2006,902206090],[2008,909425010],[2007,916384080],[2006,909101330],[2008,535380110],[2008,903236010],[2007,905101200],[2008,531375110],[2006,907405030],[2007,908276230],[2008,909256060],[2006,527108030],[2008,906475100],[2009,907275010],[2007,527404100],[2008,905403150],[2008,533350120],[2009,909254010],[2009,533221040],[2009,533254050],[2009,535178120],[2010,527403020],[2010,916125360],[2008,909277040],[2009,527302175],[2009,905101490],[2007,907227100],[2010,911370510],[2010,907414030],[2007,909275110],[2009,905200260],[2008,902105130],[2008,534453140],[2010,907203070],[2008,910226040],[2006,905451410],[2008,907295020],[2007,533250190],[2006,527450010],[2010,906385020],[2009,902109140],[2008,534403100],[2007,535453080],[2010,528250100],[2009,907130100],[2006,535152280],[2009,528166090],[2009,528480040],[2007,535300040],[2008,533215070],[2006,527451520],[2007,905475270],[2008,908102030],[2010,909177100],[2007,902302150],[2006,907201160],[2009,527453060],[2007,905225020],[2008,528181010],[2007,917425190],[2009,528180130],[2009,531363030],[2008,902102060],[2007,923229040],[2010,903450110],[2006,909256020],[2010,533221110],[2009,526355080],[2008,907181120],[2007,903234160],[2006,535454030],[2010,534152070],[2010,905106170],[2009,909257050],[2007,534252060],[2009,903200080],[2009,907126010],[2009,907285020],[2009,902109130],[2007,903450060],[2007,916455010],[2006,535152070],[2007,902206270],[2006,534427090],[2006,909279040],[2010,533130020],[2008,527455270],[2009,526302110],[2009,905401100],[2010,903227150],[2010,534251320],[2010,909100080],[2008,905200160],[2007,914478020],[2009,527451650],[2009,528142150],[2006,531452210],[2009,528168030],[2010,923202105],[2007,911103060],[2008,534401190],[2009,907175100],[2007,902110010],[2007,534431020],[2009,908186080],[2007,903233030],[2009,902406070],[2007,532354010],[2009,916380070],[2008,903425420],[2009,907227030],[2010,910205120],[2010,906201120],[2010,923251080],[2008,534451080],[2006,902103090],[2009,909428240],[2008,528120130],[2008,907255030],[2009,908102270],[2008,909100150],[2009,903231060],[2010,923201020],[2009,534429150],[2008,534129060],[2007,534151090],[2009,910204050],[2007,535457040],[2010,903426200],[2009,535383070],[2006,535353180],[2008,908128050],[2008,528429050],[2009,527455240],[2008,906476030],[2007,909254140],[2008,527359030],[2007,533251110],[2006,908178050],[2007,923225040],[2007,916455110],[2010,531452050],[2006,905351045],[2006,905100030],[2009,909101100],[2007,902201130],[2007,527162140],[2006,527108040],[2007,534476080],[2007,902404010],[2008,902328040],[2010,908102060],[2006,533250130],[2006,535380010],[2009,532353130],[2009,531363050],[2008,908154080],[2008,534455030],[2007,905352180],[2009,916382100],[2009,906201130],[2006,534125210],[2008,535126140],[2009,535126010],[2009,533252040],[2006,527356060],[2007,535151020],[2009,528294050],[2010,923205015],[2008,527183060],[2008,904351280],[2009,914465020],[2010,916386060],[2009,528250020],[2007,532476080],[2006,527453070],[2009,902134120],[2006,903452090],[2006,533212110],[2009,902301060],[2009,534276040],[2006,909280070],[2009,527451640],[2006,916460070],[2007,528120150],[2010,902125160],[2009,535154130],[2010,527165230],[2008,907412090],[2008,528228465],[2009,907126050],[2010,906204230],[2006,903233220],[2007,528280150],[2009,527403040],[2006,533253090],[2006,528180080],[2006,528118020],[2006,534477030],[2009,532353020],[2009,527162120],[2010,903425110],[2006,907285010],[2007,907192150],[2008,532353050],[2009,528280230],[2007,907280090],[2008,531450090],[2008,905351089],[2008,905452120],[2006,923275080],[2007,908275200],[2010,904352190],[2008,923275090],[2007,923425030],[2006,527256120],[2008,534202130],[2008,527450250],[2006,903232170],[2009,531369020],[2009,906380220],[2007,902106120],[2006,535325450],[2008,527402060],[2010,909426080],[2007,527165020],[2006,916403130],[2010,527162130],[2009,535450070],[2009,905107310],[2006,902104020],[2010,905109130],[2009,527146010],[2008,527107090],[2010,535152250],[2008,902401010],[2010,528363130],[2006,534201250],[2006,527455100],[2008,528240050],[2008,906424010],[2006,535456020],[2009,535125090],[2008,905477050],[2010,923228370],[2010,535425010],[2008,907425030],[2007,909254100],[2010,533253210],[2009,908203090],[2008,907255060],[2006,528366040],[2007,534127080],[2009,528228455],[2008,535380140],[2009,527163070],[2006,907130110],[2006,528116030],[2006,902106040],[2006,527190050],[2009,903231030],[2008,903231080],[2010,902327040],[2006,535303050],[2009,909251170],[2010,914478110],[2008,902326060],[2008,923225310],[2007,528429090],[2007,527359080],[2008,535303030],[2008,914475020],[2010,903454060],[2009,528120160],[2008,923252100],[2008,905426030],[2007,535476360],[2007,528364110],[2006,532376180],[2008,907250020],[2009,528235010],[2009,528142130],[2006,905475150],[2008,902105020],[2009,527165130],[2009,902202150],[2010,527105030],[2008,535152200],[2010,907410080],[2008,916386080],[2006,534479240],[2008,916386040],[2009,527161040],[2009,528490070],[2008,909175050],[2009,908275040],[2007,534104090],[2009,528218090],[2010,532378110],[2006,527355280],[2009,535151040],[2008,910203090],[2006,535151080],[2007,923228390],[2009,527405180],[2010,923225300],[2007,923230180],[2007,527256030],[2006,528188040],[2007,902125120],[2009,534202170],[2006,905477010],[2010,923226250],[2006,907203010],[2009,535351050],[2008,906420130],[2008,534428020],[2007,907192020],[2010,528386040],[2008,902406090],[2007,535353050],[2006,532376080],[2009,903231130],[2009,527455080],[2007,528250010],[2009,909101010],[2008,909275050],[2007,527302060],[2007,534450110],[2006,535382130],[2008,535105030],[2006,533253050],[2010,528138060],[2006,535377070],[2008,905201120],[2010,923204150],[2009,907135040],[2010,903204040],[2007,905100080],[2008,910202100],[2008,903454100],[2010,528292020],[2006,903231070],[2009,528110010],[2006,528228325],[2010,534401110],[2010,908226130],[2008,534252090],[2007,902330090],[2009,535354070],[2006,916326010],[2006,905200380],[2006,902406030],[2008,535354200],[2006,923226150],[2010,903234050],[2006,532353030],[2010,534431070],[2009,528435050],[2009,528482040],[2007,904101070],[2009,528102040],[2009,527452060],[2007,534127260],[2009,907275140],[2009,903201020],[2007,534278150],[2007,527182040],[2009,528120020],[2008,905476120],[2008,910201130],[2008,905201020],[2007,535181030],[2006,913350030],[2008,531451020],[2008,531452140],[2007,906201023],[2006,904302030],[2010,905105200],[2008,905108170],[2009,534129370],[2009,528275160],[2010,914476520],[2008,905451330],[2008,903401050],[2010,905101310],[2008,903232090],[2009,535425070],[2008,907227300],[2008,902306130],[2009,903202170],[2007,902207010],[2006,535478070],[2006,902109010],[2009,907185050],[2007,534275220],[2007,535450220],[2008,902305080],[2009,535304100],[2009,528250040],[2008,907262030],[2007,907285040],[2010,535302080],[2010,905107250],[2010,535179020],[2008,533217060],[2007,527165100],[2009,528290120],[2006,535101110],[2006,535402220],[2008,533208080],[2006,916225130],[2007,910200110],[2008,534479150],[2007,528294010],[2008,905102170],[2008,532376170],[2007,905377050],[2006,534430050],[2006,908128100],[2009,903205040],[2009,905402060],[2007,909275030],[2007,907192040],[2006,906223180]],\"hovertemplate\":\"SalePrice=%{marker.color}\\u003cbr\\u003elat=%{lat}\\u003cbr\\u003elong=%{lon}\\u003cbr\\u003eYrSold=%{customdata[0]}\\u003cbr\\u003ePID=%{customdata[1]}\\u003cextra\\u003e\\u003c\\u002fextra\\u003e\",\"lat\":[42.01856448979592,42.02485531593042,42.021547615297024,42.03739146938776,42.04455376067282,42.018988,42.031162,42.063308,41.98649573595674,42.018963681474496,null,41.98649987838884,42.03216732653061,42.04690161396658,42.01590809090909,42.03586941394644,42.02481975297594,42.02208247765018,42.04331646337044,41.98752773737374,42.03717083511299,42.03351832653061,41.99215551070729,42.02935814285714,42.051676299375686,42.0619889732416,41.994931209457846,42.046150735023375,42.04903420384354,42.06129117942748,42.03109366137248,42.06322648533865,42.06188820235543,42.02954372815348,42.037273779743664,41.99523381632653,42.017335540535086,42.03195016326531,42.05450581967213,42.048851159119046,42.05578479212245,41.99419902380953,42.04129604081633,42.035861571428576,42.03594679591837,42.06042873469387,42.05971268357939,42.02486103224607,42.03146246938776,42.03339248979592,42.01869102040816,42.04744045286655,42.05547019086042,42.01355127272727,42.02811888524044,42.034612217391306,42.06226109103388,42.04013450915821,42.049582,42.04729657142857,42.020318,42.0245466193626,42.04742736392327,42.06042781632653,42.021390115667074,42.05847504704884,42.01967954096487,null,42.019084346938776,42.05392142671923,42.06011711190303,42.051807710171495,42.01751131982996,42.00941067078177,42.062991697905794,42.0622131258519,null,42.02806730612245,42.05168394906352,42.03713342424243,42.035903530612245,42.03087976925107,42.032558897959184,42.03345546938776,42.03134108089813,42.02701343509556,42.03150042455403,42.06086624608271,42.052132986853664,42.05536916392078,42.01780281632653,42.0203107,42.04615068202805,42.04222355411135,42.03468289795919,41.992332618748165,42.046992315952615,42.04299352441229,42.018014,41.996073,42.038608571428576,42.05310115636974,42.027877,42.04216255555556,41.99253552569278,41.992212332620966,42.06042720408163,42.02828955914435,42.0525554028463,42.054149095181536,42.04817947474747,42.038378,42.02619203943843,41.99703640663635,42.01867749991436,42.044865,42.03134156628693,41.99297998782015,42.03713731403104,42.02510548979591,42.02721361270797,42.041233315036166,42.03602586446804,42.02147665741722,42.038482504829126,42.03586988976251,41.99551603030303,42.02508273469388,42.00072925266047,42.022083404893664,42.016945472759005,42.020881,42.03141326212844,42.06165534795861,42.05145469964584,42.04574050623812,42.020343414141415,42.02461337755501,42.04224059534753,42.0297174048556,42.053514279505634,42.016892,42.06221430156738,42.04895500520409,42.01855820993013,42.01788108163265,42.037159122448976,42.05923777869763,42.047999,42.04482523153892,42.01896239856682,42.0323832020202,42.01879497674418,42.03797473457034,42.04474817188798,42.038378,42.01119537789834,42.016904971498526,42.04577395463849,42.04888004672891,42.035663809096576,42.0545474,42.019100407352354,42.03363191836735,42.03025391265237,42.03119248315056,42.03476542857143,42.0226691058526,42.03487444444444,null,42.0210151632653,42.05319034438527,42.03093013690148,42.05171935144844,42.03458848484848,42.03471223334514,42.05512945519149,42.03348381632653,42.059300612982,42.03108467910268,42.05230299257608,42.03214923147222,42.02695466155664,42.04218612244898,42.036146841115006,42.03456289103087,42.03473895918367,42.01805245,42.050471,42.02906930612245,41.99298995025634,42.02864482351206,41.99958722865255,42.03465549651289,42.051065,42.04772986946443,42.0392109,42.0208634872324,42.01452227144189,42.02795584333695,42.02326647986106,42.02295797959184,42.05361420021923,42.06055687660365,42.01264838383838,42.032688,42.04661079961037,42.04749027140474,42.03475926805175,42.0258097972012,42.05735590330952,42.035835,42.04657878629308,42.06314938723892,42.0400426,42.018795670013375,42.055141,42.0227918367347,42.04484653880461,42.04658077450373,41.9980307755102,42.03484223074918,42.03364287695338,42.03605240841249,42.04741032017221,null,42.03156251472419,42.05741197153812,42.03586727206577,42.053875936692656,42.03236318181818,42.03261395653461,42.024522800247645,42.03089965686291,42.0167937755102,41.986502525252526,41.992285539793606,42.01582647553629,42.0622569043589,42.03736035134902,42.05969691592808,42.024647108395335,42.00941017586717,42.036550780194254,42.03619649733313,42.02826236005448,42.06055030637491,41.99189830612245,41.98891501194138,42.0146305299342,42.02722873813198,null,42.06085597027575,42.036222982244986,42.03946451020408,42.04711876691764,42.03358356636981,null,42.05138551893792,42.06113041399615,42.06116358191152,42.0193813,42.03229221822774,42.029278208465776,42.060604411485215,42.0582276512523,41.988232259809486,42.02550732377964,42.05821100049504,42.02116183673469,42.04694863364057,42.03744755908851,42.0530506292041,42.06057809473684,42.02221155838693,42.022373232949136,42.0146232814465,42.024135294184624,42.03708595663889,42.021695122448975,42.034671747183744,42.03577746938775,42.03834740816327,42.05985571428571,42.05005399823367,42.03933089886095,42.0630493,42.02387559248089,42.03584051515152,42.0430122,42.03461982419273,42.02807554568359,41.99551248484848,42.01339983344091,42.05833398088454,42.0215383877551,42.0477401256381,42.0269485163718,42.05442958419464,42.05079679398725,42.0279133,42.020092543879066,42.05871859585295,42.03231091899866,42.05062963265306,null,42.03143963636364,42.03220831608917,42.06117828569519,42.03150314601391,42.061122147279214,42.02116749369187,42.033505289394334,42.01622585714286,42.04013980676682,42.01396975757576,42.033347285714285,42.03562879077359,42.053668,42.03136811566622,42.05897712282691,42.03478771651257,42.03602821212121,42.04316111859127,42.039533285714285,42.02839073708279,42.02000134693878,42.06205245860441,41.992886874408,42.05923104269617,42.01599771428572,42.047554433193056,42.0199462,42.04622359385471,42.01874163265306,42.02656995,42.039054300535824,42.03237701034279,42.062257812827184,42.03919368684427,42.02944714893617,41.99524126901108,42.04030279785764,42.03728964083625,42.01879748684436,42.03574847468436,42.0503128,42.04396232081264,42.055303816598176,42.04649121414232,42.05779497875085,42.00149914254683,42.02410653061224,42.03482142857143,42.050214596203936,42.01265586868687,41.996394780494285,42.0544825,42.060674292874886,42.037116510204086,42.0545832173913,42.03718187878788,42.02541185461348,42.03342520408163,42.03771545869594,41.9912068279948,42.03492614970521,42.03053925526278,42.03226914285714,42.05718584898524,42.03374326530612,42.024647,42.05922094551288,42.022501592513066,42.03849987878044,42.04353949935175,42.042245,42.043196,42.0165166262228,42.03779751992414,42.037359639964464,42.04844622222222,42.02583595734114,42.04769447845684,42.0281873047507,42.04199377551021,42.0169293039374,42.0607792297516,42.06259555537441,42.01885693993959,42.011654,42.01869977841745,42.03854471428571,42.03489390322482,42.01975985,42.022556599869965,42.056585,42.05165547608443,42.032449285714286,42.0241246122449,42.02132716963949,42.03334642857143,42.05437757352141,42.03720968686869,42.01872699002386,42.01052241853046,42.034622285714285,42.03568872714663,42.05645099500372,42.016003067952575,42.053416930353976,42.03514258197271,42.03136939759234,42.062056240414826,42.037195530778,42.03074241421573,42.0472850574594,42.062987,42.01580493115075,42.0610026,42.05691061974768,42.03047530489075,42.03366324489796,42.01961035,42.043653874687614,42.01627243643616,42.05226690017801,42.02259728571429,42.047816063070826,42.05864089074064,42.03066861357932,42.058339921875,42.05073962729427,42.03339691836735,41.9962111942174,42.03835418428905,42.01773528997087,42.05103227664718,42.05217516802972,42.03363995808504,42.058398539747806,42.063341906833216,42.05663491840557,42.01909123815859,42.047505,42.04313344897959,42.026947690553214,42.05328469387755,42.05445930526654,42.0525671934726,42.03459803030303,42.0168864,42.04764304782165,null,42.06043498193772,42.05518535362239,42.05934421119287,42.04311905624381,42.0186819,42.03586555102041,42.05455169737027,42.060110571428574,42.04804412244898,42.02889263343808,41.9925693,42.054501,42.05342209992673,42.04013764071213,42.03729542857143,42.0372426122449,41.98974552906844,null,42.03637796697601,42.03121063779482,42.04895463333342,42.01875678168227,42.03339260294421,42.02804460246242,42.03363724489796,42.046291522056016,42.034683,42.037211,42.0134524,42.05852329023244,42.04575485977505,41.993253,41.99306538458213,42.04818346460969,42.04950416439778,41.99317600351737,42.035826,42.04475584557552,42.03350432653061,42.03118540718059,42.0566141520629,42.02912002366332,42.02743925,42.04894545931406,41.994432,42.040859204081634,42.03367965306122,42.05470832653061,42.02304640816327,42.03611175102567,42.06298560675671,42.05534983838808,42.033675714285714,42.022788142857145,42.05661342218788,42.01764715939968,42.03552981169623,42.05055927360286,42.02284059853292,42.036844606060605,42.05884043624161,42.02316163982928,42.015873,42.03378981113612,42.0197906,42.06022015058052,42.02295687755102,42.04078546204856,42.020059778607575,42.02911295918368,42.023976828047495,42.02469308728671,42.01353445454545,41.996899895960425,41.98769334343434,42.05945425901293,42.05291513617854,42.05011223963888,42.04659135169006,42.05285252734815,42.03476522873856,42.01458634071595,42.05291637350058,42.03841749102241,42.03079004563383,42.05260930263202,null,41.988754497238666,42.02423292307692,42.020201,42.0305425,42.04377747858016,42.017765,42.051606908616456,42.0195893,41.99082077407747,42.01511921212121,42.06234669940753,41.99920531082715,42.03119946938776,42.054475,41.99123401860321,42.04126429351552,null,42.02265498235664,42.01695428571429,42.021225,42.03324141929304,42.01887520909529,42.04291583082946,42.04969847336652,42.02253369387755,41.992492403615074,42.03003917337248,41.993090368244026,42.018046346938775,42.02011791418733,42.02587218003842,42.05659525375694,42.05142301513821,42.060462,41.986498,42.021477530612245,42.04892890817189,42.06122452447367,42.03231420003687,42.03836985690008,42.05453381217946,42.054149,42.0384108367347,41.99302302560038,42.05050176633044,42.05778268719642,42.0580958832001,42.04292843701024,42.03166456924505,42.03789478718914,42.03459238267333,42.016317023596216,42.06162466808756,42.02185524747475,42.05142825378456,42.06297980174738,42.0324048560419,42.01773114285714,42.037880984107865,42.05218586544711,42.02890321194663,42.021766,42.03578971428571,42.035478157326274,42.06084660866363,42.02320307609885,42.05789536974548,42.04553058199126,42.034476,42.02515574286182,42.05528206355001,42.02208263383202,41.99295948712776,42.03122187318037,42.0620926571262,42.02539048178546,42.063176890926,42.0347092512174,42.05900058389262,42.02949532172788,42.03720334607937,42.060176458179896,42.03738579865772,42.03339740816326,42.055592,41.99633696806935,42.038242857142855,42.03387026937016,42.05122208592715,42.062995452109085,42.05068821188921,42.04886393696468,42.03470498605157,42.01910027419408,42.03651955306964,42.02912142857143,41.98920287894761,42.03084185,42.05322338850979,42.01901087755102,42.04946678372613,42.035634898410905,42.03266153193981,42.03780587272578,42.05146405037852,42.04467577213927,42.05068774720407,42.03698944897959,42.043132443732944,41.99436430952381,42.03893266606289,42.03343549761995,42.027622,42.05527671524565,42.03234869387755,42.052361100598375,42.01604345103652,42.03990752355813,42.063332643566966,42.02136264484655,42.055197743096855,42.02017885714286,42.063184675,41.99535006060606,42.02512044767799,42.04771201799954,42.032211292796056,42.051508,42.03693412121212,41.9934958,42.059710469537016,41.9970794347026,41.99058305966545,42.062807,42.0507044,42.03046517167965,42.02407498695896,42.03343397959184,42.02086615826354,42.043157545707366,42.01978695428436,42.036257673469386,41.992261665241934,42.01743548190004,42.01391930303031,42.0348683877551,42.0591858589008,42.01849162205524,42.04128712317432,42.03441534858317,42.0633081553146,42.029447063829785,42.0427331748041,41.99172278896287,42.04790075,42.02110648484849,42.036014528539255,42.04003007162375,42.060522673469386,41.99100085550783,41.9925693,42.02807470877492,42.05925125070055,42.02271846938776,42.05866265772722,42.032355714285714,42.03818257142857,42.0461505760374,42.04484298006625,null,42.02996191433617,42.01847041777077,42.01785786161569,42.01784829160197,42.06042751020408,42.01777557142857,42.02992519260834,41.993425,42.06125391005535,42.01887237613264,42.0354431086131,42.04210733692971,42.04122444683396,42.03835063265306,42.03624601645499,42.02140362966889,42.02508203703704,42.01816904567709,42.06055254736842,42.03347424489796,42.03318050758283,42.03939307692308,42.047117,42.05183843368243,42.03347295918367,41.9934958,42.01849059534388,42.06133843434343,42.04769896383669,42.04772546508857,42.02000289795919,42.031539081816845,42.04748696849148,42.03914984821677,42.01683112623088,41.99713146754121,42.03356314285715,42.03347219306265,42.04832516560455,42.057391,42.03028234502641,42.027279412009655,41.99121668853178,42.02510471428571,42.0607983,42.03024178915276,42.02120044753399,42.052806,42.037115346938776,42.01627236360775,42.05431157972937,42.04739544326311,42.03598415118583,42.06162825548448,41.99323482050913,42.04410238605175,42.04859977363349,42.02932957142857,42.04465756768533,42.06209099209688,42.03464492397396,42.04300283036514,42.060213257327135,42.0610026,42.01907195177884,42.05526655102041,42.0355439219536,42.02278728571429,42.03238033177932,41.992184963279854,42.0334156649055,42.04614997430092,42.05181411846149,42.01785941350981,42.04781114704566,42.053192821097824,42.021705410251386,42.060878739096815,42.05167192812549,42.014511424224295,42.01688175,42.03512386445076,42.0355057683593,42.03078187127208,42.05826323456243,42.06162008936728,41.9909172685874,42.01788028571429,42.0162024251408,42.01711058562838,42.02410591836735,42.04470455277747,42.06226769607274,41.9882466,42.0174931964112,42.05167520656314,42.039664625,42.0518115551455,42.060677470545,42.03030776829692,41.99308116084478,42.03074334854461,42.03533265,42.03220343981452,41.99006190909091,42.01871460122548,42.0584829369804,null,42.029323454669566,42.0223864145049,42.03750226530613,42.05329801774885,42.04878818681946,42.05757013131882,42.05260986231037,42.05709294424635,42.04566290558734,42.03462175437361,42.06056202980451,42.05844882894972,42.0208362244898,42.01896050792869,41.99799866666667,42.05562017571148,42.03699233333333,41.988449381188026,42.03846308598738,42.01793884070354,42.03524663636364,42.032131,42.03581657575758,42.05125546848755,42.04097965601346,42.034627,42.03468253846154,42.03763878770042,42.0512234774297,41.99152844292028,42.052652020595886,41.994589418510536,42.035209948063226,42.0208892,42.03477656100864,42.016592642992194,42.017270154955895,42.06127303702146,42.01696585714286,42.0336325176661,42.06079867245493,42.0544829,42.03834765306122,42.01427780382489,42.03521695575414,42.05784985928519,42.02306402527244,42.02923907965382,42.04644281340748,42.05252870596256,42.058083423844494,42.059247882699815,42.06075994872547,42.016308079544864,42.04472415943532,42.021890285714285,42.02139934187503,42.059273306491,42.05939,42.06241774557579,42.0248537545739,42.01696536734694,42.037093072943854,42.05357834520508,null,42.05166496151424,42.03609989665396,42.01395854545455,42.018855,42.020109857142856,42.03245227272727,41.993447992458734,42.03499897448807,42.04200866666667,42.049145333333335,42.03239792399196,42.052356,42.03141083558686,42.02464895423611,42.05451639362017,42.02822981289852,42.05981703400088,42.036499771402205,42.04131004433642,42.03230660297078,41.9958225,42.046218828212254,42.04110597278998,42.0502301379245,42.06135217171717,42.03156547245381,42.06258686057208,42.0554806326207,42.02250589795919,42.062657645458366,42.017082540110366,42.0210402,42.02943135849678,42.03608293877551,42.03468518793098,42.05420181752388,42.050904800001526,42.03462185714285,42.02547327808115,42.0518064285135,42.04820777421599,42.02479737104799,42.05952628460094,42.04217177819932,42.05372201688925,42.042162530612245,42.0286939,42.02223673469388,42.02153085714286,42.050650204081634,41.99317417475513,null,42.04715923663277,42.04308351145873,42.0232390182144,42.02831142974932,42.03070499581556,42.03485555126173,42.0167571632653,42.036860243728135,42.020933,42.01601802360942,42.058667,41.99707492449542,42.026465793737074,42.0569344489796,42.04983192979639,42.04289140503031,42.02711267470888,42.0241288,42.03154212121212,42.02928091836735,42.04322796774737,42.01978,42.0314912306776,42.03733828571429,42.021082,42.0207578,42.03524363636364,42.02701554963833,42.03759678961276,42.03966656627249,41.99170768611459,42.06242275897743,42.02223624489796,42.04745090547442,42.05868119250007,42.039192,42.05148839215905,42.04573429879347,42.06002552297214,42.02789525,42.0607983,42.04073415384615,42.0524282721338,42.01610690243902,42.05138919534893,42.04199908695652,42.02984275524341,41.99420040476191,42.01843341986025,42.01296781237336,42.04057529833007,42.0464758761245,42.05749057745997,42.04715826745573,42.03346926530613,42.05198234419191,41.99886893356923,42.02843489140655,42.03469328571428,42.02402775704999,42.04901822222222,42.05032721169686,42.00532228134959,42.04645711033484,42.017729714285714,42.05184661753557,42.016108,41.98832197300109,42.018934,42.057019,42.01366703030303,41.98650174747475,41.98962778422582,42.03158218181819,42.060075151592784,42.016565,42.04998175832964,42.03465587755102,42.030542,42.02404937661948,42.03230475371348,42.022839469732666,42.044865,42.04927244444444,null,42.04210783827835,42.04870900198112,42.04946708384158,42.04576801482544,42.03528965968998,42.03591370582252,42.03204761580879,42.0474208778708,42.051808991829496,42.020932,42.0570115625,42.029681990232056,42.02829405776361,42.02921671428571,42.03438566183446,42.05258744001936,42.04420197427004,42.06298145483986,42.01748201059284,42.04711367213032,42.04054722222222,42.02367542136731,42.02211963676932,42.0187764,42.02125010922551,42.06313658641084,42.05505746261415,42.03588751020408,42.03215358773583,42.03653084545842,42.032410142857145,42.0334826686892,41.99006642551354,42.02304189053859,42.055187881522514,42.03077885600234,42.02315908693674,42.04823265416526,42.063138921202615,42.048463226780186,42.04076895640166,42.028273633417264,42.05235718295244,42.01999567346939,42.02897514542568,42.02594715,42.0335893877551,42.031558857142855,42.035955529411765,42.0440822096279,42.02977506451708,42.01695440816327,42.049363748381104,42.0232052041655,42.034654869565216,42.05472050723045,42.0301059194334,42.02300440771931,42.01793292035177,42.02631983690328,42.044063547972655,42.02323952276801,42.020046,42.03529173469388,42.01101502112876,42.03462525275332,42.039428575757576,42.06150353934216,42.03851289795919,42.06053909361631,42.01741145364216,42.02411995918367,42.01831652349715,42.062091597199526,42.06259266171987,42.0159373939394,41.99165272637433,42.03463595887808,42.050719979734446,42.059934007862864,42.03027480292898,42.03529924783509,42.05861109625003,42.0111119,42.053102044317626,42.06081248688973,42.01820137496702,42.021432530612245,42.02283463686645,42.04573750207937,42.05326607916812,42.05821273108703,42.01870463875645,42.04058604997788,42.01628240097984,42.03223489763352,42.03468709238534,42.05824526963186,42.0458176,42.04653046342225,42.042544072003146,42.0585471102701,42.01656892409964,42.01794700414633,42.018735875,42.0630493,42.04778145671749,42.05397580005523,41.99704856950386,42.03546389234047,42.03336293877551,42.02028772012317,42.01460101496856,42.01126338546205,42.04643892844015,42.06059908475474,42.0343937215734,42.04398683020316,42.04402466064136,42.02577055699128,42.050068,42.044865,42.04844622222222,42.03020093333333,42.02914222733479,42.042697198152425,42.03241185714286,42.0518476645498,42.027501491778565,41.99403279320556,42.043831992663335,42.05456341144617,42.01507807249898,42.0547111875,42.02288767346938,42.03153617171717,42.03779282870747,42.03462389795918,42.03528065637948,42.049831,42.03443346808511,42.01333597560976,41.99774714285714,42.022127911694575,42.02011555074262,42.02542071299656,42.035850921568624,42.054420316530845,42.04899244058884,42.032157081632654,42.01640816784333,42.05960509552833,41.99897305784972,42.04194211111111,42.063194,42.01964106200265,42.05981374714104,42.06000521774237,42.016107,42.03245158480525,42.0624250316325,42.02537245182207,42.05304913208351,42.017731,42.016058,42.0178816122449,42.03248908080808,42.05986543585511,42.02217429156724,42.05230945904727,42.03052779215003,42.01248196341464,42.06210217554008,42.06044317589348,42.05262561046639,42.05994583673469,42.01765605108048,42.0607983,42.052365,42.046585068991575,42.02622400986277,42.05497791050766,42.053808,42.04226981632653,42.0268939484598,42.04001564,42.02071514285714,42.035559909769326,41.99707230816514,42.05238114963003,42.01620118367347,42.05251744317545,42.02747756354625,null,42.06046593912505,42.02711537871572,42.02660105,42.041346894343455,42.04711701639097,42.059638029665024,42.013603,42.016966836734696,42.03140367155928,42.0254978104783,42.03570724489796,42.02262815877891,42.05951443308143,42.03348324489796,42.01908487755102,42.0354846932177,42.06277727104964,42.03214755196517,42.060522,42.061973426915145,42.06210054694594,42.057841431661416,42.01778406443797,42.03440539409389,42.0481469080698,42.04193530612245,42.04196627272727,42.036373,42.03010247474747,42.03626206368011,42.04711534426065,42.01865805775843,42.02820253037844,42.02109939613352,42.06044347674504,42.04479537305228,42.028674,42.04657795219448,42.03677207969333,42.04746460668941,42.03028497891152,42.03736017021277,42.03334190834953,42.04715859051474,42.02096769495813,42.03067032042588,42.04650796460303,41.991722794908725,42.04657263636364,42.037575046337366,42.01629334353572,42.04317541660578,42.02066305806104,42.01521012121212,42.03222571428572,42.03920205412156,42.05333709171579,42.01056179606271,null,42.042468820539256,42.01847493317559,42.028079,42.05068691960442,42.03159403030303,42.05692794825048,42.01598014285714,42.03074030686293,42.04484760847421,42.05838894226471,42.01351763636364,42.05539898989899,42.03876387482974,42.05336436117511,42.0189009826657,42.0194865,42.059775067363496,42.01762642857143,42.05919244462287,42.04645234469238,42.0209879606785,42.04661954545454,42.04951401231898,42.05359703383797,42.0267127469368,42.01878699857484,42.05849882679412,41.99422168981559,42.03489277551021,42.046344,42.0485273986674,42.05322805592855,42.03234106060607,42.0067187,42.063233,42.02921975510204,42.02762908393899,42.018427086422605,42.01869896919504,42.027971818210446,42.05243194070072,42.01578728909277,42.02253088773595,42.04029695918779,42.05548000995599,42.034485801091,41.99178102040816,42.0324470955923,42.049934959970216,42.03159277575579,42.05923775779311,42.032036157917815,42.052652510297946,42.02139720832133,42.035488934679215,42.026621,41.986494575757575,42.05141960255021,42.044865,42.021137,42.0513878166948,42.01904550069909,42.05210678848806,42.0241324,42.01915969974403,42.04856553884273,42.05168285625098,42.05959467655501,42.043940677332905,42.01888519183492,41.99691174840776,42.036185242424246,41.99960612857368,42.05235439029177,42.05782742605607,41.99424803839457,42.04772329614281,42.01984976319134,42.05345909468864,42.01886017317223,42.058184,42.04111748923096,42.0591739548731,null,42.05843904438765,42.03708534557202,42.06006791332484,42.02324445241788,42.0309689479991,42.01693457142857,null,42.01767675510204,42.034773,42.03234126530612,42.040951612244896,41.991716,41.9921562718167,42.02709255,42.01868817307693,42.03556280472201,42.061195,42.03339408735639,41.994364286083055,42.048995,null,42.050341,42.0188722244898,42.016780204081634,42.031528402880696,42.05210295812272,42.0238414218346,42.02348365,41.99982707161941,42.02700265,41.9925693,42.05974177551021,42.05833262355332,null,42.02080173426982,42.03146458896717,42.03078692058876,42.0497753800013,42.03338348441219,42.02899673469389,41.99533390909091,42.03345587905148,42.02862570937789,42.03220181632653,42.02139873643378,42.05800970964109,42.04809792269506,42.05135967551002,42.024136214891946,42.040069331513095,42.054604937723646,42.0346726686378,42.029261857142856,42.03220964639802,42.034627923079576,42.01908381632653,42.02907646938775,42.04859922225177,41.99125580488239,42.04475561393878,42.01380354545454,42.03598260606061,42.04042164423877,42.02654033333333,42.04354439370992,42.058055,42.01739615254073,42.05804937799808,42.02139222756277,42.05911163753795,42.052547,42.06129134006623,42.0585568173041,42.034779020408166,42.044282569629246,42.02710956480346,42.034625874460026,42.01984605,42.03439316763602,42.03230057142857,42.04404295929859,42.035684591836734,42.04384912201061,42.04615041705143,42.01876393877551,42.058476859767694,42.05458686956521,42.058239946514746,42.04302518364962,42.03491136367376,42.01389871428572,42.01704335764476,42.041214097838505,42.0476047890515,42.01620173469388,42.02717642489103,42.0431717996238,42.04743192670482,42.01383387755102,41.9934958,41.99177606122449,42.03254869387755,42.02974284670459,42.0067187,42.0602303,42.0373054880356,42.06241273217415,42.05037325787849,42.019845,42.049094,42.04869596019231,42.04017671411401,42.04111144014991,42.0187954493948,42.05488151341967,42.055759454849536,42.03513882316325,42.03120351101744,42.027858332874445,42.05912130631692,42.05675269387755,42.02005014844595,42.03130020342695,41.995639636363634,42.01628418948768,42.02207108163265,42.01879911680402,42.05868780124198,42.038242,42.04049986543264,42.06298473735977,42.03779939641082,42.051257,42.01853588619291,42.06258395999818,42.01961,42.03135067548951,42.0393602020202,42.0347606095106,41.98787306972328,42.054146461291175,42.05015365745678,41.991661771727685,42.025409366124286,42.0532638621418,42.05269954061322,42.01899045919927,41.991581,42.06330892484189,42.02949388202726,42.05430953383287,42.03469450295671,42.01775610204081,42.03065626590733,42.04264009172283,42.0503128,41.976775,42.02143698915696,42.04580647474747,42.042074826893845,42.01517981818182,42.02253827375642,42.01803175,42.01747083627112,41.99707827717013,41.992720967045045,41.99549672727273,42.03570702069996,42.01745576208653,42.03075197899311,42.03153563265306,42.01834544467016,42.025078040816325,42.050680245396464,42.01711511708953,42.02974456182286,42.03368926530612,42.040791,41.99436454761905,42.05576197061274,42.02677862546519,42.0208016,42.033180475682144,42.01766371428572,42.05379760477604,42.05211211938322,42.039626,42.05922767469544,42.04122489445505,42.03367444897959,42.01992066105976,42.02970564088348,42.020909424242426,42.034797857142856,42.018848319180094,42.06083992430277,42.03779023299645,42.02122648824435,42.0615751,42.028083367346944,42.05921795212532,42.03145560606061,42.05089156910706,42.05145127272728,42.03487773148428,42.052691714285714,42.03237266666667,42.03607759183674,42.036185914349126,42.06025005647437,42.033556530612245,42.04298891836734,42.03849757142857,42.014143408163264,42.02042696117159,42.03253748979592,42.04305854270129,42.03237534962453,42.015998,42.016264,42.01733036556407,41.9874384,42.05653622292416,42.04797712829743,42.02091675510204,42.03116806035273,42.02283281632653,42.031128547575314,42.03338514285715,42.03316868097388,42.01494529764479,42.0392109,42.04907590142522,42.02110348484849,42.01886496403276,42.03595241414142,42.026882,42.031376465559255,42.0305425,42.03102234891576,42.01705749125654,42.06311145561556,42.02441242578105,42.0356067408004,42.038222600566144,null,42.05256419055564,42.03820447062935,42.0325177134508,42.02142712244898,41.998546795918365,42.046481193134674,42.05443754843614,42.02874720155019,42.03498006470297,42.0630493,42.036070387755096,42.05643197161087,42.03329495918367,42.04873920408163,42.03686267652424,42.01905185981175,42.01875699429935,42.02989551048682,42.05052122199741,41.9874384,42.046461875977286,42.03473584536784,42.04760576262371,42.04288865097901,42.05455987750386,42.05257444095413,42.05913879165885,42.0461507880187,42.06012071125605,42.036071142857146,42.02891119630249,42.05122408118039,42.02027379591837,42.03129138585015,42.02826922093435,42.0608049049749,42.03920211409396,41.99133917447501,null,42.01983695918367,42.02654288104371,42.02086426530612,42.02812757375572,42.01983928571428,42.05709104833873,42.04504742401709,42.04547581818181,42.01711241139302,42.03278785385953,42.042148,41.98745148979592,42.02383501275371,42.01651302063701,42.04014941166468,42.02804506830828,42.03247928571429,42.045772413444254,42.04237125262611,42.05919,42.02224722059627,42.05987485826613,42.034589545454544,42.03498958150041,41.99304420509126,42.0321689780129,42.05865435025579,42.05917508506074,42.05334115361809,42.033632835927946,42.01887367728432,42.01834130645958,42.01909889183453,42.04261932346703,42.06010831450914,41.99006188397296,42.06114085708555,42.05140521978751,42.036118067114096,null,42.03586734570598,42.02822412244898,42.03840614285714,42.0067187,42.04435263296085,42.034796285714286,42.01885400251003,42.0354656678733,42.05783941996024,42.03029130520363,42.050701,42.02699542127183,42.03125390909091,42.05693096765655,42.04623312513961,42.04479406584831,42.06215714750543,42.03456663265306,42.05561906653435,42.052543122412686,42.02549132421804,42.056575537958985,42.03468248979592,42.03266336780784,42.05333163673215,42.05933832133246,42.04888291835724,42.03660749939788,42.05943523076923,42.032549,42.0313573159518,42.04761859498138,42.0523734322908,42.03587810204082,42.0180698,42.019704723445976,42.03111692525835,42.03046801799284,42.04335598367911,42.016115443957176,42.0503128,41.99176118367347,42.03354385714285,null,42.02661890853676,42.02774530000001,42.01699175190272,42.0584955988902,42.0352283939394,41.9932815225218,42.03040829025322,42.04317080845566,42.01804687755102,42.021012594079615,42.03612533302503,42.05166402018092,42.01990042857143,42.03698187878788,42.05548094395306,42.02701217390607,42.0182295194729,42.01909746734447,42.02306780977296,42.01777176161699,42.04966160016732,42.02215898209924,42.03290016411737,42.02058558498263,42.03457414285714,42.02397200025093,42.04582278227754,42.05319216790972,42.053556549952205,42.01888666091595,42.02382405268974,42.044831196564,42.03610286097453,42.047695,42.05241519646527,42.02395534693878,42.05384236587125,42.04565872727273,42.03339650911119,42.04820813541316,42.05670899093472,42.018796671864536,42.0418620340182,42.06150951715559,42.05800552553736,42.058131505708175,42.02085754586926,42.034406260859576,42.02367945537705,41.99713698687289,42.017743377278194,42.03734973435483,42.04984136325135,null,42.05100085340539,42.05465328747312,42.02827238071639,42.05239737241568,42.03028547773993,42.01628393398656,42.026019624956064,42.060527,42.04795096657084,42.01982143549701,42.01982143549701,42.04482343327602,42.046627,42.04186427763978,42.01977291808922,42.033411,42.03788941578877,42.03737504081633,42.04581491836735,42.02548264949602,42.04582264860672,42.04402128488845,null,null,42.02268957938945,42.01665042866146,42.0577749954113,42.05168067062588,42.043321232838565,42.04400813867079,42.058054374661424,42.05448710632901,42.0327743446741,42.021429673469385,42.03225344897959,42.05026176930743,42.061417,42.03920093288591,42.03461245031534,42.036356120579214,41.99286803679146,42.03617143045269,42.016954530612246,42.01879830182419,42.01716050269561,42.034909673469386,42.032176877551024,42.04139501333769,42.03011802143985,42.01801534413703,42.02094806122449,42.04375148778255,41.98650195959596,42.05924114669836,42.059171791900965,42.0324962823351,42.03837164246261,42.03710803509143,41.99908145627565,41.99436150025814,42.01882610908847,null,42.01628342298432,42.02192499918255,41.99154815807068,42.05068728251894,41.99186216828855,42.030542,41.995063,42.040341224489794,42.03490536734694,42.056447428117565,42.03598142857143,41.98890067884555,42.03476018367347,42.03978813086087,42.01908355102041,42.05234010168374,42.02639049473349,42.03605080914022,42.05799913138434,42.06241523887497,41.98925479375738,42.04411844467045,42.02662024334552,42.059904433064496,42.060731867838726,42.01311312321812,42.05822101793551,42.05087230391671,42.01381857142857,42.03373066468031,42.026007,42.03487876766617,42.01181652137016,42.019085408163264,42.02839985,42.047567265550725,42.0314626122449,41.996911936929806,42.032661,42.05430551029377,42.051654408072366,42.02589425700439,42.03028301753961,42.06152173624419,42.05254668582404,42.01453205986839,42.02261581632653,42.051158,42.057006534557765,42.06145186925646,42.05836682044044,42.04857355,42.03821362760548,42.05001652113813,42.030370530612245,42.05358836993309,42.03597620805369,42.05158958718548,41.99718783796052,42.0596633,42.024481,42.03239440978262,42.013683848484845,42.03251712428072,42.0392109,42.0304250439126,42.02108226530612,42.03720422652643,41.976775,42.05484837117483,42.06117450489474,42.058646144375054,42.02789,42.02769035,42.043927753531165,42.02712546980143,42.02448141478391,42.04365403142575,42.04615355888146,41.995862,42.0463123234812,42.04031158740381,42.03478934093556,42.03618790180763,42.05655151182624,42.03242908163266,42.02452050910066,42.017746571428574,42.04215446938776,42.0534156445612,42.05914047760562,42.02656209572818,42.043463213483925,42.0213336540556,42.0239428367347,42.02933328571429,42.06039105535776,42.05226586515384,42.06110342847591,42.05866432653061,41.98724084507599,42.03118511908954,41.98989992815509,42.05321602823657,42.01628495599104,42.04590928286497,42.038378,42.05926630702864,42.03472576222682,42.02208232146833,42.03376271803412,41.9920911280019,42.03520103030303,42.03632713933951,42.030223845509,42.03728355858157,42.0347575024348,42.05085454280478,42.036990270138126,42.02792105,42.04014137336195,41.98789996613723,42.0598335,42.04397958290653,42.05819059134361,42.03142016697981,42.04661706060606,42.05238119425546,42.015989,42.06314183901623,42.04971038436874,42.01077357972208,42.024635979329645,42.04401057122211,42.05653743391751,42.02953089547328,42.0523089122682,42.04467756303036,42.04376906424129,41.99325218411634,42.01828352551928,42.03609211111112,42.03315791422828,42.02112144948884,42.028567,42.05514960869565,42.054417,41.98822925075457,42.03700275757576,42.03537914558364,42.06128279834525,42.04638011188117,42.03465655833629,42.053262801007165,42.038475686868686,42.02869995,42.02322586631043,42.05177008211314,42.02463291108684,42.05025516004462,42.05261060854816,42.02133066437374,42.02106089795918,42.016122791562886,42.02108398519905,42.03779694130547,42.022957795918366,42.04018945174048,42.03005281632653,42.04956606736796,42.04088230612245,42.02283439804153,42.06144056645819,42.03362853061224,42.03492250798488,42.05703281157089,41.992981774936986,42.04289354938526,41.976775,42.03209108414542,42.05188771003549,42.02379443302653,42.03733263265306,42.0507044,42.03367036734694,42.04268285798441,42.031475163265306,41.9925693,42.052397,42.01628470048992,42.04493193780322,42.05857819253082,null,42.02958091062711,42.05444193877551,42.04452171442495,42.04960010499492,42.02511612121212,42.01956980932589,42.06074638936844,42.03618424242424,42.05551467165237,42.04134478111184,42.017787755102034,41.99331178787879,42.0607983,42.0045186106386,42.01681718367347,42.03376816326531,42.02011329977096,42.03603625309854,42.05251390637993,42.0332778736901,42.03939524195497,42.034611255938,42.059365782046015,42.03709327272728,42.049413962912574,42.01697138775511,42.037745,42.0486261288408,42.01896305872155,42.052681,42.03605315151515,42.02582065813658,42.03274631523725,41.989269962685945,42.03164405050505,42.032344,42.027111773373264,42.04402320439621,42.0159676969697,42.05485709836066,42.06078187626982,42.0290462244898,42.034608287927725,42.01697175510204,42.03603411367355,42.03152572727273,42.01248164634146,42.0348524769652,42.04959968595626,41.99068225802583,42.02012720689655,42.021885327164206,42.030304,42.02764613699593,42.01766727393634,42.01880653426052,42.03337493877551,42.03547188676149,41.995227545146506,null,42.049714503104646,42.05209934919439,42.0180246001813,42.0607983,42.06026381632653,42.04681067442588,42.05034167989689,42.03632541910413,42.02533237514933,42.02618222242579,42.01495149750324,42.0471576213377,42.01854294999573,42.03334814285714,42.03613564403293,42.050280268960826,42.058192197114536,42.01627320293952,42.05701005118444,42.03592591001854,42.05130147625216,42.04194368686869,42.04638169320729,42.04970528515862,42.03046118181818,42.01580415802055,41.99410007480293,42.02185706060606,42.03584083673469,42.03442457142857,42.03779564343747,42.01586263636364,42.01984084151792,42.016065265306125,42.06281190009081,42.02458194328168,42.0187764,42.05364195653941,42.027463,42.0375958,42.0169505422425,42.046150470046754,42.04312177940154,42.042333993501046,42.05522035353536,41.99845083673469,42.01881660987127,42.05534491781397,42.033648673469386,42.02165918367346,42.0067187,42.01378672727272,42.01853567565075,42.0332706331265,42.03247783673469,42.03578542405308,42.021148281281725,42.02479216259773,42.01774375797878,42.04462444997488,42.0525776349339,42.024613,42.03042011781359,42.04196994949495,42.03595766666667,42.06019847098656,42.02119537927844,42.04505799686908,42.058839,42.05214107653552,42.04199771428571,42.04629916806402,42.05165761210855,42.02580918614993,42.02015051309412,42.01625297959184,42.02928591836734,42.02016451037359,42.05071838925048,42.03441436,42.05818162382071,41.9974232,42.057789279643096,42.03772392063905,42.0334784489796,41.991109121673176,41.976775,42.01606471428572,42.046150841014025,42.04929427138124,42.01724606614414,42.034873204081634,42.04331738262278,42.0305902153294,42.01606057142857,42.0440485230458,42.03351130621579,42.02116562342297,42.01784835088658,42.03028423066889,42.02534759262952,41.99724605809091,42.043950501913415,42.031402,42.04127676962795,null,42.04772999279086,42.04854121553709,42.05284062808919,42.02848294284575,42.033713346938775,42.04231685634495,42.02266834527918,42.033550326530616,41.99539500416808,42.0596633,42.03750462746446,42.05891924185025,41.9909898142846,42.01996547854931,42.0397374085605,42.01853734360848,42.03121157173339,42.03919251931721,42.018961358192975,42.03247648484848,42.02730468048847,42.035940857142855,41.99419362131509,42.02952243495852,42.020670200000005,42.02138008372053,42.03184751488522,41.98863328632139,42.035627,42.03226288957077,42.01249068292682,42.06061594203664,42.017701,42.01975985,42.02224651984003,42.03234790909091,41.99335964301636,42.03954124010309,42.04626054887079,42.04321316252822,42.02134210412769,42.034618749504006,42.02888042529264,42.034636753004754,42.0350251460312,42.0197445912689,42.05510150572288,42.04886768508504,42.02539704205355,42.01622614285714,42.04964781107426,42.04475538230206,42.018824,41.99279715485504,41.99612709241717,42.03480396512893,42.02440635,42.03356375510205,42.02208185292281,42.03356240816326,42.0592170902796,42.06279969481224,42.036215286105424,42.02791058457986,42.02820781632653,42.02089475360223,42.04483500312437,42.03694315700855,42.03484686085428,42.03773282264411,null,42.03819044230735,null,41.99378064922707,42.03177733826975,42.0456386122449,42.046453,42.04805057476391,42.04377237616086,42.05020643650429,42.043985058753705,42.058737152268336,41.9910532345421,42.0598335,42.0240232552038,41.99687862217903,41.99414512291532,42.06087060545863,42.03744353304904,42.05071683049882,42.03038024489796,42.02527951515151,42.04747743904708,42.02911030612245,42.044964,42.01639531087636,42.05183011937376,41.99634304549552,42.06060493735942,42.03369234693877,42.044181855022174,42.057345518899616,42.01365021212121,42.021169363960766,42.03335815373232,42.03240181818182,42.05846803506189,42.05522161616162,42.04312369921638,42.05778373023761,42.06042832653061,42.03739596957785,42.03540027795152,42.0591486731634,42.02850316666667,42.01784848459848,42.016237489583936,42.03528206398965,42.05886891443513,42.0187764,42.03569580387607,42.02375505406583,42.025041,41.9889428,42.018913234963165,42.0229314,41.9889428,41.986502,42.05881126845638,42.0472465,42.052480812109046,42.031520525252525,42.03602158561776,42.02463150999388,42.0314243877551,42.03866947471524,42.05539722222222,42.01494616274132,42.05693463265306,41.9993665708047,42.05917604000987,42.03711555555555,42.03157838556309,42.03241948979592,42.030093597166974,42.06082197543335,42.06095352056197,42.04495999930424,42.02883129754714,42.05164793373692,42.045738253119055,42.05030841544594,42.06030525519523,42.03034370651663,42.034836081632655,42.04878318729735,42.02437897959184,41.991780641862334,42.04126240206098,42.01611499948408,42.016225,42.04215934659067,42.0194388,42.01777357142857,42.04952265171645,42.04791597701745,42.06196632018636,42.03601553061224,42.05813929966258,42.02119664766538,42.060437,42.03148287755102,42.0610026,42.03243614141415,42.03158911111112,42.02923415499327,42.04037,42.01774144897959,41.994393,42.02918255102041,41.99178588598931,null,42.050079416790645,42.04061953061225,41.997078855936365,42.02423726665693,42.060602011057085,41.98738846938775,42.02822588834018,42.03691324242424,42.050547819757305,42.03571573469387,42.018620604965065,42.06118616382303,42.0596633,42.02632120397248,42.03245028571428,42.05784644125896,42.03363257142857,42.060764951356745,42.04400232161542,42.01457847856688,41.99405586040726,42.03601824098498,41.99507548979592,42.05923973763154,42.05088919830085,42.01866271428571,42.0182144,42.04831911111111,42.0620127348117,42.03538295383696,42.05342436288952,42.04390334464078,42.02122286311423,42.04319952697053,41.99181325243282,42.053299204294746,41.991766863187166,41.99154866822061,42.05900223489933,null,42.03349893877551,42.04657956494262,42.024896481267774,41.99237969770272,42.021803161484655,42.03722504081633,42.02944169714717,42.041105164779786,42.01686156311544,42.051016,42.02796205429704,42.03488251140334,42.03475459306628,42.03141264646465,42.05007518475336,42.06090146418519,42.02208660424489,42.020122,42.05460248137384,42.03566082068494,42.03483957142857,42.04722115084994,42.04286334960819,42.059846894154944,42.03720520408163,42.03261412244898,41.99313386433791,42.01895888272266,42.03369585714286,42.03248367657032,42.02246437048411,42.02410714285714,42.05709484015397,42.03229496969697,42.0630493,42.06330748731288,42.03920257142857,42.02159548979592,42.04394083137912,42.02825981632653,42.03582053494847,41.99817349317236,42.03231529686042,42.02712577584114,42.03481163298788,41.99176002903685,42.03239,42.03536472396376,42.0386104489796,42.054143294806416,42.05209502548216,42.03328527989371,42.06235291657504,42.050717,42.04868297959183,42.01887723000482,42.03325592625249,42.044865,42.05974242857143,42.06125144742018,42.02316584831397,42.021696512606006,42.0344073877551,42.04283703436526,41.9968967156678,42.03638884285896,42.03637109386144,42.03371208163265,42.027850650000005,42.02997524398301,42.03074107700428,42.04565875510204,42.05942310187974,41.99607576901646,42.024134,42.02714385096228,42.03339302706197,42.03156136363637,42.04078615263452,42.0208882,42.02755995,42.03201642669712,42.034625760400026,42.031202533833984,42.01865543471588,42.0423584226295,42.03599737254902,42.03847468686869,42.06080924314691,42.01620136734695,42.01784808346278,42.04049997979798,42.03134931935007,42.04375970105864,42.04694850691245,42.05779515230231,42.0602303,42.04825613501672,42.04010222131483,42.047715503863365,42.00562308313463,42.02242708163266,42.03478859453858,42.05893023242427,42.03321929912531,42.03571148979592,42.0227831471151,42.03918705369127,42.01899,42.032101777475496,42.02766928890711,42.020129,42.016802051693205,42.03099668235503,null,null,null,null,null,null,null,null,null,null,null,null,null,null,null,null,null,null,null,null,null],\"legendgroup\":\"\",\"lon\":[-93.65161918367347,-93.66367099341755,-93.61406809992512,-93.61220695918368,-93.63181831620726,-93.6715721070941,-93.61256091846626,-93.64230583853364,-93.6036188257733,-93.67006654263754,null,-93.60213991860324,-93.6087965510204,-93.61572103026556,-93.6876522121212,-93.68920687419867,-93.68911130789051,-93.65692684113984,-93.63727919577092,-93.6061805959596,-93.69121204722514,-93.6088355510204,-93.6030863886634,-93.61228857142856,-93.62760442259348,-93.64550296114534,-93.650374,-93.6457721435571,-93.63264578650906,-93.65753648637376,-93.61045453926472,-93.64433362330249,-93.64447838998942,-93.62737676136398,-93.60675880919582,-93.64923497959184,-93.69270120197211,-93.61018020408164,-93.6315601147541,-93.6253976305988,-93.65110150218392,-93.60742948809524,-93.6052156734694,-93.672579,-93.6138648979592,-93.65768375510204,-93.64377151492386,-93.66069363575488,-93.6202082244898,-93.61561781632652,-93.65162163265306,-93.64761628687974,-93.63783989426828,-93.68477896969698,-93.6587373332222,-93.660487,-93.65618536506652,-93.62208412387304,-93.655958,-93.65029642857142,-93.628408,-93.66738084341767,-93.6475996487335,-93.6575430612245,-93.68792039017748,-93.65680995634683,-93.68657648378274,null,-93.64689269387756,-93.65478466554772,-93.64407676418914,-93.6505290164941,-93.69065122622848,-93.6155758230605,-93.63605879162316,-93.64426567751812,null,-93.61530573469388,-93.62743413389023,-93.60600708080808,-93.61386526530612,-93.67154223074894,-93.6653221632653,-93.62348414285714,-93.6728131863958,-93.62547046323006,-93.62472727699644,-93.6389765770365,-93.64365631551216,-93.6266190612291,-93.64647512244898,-93.665322,-93.64578297226852,-93.61584551930623,-93.60670769387757,-93.60312324722656,-93.61572734636202,-93.64930425966442,-93.6813538557042,-93.602595,-93.61221769387755,-93.64139716702556,-93.67912,-93.62367055555556,-93.60262134872586,-93.60339916510804,-93.65744926530613,-93.65878627384562,-93.6355961810786,-93.64371993188,-93.630294,-93.61280176470588,-93.60864389206752,-93.64683644623204,-93.64234020531468,-93.621618,-93.67289230477073,-93.6055428854154,-93.69121340618791,-93.62720573469387,-93.68678307886384,-93.61727799531305,-93.62847008877344,-93.6168112727172,-93.60890513399804,-93.68915891193907,-93.6469074949495,-93.6633366122449,-93.64966625676163,-93.65586234297449,-93.68795145142214,-93.690581,-93.62762851950863,-93.64400952242131,-93.61846427481623,-93.62654775999262,-93.67639185858586,-93.69205532625902,-93.62228029253552,-93.68220220455852,-93.62714799845187,-93.689424,-93.63419894544032,-93.62913307832436,-93.68789159060452,-93.6469343265306,-93.61220516326532,-93.64939269814306,-93.650289,-93.64810611298782,-93.6701125847686,-93.6236834040404,-93.67513790697674,-93.6039140588975,-93.64791854964815,-93.61274980392156,-93.64359939425104,-93.68856952271436,-93.65232379747752,-93.61700179201884,-93.683921687578,-93.63530666666668,-93.61476988525514,-93.6245344897959,-93.61426001934532,-93.61581118310563,-93.61408520408165,-93.62532593181548,-93.60366755555556,null,-93.67148908163266,-93.64376476899724,-93.68199716308956,-93.65428032490836,-93.66994189898988,-93.687856790651,-93.63508069267212,-93.6257706734694,-93.63312900362668,-93.67588045842474,-93.64365697352228,-93.66717891980689,-93.62286472313644,-93.61728436734694,-93.6067183929868,-93.61907956662776,-93.6077650612245,-93.66655328915088,-93.627279,-93.61532728571429,-93.65327529754713,-93.66624914356966,-93.64609469150162,-93.68622907491604,-93.655506,-93.64603878546193,-93.6294784,-93.62945981841196,-93.68374009310392,-93.6186268970768,-93.68911880614316,-93.62398130612245,-93.63735972351776,-93.63422767405338,-93.64039073737374,-93.659392,-93.64350378515024,-93.64492734127276,-93.62560211863472,-93.66607205192382,-93.65612294798628,-93.609088,-93.64688583408538,-93.65417937402002,-93.6124554,-93.64838541912324,-93.633802,-93.62548479591835,-93.61509322351316,-93.62633287305052,-93.64656387755102,-93.61721855921348,-93.66049019219334,-93.62874606568025,-93.6533032150516,null,-93.67123417821566,-93.63599502545436,-93.6203006384482,-93.65469929085654,-93.62260554545456,-93.683206,-93.68225547575491,-93.68109655740692,-93.64838363265304,-93.60612031313131,-93.60323406682328,-93.6427680895134,-93.6574877363118,-93.62139680717895,-93.6553784014037,-93.6894175696057,-93.61543940059218,-93.6036697126137,-93.62245830908866,-93.68179635857511,-93.64365786824769,-93.60429612244896,-93.60371822707666,-93.64298118780832,-93.61222826161584,null,-93.64016214507028,-93.60366895117828,-93.61222924489796,-93.64634438338976,-93.65572973167484,null,-93.64384909097969,-93.65728995301232,-93.64270906146292,-93.6644765,-93.67466926377168,-93.608717,-93.64364459718288,-93.64954088846125,-93.60435779961487,-93.62826987704072,-93.64963653495818,-93.6776827755102,-93.64577722964748,-93.6575664153229,-93.64243274242688,-93.62884491578949,-93.687930042606,-93.66488768470606,-93.68394391958672,-93.62415224239898,-93.606752073161,-93.68313389795918,-93.6849951387715,-93.68175228571428,-93.60874928571428,-93.62815914285714,-93.63933355890704,-93.6154373302759,-93.6559183,-93.68912167103052,-93.60777784848484,-93.6197207,-93.60761720639056,-93.62147152372344,-93.6471045858586,-93.64416302842116,-93.65013950947724,-93.62551346938776,-93.64778782365164,-93.6048353974724,-93.64415341205856,-93.64676290642836,-93.62575915436877,-93.6433134674271,-93.63789395842964,-93.66686222837316,-93.65620536734694,null,-93.62236668686867,-93.67253772940806,-93.641526,-93.67996952877064,-93.65757749527188,-93.69218022846148,-93.65783559113645,-93.64491606122448,-93.61038558320044,-93.68569576767676,-93.6216614489796,-93.68623349496264,-93.618459,-93.61886691410052,-93.640518123423,-93.67697466213608,-93.60600470707072,-93.62477456483307,-93.61222985714284,-93.6632647299644,-93.67378595918368,-93.64457367220116,-93.65205791896162,-93.64942373186408,-93.64837885714286,-93.644926896477,-93.6653515,-93.64544340848364,-93.6516226122449,-93.62336047599264,-93.60570357400624,-93.6725511511952,-93.65737546477388,-93.6217385362576,-93.67829025531914,-93.6035056538022,-93.62214108540458,-93.65819855808628,-93.66928026366276,-93.62824103741372,-93.6481626,-93.61316938402076,-93.6364751856661,-93.63312312052932,-93.65146345283424,-93.64995508984912,-93.62709063265306,-93.6059824897959,-93.648351532708,-93.63955761616162,-93.64660354427208,-93.64259794157329,-93.63712424040322,-93.61595657142855,-93.62643386956522,-93.60799021212122,-93.66493873192312,-93.62554691836736,-93.69140194782878,-93.60722957089274,-93.67217225423155,-93.62018697987196,-93.61400865306122,-93.65531279784706,-93.62556069387756,-93.68949394140166,-93.64947028383988,-93.62691449706048,-93.61543984597746,-93.61986377477628,-93.647022,-93.645509,-93.69015542114964,-93.69060626586594,-93.66125796344346,-93.639552,-93.66607259932762,-93.64663943537052,-93.66086579008224,-93.61754234693878,-93.64118843764037,-93.65860293118872,-93.64189535276586,-93.68289296919988,-93.643556,-93.68464309104452,-93.61243779591835,-93.67191825955148,-93.6774812595442,-93.66149567643896,-93.6235075,-93.62960010095908,-93.61540881632654,-93.6254213265306,-93.62946068188016,-93.62163181632653,-93.6441540674731,-93.60887713131314,-93.67328616654792,-93.6447411423989,-93.67426804081632,-93.68500228550349,-93.63156375802194,-93.68366082946746,-93.65323766252466,-93.67698065927452,-93.6187385078336,-93.64450127152682,-93.62139599190822,-93.68109763935172,-93.61637686541748,-93.65399520765304,-93.64382077985354,-93.6325959,-93.62394609055036,-93.60682804611989,-93.62263804081633,-93.6663492,-93.63785692655183,-93.6821187933657,-93.64060076646572,-93.62822157142855,-93.64598659483784,-93.65675772325476,-93.6720386563243,-93.6343910625,-93.64662739398727,-93.67536573469388,-93.60711752442693,-93.62832041301807,-93.68445533701971,-93.64730202075964,-93.6424376975465,-93.6607112540801,-93.649542301261,-93.64031889686984,-93.62176390413988,-93.69137515829988,-93.647671,-93.61226375510203,-93.60479012759878,-93.62721524489795,-93.6423122535478,-93.62765172237602,-93.67086053535353,-93.644184,-93.62458843657076,null,-93.65414661216344,-93.6267052291767,-93.63897183030832,-93.63698612936076,-93.6663829759606,-93.67407142857142,-93.63779464883544,-93.627926,-93.65051097959184,-93.61086585885806,-93.6021357,-93.637788,-93.65304393958787,-93.61031392353992,-93.6140802857143,-93.61242581632654,-93.59996872621436,null,-93.677257350006,-93.67573680093103,-93.62924181330852,-93.64838682231044,-93.67123834844584,-93.61253632831034,-93.62555610204082,-93.64706809744942,-93.627695,-93.660602,-93.6396547,-93.65218318239246,-93.6539210146762,-93.64787321806948,-93.60816367708648,-93.61800109327204,-93.65311839997617,-93.60623275724798,-93.615429,-93.64596875881588,-93.62453204081632,-93.62385053019987,-93.6222984445571,-93.61062325031136,-93.62515039490025,-93.63454246820592,-93.601624,-93.61844169387756,-93.62555793877551,-93.62648085714288,-93.65834769387754,-93.60694141044608,-93.6541551783833,-93.6441992173775,-93.61405285714284,-93.6271091632653,-93.62231982989508,-93.63973588049144,-93.68623304546638,-93.65166036668946,-93.66017316218904,-93.6048054141414,-93.6291108657718,-93.688895,-93.642674,-93.66217073409716,-93.664509,-93.62295726356056,-93.62546034693877,-93.60656958697224,-93.68718591763704,-93.62171457142856,-93.65858202077328,-93.6820369359333,-93.68471572727272,-93.60299219600132,-93.606366989899,-93.64319327177768,-93.63375536933796,-93.62586720306224,-93.64687694636557,-93.61867770937496,-93.67190502706886,-93.6837257559237,-93.6339819544364,-93.60912559182812,-93.68199438769652,-93.62917921696383,null,-93.60495553528985,-93.68243961538462,-93.675132,-93.678758,-93.63251732040536,-93.689101,-93.65170730227656,-93.6654029,-93.60022157484228,-93.6878653838384,-93.65333767490483,-93.64408742095492,-93.62063910204084,-93.637326,-93.60243061324628,-93.62754452265992,null,-93.57832729307644,-93.68117685714286,-93.684411,-93.67282384824917,-93.68128598545968,-93.61760893209151,-93.65379020401356,-93.62844153061224,-93.60530083890698,-93.6831742061637,-93.65077168001568,-93.6469003877551,-93.66201652254809,-93.68961370743756,-93.63278756748916,-93.64265836776028,-93.655516,-93.608125,-93.6253292244898,-93.61662458579931,-93.64249212714206,-93.6786209631735,-93.61107609317202,-93.644148,-93.644192,-93.62169385714286,-93.6081644942168,-93.63749315294264,-93.62986759861607,-93.629625753887,-93.64930738305368,-93.67415414231128,-93.69152303149954,-93.61600823920722,-93.69159318608703,-93.65221048846104,-93.6590163181818,-93.64252609194008,-93.63597536209686,-93.679752,-93.66219771428572,-93.69138693054298,-93.64236547683238,-93.676399360278,-93.683356,-93.61032328571429,-93.691368353397,-93.62614208665283,-93.688895,-93.62985262130675,-93.63036795695383,-93.655797,-93.66606191273536,-93.63425011897093,-93.6569485660342,-93.60816571991228,-93.67863688229222,-93.64563281822882,-93.6905694613764,-93.64022440631769,-93.6734836316701,-93.6290162818792,-93.6258169129528,-93.60675628318276,-93.6414130851072,-93.62458487248324,-93.6140427755102,-93.653209853281,-93.64682732432732,-93.61898336734694,-93.66194959440077,-93.6437224223748,-93.6415741695409,-93.6260942530966,-93.63474361913696,-93.68622929966418,-93.61476109680883,-93.68624346346672,-93.61848014285717,-93.60018413490596,-93.61813433448592,-93.64235043856486,-93.67531048979592,-93.65117696467397,-93.68522470040688,-93.66098447742898,-93.69228547634812,-93.62707910309376,-93.62479946563464,-93.62611562861272,-93.68877371428572,-93.63701692058576,-93.6064848452381,-93.60524586740932,-93.6667508603405,-93.62515444596777,-93.63428082858952,-93.61695569387754,-93.64250793879312,-93.63947253148343,-93.6281476385107,-93.64039482796149,-93.61524020165535,-93.62675858329791,-93.67535371428572,-93.634378025,-93.647011989899,-93.66493964599474,-93.64670427559804,-93.61892575481906,-93.63471,-93.60502794949495,-93.6093452,-93.6552007059271,-93.60409578337028,-93.60383229513144,-93.635963,-93.6352344,-93.62447142863358,-93.6625751725542,-93.62348342857142,-93.67758435907253,-93.62321486965608,-93.68472770538008,-93.67609259183672,-93.60328933021609,-93.69085450610454,-93.68550604040404,-93.60776691836736,-93.65040116571043,-93.69079671519896,-93.62325760777752,-93.66861455432976,-93.64218655574228,-93.67826268085106,-93.64931675322148,-93.60157702884216,-93.63248836660205,-93.67618415151516,-93.6916023140184,-93.6070279042265,-93.6291915510204,-93.604222598044,-93.6021357,-93.61014271429372,-93.64933063070106,-93.62844465306122,-93.64084551761728,-93.61541004081631,-93.608716,-93.64580462969136,-93.61406195922254,null,-93.6781799948893,-93.67948936241542,-93.6801774863413,-93.68118917350554,-93.65749616326532,-93.68560220408165,-93.6779561719857,-93.604106,-93.65429293465564,-93.69251180861552,-93.60569883577747,-93.61285385715064,-93.62456660627306,-93.60764075510204,-93.69123942575058,-93.61680909086884,-93.66355788888887,-93.69174026119212,-93.62885495789476,-93.6088341632653,-93.68572630529712,-93.61263997435896,-93.646828,-93.6379785407475,-93.62370485714284,-93.6093452,-93.68659668498664,-93.65862,-93.6466556166478,-93.63152308199788,-93.67364530612244,-93.62450668469695,-93.64765887536495,-93.60930168616562,-93.68964000369684,-93.6072490569355,-93.62241285714283,-93.62047117158788,-93.6198595345658,-93.634738,-93.61727963334768,-93.60867480737409,-93.60002553480204,-93.62715557142856,-93.6364315,-93.6108383261398,-93.68889377734922,-93.619783,-93.61603242857144,-93.6804398781678,-93.64253480339607,-93.6142805154145,-93.62268006475738,-93.643988570908,-93.60816040856515,-93.61493435062953,-93.65367775597775,-93.61826685714286,-93.64823284612062,-93.65759867203336,-93.66951756572132,-93.61880678521356,-93.64141992057222,-93.6325959,-93.6919548486722,-93.62635424489795,-93.67104108534794,-93.6272573265306,-93.67266393241763,-93.60301436490518,-93.6580366031701,-93.6400583554058,-93.65042915397504,-93.6800134289633,-93.6167052407816,-93.64354139484782,-93.66465472502972,-93.62613914098549,-93.62770173042392,-93.6839763848764,-93.644405,-93.69182330890914,-93.62930107326687,-93.61044502247243,-93.63585790740748,-93.63567359736632,-93.60414456756044,-93.64704514285714,-93.69133679337207,-93.6879923077972,-93.62703997959184,-93.62980991056968,-93.65441192506609,-93.6027426,-93.63963199612056,-93.62762874955108,-93.61868875,-93.65046909898264,-93.65539242272703,-93.6068260153733,-93.60743936126562,-93.68199346256552,-93.67095644136586,-93.68319406749146,-93.60997548484848,-93.68100702779306,-93.65149763205174,null,-93.62015225124316,-93.60415458704888,-93.6154473877551,-93.62584077426474,-93.62915074903395,-93.65196413300134,-93.62900207876736,-93.6415073065371,-93.61184232632132,-93.60557498097911,-93.65273732220116,-93.62175577659416,-93.6714876122449,-93.66914556457004,-93.644516,-93.65117019771787,-93.60600677777778,-93.60331614523712,-93.62270412862706,-93.6891516173948,-93.61222263636364,-93.606876,-93.60600425252524,-93.64269276238964,-93.62684278990056,-93.608814,-93.66195007692308,-93.68794560760956,-93.64365523268008,-93.60500455620638,-93.65083023795216,-93.60122804548456,-93.60468306987144,-93.68312365714286,-93.66951124378872,-93.68899743746088,-93.6840958795833,-93.65619674912348,-93.68690285714284,-93.66938175037308,-93.63774189850938,-93.6393163,-93.60870085714284,-93.68406111340154,-93.68951234693058,-93.64217439770088,-93.62823044963444,-93.608717,-93.64544654019151,-93.63054914493678,-93.65472971810732,-93.64934614756156,-93.63873755367472,-93.63960037779924,-93.6306693908486,-93.68760908163266,-93.68666765624916,-93.63312500181334,-93.643553,-93.64173415044884,-93.66369532455674,-93.68695036734694,-93.61269650911262,-93.61827582597934,null,-93.6298432321745,-93.60671648211698,-93.6856536060606,-93.682787,-93.62818671428572,-93.62260726262626,-93.64681158483924,-93.61863851557771,-93.62169166666666,-93.639331,-93.67362276162544,-93.64225902147986,-93.6247256505704,-93.68203606488623,-93.6421010576062,-93.66349395424876,-93.6551864675853,-93.62970391791234,-93.62774527117207,-93.66484362593184,-93.602322,-93.64544334040303,-93.62338267151682,-93.63430969696306,-93.65862,-93.67234434223374,-93.64170654972128,-93.6244069848543,-93.6556846734694,-93.6404592288353,-93.6409719833404,-93.684442,-93.62580581729026,-93.67452128571428,-93.67212195721362,-93.63046370018368,-93.65094213329934,-93.67417240816329,-93.62550722701606,-93.65054898899793,-93.62460230980588,-93.68888958084088,-93.6553652970704,-93.64625071872992,-93.6543088794394,-93.61893795918368,-93.61664575394435,-93.69211408163264,-93.62859538775513,-93.65621279591836,-93.6083826859676,null,-93.64183001480237,-93.61853604176454,-93.6710654882045,-93.62558708257562,-93.67974620831588,-93.62053642728075,-93.6483834489796,-93.68918278391688,-93.683124,-93.6402420555802,-93.656246,-93.6046475171096,-93.66032570849042,-93.63765912244898,-93.63478873225073,-93.61287066175692,-93.60476359890072,-93.6678676,-93.62152304040404,-93.6171027755102,-93.623531453391,-93.67514,-93.6770425386448,-93.61408085714288,-93.684519,-93.68312262857144,-93.61244363636364,-93.66494477445994,-93.6902622220076,-93.60412723685246,-93.6018171072548,-93.6417903005472,-93.69205469387757,-93.64763462609488,-93.64258983323604,-93.626753,-93.61952556769371,-93.6267063752662,-93.63908853643554,-93.6566373245119,-93.6364315,-93.62447853846152,-93.65583139715451,-93.68329965853658,-93.64367262325128,-93.62296382608696,-93.67670051724056,-93.60641379761904,-93.68788918120902,-93.64292029141716,-93.61727616494667,-93.63453451948163,-93.65221497316996,-93.64177671006505,-93.62156881632652,-93.6574501465908,-93.64521998339232,-93.66520309028522,-93.61386404081634,-93.66468275786433,-93.639552,-93.61724350547,-93.63972683596012,-93.64544674443336,-93.66214257142856,-93.62739947523752,-93.68297,-93.60264139470424,-93.642325,-93.655017,-93.6845574040404,-93.60646486868688,-93.60444350418034,-93.62236943434344,-93.64407953314362,-93.644405,-93.62563247253073,-93.6216515510204,-93.674511,-93.67240756707396,-93.6648772824148,-93.66007304628964,-93.621618,-93.639331,null,-93.61296405358212,-93.6451036585535,-93.63570856679404,-93.65265019942632,-93.69184014108129,-93.61722920800686,-93.6189605281827,-93.64758041232044,-93.65050904399028,-93.683345,-93.65441359375,-93.678181195683,-93.68091120648327,-93.61826257142856,-93.61747530123144,-93.62956220974218,-93.61344680244356,-93.65305565872592,-93.6396927898254,-93.64581029094607,-93.61565977777778,-93.65978894256052,-93.68579351117005,-93.6826174,-93.68446798947812,-93.6340710138004,-93.64252197625024,-93.61245140816328,-93.62723363218142,-93.68788355559666,-93.60769442857142,-93.6563841302438,-93.6054401909198,-93.62845120786706,-93.6439603995685,-93.67436008391157,-93.626679883796,-93.62666747171784,-93.63370723672809,-93.61985785089291,-93.60898913203766,-93.60705409205347,-93.64235910059388,-93.6718996122449,-93.6172969807962,-93.62238624690356,-93.6245336734694,-93.60770175510204,-93.61057705882352,-93.61662054515148,-93.67795673643693,-93.68126765306124,-93.6174714724021,-93.6253307862428,-93.660487,-93.62498424342682,-93.67029979872376,-93.66289102447584,-93.6891088086974,-93.6613735116964,-93.63019974439564,-93.67102361025562,-93.667721,-93.68036485714286,-93.63989112051938,-93.61006091665114,-93.61726248484848,-93.63353181710464,-93.62673348979592,-93.63693627207762,-93.68394718020176,-93.62572524489796,-93.69073804830629,-93.65750893531012,-93.64176933861502,-93.68787247474746,-93.60344737275906,-93.61105051866134,-93.62479788876188,-93.637490524524,-93.62055726521544,-93.62944124298578,-93.642739916618,-93.6418021,-93.64135675121511,-93.64015721921795,-93.69157660431875,-93.66047273469388,-93.65942942367084,-93.62622991999754,-93.6413613790638,-93.63676940744348,-93.63952640343916,-93.6296709216563,-93.6813320926418,-93.68319471916004,-93.68645026777664,-93.64944538220884,-93.6170078,-93.6432893783217,-93.62139147931464,-93.63697835811374,-93.6892297339987,-93.68923765466582,-93.67535741666669,-93.6559183,-93.63553267246368,-93.65714067144042,-93.60133717353398,-93.62926987680248,-93.60773793877551,-93.64859801749694,-93.64274629332604,-93.6435998698284,-93.64119769245886,-93.65426990047376,-93.61910824030905,-93.61312859600518,-93.62312652643324,-93.6660712308181,-93.651997,-93.621618,-93.639331,-93.60771933333334,-93.6201471256216,-93.6317290238436,-93.61540930612246,-93.62742486533254,-93.66613972695129,-93.65298445538993,-93.63155173333324,-93.63669020571436,-93.64417992287248,-93.62671179166666,-93.65856524489796,-93.62366934343434,-93.69055674746764,-93.68426260204082,-93.69243150921577,-93.650689,-93.68747221276595,-93.68430787804876,-93.64680712244898,-93.68791956691226,-93.66207773576618,-93.69049048258952,-93.6105761764706,-93.65590479824506,-93.6167814314537,-93.66855348979593,-93.69123043198356,-93.63626510175811,-93.64967720218152,-93.62771055555557,-93.6452748980294,-93.68685460834126,-93.64381650176335,-93.64408414806776,-93.683296,-93.675374,-93.64181839540622,-93.69062288349016,-93.64250787907976,-93.64442,-93.651777,-93.6468604489796,-93.62368516161617,-93.65256833567588,-93.68792628863292,-93.64348184635656,-93.6259780470045,-93.6405458414634,-93.65438858654986,-93.6539598452122,-93.63272112714208,-93.63922063265306,-93.63967902197976,-93.6364315,-93.630417,-93.64688139022547,-93.68938646605434,-93.63460714015186,-93.618344,-93.61488920408163,-93.62172628670233,-93.6277972,-93.6635408367347,-93.62848902504592,-93.60475783903652,-93.62769490365976,-93.68682538775508,-93.6321309749112,-93.66031389994257,null,-93.63403035217894,-93.60489958791166,-93.62136375,-93.62930602362958,-93.6459628728382,-93.6439843336821,-93.684168,-93.68680783673469,-93.68448476877506,-93.68888870094035,-93.6711171020408,-93.6253253977232,-93.6567019879936,-93.61720153061223,-93.64681975510204,-93.60388829835333,-93.64046454535584,-93.667057007354,-93.629176,-93.64277531399816,-93.65459591064815,-93.64195865053232,-93.68445351933772,-93.65707440417286,-93.6345057351846,-93.61052979591835,-93.62629245454544,-93.677215,-93.62359061616162,-93.69231755747025,-93.64588658189211,-93.68835371472744,-93.66171536533082,-93.67855367114376,-93.63405060531882,-93.62980914090632,-93.675848,-93.62656551196972,-93.68788782745293,-93.64492751919109,-93.61899075925766,-93.61058763829789,-93.6289333382767,-93.6417944783108,-93.67758661544352,-93.67673803276509,-93.64206048966598,-93.60169746193904,-93.62479963636363,-93.60368087492306,-93.691702800301,-93.6379153876308,-93.67758147209967,-93.68786617171718,-93.61563275510204,-93.62093408231274,-93.6525270045858,-93.64502095154818,null,-93.62138323748763,-93.68630890924456,-93.61366,-93.62615838123916,-93.62152434343434,-93.64147775501496,-93.64644685714286,-93.68221448418412,-93.61750528752938,-93.6378914226328,-93.68465248484848,-93.62791653535352,-93.6057927895483,-93.65588089772652,-93.67439551930664,-93.64872647506812,-93.63117195284556,-93.68560465306123,-93.650488246871,-93.64544667635276,-93.69067896398592,-93.627966,-93.65345176877533,-93.65278913785878,-93.62306696748756,-93.67328688093542,-93.6378922678984,-93.64789842684952,-93.6069253265306,-93.631941,-93.61837826270128,-93.65764873299152,-93.62132202020202,-93.6162945,-93.646445,-93.61392595918367,-93.66053930270782,-93.6866276553865,-93.68328779777768,-93.62147019046544,-93.62933825707675,-93.68366222103342,-93.60415664642606,-93.61017181635673,-93.6243609854988,-93.62600197691496,-93.60410040816326,-93.62635229303132,-93.62563073925816,-93.62450757959591,-93.64317104495814,-93.68548960015973,-93.65081211897608,-93.6867241326706,-93.68645464146188,-93.68812023225244,-93.60920896969698,-93.6427686299776,-93.621618,-93.683401,-93.64373879864944,-93.69219595401574,-93.64072038253975,-93.66768194285714,-93.69167725063993,-93.62659424143224,-93.62745846084783,-93.64394877789402,-93.6150424980138,-93.63958651461576,-93.60441480040151,-93.60886957575758,-93.6460387342286,-93.63222042442554,-93.62985899498922,-93.65321690365111,-93.65357221984912,-93.66351284112656,-93.65011125860852,-93.683069584533,-93.632759,-93.62478349895784,-93.65022700720829,null,-93.63675673845938,-93.62352184046208,-93.63907908074022,-93.68889711994818,-93.6104506558996,-93.6471167755102,null,-93.682723,-93.60598114285712,-93.60880151020407,-93.61843908163266,-93.601336,-93.6084029175788,-93.65670986122794,-93.64421892307692,-93.68623319529848,-93.652376,-93.67143803722824,-93.6470082679869,-93.632611,null,-93.635969,-93.646474,-93.64625073469388,-93.66847303731996,-93.63832453179472,-93.65978848253648,-93.60706065,-93.64472895643355,-93.66294744065245,-93.6021357,-93.63495514285714,-93.65012184751308,null,-93.67854840944416,-93.62472662642602,-93.68221545255236,-93.63046679126812,-93.6700116887824,-93.62171171428572,-93.64790984848484,-93.66934895944958,-93.66602692414152,-93.60768387755104,-93.62665305219952,-93.64182285981389,-93.63462414095068,-93.61727860987578,-93.6240256097643,-93.60759889784792,-93.63646963865264,-93.66973775232464,-93.61826428571428,-93.61876687740951,-93.61031071353489,-93.64696563265306,-93.61392424489796,-93.65334224019912,-93.60003156989616,-93.64599539703968,-93.6857276060606,-93.60799793939394,-93.6170522793614,-93.66647533333332,-93.63261046652536,-93.635861,-93.68392905776103,-93.65495209183136,-93.68687474351474,-93.6381182011327,-93.628226,-93.65760764934078,-93.64093664203897,-93.608867,-93.6131651392585,-93.6083176757122,-93.60475999674486,-93.68782857258704,-93.61898138864947,-93.6156317755102,-93.62576579920582,-93.67249157142857,-93.63130940099082,-93.64583711582564,-93.6518441020408,-93.65716540760376,-93.62644647826087,-93.64947732091154,-93.6171444880136,-93.62031613617994,-93.68400428571428,-93.68393498668452,-93.62741617421996,-93.64810461004222,-93.6869765510204,-93.60867184608313,-93.62596656923655,-93.64807924431726,-93.68675696938776,-93.6093452,-93.6041162244898,-93.68353202040817,-93.62746622915472,-93.6162945,-93.6439316,-93.66115679305786,-93.64167800035054,-93.63712515829856,-93.685047,-93.63368,-93.6155152580065,-93.6073690195486,-93.62703009793653,-93.66916401261176,-93.62498566826036,-93.65294508026614,-93.68930842325092,-93.67863640434246,-93.6791161110155,-93.63902087855888,-93.62326030612245,-93.68713883684688,-93.67761417500942,-93.60254727272728,-93.68119088994776,-93.69203789795918,-93.66937326450352,-93.6521417061194,-93.61891928571428,-93.61705367616844,-93.65423516290106,-93.69062607322525,-93.616288,-93.64020250538066,-93.64167515527444,-93.685229,-93.67361746234788,-93.61704195959597,-93.68499576324322,-93.60394051401822,-93.64249539030304,-93.625870402722,-93.60205286361573,-93.62826716757364,-93.6356519938145,-93.61883290722687,-93.67187315915312,-93.600982,-93.6421149897036,-93.68520334075956,-93.64266101521424,-93.66973712848696,-93.682723,-93.67625133130213,-93.6222919407632,-93.6481626,-93.62945,-93.62946088638576,-93.62457703030304,-93.6295010654081,-93.6878659090909,-93.60438564862078,-93.6649803,-93.63975358571136,-93.60431648622732,-93.60530866046922,-93.64798054545454,-93.6293608200486,-93.651822,-93.679967,-93.62043069387757,-93.68766481029267,-93.66333636734694,-93.64847774408116,-93.64488430678456,-93.67994368720932,-93.62241787755102,-93.629457,-93.60630972619047,-93.65329081799592,-93.6660558689138,-93.68312297142856,-93.6745246509813,-93.68560404081632,-93.65448720349738,-93.64081258920636,-93.618395,-93.64943924872458,-93.610614,-93.62453530612244,-93.61542733620075,-93.6849454248906,-93.67640175757576,-93.609088,-93.64232664770807,-93.64039014736542,-93.6905270168328,-93.68688367985106,-93.6291384384083,-93.6084256122449,-93.64948587730068,-93.62152086868689,-93.63977789364256,-93.63747845454546,-93.67371450855045,-93.63730291836734,-93.6215438888889,-93.61408379591836,-93.62029508197648,-93.64142675603722,-93.62156963265306,-93.64575671428572,-93.61243712244898,-93.68706444897958,-93.66464522571768,-93.66554281632652,-93.6127537651229,-93.672494760584,-93.687873,-93.644405,-93.651822,-93.6038168,-93.6262780908437,-93.62906842068897,-93.67310073469388,-93.67742937034932,-93.65741271428573,-93.60684206639309,-93.61858214285716,-93.61590522326648,-93.63984137116496,-93.6294784,-93.63267379956628,-93.67640515151516,-93.6850832247816,-93.60886785858588,-93.62525,-93.61730224444268,-93.678758,-93.67805045810474,-93.65159811836796,-93.6404083005542,-93.68396438625858,-93.62932983124064,-93.61435295902842,null,-93.65569000339838,-93.62704705046264,-93.6287337222282,-93.62510589795916,-93.65888812244896,-93.63331189475612,-93.65124218090162,-93.62053553101669,-93.68991858232673,-93.6559183,-93.67440985714286,-93.63254618038142,-93.60872140816326,-93.6359494489796,-93.68929512185456,-93.69251582177093,-93.67328652374168,-93.6767330344811,-93.62608464092632,-93.6038168,-93.64544681251397,-93.62560141242317,-93.6449265406404,-93.61364245694682,-93.62795353815586,-93.65405592868406,-93.62984648518588,-93.64576131484569,-93.64027799877442,-93.61543326530612,-93.62054253089792,-93.64361043552432,-93.62686902040817,-93.67151022351354,-93.60892366574294,-93.63874104084712,-93.62297802013424,-93.60453041284202,null,-93.67381812244898,-93.66374178824336,-93.65582469387756,-93.61061975409754,-93.67360714285714,-93.64152654648848,-93.62360488018685,-93.63383418181816,-93.64474187118972,-93.65939348402765,-93.612503,-93.604969,-93.6891240580733,-93.6892086342482,-93.60776791494204,-93.6124565522069,-93.62044965306124,-93.6522149891641,-93.62250919893587,-93.635558,-93.65686398117616,-93.63750893207488,-93.67004396969696,-93.62053982633488,-93.60816408565162,-93.61419323795631,-93.65130933642588,-93.65025874338772,-93.65230523871368,-93.66194715352418,-93.69239451908518,-93.69068352578893,-93.64509064963066,-93.62139972114164,-93.62312913893597,-93.60529940316184,-93.641526,-93.61846536488972,-93.62457037583891,null,-93.68984638246268,-93.6122507755102,-93.61885120408164,-93.6162945,-93.61330526592172,-93.60670585714286,-93.64838331434242,-93.62954600198024,-93.64174276771456,-93.61867631787278,-93.62467,-93.62264784136816,-93.60899563636364,-93.64145647188434,-93.64544354464483,-93.61750567835146,-93.64538553741868,-93.659175,-93.65128350496198,-93.6556306614624,-93.66493729775829,-93.62422771374996,-93.60798526530613,-93.66229552840989,-93.652527,-93.63922623608168,-93.61428673550056,-93.68766345157674,-93.6435853076923,-93.683476,-93.61585524405643,-93.64492645168124,-93.62729175116552,-93.67418285714284,-93.66545537543936,-93.68493931363165,-93.6820008636136,-93.62234911146597,-93.62332249557672,-93.6815636829872,-93.6481626,-93.6041636734694,-93.62475385714286,null,-93.68799439636044,-93.61487045,-93.64216871943997,-93.63698156802168,-93.61222217171716,-93.64673839941864,-93.60682723382124,-93.62574447558184,-93.64682651020408,-93.69042392222048,-93.62268012445372,-93.62981621634086,-93.6442381632653,-93.60480771717172,-93.62442998453206,-93.62166343205271,-93.68670166598604,-93.64515978488132,-93.67103851283342,-93.68916936746068,-93.62727295519169,-93.66466268204026,-93.68573364458288,-93.69168603900368,-93.659175,-93.62404794278793,-93.61815536689608,-93.64361585829182,-93.6280221192271,-93.6806201438868,-93.68890046748884,-93.6177285184774,-93.69239440264975,-93.635145,-93.6295873275791,-93.62569491836734,-93.65460839627404,-93.61481281818182,-93.68377969538923,-93.6267296792946,-93.62562088563766,-93.66923376324236,-93.6062388657502,-93.63794834427313,-93.64155693660015,-93.63835771923058,-93.67854939601284,-93.65711292709214,-93.65884226666122,-93.6072027855146,-93.65050593773736,-93.60367614147803,-93.625627272713,null,-93.6408471633756,-93.63780634837752,-93.60727534405744,-93.65575412517684,-93.6189278569942,-93.6812110617612,-93.6219415096092,-93.628865,-93.63497935824894,-93.64027047855132,-93.64027047855132,-93.62120641565328,-93.625787,-93.60633864092205,-93.68532405231228,-93.622628,-93.69147201386848,-93.61544836734691,-93.62601469387756,-93.6891139269998,-93.61812796437889,-93.61250605741652,null,null,-93.6253261988616,-93.68902362497391,-93.65181467493376,-93.62750711476306,-93.63751258190996,-93.624654309507,-93.6427782379469,-93.62775298723088,-93.65917208950648,-93.6602711632653,-93.6171734489796,-93.62565524642145,-93.65449785960404,-93.62305004697988,-93.67237317309048,-93.6864682868005,-93.60422433229849,-93.68876227146406,-93.6813584489796,-93.66932676408317,-93.69269706256377,-93.60670402040816,-93.60790391836734,-93.6212784437598,-93.6188554908037,-93.68289623299076,-93.67148853061224,-93.63124205592922,-93.6063708989899,-93.64937718128256,-93.65017942182132,-93.66105268900716,-93.61120802640453,-93.61104458874252,-93.64407023219474,-93.64694338759084,-93.66349512094324,null,-93.68125140538808,-93.6556735494769,-93.6013973180521,-93.6261370041288,-93.6033461176431,-93.674511,-93.60714173860612,-93.61594365306122,-93.6077674489796,-93.63174796221436,-93.6107982857143,-93.61007465592138,-93.609088,-93.62973661707248,-93.64700210204082,-93.63208759425396,-93.66799458555889,-93.623741,-93.64146848415004,-93.6417060753997,-93.6084036783902,-93.61860399215747,-93.68806989731254,-93.63749972829945,-93.65279349120956,-93.6429211589446,-93.64957258097478,-93.633713000615,-93.68676364285714,-93.6607130326408,-93.6585512097175,-93.61057217477776,-93.64497712862388,-93.64674681632653,-93.61659226379214,-93.64492680751783,-93.61714579591836,-93.60437923257598,-93.662202,-93.63888925844304,-93.62957308653634,-93.62089386191246,-93.61732245002152,-93.63324758470864,-93.6275963517249,-93.64296237561663,-93.62844291836734,-93.630396,-93.65391811019867,-93.65610068592804,-93.63698959279156,-93.6334836668575,-93.61273429080856,-93.63432967977276,-93.61394577551022,-93.62802456691792,-93.62478976510069,-93.65406540011706,-93.64660657093047,-93.6530882,-93.68943978590072,-93.65572484780404,-93.68462064646464,-93.62875638564466,-93.6294784,-93.60682743689593,-93.67148963265306,-93.69120882273684,-93.62945,-93.6394146812147,-93.6424864254284,-93.64266487492704,-93.65682577722971,-93.61728337615877,-93.62759043272207,-93.605942312012,-93.68938891380006,-93.63268689392063,-93.64012036864928,-93.60378,-93.63316447180974,-93.61041149678016,-93.61864088968365,-93.62564954791496,-93.62525282874702,-93.6076953877551,-93.6840621935039,-93.64647528571427,-93.61633851020407,-93.62931575139147,-93.63811811100749,-93.6690269909767,-93.64916910893866,-93.69223928523525,-93.62711895918366,-93.615331,-93.6426143572054,-93.64050502672988,-93.641526,-93.6550911020408,-93.60392378579724,-93.62386536688874,-93.605575322611,-93.642499162315,-93.68113037450748,-93.6142550156629,-93.61261990196078,-93.62217083904108,-93.61721785048007,-93.65690511624553,-93.66365507844624,-93.60818247108398,-93.61222147474749,-93.6912242746472,-93.60998419814982,-93.66016848302029,-93.6734832633402,-93.64689817607702,-93.65819074824287,-93.65786165094778,-93.6105051666287,-93.60394169328764,-93.6383982,-93.61762823568324,-93.63936394715856,-93.62762032731209,-93.62457872727272,-93.63443437035062,-93.641698,-93.6335953177344,-93.65412668416836,-93.6413159030044,-93.69051213258712,-93.61247676435411,-93.62615978205886,-93.61041103348938,-93.6384883030068,-93.62120572020515,-93.64629760406146,-93.61008246710554,-93.68766332125496,-93.60886888888888,-93.61426639635516,-93.61545985798256,-93.625286736037,-93.6261934347826,-93.638063,-93.6040358307396,-93.6050291010101,-93.67575486674556,-93.6561013050686,-93.64376799339864,-93.68785619766275,-93.63574211446308,-93.61703526262626,-93.61731928679264,-93.6891174314398,-93.6540462308774,-93.69066484576736,-93.62727738805113,-93.6287658945054,-93.69204514277004,-93.6712684489796,-93.69167096104457,-93.69047330555122,-93.69220054665072,-93.62418206122447,-93.60785242348912,-93.60853375510204,-93.61723704898948,-93.61844104081632,-93.65938651479426,-93.6356765293179,-93.60883902040815,-93.62054071251104,-93.6533918818711,-93.604281376353,-93.61264121577676,-93.62945,-93.67772001407806,-93.6513635507571,-93.68912644511607,-93.61544869387755,-93.6352344,-93.62349128571428,-93.63197699794864,-93.62020846938776,-93.6021357,-93.637584,-93.68115054632092,-93.61260210452647,-93.64236597323692,null,-93.68520634174575,-93.6301746122449,-93.6330337420966,-93.6313761517771,-93.6261432020202,-93.66463091019884,-93.65268457973669,-93.60909057575758,-93.638062,-93.617056876761,-93.64625416326533,-93.6013863939394,-93.6364315,-93.63987969468069,-93.64860475510204,-93.68413783673468,-93.67854489522742,-93.68988475913449,-93.6320665228675,-93.66575547820165,-93.6071566200376,-93.67219103054538,-93.62225303744788,-93.60887627272729,-93.6561853591516,-93.6858308367347,-93.690134,-93.61553204653222,-93.66928372102704,-93.618734,-93.6079974848485,-93.6662938917822,-93.66072222300056,-93.59996163163196,-93.6234501010101,-93.674315,-93.60471826923042,-93.61766536467212,-93.68787273737374,-93.63154857377047,-93.63219859003296,-93.62149285714284,-93.6561862512053,-93.68573373469388,-93.68920750825848,-93.6225894040404,-93.64058113414632,-93.623741,-93.63141419607622,-93.6002151916141,-93.64385572413794,-93.65567300787936,-93.625951,-93.6603170025214,-93.67947,-93.68977050049337,-93.6755855510204,-93.6695144226477,-93.60738803049604,null,-93.62595076436872,-93.64062832128066,-93.68001602552728,-93.6364315,-93.6575450612245,-93.61572146125864,-93.61746741627456,-93.60366918912683,-93.66493870757986,-93.68945516172744,-93.6412334778419,-93.64174117357346,-93.663491571215,-93.62169108163263,-93.68876404466504,-93.63731636146414,-93.63933664905286,-93.6820582779254,-93.65369833105926,-93.60692725319848,-93.6410041014894,-93.62761807070709,-93.6438304934309,-93.6539584102346,-93.60897672727272,-93.64382832309678,-93.65059963435036,-93.65901636363635,-93.61223146938777,-93.67004946938776,-93.69058645850664,-93.68765181818182,-93.66329144396406,-93.64695448979592,-93.6360580066801,-93.68225724415127,-93.6826174,-93.62715398916312,-93.665763,-93.6594875,-93.64492333383258,-93.6458262871142,-93.6480061077216,-93.61584383687811,-93.62917626262626,-93.65773120408164,-93.63968323115046,-93.63647630515446,-93.67536793877552,-93.68313334693876,-93.6162945,-93.68566436363636,-93.64257482447316,-93.66667140949792,-93.6169588367347,-93.62827711224118,-93.68377459441854,-93.6673830555189,-93.67947,-93.64812865520894,-93.62967988400132,-93.6921399851542,-93.62018375994091,-93.62607665656566,-93.60600455555556,-93.64119445354052,-93.68851928140651,-93.61858644945607,-93.655045,-93.64350700503826,-93.61891271428571,-93.64706896851362,-93.62965412980452,-93.66071686672564,-93.6785450239042,-93.65032657142856,-93.6168817755102,-93.68687632879237,-93.62481769751672,-93.66236432,-93.64982856533044,-93.6626278,-93.6513167008098,-93.69148692644865,-93.61561708163264,-93.60459116021848,-93.62945,-93.64728785714286,-93.64575048613426,-93.61548374429668,-93.6908588015676,-93.609088,-93.6373458675667,-93.6764470591615,-93.64484689795918,-93.62468097354947,-93.629115839808,-93.69205030711537,-93.6814352689172,-93.61908511265284,-93.62848650130395,-93.64682492089028,-93.61760348302398,-93.610465,-93.6217902894782,null,-93.64899078475864,-93.6265682965729,-93.61863289727206,-93.6664126376065,-93.62349271428572,-93.6259626741692,-93.65593597588736,-93.6655563469388,-93.60100359767598,-93.6530882,-93.68681027295912,-93.6547666651152,-93.60840789662672,-93.6170035381688,-93.62970074216166,-93.69069530661795,-93.61732269411668,-93.62185078564524,-93.66919161672236,-93.6215464949495,-93.60702960866344,-93.67474,-93.6532138888426,-93.62559675637488,-93.68312194285714,-93.62665286263945,-93.6857367451697,-93.60682177448564,-93.628396,-93.61855975092026,-93.63957529268292,-93.65391326190446,-93.68560342857144,-93.6774812595442,-93.65601724220453,-93.62368281818182,-93.6072161313927,-93.6226506470458,-93.63191858558795,-93.63800493871996,-93.626873786999,-93.60658864153648,-93.62202728322204,-93.61115778005492,-93.62031532340924,-93.67148147261672,-93.64230305845231,-93.62534887899916,-93.6789146546886,-93.6449862244898,-93.63524797694907,-93.6460220352635,-93.6715710248743,-93.60531126765665,-93.64682109724754,-93.68622974916045,-93.67585257313156,-93.67558720408164,-93.6568399415625,-93.60883693877553,-93.6390175819789,-93.63602729662436,-93.623741,-93.61005959140935,-93.6138866122449,-93.67855005372527,-93.64817334149568,-93.61107399396587,-93.67697577022678,-93.691571859458,null,-93.6282938877226,null,-93.65190486806183,-93.6857369518755,-93.6339097755102,-93.615497,-93.61471907997306,-93.64613373604098,-93.63725743097132,-93.6188215288355,-93.64077180722924,-93.60818715387052,-93.6383982,-93.65836061340228,-93.60678292756349,-93.64920467122464,-93.640394415045,-93.66102019201834,-93.62483750861745,-93.61535046938776,-93.6261751919192,-93.64492743023192,-93.61709559183672,-93.623601,-93.6422776698748,-93.6298156203518,-93.64660164309728,-93.65410519145624,-93.61539524489795,-93.61640146857192,-93.63594255697696,-93.68449416161616,-93.69231014980758,-93.6835050233421,-93.62238523232324,-93.64261114217834,-93.62905934343434,-93.64929801288592,-93.65172700055372,-93.6576212244898,-93.62268066172076,-93.67603409068204,-93.63901993667888,-93.6237345,-93.68151730116716,-93.69199673958042,-93.67594483454232,-93.64202754608218,-93.6826174,-93.68786876840196,-93.67482333858284,-93.664942,-93.60481825402604,-93.66349621316732,-93.65681159770244,-93.60481825402604,-93.604697,-93.62850830201342,-93.6261179,-93.62743263348708,-93.62344805050505,-93.69166094205524,-93.69074120533328,-93.62020748979592,-93.61543933256898,-93.62808022222222,-93.64003561860824,-93.63764908163266,-93.646091478662,-93.63901899479887,-93.60909744444444,-93.6725030123201,-93.6171774897959,-93.67070699361872,-93.6323134790355,-93.63584734952138,-93.61858843321248,-93.61014988032704,-93.65377797370296,-93.6263093799963,-93.62565939713714,-93.64143700923474,-93.68114818670198,-93.60692624489796,-93.6155054296003,-93.6617377142857,-93.60328538234566,-93.6068492565192,-93.68159884080995,-93.64470557142856,-93.6468005348761,-93.66634537502176,-93.68538120408164,-93.65361834715776,-93.63506393379616,-93.6427774854986,-93.6122272244898,-93.63702991849178,-93.68843594838444,-93.658514,-93.61852881632652,-93.6325959,-93.62368428282828,-93.62367022222222,-93.61062533539705,-93.61863934693878,-93.64839214285716,-93.601665,-93.61228306122447,-93.60354340531627,null,-93.63417721752649,-93.61897742857144,-93.6042061347988,-93.62691278211034,-93.654187545965,-93.604969,-93.66334449524402,-93.60480656565656,-93.65416093421088,-93.67119930612245,-93.68789279530226,-93.64271412292584,-93.6530882,-93.66141570442318,-93.61562981632652,-93.63621469149052,-93.60774357142856,-93.63896732740672,-93.61859892143676,-93.68395672040948,-93.64920269857254,-93.62139016854567,-93.6492303877551,-93.63926843011136,-93.63984883545916,-93.65184214285716,-93.6644522,-93.639331,-93.64553746424714,-93.66976906886674,-93.6360176415407,-93.61881913834986,-93.62841848709826,-93.61854051630031,-93.60330967646463,-93.62570534982588,-93.60352968637952,-93.60155648482912,-93.62905038926176,null,-93.6153968979592,-93.62643257544444,-93.66202749237029,-93.6030124276298,-93.68365707487992,-93.61724381632654,-93.6813598672391,-93.62170398723748,-93.68953200184843,-93.653111,-93.6067537105345,-93.61863983452544,-93.66951160057664,-93.62366729292928,-93.62563864355856,-93.64039656214251,-93.657991365334,-93.643532,-93.63780058898163,-93.62958292930873,-93.61386436734696,-93.61743868591742,-93.64931050644294,-93.65233799717822,-93.61080818367348,-93.66532320408164,-93.60743914450624,-93.69170105482748,-93.62577985714286,-93.67559582618264,-93.62532326135414,-93.62714128571427,-93.64148806658568,-93.62368193939392,-93.6559183,-93.64197185815958,-93.626974,-93.66032375510204,-93.6246098694362,-93.61203083673468,-93.617228180198,-93.64973434070023,-93.66718052467492,-93.6059876496096,-93.61841950860624,-93.60093325191208,-93.62044771428572,-93.67601192089812,-93.62054040816328,-93.64268586610108,-93.64053606379284,-93.6562433769068,-93.65862700132564,-93.627284,-93.63590975510203,-93.68116848400564,-93.62892854772402,-93.621618,-93.634978,-93.6544098393102,-93.66467775962268,-93.62708114256192,-93.6639116734694,-93.61097251718265,-93.59995653935891,-93.68646893724338,-93.68624166123048,-93.68413791836736,-93.65646003616536,-93.67795676335533,-93.67168092299572,-93.63259946938776,-93.64292189170718,-93.6039697423383,-93.667341,-93.62547083203638,-93.67129540238363,-93.62259009090909,-93.60642698097304,-93.68334465714284,-93.61729810172298,-93.6260878033062,-93.6046536928216,-93.61899232638844,-93.68849966830945,-93.6245728923891,-93.6105774117647,-93.61725526262626,-93.64038587968584,-93.6868757755102,-93.68127120441729,-93.61565902020202,-93.67357792566746,-93.61390747403853,-93.645769583718,-93.63787630845324,-93.6439316,-93.61986037640224,-93.60937895449864,-93.64604748389924,-93.6448327303395,-93.62946408163263,-93.62053214205046,-93.64056991600413,-93.67000729617077,-93.67115820408164,-93.67170477835889,-93.6238963624161,-93.67181294858048,-93.6263728406611,-93.6661381147073,-93.643832,-93.6897483798832,-93.68221981020946,null,null,null,null,null,null,null,null,null,null,null,null,null,null,null,null,null,null,null,null,null],\"marker\":{\"color\":[126000,139500,124900,114000,227000,198500,93000,187687,137500,140000,219500,136000,80000,159000,214000,163000,203000,67000,205000,131250,181000,115000,98000,265979,105500,168165,201000,177500,200000,450000,91300,173500,199500,207000,155000,220000,196000,61500,195000,129250,291000,134000,186000,133500,148000,325300,215000,131000,109500,110000,150000,193800,178000,179600,179000,140000,395000,151500,341000,235000,72000,154000,222000,390000,128200,615000,158000,254000,169000,284500,184500,210400,214000,392500,274725,156932,282922,144000,88000,148000,159000,120000,134900,185000,132500,160500,165000,100000,189900,227875,111900,145000,118000,166000,148000,99000,86000,165000,211500,210000,228500,132000,468000,240000,151500,73000,75500,500067,107500,172500,185000,311872,165150,125000,159500,180500,160000,109008,153000,132250,184900,127000,475000,142000,112000,80900,135000,193500,232500,114000,257000,117000,213000,212000,202500,185101,167000,138500,102000,198900,145000,220000,126000,200000,278000,145000,318000,146500,86900,213000,262000,217500,148000,113000,160500,145000,245500,133500,198000,205000,285000,175000,160000,272000,115000,134000,78000,111500,142900,125500,125500,423000,119900,247000,226500,260400,135000,175900,82500,79500,207500,115000,249700,164000,220000,135000,133700,112500,150000,99000,146300,155000,298751,256000,176000,120000,321000,190000,174900,85000,164990,144100,294900,50000,260000,180000,236500,63900,223000,151000,149500,149900,500000,92900,290000,345474,127000,102000,190000,75200,108538,142250,180000,132000,152400,64000,302000,182000,137000,168000,97500,286000,115000,209000,187500,220000,91000,93500,79400,259500,417500,132000,342000,194000,235000,136870,147000,277000,201490,85000,149900,174500,133900,173000,225000,109500,159000,179400,219000,175500,261329,383000,179000,103500,164500,55000,170000,209500,124500,139400,202665,155891,160000,150000,221300,361919,134900,118000,195800,135000,152000,133900,152000,107000,120000,372500,220000,167000,479069,233555,118900,140000,130000,179900,282000,217500,212500,126000,280750,87000,244600,215200,162500,138000,181316,148000,315000,184750,132000,149500,183500,224500,415000,155000,135000,164000,128500,196500,131000,151000,149900,139900,180000,120750,154000,139900,100000,240000,135000,174000,378500,207000,131000,152000,61500,147110,137000,128500,207500,172500,380000,137000,130000,215000,153000,385000,130000,127000,270000,141000,235000,256900,336860,375000,141000,160000,182000,217000,195000,255000,168500,118500,149900,119000,113000,159000,159000,168000,122000,122250,120000,421250,106900,194000,204000,100000,105000,104900,187000,181500,187100,158000,192000,230000,128000,197000,415000,135960,250000,296000,172500,236500,223000,230500,130000,125500,147500,79000,97000,97000,119000,125500,82000,93000,535000,235128,138000,176000,208000,141000,162000,151500,218836,322500,151000,127500,203000,121000,213000,174000,398800,205000,189000,185000,12789,128000,90000,167900,143000,250000,150909,178000,350000,143500,180500,255000,154500,245000,153000,230000,212700,339750,112000,207500,195000,120500,144000,176400,130000,97000,76500,419005,83000,142000,154900,145000,123900,250000,143000,183000,255000,131750,132500,181900,387000,268000,122000,97000,229000,340000,115000,135000,149000,285000,234250,119500,142500,123000,149000,136000,119000,124000,328900,118000,260000,157000,437154,260000,369900,164000,187500,263000,173000,128500,194000,178000,128000,89000,130000,160000,90000,150000,143000,156000,87000,148500,63000,128000,253293,214000,124000,129850,115000,163500,145000,271000,95000,192000,394432,181000,381000,140000,130500,155000,89500,277500,140000,160000,125000,185000,173500,135000,131000,200000,278000,137900,300000,169000,129200,167000,187500,129900,236000,125500,192000,165500,155000,127500,144000,171000,217000,260000,82500,172000,195000,376162,175000,126500,122000,213000,138000,147000,130000,103000,213000,110000,131500,275000,165500,290000,126000,124000,320000,425000,96500,91900,272500,154204,200825,611657,160000,78000,201800,195500,142953,107500,213133,297900,122000,162000,250000,318000,260000,155000,120000,159000,112000,226000,324000,99900,271500,377500,131000,125000,142500,266000,142500,149900,135000,257000,591587,176432,392000,135000,150000,186000,215000,116000,160500,269500,170440,246500,246990,131400,455000,109000,132500,230500,128900,107400,405000,220000,144900,137000,230348,246578,149900,183000,99500,35311,194500,139500,231000,111500,249000,147000,301500,144000,145000,139500,100500,144000,123000,189000,243500,145000,135000,139000,153575,175000,132000,310000,144800,177500,215000,68400,128000,125200,251000,315000,127000,194000,103500,197500,140000,140000,378000,173000,127000,309000,340000,175000,68500,135000,308030,120000,123000,141500,136500,125000,85500,204000,186500,109500,275000,226001,150750,129000,185485,144000,214000,75000,162000,110000,193000,148000,356383,104500,79500,93500,185850,115000,185900,155000,116000,177000,155000,137000,125000,228000,210000,191000,418000,275000,130000,139500,335000,138000,134500,133000,124500,159500,173000,40000,80000,235000,325000,129500,178000,127000,172500,154000,164900,160000,254750,315000,199900,185000,165000,132000,196000,153000,195000,271000,119000,119900,124000,171500,135000,119000,170000,72000,169000,95000,177500,105000,113000,185000,245000,190000,140000,258000,140000,176000,334000,114000,324000,342643,129000,132500,216500,182000,156000,143250,137000,87000,121500,80000,131000,301000,252678,237000,163000,260000,113000,538000,85400,213500,231000,192500,79900,129000,166000,189000,129500,136500,192500,250000,119500,170000,404000,157000,104000,112000,131000,198600,260116,99500,143000,239900,120875,228500,146000,240000,284000,116500,132000,81000,114000,120500,130000,310090,103400,245000,120000,124000,329900,133000,110000,142500,187500,327000,125900,139000,137000,188000,78500,46500,138000,185000,158000,105500,171000,184000,187750,146800,290000,169900,130000,123000,143900,223500,207000,440000,198500,149350,165000,235000,143500,203160,191750,187000,99500,122500,148800,153500,285000,184500,195500,257500,185000,160000,132500,212000,176000,192000,130000,192000,117000,157500,200000,89000,140000,190000,261500,156000,68104,81300,370000,145500,142000,216000,123000,254900,79000,180000,240000,243000,372397,39300,157500,187000,173000,139000,145500,190000,394617,158900,174000,190000,128000,178740,315000,163000,180500,129500,133000,161000,248000,135000,93850,208300,142600,212999,386250,213750,315000,124000,150000,139500,120500,290000,215000,336820,174000,142100,130000,184000,269500,146500,145000,187000,119900,210000,412500,213000,182000,185000,152000,135000,115500,121500,149000,125000,136500,148000,125000,99800,120000,127000,160000,125600,224243,242000,88250,191000,148000,166000,172400,224500,157000,140000,183500,80000,175000,181900,315750,145000,197000,84900,158000,156000,305900,257500,116000,143450,277500,200000,105000,755000,204000,255000,156500,86000,240900,268000,244000,155000,144500,122500,141000,131000,230000,320000,185900,130000,188000,127500,188500,200100,148500,137000,157000,82500,168000,108000,177625,235000,155000,108000,155000,175000,362500,184900,135000,150000,195000,210000,133000,286500,119900,190000,137000,115000,113500,167500,335000,140000,176000,125000,105000,130250,210900,122000,375000,275000,64500,144000,171500,108500,244400,196000,91000,257000,165000,103000,143000,286000,126000,159950,140750,270000,118500,110000,123000,119000,126175,132000,148000,134500,216837,206900,109900,129000,133000,270000,125000,235500,115000,125000,299800,135000,140000,76000,335000,166000,139500,247900,160000,168000,267000,127500,204750,555000,160000,197000,151400,59000,146000,187500,200000,116500,215000,215000,307000,270000,217000,108500,120000,141000,253000,174000,110000,180500,140000,262280,128000,202500,114500,200000,124000,175900,231500,217000,159500,462000,154000,403000,190000,85500,140000,160000,266500,315000,221000,300000,103000,166000,145000,136900,263550,140000,205000,295000,153900,158500,130000,96000,122000,316500,197500,210000,219500,133000,79000,126000,155000,162000,188000,402000,228500,170000,180000,161750,97900,212000,122900,348000,172000,128000,227000,160000,170000,158000,167800,134900,190000,192140,149300,132000,181000,248500,221500,177000,197000,147500,141500,280000,150000,226700,153000,224000,360000,350000,107500,213000,189500,155000,161500,158000,285000,245350,192000,215000,139000,117000,154000,111000,110000,254900,125000,200000,162900,61000,245000,180000,110000,140000,155000,172900,184000,168675,255900,301000,217000,138500,147000,354000,135000,160000,127000,219990,235000,377426,160200,306000,190000,214000,134000,170000,190000,179900,112000,140000,233000,176500,200500,235000,140000,191500,190000,302000,158000,187000,149900,119164,143000,138000,170000,100000,154000,239000,90500,135000,155000,221000,230000,144000,207000,129000,197600,280000,203135,162500,98000,235000,157000,143000,150000,225000,119750,229000,163000,160000,173500,139000,157000,384500,141000,140000,270000,220000,360000,156000,211000,135500,430000,410000,125000,171500,188000,305000,119000,197900,178000,625000,150000,250000,176000,163000,235000,222000,313000,155000,106000,193000,65000,147000,184000,128250,91000,140200,147000,115000,219500,180000,221000,153500,143000,332000,143000,241000,135750,112500,205950,146000,175000,256000,129000,145000,148800,89500,167000,157900,177500,171500,109900,184000,184500,334000,294000,290000,135000,252000,270000,275000,200000,255900,200000,194500,165500,187500,225000,100000,177000,220000,224900,156500,139000,153000,88000,115000,100000,195000,172000,259000,90000,202900,206000,222000,172000,138887,139000,278000,249000,136500,64500,150000,225000,93900,130000,230000,124000,145900,115000,239500,181000,175000,149500,270000,145000,241500,112500,152000,186500,185000,244000,82375,171000,220000,124000,114000,128900,133500,189000,106000,372500,173000,162500,190000,129000,137500,146000,164500,178000,268500,382500,124000,176000,116000,252000,230000,127500,150000,184000,105000,143500,73000,130000,176000,145000,175500,168500,140000,374000,184000,209500,136000,138000,189000,293200,180500,214000,237000,124900,173000,260000,185000,161000,94900,271900,214500,300000,193000,294000,225000,146900,130000,262500,256000,162000,167000,130000,155000,248000,215000,269500,233500,185000,141000,174000,145000,210000,133000,145000,134000,279000,129000,130000,256300,142000,237500,188700,175900,150500,180000,134500,171000,138000,227000,148500,84500,149000,192350,172000,165400,185000,131900,213490,277000,257500,62383,274300,158000,106500,250000,202500,118400,146000,127000,219500,78000,82000,239000,156450,134000,214900,52000,60000,147000,123500,237000,84000,238500,141500,138500,139900,167000,183500,250000,177000,127000,165000,287000,337000,253000,136000,200000,200000,134900,75000,207000,149900,87500,188000,213000,153000,149900,355000,85000,194700,138400,207500,292500,148000,184000,137500,109500,211000,152500,184100,157000,218000,115000,232000,120000,155000,116000,157500,240000,189950,136500,159000,133000,127000,108000,127000,103600,64000,169000,111000,257000,178900,178900,100000,272000,90000,167500,140000,82000,130000,168000,226500,279000,76500,99900,185000,265000,161000,136500,139000,228950,250000,333168,127500,189000,610000,128000,169000,135000,179900,220000,147900,157000,129000,147000,149000,183900,165000,149500,153000,88000,330000,319900,177000,180000,125000,161000,176000,99500,160250,152000,192000,124000,115000,315000,133500,144500,121000,168000,127000,181000,129900,136905,148500,89500,136000,129500,260000,230000,165000,114504,110500,285000,118000,183500,98000,173000,123000,105000,153500,116000,284000,245700,336000,150000,123600,191000,155000,120000,164000,150900,189500,167300,153000,230000,182000,240000,123000,275000,166800,146000,135000,82500,156000,118000,155000,52500,130000,214000,165000,185000,174000,150000,466500,269790,154400,111250,112500,165000,355000,181000,180000,189000,162000,238000,105000,151000,111000,132000,96000,128500,225000,113000,128950,144500,262500,119500,109500,121000,297000,58500,153500,165600,106000,281213,100000,161500,165000,193000,141500,108000,239000,167900,177000,122000,228500,175000,124000,191000,127500,98000,156500,207000,130500,135000,154300,232000,123000,203000,191000,135000,181000,185750,106000,101000,300000,139000,260000,124400,145000,137500,157500,222000,175000,180400,108000,137500,96000,240000,127000,155000,142500,154000,234500,175500,125500,279500,200000,143750,87000,349265,174000,194000,194000,117600,156000,183000,147000,117000,146000,89900,142000,239000,144000,162000,147000,205000,55000,235000,319900,118000,196500,103000,173000,97500,88750,104900,96500,128500,250000,142125,115400,179200,130000,190500,178000,130000,192000,148000,135500,101800,184900,222500,122000,240000,132000,196000,232698,161500,116900,144000,213500,312500,115000,207000,144000,135900,130000,120000,81000,156500,300000,135000,134800,148000,140000,113000,93500,161000,100000,167900,216000,135000,199900,192500,160000,156500,295493,170000,275000,193000,205000,174000,208500,108000,95000,138000,170000,105000,87000,165000,139500,126000,225000,226500,111750,97500,143000,240000,113700,263400,145400,306000,274000,325000,178000,162500,103200,205000,96900,110000,128000,350000,178000,316000,194500,173000,210000,205000,163500,105900,94750,170000,84500,215000,185088,236000,108500,129400,172500,110000,175900,213250,204000,209000,218500,163000,102900,175000,128000,107900,280000,191000,139400,155000,178750,260000,170000,126000,161000,79000,183200,250000,176000,370000,134500,128000,135000,245000,131500,110000,115000,169000,127000,58500,85000,165000,106250,184000,119000,275000,128500,229800,373000,159900,139000,130500,212000,139000,225000,210000,117500,188900,199500,213500,260000,289000,206000,174850,136000,475000,197000,137500,165000,130000,255000,109500,105000,89000,129000,149000,182900,112000,144750,122000,372000,312500,175000,241500,155000,131000,117500,173000,350000,200000,128000,113000,159000,117250,203000,175000,141000,116000,154000,149700,244000,128600,91500,202000,147000,133000,266000,126500,134450,212300,129000,350000,237000,109000,170000,128000,140500,115000,106500,200000,136500,145250,226750,151000,275000,123000,140000,157000,120000,112000,275500,147500,202500,122500,147500,152500,185000,241500,139500,179900,98000,205000,165000,172500,172000,94000,115000,98300,584500,211000,149000,226000,145000,176500,102000,135000,165250,188000,123900,153600,104500,214000,183000,190000,236500,155000,190000,230000,201000,131750,201000,167000,155000,196000,145000,118500,209500,125000,246900,215700,130000,129000,215000,173000,146000,265000,285000,177000,460000,158500,192100,169500,99600,239900,158000,345000,135500,113000,179000,152000,176500,155900,280000,127000,263000,145000,254000,287500,120000,311500,265900,35000,86900,127000,118500,159000,200000,119000,115000,250000,195000,220000,119500,155000,290000,137000,180000,241600,153000,142000,160000,198000,181000,139000,117000,246000,185500,238000,165000,64000,87000,127000,165500,137000,208900,279700,105500,187000,124500,168500,152000,180000,231500,132000,445000,252000,129500,305000,94500,118000,85000,160000,90000,157500,148500,158000,192000,186700,248500,152000,157500,153500,110000,112000,177000,345000,207500,102000,81400,212500,137250,234000,119000,223500,152000,219500,94550,169500,204000,143000,137000,140000,137500,190000,110000,124500,190000,132000,143000,104000,80000,148000,119500,269500,150000,290000,173500,119600,140000,197900,99900,138500,145500,132500,146500,132500,315500,130000,133500,110000,270000,157900,72500,111500,224000,379000,274000,167000,108000,60000,169000,174500,215000,188500,123000,141000,159900,105000,180000,137500,232000,100000,200000,90350,159900,255000,229000,129900,187500,125000,148400,148000,122000,120000,204000,239900,144000,153500,128000,84900,270000,155500,135000,143500,284700,141500,211000,410000,316600,146500,227000,193500,318750,179900,141000,168000,166500,188500,127500,251000,174000,192000,300000,137500,103000,116500,147400,87500,127500,218000,118000,202000,317000,80000,149500,185000,179900,159895,143000,218000,110000,170000,156000,190000,282500,309000,137900,110000,191000,140000,227000,180000,144000,244000,211000,179200,173000,134500,142500,125000,114900,119500,124500,470000,147000,100000,80500,203000,221800,89500,142000,151000,215000,160000,250000,189000,133000,149900,156500,328000,239500,177900,145000,116900,325000,155000,144000,188000,225000,141000,205000,107500,85500,242000,149000,135000,206000,85000,300000,315000,240050,180000,139000,185000,187000,326000,178000,239000,133000,123000,139000,140000,137450,170000,163000,105000,320000,197900,180000,171000,55000,274900,128500,260000,187000,290000,116000,230000,188500,284000,123500,256000,173000,93000,195500,136500,213000,167500,137000,172500,177500,209000,179500,119900,226000,184000,127000,207500,150000,119000,135000,75190,124500,83500,129500,441929,171750,100000,143000,93000,76000,128500,164900,228000,141000,190550,410000,131500,153000,126000,105000,138000,165500,110000,149000,176000,64500,170000,139950,188000,214000,68000,165000,139000,145000,128500,158450,120500,141000,222500,114500,451950,234000,159000,80000,178400,185000,129900,228000,105000,125000,146000,146500,109500,144000,172500,275500,291000,200500,337500,143750,164000,279500,149000,140500,170000,255500,119000,120000,144900,163500,242500,193000,153900,225000,157000,137900,152000,163000,257500,201000,159900,145000,136500,162900,157500,124900,161000,137000,110500,120000,110000,200000,126500,119200,129500,126000,178000,224900,240000,135000,163000,159500,170000,163900,179000,119000,159000,171900,335000,141000,112900,185000,129500,115000,109900,129800,196500,121000,139600,145000,217500,215000],\"coloraxis\":\"coloraxis\",\"size\":[126000,139500,124900,114000,227000,198500,93000,187687,137500,140000,219500,136000,80000,159000,214000,163000,203000,67000,205000,131250,181000,115000,98000,265979,105500,168165,201000,177500,200000,450000,91300,173500,199500,207000,155000,220000,196000,61500,195000,129250,291000,134000,186000,133500,148000,325300,215000,131000,109500,110000,150000,193800,178000,179600,179000,140000,395000,151500,341000,235000,72000,154000,222000,390000,128200,615000,158000,254000,169000,284500,184500,210400,214000,392500,274725,156932,282922,144000,88000,148000,159000,120000,134900,185000,132500,160500,165000,100000,189900,227875,111900,145000,118000,166000,148000,99000,86000,165000,211500,210000,228500,132000,468000,240000,151500,73000,75500,500067,107500,172500,185000,311872,165150,125000,159500,180500,160000,109008,153000,132250,184900,127000,475000,142000,112000,80900,135000,193500,232500,114000,257000,117000,213000,212000,202500,185101,167000,138500,102000,198900,145000,220000,126000,200000,278000,145000,318000,146500,86900,213000,262000,217500,148000,113000,160500,145000,245500,133500,198000,205000,285000,175000,160000,272000,115000,134000,78000,111500,142900,125500,125500,423000,119900,247000,226500,260400,135000,175900,82500,79500,207500,115000,249700,164000,220000,135000,133700,112500,150000,99000,146300,155000,298751,256000,176000,120000,321000,190000,174900,85000,164990,144100,294900,50000,260000,180000,236500,63900,223000,151000,149500,149900,500000,92900,290000,345474,127000,102000,190000,75200,108538,142250,180000,132000,152400,64000,302000,182000,137000,168000,97500,286000,115000,209000,187500,220000,91000,93500,79400,259500,417500,132000,342000,194000,235000,136870,147000,277000,201490,85000,149900,174500,133900,173000,225000,109500,159000,179400,219000,175500,261329,383000,179000,103500,164500,55000,170000,209500,124500,139400,202665,155891,160000,150000,221300,361919,134900,118000,195800,135000,152000,133900,152000,107000,120000,372500,220000,167000,479069,233555,118900,140000,130000,179900,282000,217500,212500,126000,280750,87000,244600,215200,162500,138000,181316,148000,315000,184750,132000,149500,183500,224500,415000,155000,135000,164000,128500,196500,131000,151000,149900,139900,180000,120750,154000,139900,100000,240000,135000,174000,378500,207000,131000,152000,61500,147110,137000,128500,207500,172500,380000,137000,130000,215000,153000,385000,130000,127000,270000,141000,235000,256900,336860,375000,141000,160000,182000,217000,195000,255000,168500,118500,149900,119000,113000,159000,159000,168000,122000,122250,120000,421250,106900,194000,204000,100000,105000,104900,187000,181500,187100,158000,192000,230000,128000,197000,415000,135960,250000,296000,172500,236500,223000,230500,130000,125500,147500,79000,97000,97000,119000,125500,82000,93000,535000,235128,138000,176000,208000,141000,162000,151500,218836,322500,151000,127500,203000,121000,213000,174000,398800,205000,189000,185000,12789,128000,90000,167900,143000,250000,150909,178000,350000,143500,180500,255000,154500,245000,153000,230000,212700,339750,112000,207500,195000,120500,144000,176400,130000,97000,76500,419005,83000,142000,154900,145000,123900,250000,143000,183000,255000,131750,132500,181900,387000,268000,122000,97000,229000,340000,115000,135000,149000,285000,234250,119500,142500,123000,149000,136000,119000,124000,328900,118000,260000,157000,437154,260000,369900,164000,187500,263000,173000,128500,194000,178000,128000,89000,130000,160000,90000,150000,143000,156000,87000,148500,63000,128000,253293,214000,124000,129850,115000,163500,145000,271000,95000,192000,394432,181000,381000,140000,130500,155000,89500,277500,140000,160000,125000,185000,173500,135000,131000,200000,278000,137900,300000,169000,129200,167000,187500,129900,236000,125500,192000,165500,155000,127500,144000,171000,217000,260000,82500,172000,195000,376162,175000,126500,122000,213000,138000,147000,130000,103000,213000,110000,131500,275000,165500,290000,126000,124000,320000,425000,96500,91900,272500,154204,200825,611657,160000,78000,201800,195500,142953,107500,213133,297900,122000,162000,250000,318000,260000,155000,120000,159000,112000,226000,324000,99900,271500,377500,131000,125000,142500,266000,142500,149900,135000,257000,591587,176432,392000,135000,150000,186000,215000,116000,160500,269500,170440,246500,246990,131400,455000,109000,132500,230500,128900,107400,405000,220000,144900,137000,230348,246578,149900,183000,99500,35311,194500,139500,231000,111500,249000,147000,301500,144000,145000,139500,100500,144000,123000,189000,243500,145000,135000,139000,153575,175000,132000,310000,144800,177500,215000,68400,128000,125200,251000,315000,127000,194000,103500,197500,140000,140000,378000,173000,127000,309000,340000,175000,68500,135000,308030,120000,123000,141500,136500,125000,85500,204000,186500,109500,275000,226001,150750,129000,185485,144000,214000,75000,162000,110000,193000,148000,356383,104500,79500,93500,185850,115000,185900,155000,116000,177000,155000,137000,125000,228000,210000,191000,418000,275000,130000,139500,335000,138000,134500,133000,124500,159500,173000,40000,80000,235000,325000,129500,178000,127000,172500,154000,164900,160000,254750,315000,199900,185000,165000,132000,196000,153000,195000,271000,119000,119900,124000,171500,135000,119000,170000,72000,169000,95000,177500,105000,113000,185000,245000,190000,140000,258000,140000,176000,334000,114000,324000,342643,129000,132500,216500,182000,156000,143250,137000,87000,121500,80000,131000,301000,252678,237000,163000,260000,113000,538000,85400,213500,231000,192500,79900,129000,166000,189000,129500,136500,192500,250000,119500,170000,404000,157000,104000,112000,131000,198600,260116,99500,143000,239900,120875,228500,146000,240000,284000,116500,132000,81000,114000,120500,130000,310090,103400,245000,120000,124000,329900,133000,110000,142500,187500,327000,125900,139000,137000,188000,78500,46500,138000,185000,158000,105500,171000,184000,187750,146800,290000,169900,130000,123000,143900,223500,207000,440000,198500,149350,165000,235000,143500,203160,191750,187000,99500,122500,148800,153500,285000,184500,195500,257500,185000,160000,132500,212000,176000,192000,130000,192000,117000,157500,200000,89000,140000,190000,261500,156000,68104,81300,370000,145500,142000,216000,123000,254900,79000,180000,240000,243000,372397,39300,157500,187000,173000,139000,145500,190000,394617,158900,174000,190000,128000,178740,315000,163000,180500,129500,133000,161000,248000,135000,93850,208300,142600,212999,386250,213750,315000,124000,150000,139500,120500,290000,215000,336820,174000,142100,130000,184000,269500,146500,145000,187000,119900,210000,412500,213000,182000,185000,152000,135000,115500,121500,149000,125000,136500,148000,125000,99800,120000,127000,160000,125600,224243,242000,88250,191000,148000,166000,172400,224500,157000,140000,183500,80000,175000,181900,315750,145000,197000,84900,158000,156000,305900,257500,116000,143450,277500,200000,105000,755000,204000,255000,156500,86000,240900,268000,244000,155000,144500,122500,141000,131000,230000,320000,185900,130000,188000,127500,188500,200100,148500,137000,157000,82500,168000,108000,177625,235000,155000,108000,155000,175000,362500,184900,135000,150000,195000,210000,133000,286500,119900,190000,137000,115000,113500,167500,335000,140000,176000,125000,105000,130250,210900,122000,375000,275000,64500,144000,171500,108500,244400,196000,91000,257000,165000,103000,143000,286000,126000,159950,140750,270000,118500,110000,123000,119000,126175,132000,148000,134500,216837,206900,109900,129000,133000,270000,125000,235500,115000,125000,299800,135000,140000,76000,335000,166000,139500,247900,160000,168000,267000,127500,204750,555000,160000,197000,151400,59000,146000,187500,200000,116500,215000,215000,307000,270000,217000,108500,120000,141000,253000,174000,110000,180500,140000,262280,128000,202500,114500,200000,124000,175900,231500,217000,159500,462000,154000,403000,190000,85500,140000,160000,266500,315000,221000,300000,103000,166000,145000,136900,263550,140000,205000,295000,153900,158500,130000,96000,122000,316500,197500,210000,219500,133000,79000,126000,155000,162000,188000,402000,228500,170000,180000,161750,97900,212000,122900,348000,172000,128000,227000,160000,170000,158000,167800,134900,190000,192140,149300,132000,181000,248500,221500,177000,197000,147500,141500,280000,150000,226700,153000,224000,360000,350000,107500,213000,189500,155000,161500,158000,285000,245350,192000,215000,139000,117000,154000,111000,110000,254900,125000,200000,162900,61000,245000,180000,110000,140000,155000,172900,184000,168675,255900,301000,217000,138500,147000,354000,135000,160000,127000,219990,235000,377426,160200,306000,190000,214000,134000,170000,190000,179900,112000,140000,233000,176500,200500,235000,140000,191500,190000,302000,158000,187000,149900,119164,143000,138000,170000,100000,154000,239000,90500,135000,155000,221000,230000,144000,207000,129000,197600,280000,203135,162500,98000,235000,157000,143000,150000,225000,119750,229000,163000,160000,173500,139000,157000,384500,141000,140000,270000,220000,360000,156000,211000,135500,430000,410000,125000,171500,188000,305000,119000,197900,178000,625000,150000,250000,176000,163000,235000,222000,313000,155000,106000,193000,65000,147000,184000,128250,91000,140200,147000,115000,219500,180000,221000,153500,143000,332000,143000,241000,135750,112500,205950,146000,175000,256000,129000,145000,148800,89500,167000,157900,177500,171500,109900,184000,184500,334000,294000,290000,135000,252000,270000,275000,200000,255900,200000,194500,165500,187500,225000,100000,177000,220000,224900,156500,139000,153000,88000,115000,100000,195000,172000,259000,90000,202900,206000,222000,172000,138887,139000,278000,249000,136500,64500,150000,225000,93900,130000,230000,124000,145900,115000,239500,181000,175000,149500,270000,145000,241500,112500,152000,186500,185000,244000,82375,171000,220000,124000,114000,128900,133500,189000,106000,372500,173000,162500,190000,129000,137500,146000,164500,178000,268500,382500,124000,176000,116000,252000,230000,127500,150000,184000,105000,143500,73000,130000,176000,145000,175500,168500,140000,374000,184000,209500,136000,138000,189000,293200,180500,214000,237000,124900,173000,260000,185000,161000,94900,271900,214500,300000,193000,294000,225000,146900,130000,262500,256000,162000,167000,130000,155000,248000,215000,269500,233500,185000,141000,174000,145000,210000,133000,145000,134000,279000,129000,130000,256300,142000,237500,188700,175900,150500,180000,134500,171000,138000,227000,148500,84500,149000,192350,172000,165400,185000,131900,213490,277000,257500,62383,274300,158000,106500,250000,202500,118400,146000,127000,219500,78000,82000,239000,156450,134000,214900,52000,60000,147000,123500,237000,84000,238500,141500,138500,139900,167000,183500,250000,177000,127000,165000,287000,337000,253000,136000,200000,200000,134900,75000,207000,149900,87500,188000,213000,153000,149900,355000,85000,194700,138400,207500,292500,148000,184000,137500,109500,211000,152500,184100,157000,218000,115000,232000,120000,155000,116000,157500,240000,189950,136500,159000,133000,127000,108000,127000,103600,64000,169000,111000,257000,178900,178900,100000,272000,90000,167500,140000,82000,130000,168000,226500,279000,76500,99900,185000,265000,161000,136500,139000,228950,250000,333168,127500,189000,610000,128000,169000,135000,179900,220000,147900,157000,129000,147000,149000,183900,165000,149500,153000,88000,330000,319900,177000,180000,125000,161000,176000,99500,160250,152000,192000,124000,115000,315000,133500,144500,121000,168000,127000,181000,129900,136905,148500,89500,136000,129500,260000,230000,165000,114504,110500,285000,118000,183500,98000,173000,123000,105000,153500,116000,284000,245700,336000,150000,123600,191000,155000,120000,164000,150900,189500,167300,153000,230000,182000,240000,123000,275000,166800,146000,135000,82500,156000,118000,155000,52500,130000,214000,165000,185000,174000,150000,466500,269790,154400,111250,112500,165000,355000,181000,180000,189000,162000,238000,105000,151000,111000,132000,96000,128500,225000,113000,128950,144500,262500,119500,109500,121000,297000,58500,153500,165600,106000,281213,100000,161500,165000,193000,141500,108000,239000,167900,177000,122000,228500,175000,124000,191000,127500,98000,156500,207000,130500,135000,154300,232000,123000,203000,191000,135000,181000,185750,106000,101000,300000,139000,260000,124400,145000,137500,157500,222000,175000,180400,108000,137500,96000,240000,127000,155000,142500,154000,234500,175500,125500,279500,200000,143750,87000,349265,174000,194000,194000,117600,156000,183000,147000,117000,146000,89900,142000,239000,144000,162000,147000,205000,55000,235000,319900,118000,196500,103000,173000,97500,88750,104900,96500,128500,250000,142125,115400,179200,130000,190500,178000,130000,192000,148000,135500,101800,184900,222500,122000,240000,132000,196000,232698,161500,116900,144000,213500,312500,115000,207000,144000,135900,130000,120000,81000,156500,300000,135000,134800,148000,140000,113000,93500,161000,100000,167900,216000,135000,199900,192500,160000,156500,295493,170000,275000,193000,205000,174000,208500,108000,95000,138000,170000,105000,87000,165000,139500,126000,225000,226500,111750,97500,143000,240000,113700,263400,145400,306000,274000,325000,178000,162500,103200,205000,96900,110000,128000,350000,178000,316000,194500,173000,210000,205000,163500,105900,94750,170000,84500,215000,185088,236000,108500,129400,172500,110000,175900,213250,204000,209000,218500,163000,102900,175000,128000,107900,280000,191000,139400,155000,178750,260000,170000,126000,161000,79000,183200,250000,176000,370000,134500,128000,135000,245000,131500,110000,115000,169000,127000,58500,85000,165000,106250,184000,119000,275000,128500,229800,373000,159900,139000,130500,212000,139000,225000,210000,117500,188900,199500,213500,260000,289000,206000,174850,136000,475000,197000,137500,165000,130000,255000,109500,105000,89000,129000,149000,182900,112000,144750,122000,372000,312500,175000,241500,155000,131000,117500,173000,350000,200000,128000,113000,159000,117250,203000,175000,141000,116000,154000,149700,244000,128600,91500,202000,147000,133000,266000,126500,134450,212300,129000,350000,237000,109000,170000,128000,140500,115000,106500,200000,136500,145250,226750,151000,275000,123000,140000,157000,120000,112000,275500,147500,202500,122500,147500,152500,185000,241500,139500,179900,98000,205000,165000,172500,172000,94000,115000,98300,584500,211000,149000,226000,145000,176500,102000,135000,165250,188000,123900,153600,104500,214000,183000,190000,236500,155000,190000,230000,201000,131750,201000,167000,155000,196000,145000,118500,209500,125000,246900,215700,130000,129000,215000,173000,146000,265000,285000,177000,460000,158500,192100,169500,99600,239900,158000,345000,135500,113000,179000,152000,176500,155900,280000,127000,263000,145000,254000,287500,120000,311500,265900,35000,86900,127000,118500,159000,200000,119000,115000,250000,195000,220000,119500,155000,290000,137000,180000,241600,153000,142000,160000,198000,181000,139000,117000,246000,185500,238000,165000,64000,87000,127000,165500,137000,208900,279700,105500,187000,124500,168500,152000,180000,231500,132000,445000,252000,129500,305000,94500,118000,85000,160000,90000,157500,148500,158000,192000,186700,248500,152000,157500,153500,110000,112000,177000,345000,207500,102000,81400,212500,137250,234000,119000,223500,152000,219500,94550,169500,204000,143000,137000,140000,137500,190000,110000,124500,190000,132000,143000,104000,80000,148000,119500,269500,150000,290000,173500,119600,140000,197900,99900,138500,145500,132500,146500,132500,315500,130000,133500,110000,270000,157900,72500,111500,224000,379000,274000,167000,108000,60000,169000,174500,215000,188500,123000,141000,159900,105000,180000,137500,232000,100000,200000,90350,159900,255000,229000,129900,187500,125000,148400,148000,122000,120000,204000,239900,144000,153500,128000,84900,270000,155500,135000,143500,284700,141500,211000,410000,316600,146500,227000,193500,318750,179900,141000,168000,166500,188500,127500,251000,174000,192000,300000,137500,103000,116500,147400,87500,127500,218000,118000,202000,317000,80000,149500,185000,179900,159895,143000,218000,110000,170000,156000,190000,282500,309000,137900,110000,191000,140000,227000,180000,144000,244000,211000,179200,173000,134500,142500,125000,114900,119500,124500,470000,147000,100000,80500,203000,221800,89500,142000,151000,215000,160000,250000,189000,133000,149900,156500,328000,239500,177900,145000,116900,325000,155000,144000,188000,225000,141000,205000,107500,85500,242000,149000,135000,206000,85000,300000,315000,240050,180000,139000,185000,187000,326000,178000,239000,133000,123000,139000,140000,137450,170000,163000,105000,320000,197900,180000,171000,55000,274900,128500,260000,187000,290000,116000,230000,188500,284000,123500,256000,173000,93000,195500,136500,213000,167500,137000,172500,177500,209000,179500,119900,226000,184000,127000,207500,150000,119000,135000,75190,124500,83500,129500,441929,171750,100000,143000,93000,76000,128500,164900,228000,141000,190550,410000,131500,153000,126000,105000,138000,165500,110000,149000,176000,64500,170000,139950,188000,214000,68000,165000,139000,145000,128500,158450,120500,141000,222500,114500,451950,234000,159000,80000,178400,185000,129900,228000,105000,125000,146000,146500,109500,144000,172500,275500,291000,200500,337500,143750,164000,279500,149000,140500,170000,255500,119000,120000,144900,163500,242500,193000,153900,225000,157000,137900,152000,163000,257500,201000,159900,145000,136500,162900,157500,124900,161000,137000,110500,120000,110000,200000,126500,119200,129500,126000,178000,224900,240000,135000,163000,159500,170000,163900,179000,119000,159000,171900,335000,141000,112900,185000,129500,115000,109900,129800,196500,121000,139600,145000,217500,215000],\"sizemode\":\"area\",\"sizeref\":7550.0},\"mode\":\"markers\",\"name\":\"\",\"showlegend\":false,\"subplot\":\"mapbox\",\"type\":\"scattermapbox\"}],                        {\"template\":{\"data\":{\"histogram2dcontour\":[{\"type\":\"histogram2dcontour\",\"colorbar\":{\"outlinewidth\":0,\"ticks\":\"\"},\"colorscale\":[[0.0,\"#0d0887\"],[0.1111111111111111,\"#46039f\"],[0.2222222222222222,\"#7201a8\"],[0.3333333333333333,\"#9c179e\"],[0.4444444444444444,\"#bd3786\"],[0.5555555555555556,\"#d8576b\"],[0.6666666666666666,\"#ed7953\"],[0.7777777777777778,\"#fb9f3a\"],[0.8888888888888888,\"#fdca26\"],[1.0,\"#f0f921\"]]}],\"choropleth\":[{\"type\":\"choropleth\",\"colorbar\":{\"outlinewidth\":0,\"ticks\":\"\"}}],\"histogram2d\":[{\"type\":\"histogram2d\",\"colorbar\":{\"outlinewidth\":0,\"ticks\":\"\"},\"colorscale\":[[0.0,\"#0d0887\"],[0.1111111111111111,\"#46039f\"],[0.2222222222222222,\"#7201a8\"],[0.3333333333333333,\"#9c179e\"],[0.4444444444444444,\"#bd3786\"],[0.5555555555555556,\"#d8576b\"],[0.6666666666666666,\"#ed7953\"],[0.7777777777777778,\"#fb9f3a\"],[0.8888888888888888,\"#fdca26\"],[1.0,\"#f0f921\"]]}],\"heatmap\":[{\"type\":\"heatmap\",\"colorbar\":{\"outlinewidth\":0,\"ticks\":\"\"},\"colorscale\":[[0.0,\"#0d0887\"],[0.1111111111111111,\"#46039f\"],[0.2222222222222222,\"#7201a8\"],[0.3333333333333333,\"#9c179e\"],[0.4444444444444444,\"#bd3786\"],[0.5555555555555556,\"#d8576b\"],[0.6666666666666666,\"#ed7953\"],[0.7777777777777778,\"#fb9f3a\"],[0.8888888888888888,\"#fdca26\"],[1.0,\"#f0f921\"]]}],\"heatmapgl\":[{\"type\":\"heatmapgl\",\"colorbar\":{\"outlinewidth\":0,\"ticks\":\"\"},\"colorscale\":[[0.0,\"#0d0887\"],[0.1111111111111111,\"#46039f\"],[0.2222222222222222,\"#7201a8\"],[0.3333333333333333,\"#9c179e\"],[0.4444444444444444,\"#bd3786\"],[0.5555555555555556,\"#d8576b\"],[0.6666666666666666,\"#ed7953\"],[0.7777777777777778,\"#fb9f3a\"],[0.8888888888888888,\"#fdca26\"],[1.0,\"#f0f921\"]]}],\"contourcarpet\":[{\"type\":\"contourcarpet\",\"colorbar\":{\"outlinewidth\":0,\"ticks\":\"\"}}],\"contour\":[{\"type\":\"contour\",\"colorbar\":{\"outlinewidth\":0,\"ticks\":\"\"},\"colorscale\":[[0.0,\"#0d0887\"],[0.1111111111111111,\"#46039f\"],[0.2222222222222222,\"#7201a8\"],[0.3333333333333333,\"#9c179e\"],[0.4444444444444444,\"#bd3786\"],[0.5555555555555556,\"#d8576b\"],[0.6666666666666666,\"#ed7953\"],[0.7777777777777778,\"#fb9f3a\"],[0.8888888888888888,\"#fdca26\"],[1.0,\"#f0f921\"]]}],\"surface\":[{\"type\":\"surface\",\"colorbar\":{\"outlinewidth\":0,\"ticks\":\"\"},\"colorscale\":[[0.0,\"#0d0887\"],[0.1111111111111111,\"#46039f\"],[0.2222222222222222,\"#7201a8\"],[0.3333333333333333,\"#9c179e\"],[0.4444444444444444,\"#bd3786\"],[0.5555555555555556,\"#d8576b\"],[0.6666666666666666,\"#ed7953\"],[0.7777777777777778,\"#fb9f3a\"],[0.8888888888888888,\"#fdca26\"],[1.0,\"#f0f921\"]]}],\"mesh3d\":[{\"type\":\"mesh3d\",\"colorbar\":{\"outlinewidth\":0,\"ticks\":\"\"}}],\"scatter\":[{\"fillpattern\":{\"fillmode\":\"overlay\",\"size\":10,\"solidity\":0.2},\"type\":\"scatter\"}],\"parcoords\":[{\"type\":\"parcoords\",\"line\":{\"colorbar\":{\"outlinewidth\":0,\"ticks\":\"\"}}}],\"scatterpolargl\":[{\"type\":\"scatterpolargl\",\"marker\":{\"colorbar\":{\"outlinewidth\":0,\"ticks\":\"\"}}}],\"bar\":[{\"error_x\":{\"color\":\"#2a3f5f\"},\"error_y\":{\"color\":\"#2a3f5f\"},\"marker\":{\"line\":{\"color\":\"#E5ECF6\",\"width\":0.5},\"pattern\":{\"fillmode\":\"overlay\",\"size\":10,\"solidity\":0.2}},\"type\":\"bar\"}],\"scattergeo\":[{\"type\":\"scattergeo\",\"marker\":{\"colorbar\":{\"outlinewidth\":0,\"ticks\":\"\"}}}],\"scatterpolar\":[{\"type\":\"scatterpolar\",\"marker\":{\"colorbar\":{\"outlinewidth\":0,\"ticks\":\"\"}}}],\"histogram\":[{\"marker\":{\"pattern\":{\"fillmode\":\"overlay\",\"size\":10,\"solidity\":0.2}},\"type\":\"histogram\"}],\"scattergl\":[{\"type\":\"scattergl\",\"marker\":{\"colorbar\":{\"outlinewidth\":0,\"ticks\":\"\"}}}],\"scatter3d\":[{\"type\":\"scatter3d\",\"line\":{\"colorbar\":{\"outlinewidth\":0,\"ticks\":\"\"}},\"marker\":{\"colorbar\":{\"outlinewidth\":0,\"ticks\":\"\"}}}],\"scattermapbox\":[{\"type\":\"scattermapbox\",\"marker\":{\"colorbar\":{\"outlinewidth\":0,\"ticks\":\"\"}}}],\"scatterternary\":[{\"type\":\"scatterternary\",\"marker\":{\"colorbar\":{\"outlinewidth\":0,\"ticks\":\"\"}}}],\"scattercarpet\":[{\"type\":\"scattercarpet\",\"marker\":{\"colorbar\":{\"outlinewidth\":0,\"ticks\":\"\"}}}],\"carpet\":[{\"aaxis\":{\"endlinecolor\":\"#2a3f5f\",\"gridcolor\":\"white\",\"linecolor\":\"white\",\"minorgridcolor\":\"white\",\"startlinecolor\":\"#2a3f5f\"},\"baxis\":{\"endlinecolor\":\"#2a3f5f\",\"gridcolor\":\"white\",\"linecolor\":\"white\",\"minorgridcolor\":\"white\",\"startlinecolor\":\"#2a3f5f\"},\"type\":\"carpet\"}],\"table\":[{\"cells\":{\"fill\":{\"color\":\"#EBF0F8\"},\"line\":{\"color\":\"white\"}},\"header\":{\"fill\":{\"color\":\"#C8D4E3\"},\"line\":{\"color\":\"white\"}},\"type\":\"table\"}],\"barpolar\":[{\"marker\":{\"line\":{\"color\":\"#E5ECF6\",\"width\":0.5},\"pattern\":{\"fillmode\":\"overlay\",\"size\":10,\"solidity\":0.2}},\"type\":\"barpolar\"}],\"pie\":[{\"automargin\":true,\"type\":\"pie\"}]},\"layout\":{\"autotypenumbers\":\"strict\",\"colorway\":[\"#636efa\",\"#EF553B\",\"#00cc96\",\"#ab63fa\",\"#FFA15A\",\"#19d3f3\",\"#FF6692\",\"#B6E880\",\"#FF97FF\",\"#FECB52\"],\"font\":{\"color\":\"#2a3f5f\"},\"hovermode\":\"closest\",\"hoverlabel\":{\"align\":\"left\"},\"paper_bgcolor\":\"white\",\"plot_bgcolor\":\"#E5ECF6\",\"polar\":{\"bgcolor\":\"#E5ECF6\",\"angularaxis\":{\"gridcolor\":\"white\",\"linecolor\":\"white\",\"ticks\":\"\"},\"radialaxis\":{\"gridcolor\":\"white\",\"linecolor\":\"white\",\"ticks\":\"\"}},\"ternary\":{\"bgcolor\":\"#E5ECF6\",\"aaxis\":{\"gridcolor\":\"white\",\"linecolor\":\"white\",\"ticks\":\"\"},\"baxis\":{\"gridcolor\":\"white\",\"linecolor\":\"white\",\"ticks\":\"\"},\"caxis\":{\"gridcolor\":\"white\",\"linecolor\":\"white\",\"ticks\":\"\"}},\"coloraxis\":{\"colorbar\":{\"outlinewidth\":0,\"ticks\":\"\"}},\"colorscale\":{\"sequential\":[[0.0,\"#0d0887\"],[0.1111111111111111,\"#46039f\"],[0.2222222222222222,\"#7201a8\"],[0.3333333333333333,\"#9c179e\"],[0.4444444444444444,\"#bd3786\"],[0.5555555555555556,\"#d8576b\"],[0.6666666666666666,\"#ed7953\"],[0.7777777777777778,\"#fb9f3a\"],[0.8888888888888888,\"#fdca26\"],[1.0,\"#f0f921\"]],\"sequentialminus\":[[0.0,\"#0d0887\"],[0.1111111111111111,\"#46039f\"],[0.2222222222222222,\"#7201a8\"],[0.3333333333333333,\"#9c179e\"],[0.4444444444444444,\"#bd3786\"],[0.5555555555555556,\"#d8576b\"],[0.6666666666666666,\"#ed7953\"],[0.7777777777777778,\"#fb9f3a\"],[0.8888888888888888,\"#fdca26\"],[1.0,\"#f0f921\"]],\"diverging\":[[0,\"#8e0152\"],[0.1,\"#c51b7d\"],[0.2,\"#de77ae\"],[0.3,\"#f1b6da\"],[0.4,\"#fde0ef\"],[0.5,\"#f7f7f7\"],[0.6,\"#e6f5d0\"],[0.7,\"#b8e186\"],[0.8,\"#7fbc41\"],[0.9,\"#4d9221\"],[1,\"#276419\"]]},\"xaxis\":{\"gridcolor\":\"white\",\"linecolor\":\"white\",\"ticks\":\"\",\"title\":{\"standoff\":15},\"zerolinecolor\":\"white\",\"automargin\":true,\"zerolinewidth\":2},\"yaxis\":{\"gridcolor\":\"white\",\"linecolor\":\"white\",\"ticks\":\"\",\"title\":{\"standoff\":15},\"zerolinecolor\":\"white\",\"automargin\":true,\"zerolinewidth\":2},\"scene\":{\"xaxis\":{\"backgroundcolor\":\"#E5ECF6\",\"gridcolor\":\"white\",\"linecolor\":\"white\",\"showbackground\":true,\"ticks\":\"\",\"zerolinecolor\":\"white\",\"gridwidth\":2},\"yaxis\":{\"backgroundcolor\":\"#E5ECF6\",\"gridcolor\":\"white\",\"linecolor\":\"white\",\"showbackground\":true,\"ticks\":\"\",\"zerolinecolor\":\"white\",\"gridwidth\":2},\"zaxis\":{\"backgroundcolor\":\"#E5ECF6\",\"gridcolor\":\"white\",\"linecolor\":\"white\",\"showbackground\":true,\"ticks\":\"\",\"zerolinecolor\":\"white\",\"gridwidth\":2}},\"shapedefaults\":{\"line\":{\"color\":\"#2a3f5f\"}},\"annotationdefaults\":{\"arrowcolor\":\"#2a3f5f\",\"arrowhead\":0,\"arrowwidth\":1},\"geo\":{\"bgcolor\":\"white\",\"landcolor\":\"#E5ECF6\",\"subunitcolor\":\"white\",\"showland\":true,\"showlakes\":true,\"lakecolor\":\"white\"},\"title\":{\"x\":0.05},\"mapbox\":{\"style\":\"light\"}}},\"mapbox\":{\"domain\":{\"x\":[0.0,1.0],\"y\":[0.0,1.0]},\"center\":{\"lat\":42.03430046024464,\"lon\":-93.64257775786916},\"zoom\":11,\"style\":\"carto-positron\"},\"coloraxis\":{\"colorbar\":{\"title\":{\"text\":\"SalePrice\"}},\"colorscale\":[[0.0,\"#0d0887\"],[0.1111111111111111,\"#46039f\"],[0.2222222222222222,\"#7201a8\"],[0.3333333333333333,\"#9c179e\"],[0.4444444444444444,\"#bd3786\"],[0.5555555555555556,\"#d8576b\"],[0.6666666666666666,\"#ed7953\"],[0.7777777777777778,\"#fb9f3a\"],[0.8888888888888888,\"#fdca26\"],[1.0,\"#f0f921\"]]},\"legend\":{\"tracegroupgap\":0,\"itemsizing\":\"constant\"},\"margin\":{\"t\":30,\"r\":1,\"l\":0,\"b\":0},\"title\":{\"text\":\"Houses in AMES\"},\"width\":600,\"height\":400},                        {\"responsive\": true}                    ).then(function(){\n",
       "                            \n",
       "var gd = document.getElementById('f4a6bee1-141c-4c13-8b4f-947e5b2b0d2d');\n",
       "var x = new MutationObserver(function (mutations, observer) {{\n",
       "        var display = window.getComputedStyle(gd).display;\n",
       "        if (!display || display === 'none') {{\n",
       "            console.log([gd, 'removed!']);\n",
       "            Plotly.purge(gd);\n",
       "            observer.disconnect();\n",
       "        }}\n",
       "}});\n",
       "\n",
       "// Listen for the removal of the full notebook cells\n",
       "var notebookContainer = gd.closest('#notebook-container');\n",
       "if (notebookContainer) {{\n",
       "    x.observe(notebookContainer, {childList: true});\n",
       "}}\n",
       "\n",
       "// Listen for the clearing of the current output cell\n",
       "var outputEl = gd.closest('.output');\n",
       "if (outputEl) {{\n",
       "    x.observe(outputEl, {childList: true});\n",
       "}}\n",
       "\n",
       "                        })                };                });            </script>        </div>"
      ]
     },
     "metadata": {},
     "output_type": "display_data"
    }
   ],
   "source": [
    "#Plotly Plot\n",
    "\n",
    "fig = px.scatter_mapbox(housing_m, \n",
    "                        lat='lat', \n",
    "                        lon='long',  \n",
    "                        # color='size',\n",
    "                        # color_continuous_scale=px.colors.cyclical.IceFire,\n",
    "                        size_max=10, \n",
    "                        color = 'SalePrice',\n",
    "                        size = 'SalePrice',\n",
    "                        hover_data = ['YrSold','PID'],\n",
    "                        zoom=11,\n",
    "                        mapbox_style=\"carto-positron\"\n",
    "                   )\n",
    "\n",
    "# Update layout for better appearance\n",
    "fig.update_layout(title='Houses in AMES',\n",
    "                  margin={\"r\":1,\"t\":30,\"l\":0,\"b\":0},\n",
    "                 width=600,  # Set the width of the plot\n",
    "                height=400 \n",
    "                 )\n",
    "\n",
    "# Show plot\n",
    "fig.show()\n",
    "# fig.write_image(\"images/2019Tripmap.png\")\n",
    "# fig.write_image(\"images/2019Tripmap.svg\")"
   ]
  },
  {
   "cell_type": "code",
   "execution_count": 734,
   "id": "997ce0f4-4ad6-479e-b7ad-ac5e3856cd2e",
   "metadata": {},
   "outputs": [],
   "source": [
    "# housing_m.PID.value_counts() #only one house was flipped in those four years\n",
    "# flip_mask = housing_m.PID.value_counts()\n",
    "# housing_m = housing_m.merge(flip_mask,how = 'left', left_on = 'PID', right_index = True)"
   ]
  },
  {
   "cell_type": "markdown",
   "id": "6acc88e3-0ddd-4947-b1fc-eeffb2eb918a",
   "metadata": {},
   "source": [
    "<p><a name=\"ex_na\"></a></p>\n",
    "\n",
    "#### Filling NA's"
   ]
  },
  {
   "cell_type": "code",
   "execution_count": 1104,
   "id": "f47ddd60-2250-4166-a7e7-4cf569b08484",
   "metadata": {},
   "outputs": [
    {
     "name": "stdout",
     "output_type": "stream",
     "text": [
      "<class 'pandas.core.frame.DataFrame'>\n",
      "RangeIndex: 2559 entries, 0 to 2558\n",
      "Data columns (total 85 columns):\n",
      " #   Column         Non-Null Count  Dtype  \n",
      "---  ------         --------------  -----  \n",
      " 0   PID            2559 non-null   int64  \n",
      " 1   GrLivArea      2559 non-null   int64  \n",
      " 2   SalePrice      2559 non-null   int64  \n",
      " 3   MSSubClass     2559 non-null   int64  \n",
      " 4   MSZoning       2559 non-null   object \n",
      " 5   LotFrontage    2101 non-null   float64\n",
      " 6   LotArea        2559 non-null   int64  \n",
      " 7   Street         2559 non-null   object \n",
      " 8   Alley          166 non-null    object \n",
      " 9   LotShape       2559 non-null   object \n",
      " 10  LandContour    2559 non-null   object \n",
      " 11  Utilities      2559 non-null   object \n",
      " 12  LotConfig      2559 non-null   object \n",
      " 13  LandSlope      2559 non-null   object \n",
      " 14  Neighborhood   2559 non-null   object \n",
      " 15  Condition1     2559 non-null   object \n",
      " 16  Condition2     2559 non-null   object \n",
      " 17  BldgType       2559 non-null   object \n",
      " 18  HouseStyle     2559 non-null   object \n",
      " 19  OverallQual    2559 non-null   int64  \n",
      " 20  OverallCond    2559 non-null   int64  \n",
      " 21  YearBuilt      2559 non-null   int64  \n",
      " 22  YearRemodAdd   2559 non-null   int64  \n",
      " 23  RoofStyle      2559 non-null   object \n",
      " 24  RoofMatl       2559 non-null   object \n",
      " 25  Exterior1st    2559 non-null   object \n",
      " 26  Exterior2nd    2559 non-null   object \n",
      " 27  MasVnrType     1002 non-null   object \n",
      " 28  MasVnrArea     2545 non-null   float64\n",
      " 29  ExterQual      2559 non-null   object \n",
      " 30  ExterCond      2559 non-null   object \n",
      " 31  Foundation     2559 non-null   object \n",
      " 32  BsmtQual       2495 non-null   object \n",
      " 33  BsmtCond       2495 non-null   object \n",
      " 34  BsmtExposure   2493 non-null   object \n",
      " 35  BsmtFinType1   2495 non-null   object \n",
      " 36  BsmtFinSF1     2558 non-null   float64\n",
      " 37  BsmtFinType2   2494 non-null   object \n",
      " 38  BsmtFinSF2     2558 non-null   float64\n",
      " 39  BsmtUnfSF      2558 non-null   float64\n",
      " 40  TotalBsmtSF    2558 non-null   float64\n",
      " 41  Heating        2559 non-null   object \n",
      " 42  HeatingQC      2559 non-null   object \n",
      " 43  CentralAir     2559 non-null   object \n",
      " 44  Electrical     2558 non-null   object \n",
      " 45  1stFlrSF       2559 non-null   int64  \n",
      " 46  2ndFlrSF       2559 non-null   int64  \n",
      " 47  LowQualFinSF   2559 non-null   int64  \n",
      " 48  BsmtFullBath   2557 non-null   float64\n",
      " 49  BsmtHalfBath   2557 non-null   float64\n",
      " 50  FullBath       2559 non-null   int64  \n",
      " 51  HalfBath       2559 non-null   int64  \n",
      " 52  BedroomAbvGr   2559 non-null   int64  \n",
      " 53  KitchenAbvGr   2559 non-null   int64  \n",
      " 54  KitchenQual    2559 non-null   object \n",
      " 55  TotRmsAbvGrd   2559 non-null   int64  \n",
      " 56  Functional     2559 non-null   object \n",
      " 57  Fireplaces     2559 non-null   int64  \n",
      " 58  FireplaceQu    1331 non-null   object \n",
      " 59  GarageType     2433 non-null   object \n",
      " 60  GarageYrBlt    2431 non-null   float64\n",
      " 61  GarageFinish   2431 non-null   object \n",
      " 62  GarageCars     2558 non-null   float64\n",
      " 63  GarageArea     2558 non-null   float64\n",
      " 64  GarageQual     2431 non-null   object \n",
      " 65  GarageCond     2431 non-null   object \n",
      " 66  PavedDrive     2559 non-null   object \n",
      " 67  WoodDeckSF     2559 non-null   int64  \n",
      " 68  OpenPorchSF    2559 non-null   int64  \n",
      " 69  EnclosedPorch  2559 non-null   int64  \n",
      " 70  3SsnPorch      2559 non-null   int64  \n",
      " 71  ScreenPorch    2559 non-null   int64  \n",
      " 72  PoolArea       2559 non-null   int64  \n",
      " 73  PoolQC         9 non-null      object \n",
      " 74  Fence          521 non-null    object \n",
      " 75  MiscFeature    97 non-null     object \n",
      " 76  MiscVal        2559 non-null   int64  \n",
      " 77  MoSold         2559 non-null   int64  \n",
      " 78  YrSold         2559 non-null   int64  \n",
      " 79  SaleType       2559 non-null   object \n",
      " 80  SaleCondition  2559 non-null   object \n",
      " 81  MapRefNo       2559 non-null   float64\n",
      " 82  Prop_Addr      2559 non-null   object \n",
      " 83  lat            2500 non-null   float64\n",
      " 84  long           2500 non-null   float64\n",
      "dtypes: float64(14), int64(27), object(44)\n",
      "memory usage: 1.7+ MB\n"
     ]
    }
   ],
   "source": [
    "#Making a copy\n",
    "housing_d = housing_m.copy()\n",
    "housing_d.info()"
   ]
  },
  {
   "cell_type": "code",
   "execution_count": 1105,
   "id": "77ca6e89-8e44-486d-8c4f-9d6ea07fa269",
   "metadata": {},
   "outputs": [
    {
     "data": {
      "text/plain": [
       "LotFrontage      458\n",
       "Alley           2393\n",
       "MasVnrType      1557\n",
       "MasVnrArea        14\n",
       "BsmtQual          64\n",
       "BsmtCond          64\n",
       "BsmtExposure      66\n",
       "BsmtFinType1      64\n",
       "BsmtFinSF1         1\n",
       "BsmtFinType2      65\n",
       "BsmtFinSF2         1\n",
       "BsmtUnfSF          1\n",
       "TotalBsmtSF        1\n",
       "Electrical         1\n",
       "BsmtFullBath       2\n",
       "BsmtHalfBath       2\n",
       "FireplaceQu     1228\n",
       "GarageType       126\n",
       "GarageYrBlt      128\n",
       "GarageFinish     128\n",
       "GarageCars         1\n",
       "GarageArea         1\n",
       "GarageQual       128\n",
       "GarageCond       128\n",
       "PoolQC          2550\n",
       "Fence           2038\n",
       "MiscFeature     2462\n",
       "lat               59\n",
       "long              59\n",
       "dtype: int64"
      ]
     },
     "execution_count": 1105,
     "metadata": {},
     "output_type": "execute_result"
    }
   ],
   "source": [
    "#NaN\n",
    "housing_d.isna().sum()[housing_d.isna().sum()>0]"
   ]
  },
  {
   "cell_type": "code",
   "execution_count": 1106,
   "id": "52bd8076-a134-4b37-8890-a610573b090e",
   "metadata": {
    "scrolled": true
   },
   "outputs": [],
   "source": [
    "# fillna(0)\n",
    "fill_na_0 = {'LotFrontage': '0', \n",
    "             'MasVnrArea': '0',\n",
    "             'TotalBsmtSF': '0',\n",
    "             'BsmtFinSF1': '0',\n",
    "             'BsmtFinSF2': '0',\n",
    "             'BsmtUnfSF': '0',\n",
    "             'TotalBsmtSF': '0',\n",
    "             'BsmtFullBath': '0',\n",
    "             'BsmtHalfBath': '0'}\n",
    "housing_d = housing_d.fillna(value = fill_na_0)"
   ]
  },
  {
   "cell_type": "code",
   "execution_count": 1107,
   "id": "4c75fb67-ea33-46bb-b682-8ffa9c3be527",
   "metadata": {},
   "outputs": [
    {
     "data": {
      "text/plain": [
       "0"
      ]
     },
     "execution_count": 1107,
     "metadata": {},
     "output_type": "execute_result"
    }
   ],
   "source": [
    "#qa\n",
    "housing_d.BsmtFinSF2.isna().sum()"
   ]
  },
  {
   "cell_type": "code",
   "execution_count": 1108,
   "id": "9f80db3e-4c00-42da-8277-0ae6ef466cf4",
   "metadata": {},
   "outputs": [],
   "source": [
    "# fillna('None')\n",
    "fill_na_None = {'MasVnrType': 'None',\n",
    "                'BsmtQual': 'None',\n",
    "                'BsmtCond': 'None',\n",
    "                'BsmtFinType1': 'None',\n",
    "                'BsmtFinType2': 'None',\n",
    "                'BsmtExposure' : 'None',\n",
    "                'GarageType': 'None',\n",
    "                'GarageFinish': 'None',\n",
    "                'GarageQual': 'None',\n",
    "                'GarageCond': 'None',\n",
    "                'PoolQC': 'None',\n",
    "                'Fence': 'None',\n",
    "                'MiscFeature': 'None'}\n",
    "housing_d = housing_d.fillna(value = fill_na_None)"
   ]
  },
  {
   "cell_type": "code",
   "execution_count": 1109,
   "id": "b577559d-d19a-45a9-a1d4-ce8bb2a8e980",
   "metadata": {},
   "outputs": [
    {
     "data": {
      "text/plain": [
       "0"
      ]
     },
     "execution_count": 1109,
     "metadata": {},
     "output_type": "execute_result"
    }
   ],
   "source": [
    "housing_d.BsmtFinType2.isna().sum()"
   ]
  },
  {
   "cell_type": "code",
   "execution_count": 1110,
   "id": "4ef12418-e9ea-446d-9c0e-2925a412077b",
   "metadata": {},
   "outputs": [],
   "source": [
    "#drop\n",
    "drop_colums = ['Alley','FireplaceQu']\n",
    "housing_d = housing_d.drop(columns = drop_colums)"
   ]
  },
  {
   "cell_type": "code",
   "execution_count": 1111,
   "id": "c83ff23b-6227-4b4c-a8bb-af0e6b72a77a",
   "metadata": {},
   "outputs": [],
   "source": [
    "#custom\n",
    "housing_d.Electrical = housing_d.Electrical.fillna('SBrkr')\n",
    "garage_detch = housing_d[housing_d.GarageType=='Detchd'][['YearBuilt','GarageType','GarageYrBlt']]\n",
    "housing_d.loc[(housing_d.GarageType=='Detchd') & (housing_d.GarageYrBlt.isna()),'GarageYrBlt'] = \\\n",
    "garage_detch[garage_detch['YearBuilt']<1950].describe().loc['50%','GarageYrBlt']"
   ]
  },
  {
   "cell_type": "code",
   "execution_count": 1112,
   "id": "887a9684-8ddd-4957-9dce-b36e275454f6",
   "metadata": {},
   "outputs": [],
   "source": [
    "housing_d.GarageYrBlt = housing_d.GarageYrBlt.fillna('0')"
   ]
  },
  {
   "cell_type": "code",
   "execution_count": 1113,
   "id": "7702dad9-6cea-48aa-84b5-e3b099f7f678",
   "metadata": {},
   "outputs": [
    {
     "data": {
      "text/plain": [
       "0       399.0\n",
       "1       266.0\n",
       "2       216.0\n",
       "3       281.0\n",
       "4       528.0\n",
       "        ...  \n",
       "2554    192.0\n",
       "2555    452.0\n",
       "2556    871.0\n",
       "2557    486.0\n",
       "2558    471.0\n",
       "Name: GarageArea, Length: 2559, dtype: float64"
      ]
     },
     "execution_count": 1113,
     "metadata": {},
     "output_type": "execute_result"
    }
   ],
   "source": [
    "housing_d.GarageCars = housing_d.GarageCars.fillna(\n",
    "    housing_d[housing_d.GarageType=='Detchd'][['GarageCars']].describe().loc['50%','GarageCars'])\n",
    "housing_d.GarageArea = housing_d.GarageArea.fillna(\n",
    "    housing_d[housing_d.GarageType=='Detchd'][['GarageArea']].describe().loc['50%','GarageArea'])\n",
    "housing_d.GarageArea"
   ]
  },
  {
   "cell_type": "code",
   "execution_count": 1114,
   "id": "f20148d9-004e-4adc-a5c1-c8b0e2136ab4",
   "metadata": {},
   "outputs": [
    {
     "data": {
      "text/plain": [
       "lat     59\n",
       "long    59\n",
       "dtype: int64"
      ]
     },
     "execution_count": 1114,
     "metadata": {},
     "output_type": "execute_result"
    }
   ],
   "source": [
    "housing_d.isna().sum()[housing_d.isna().sum()>0]"
   ]
  },
  {
   "cell_type": "markdown",
   "id": "36d7d267-6b3e-4d3b-b664-748e1a7520dc",
   "metadata": {},
   "source": [
    "#### Setting dtypes"
   ]
  },
  {
   "cell_type": "code",
   "execution_count": 1137,
   "id": "14945bd0-6db5-424e-9008-dbaab13effb1",
   "metadata": {},
   "outputs": [
    {
     "name": "stdout",
     "output_type": "stream",
     "text": [
      "<class 'pandas.core.frame.DataFrame'>\n",
      "RangeIndex: 2559 entries, 0 to 2558\n",
      "Data columns (total 83 columns):\n",
      " #   Column         Non-Null Count  Dtype  \n",
      "---  ------         --------------  -----  \n",
      " 0   PID            2559 non-null   Int64  \n",
      " 1   GrLivArea      2559 non-null   Int64  \n",
      " 2   SalePrice      2559 non-null   Int64  \n",
      " 3   MSSubClass     2559 non-null   Int64  \n",
      " 4   MSZoning       2559 non-null   string \n",
      " 5   LotFrontage    2559 non-null   object \n",
      " 6   LotArea        2559 non-null   Int64  \n",
      " 7   Street         2559 non-null   string \n",
      " 8   LotShape       2559 non-null   string \n",
      " 9   LandContour    2559 non-null   string \n",
      " 10  Utilities      2559 non-null   string \n",
      " 11  LotConfig      2559 non-null   string \n",
      " 12  LandSlope      2559 non-null   string \n",
      " 13  Neighborhood   2559 non-null   string \n",
      " 14  Condition1     2559 non-null   string \n",
      " 15  Condition2     2559 non-null   string \n",
      " 16  BldgType       2559 non-null   string \n",
      " 17  HouseStyle     2559 non-null   string \n",
      " 18  OverallQual    2559 non-null   Int64  \n",
      " 19  OverallCond    2559 non-null   Int64  \n",
      " 20  YearBuilt      2559 non-null   Int64  \n",
      " 21  YearRemodAdd   2559 non-null   Int64  \n",
      " 22  RoofStyle      2559 non-null   string \n",
      " 23  RoofMatl       2559 non-null   string \n",
      " 24  Exterior1st    2559 non-null   string \n",
      " 25  Exterior2nd    2559 non-null   string \n",
      " 26  MasVnrType     2559 non-null   string \n",
      " 27  MasVnrArea     2559 non-null   object \n",
      " 28  ExterQual      2559 non-null   string \n",
      " 29  ExterCond      2559 non-null   string \n",
      " 30  Foundation     2559 non-null   string \n",
      " 31  BsmtQual       2559 non-null   string \n",
      " 32  BsmtCond       2559 non-null   string \n",
      " 33  BsmtExposure   2559 non-null   string \n",
      " 34  BsmtFinType1   2559 non-null   string \n",
      " 35  BsmtFinSF1     2559 non-null   object \n",
      " 36  BsmtFinType2   2559 non-null   string \n",
      " 37  BsmtFinSF2     2559 non-null   object \n",
      " 38  BsmtUnfSF      2559 non-null   object \n",
      " 39  TotalBsmtSF    2559 non-null   object \n",
      " 40  Heating        2559 non-null   string \n",
      " 41  HeatingQC      2559 non-null   string \n",
      " 42  CentralAir     2559 non-null   string \n",
      " 43  Electrical     2559 non-null   string \n",
      " 44  1stFlrSF       2559 non-null   Int64  \n",
      " 45  2ndFlrSF       2559 non-null   Int64  \n",
      " 46  LowQualFinSF   2559 non-null   Int64  \n",
      " 47  BsmtFullBath   2559 non-null   object \n",
      " 48  BsmtHalfBath   2559 non-null   object \n",
      " 49  FullBath       2559 non-null   Int64  \n",
      " 50  HalfBath       2559 non-null   Int64  \n",
      " 51  BedroomAbvGr   2559 non-null   Int64  \n",
      " 52  KitchenAbvGr   2559 non-null   Int64  \n",
      " 53  KitchenQual    2559 non-null   string \n",
      " 54  TotRmsAbvGrd   2559 non-null   Int64  \n",
      " 55  Functional     2559 non-null   string \n",
      " 56  Fireplaces     2559 non-null   Int64  \n",
      " 57  GarageType     2559 non-null   string \n",
      " 58  GarageYrBlt    2559 non-null   object \n",
      " 59  GarageFinish   2559 non-null   string \n",
      " 60  GarageCars     2559 non-null   Int64  \n",
      " 61  GarageArea     2559 non-null   Int64  \n",
      " 62  GarageQual     2559 non-null   string \n",
      " 63  GarageCond     2559 non-null   string \n",
      " 64  PavedDrive     2559 non-null   string \n",
      " 65  WoodDeckSF     2559 non-null   Int64  \n",
      " 66  OpenPorchSF    2559 non-null   Int64  \n",
      " 67  EnclosedPorch  2559 non-null   Int64  \n",
      " 68  3SsnPorch      2559 non-null   Int64  \n",
      " 69  ScreenPorch    2559 non-null   Int64  \n",
      " 70  PoolArea       2559 non-null   Int64  \n",
      " 71  PoolQC         2559 non-null   string \n",
      " 72  Fence          2559 non-null   string \n",
      " 73  MiscFeature    2559 non-null   string \n",
      " 74  MiscVal        2559 non-null   Int64  \n",
      " 75  MoSold         2559 non-null   Int64  \n",
      " 76  YrSold         2559 non-null   Int64  \n",
      " 77  SaleType       2559 non-null   string \n",
      " 78  SaleCondition  2559 non-null   string \n",
      " 79  MapRefNo       2559 non-null   Int64  \n",
      " 80  Prop_Addr      2559 non-null   string \n",
      " 81  lat            2500 non-null   Float64\n",
      " 82  long           2500 non-null   Float64\n",
      "dtypes: Float64(2), Int64(30), object(9), string(42)\n",
      "memory usage: 1.7+ MB\n"
     ]
    }
   ],
   "source": [
    "housing_d = housing_d.convert_dtypes()\n",
    "housing_d.info()"
   ]
  },
  {
   "cell_type": "code",
   "execution_count": 1154,
   "id": "d8843f84-7f9b-40ac-9ebf-974bb8c9f586",
   "metadata": {},
   "outputs": [],
   "source": [
    "for i in housing_d.select_dtypes(include='object').columns:\n",
    "    housing_d[i] = housing_d[i].astype('int')"
   ]
  },
  {
   "cell_type": "code",
   "execution_count": 1158,
   "id": "789f2ace-25ae-442c-a95e-3fbe38024c1a",
   "metadata": {},
   "outputs": [
    {
     "name": "stdout",
     "output_type": "stream",
     "text": [
      "<class 'pandas.core.frame.DataFrame'>\n",
      "RangeIndex: 2559 entries, 0 to 2558\n",
      "Data columns (total 83 columns):\n",
      " #   Column         Non-Null Count  Dtype  \n",
      "---  ------         --------------  -----  \n",
      " 0   PID            2559 non-null   Int64  \n",
      " 1   GrLivArea      2559 non-null   Int64  \n",
      " 2   SalePrice      2559 non-null   Int64  \n",
      " 3   MSSubClass     2559 non-null   Int64  \n",
      " 4   MSZoning       2559 non-null   string \n",
      " 5   LotFrontage    2559 non-null   int64  \n",
      " 6   LotArea        2559 non-null   Int64  \n",
      " 7   Street         2559 non-null   string \n",
      " 8   LotShape       2559 non-null   string \n",
      " 9   LandContour    2559 non-null   string \n",
      " 10  Utilities      2559 non-null   string \n",
      " 11  LotConfig      2559 non-null   string \n",
      " 12  LandSlope      2559 non-null   string \n",
      " 13  Neighborhood   2559 non-null   string \n",
      " 14  Condition1     2559 non-null   string \n",
      " 15  Condition2     2559 non-null   string \n",
      " 16  BldgType       2559 non-null   string \n",
      " 17  HouseStyle     2559 non-null   string \n",
      " 18  OverallQual    2559 non-null   Int64  \n",
      " 19  OverallCond    2559 non-null   Int64  \n",
      " 20  YearBuilt      2559 non-null   Int64  \n",
      " 21  YearRemodAdd   2559 non-null   Int64  \n",
      " 22  RoofStyle      2559 non-null   string \n",
      " 23  RoofMatl       2559 non-null   string \n",
      " 24  Exterior1st    2559 non-null   string \n",
      " 25  Exterior2nd    2559 non-null   string \n",
      " 26  MasVnrType     2559 non-null   string \n",
      " 27  MasVnrArea     2559 non-null   int64  \n",
      " 28  ExterQual      2559 non-null   string \n",
      " 29  ExterCond      2559 non-null   string \n",
      " 30  Foundation     2559 non-null   string \n",
      " 31  BsmtQual       2559 non-null   string \n",
      " 32  BsmtCond       2559 non-null   string \n",
      " 33  BsmtExposure   2559 non-null   string \n",
      " 34  BsmtFinType1   2559 non-null   string \n",
      " 35  BsmtFinSF1     2559 non-null   int64  \n",
      " 36  BsmtFinType2   2559 non-null   string \n",
      " 37  BsmtFinSF2     2559 non-null   int64  \n",
      " 38  BsmtUnfSF      2559 non-null   int64  \n",
      " 39  TotalBsmtSF    2559 non-null   int64  \n",
      " 40  Heating        2559 non-null   string \n",
      " 41  HeatingQC      2559 non-null   string \n",
      " 42  CentralAir     2559 non-null   string \n",
      " 43  Electrical     2559 non-null   string \n",
      " 44  1stFlrSF       2559 non-null   Int64  \n",
      " 45  2ndFlrSF       2559 non-null   Int64  \n",
      " 46  LowQualFinSF   2559 non-null   Int64  \n",
      " 47  BsmtFullBath   2559 non-null   int64  \n",
      " 48  BsmtHalfBath   2559 non-null   int64  \n",
      " 49  FullBath       2559 non-null   Int64  \n",
      " 50  HalfBath       2559 non-null   Int64  \n",
      " 51  BedroomAbvGr   2559 non-null   Int64  \n",
      " 52  KitchenAbvGr   2559 non-null   Int64  \n",
      " 53  KitchenQual    2559 non-null   string \n",
      " 54  TotRmsAbvGrd   2559 non-null   Int64  \n",
      " 55  Functional     2559 non-null   string \n",
      " 56  Fireplaces     2559 non-null   Int64  \n",
      " 57  GarageType     2559 non-null   string \n",
      " 58  GarageYrBlt    2559 non-null   int64  \n",
      " 59  GarageFinish   2559 non-null   string \n",
      " 60  GarageCars     2559 non-null   Int64  \n",
      " 61  GarageArea     2559 non-null   Int64  \n",
      " 62  GarageQual     2559 non-null   string \n",
      " 63  GarageCond     2559 non-null   string \n",
      " 64  PavedDrive     2559 non-null   string \n",
      " 65  WoodDeckSF     2559 non-null   Int64  \n",
      " 66  OpenPorchSF    2559 non-null   Int64  \n",
      " 67  EnclosedPorch  2559 non-null   Int64  \n",
      " 68  3SsnPorch      2559 non-null   Int64  \n",
      " 69  ScreenPorch    2559 non-null   Int64  \n",
      " 70  PoolArea       2559 non-null   Int64  \n",
      " 71  PoolQC         2559 non-null   string \n",
      " 72  Fence          2559 non-null   string \n",
      " 73  MiscFeature    2559 non-null   string \n",
      " 74  MiscVal        2559 non-null   Int64  \n",
      " 75  MoSold         2559 non-null   Int64  \n",
      " 76  YrSold         2559 non-null   Int64  \n",
      " 77  SaleType       2559 non-null   string \n",
      " 78  SaleCondition  2559 non-null   string \n",
      " 79  MapRefNo       2559 non-null   Int64  \n",
      " 80  Prop_Addr      2559 non-null   string \n",
      " 81  lat            2500 non-null   Float64\n",
      " 82  long           2500 non-null   Float64\n",
      "dtypes: Float64(2), Int64(30), int64(9), string(42)\n",
      "memory usage: 1.7 MB\n"
     ]
    }
   ],
   "source": [
    "housing_d.info()"
   ]
  },
  {
   "cell_type": "code",
   "execution_count": 1159,
   "id": "973dda76-5bf8-44d6-b0c8-1c6b352589d4",
   "metadata": {},
   "outputs": [],
   "source": [
    "housing_d.to_csv('housing_cleaned.csv', index=False)"
   ]
  },
  {
   "cell_type": "markdown",
   "id": "c756927c-a64b-40cf-914c-ac676b3b694e",
   "metadata": {},
   "source": [
    "#### SKIP ALL CODE BELOW"
   ]
  },
  {
   "cell_type": "code",
   "execution_count": null,
   "id": "7680dd4b-a644-4963-a77e-aa95b1df1ec1",
   "metadata": {},
   "outputs": [],
   "source": [
    "housing_d.LotFrontage.value_counts() #should convert to 0\n",
    "# housing_d[housing_m.LotFrontage.isna()] "
   ]
  },
  {
   "cell_type": "code",
   "execution_count": 659,
   "id": "d13d646d-4577-4885-bf85-2432d4205803",
   "metadata": {},
   "outputs": [],
   "source": [
    "housing_d.Alley.value_counts() #should probably drop bc too much missing data\n",
    "housing_d = housing_d.drop(columns = 'Alley')"
   ]
  },
  {
   "cell_type": "code",
   "execution_count": null,
   "id": "ee1ccfbc-9e8d-4675-9b52-f3ff87b7f824",
   "metadata": {},
   "outputs": [],
   "source": [
    "housing_d.MasVnrType.value_counts() #fill na to None\n",
    "# housing_d.MasVnrArea.isna().sum()\n",
    "# housing_d.MasVnrType.isna()"
   ]
  },
  {
   "cell_type": "code",
   "execution_count": null,
   "id": "a4d0a30e-0904-4dcd-82a2-3f3dd352fcc2",
   "metadata": {},
   "outputs": [],
   "source": [
    "housing_d[~housing_d.MasVnrType.isna() & housing_d.MasVnrArea.isna()].shape #14 fill na = 0\n",
    "housing_m[housing_m.MasVnrArea.isna()].shape"
   ]
  },
  {
   "cell_type": "code",
   "execution_count": null,
   "id": "1dbbd5c5-02d4-4f03-9afe-8492103f3d53",
   "metadata": {},
   "outputs": [],
   "source": [
    "housing_d[housing_d.BsmtQual.isna()] #fill na to None\n",
    "housing_d.BsmtQual.value_counts()"
   ]
  },
  {
   "cell_type": "code",
   "execution_count": null,
   "id": "aa29b8bc-a152-4515-b515-1ec99ac929cf",
   "metadata": {},
   "outputs": [],
   "source": [
    "housing_d[housing_d.BsmtFinSF1.isna()] #fill na to None\n",
    "housing_d.BsmtFinSF1.value_counts()"
   ]
  },
  {
   "cell_type": "code",
   "execution_count": null,
   "id": "e36e01fa-f4d6-470c-b877-960d69d5bff7",
   "metadata": {},
   "outputs": [],
   "source": [
    "housing_d[housing_d.TotalBsmtSF.isna()] # fill na is 0 for 1 record"
   ]
  },
  {
   "cell_type": "code",
   "execution_count": null,
   "id": "383f4f5b-0243-443a-b577-9d6d64226de8",
   "metadata": {},
   "outputs": [],
   "source": [
    "housing_d.Electrical.value_counts() # Change to Standard Circuit Breakers & Romex bc 'SBrkr' built in 2006\n",
    "housing_d[housing_d.Electrical.isna()]"
   ]
  },
  {
   "cell_type": "code",
   "execution_count": null,
   "id": "b64a9cb0-3f7a-4bd8-8a95-de41fb094b92",
   "metadata": {},
   "outputs": [],
   "source": [
    "housing_d[housing_d.BsmtFullBath.isna()] #fillna is 0\n",
    "housing_d.BsmtFullBath.value_counts()"
   ]
  },
  {
   "cell_type": "code",
   "execution_count": null,
   "id": "7a182199-8573-465c-926e-b623ccd7cc51",
   "metadata": {},
   "outputs": [],
   "source": [
    "housing_d.FireplaceQu.value_counts() # fill to None\n",
    "# housing_d[housing_d.FireplaceQu.isna()]\n",
    "# housing_d[housing_d.Fireplaces ==0]#.shape #1228"
   ]
  },
  {
   "cell_type": "code",
   "execution_count": null,
   "id": "fea7ebc9-1444-439d-a6dd-beabfea0c073",
   "metadata": {},
   "outputs": [],
   "source": [
    "housing_d[housing_d.GarageYrBlt.isna()][['GarageType']].value_counts()\n",
    "housing_d[(housing_d.GarageYrBlt.isna()) & (housing_d.GarageType=='Detchd')][['YearBuilt','GarageYrBlt','YearRemodAdd']]\n",
    "housing_d[(housing_d.GarageType=='Detchd') & (housing_d.YearBuilt > 1900) & (housing_d.YearBuilt < 1940)][['YearBuilt','GarageYrBlt','YearRemodAdd']].describe()\n",
    "housing_d[(housing_d.GarageType=='Detchd') & (housing_d.YearBuilt > 1900) & (housing_d.YearBuilt < 1940)][['YearBuilt','GarageYrBlt','YearRemodAdd']]"
   ]
  },
  {
   "cell_type": "code",
   "execution_count": 1027,
   "id": "5a2575fe-94c5-4661-9216-5a309493f122",
   "metadata": {},
   "outputs": [
    {
     "data": {
      "text/plain": [
       "1941.0"
      ]
     },
     "execution_count": 1027,
     "metadata": {},
     "output_type": "execute_result"
    }
   ],
   "source": [
    "housing_d[housing_d.GarageType=='Detchd'].shape #(706, 83)\n",
    "garage_detch = housing_d[housing_d.GarageType=='Detchd'][['YearBuilt','GarageType','GarageYrBlt']]\n",
    "garage_detch['yr_diff'] = garage_detch['GarageYrBlt'] - garage_detch['YearBuilt']\n",
    "garage_detch[garage_detch['YearBuilt']<1950].describe().loc['50%','GarageYrBlt']\n",
    "# garage_detch[['YearBuilt','yr_diff']].plot.scatter(x = 'YearBuilt',y='yr_diff')"
   ]
  },
  {
   "cell_type": "code",
   "execution_count": 982,
   "id": "ff0ff45a-06d8-4297-bd10-2086d72c469c",
   "metadata": {},
   "outputs": [
    {
     "data": {
      "text/plain": [
       "0       1939.0\n",
       "1       1984.0\n",
       "2       1930.0\n",
       "3       1940.0\n",
       "4       2001.0\n",
       "         ...  \n",
       "2554    1916.0\n",
       "2555    1955.0\n",
       "2556    1949.0\n",
       "2557    2000.0\n",
       "2558    1993.0\n",
       "Name: GarageYrBlt, Length: 2559, dtype: float64"
      ]
     },
     "execution_count": 982,
     "metadata": {},
     "output_type": "execute_result"
    }
   ],
   "source": [
    "housing_d.GarageType.value_counts() #Fill to None\n",
    "housing_d.GarageYrBlt# = housing_d.GarageYrBlt.fillna(0) NEED HELP"
   ]
  },
  {
   "cell_type": "code",
   "execution_count": 1115,
   "id": "d8c7f06c-1cfd-430a-abe0-ebb57aa29466",
   "metadata": {},
   "outputs": [
    {
     "data": {
      "text/plain": [
       "MiscFeature\n",
       "Shed    88\n",
       "Gar2     5\n",
       "Othr     3\n",
       "TenC     1\n",
       "Name: count, dtype: int64"
      ]
     },
     "execution_count": 1115,
     "metadata": {},
     "output_type": "execute_result"
    }
   ],
   "source": [
    "housing_m[~housing_m.MiscFeature.isna()].MiscFeature.value_counts()"
   ]
  },
  {
   "cell_type": "code",
   "execution_count": null,
   "id": "c8d739c5-69af-4562-80ae-9dafcd495de3",
   "metadata": {},
   "outputs": [],
   "source": []
  }
 ],
 "metadata": {
  "kernelspec": {
   "display_name": "Python 3 (ipykernel)",
   "language": "python",
   "name": "python3"
  },
  "language_info": {
   "codemirror_mode": {
    "name": "ipython",
    "version": 3
   },
   "file_extension": ".py",
   "mimetype": "text/x-python",
   "name": "python",
   "nbconvert_exporter": "python",
   "pygments_lexer": "ipython3",
   "version": "3.11.5"
  }
 },
 "nbformat": 4,
 "nbformat_minor": 5
}
